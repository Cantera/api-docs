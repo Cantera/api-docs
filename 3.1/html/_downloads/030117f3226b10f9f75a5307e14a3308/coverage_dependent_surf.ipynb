{
  "cells": [
    {
      "cell_type": "markdown",
      "metadata": {},
      "source": [
        "\n# Surface with coverage-dependent thermo\n\nThis example demonstrates (1) the four different dependency models available\nfor coverage-dependent enthalpy and entropy calculations and (2) capability\nof including self-interaction but also cross-interaction among different\nsurface species. See the input file :doc:`covdepsurf.yaml <../../input/covdepsurf>`\nfor the method of defining the coverage-dependency parameters.\n\nFirst demonstration is with a binary system composed of Pt and CO* where Pt\nis vacant Pt sites and CO* is CO adsorbates with CO*-CO* lateral interaction.\nCoverage-dependent enthalpy and entropy calculated with the four dependency\nmodels are plotted against discrete data points used for dependency model\nparametrization.\n\nSecond demonstration is with a ternary system composed of Pt, CO* and O*.\nIn this system, enthalpy of CO* is dependent both of CO* coverage and O*\ncoverage. That is, it encompasses CO*-CO* interaction as well as CO*-O*\ninteraction. The CO* enthalpy is plotted as a function of CO* and O*\ncoverages.\n\nRequires: cantera >= 3.1.0, matplotlib >= 2.0\n\n.. tags:: Python, thermodynamics, surface chemistry, catalysis\n"
      ]
    },
    {
      "cell_type": "code",
      "execution_count": null,
      "metadata": {
        "collapsed": false
      },
      "outputs": [],
      "source": [
        "import cantera as ct\nimport numpy as np\nimport matplotlib.pyplot as plt"
      ]
    },
    {
      "cell_type": "markdown",
      "metadata": {},
      "source": [
        "## First demonstration: the four coverage dependency models\n\n"
      ]
    },
    {
      "cell_type": "code",
      "execution_count": null,
      "metadata": {
        "collapsed": false
      },
      "outputs": [],
      "source": [
        "# provide discrete enthalpy and entropy values calculated with DFT\n# array of CO* coverage\ndft_covs = [0., 0.11, 0.22, 0.33, 0.44, 0.56, 0.67, 0.78, 0.89, 1.0]\n# array of nondimensionalized DFT-derived CO* enthalpy values\ndft_hrts = [-112.8 , -112.8 , -108.78, -105.76, -106.11, -102.51,  -96.83,\n            -85.03,  -78.76,  -72.19]\n# array of nondimensionalized DFT-derived CO* entropy values\ndft_srs = [2.46, 2.46, 3.79, 3.28, 3.14, 2.41, 2.19, 1.63, 1.6 , 1.12]\n\n# create a dictionary to store coverage-dependent enthalpy and entropy\n# from the four dependency models. key is the model name and value is\n# a dictionary of yaml's phase name, enthalpy, and entropy\nmodels_dict = {'linear': {'phase_name': 'covdep_lin'},\n               'piecewise-linear': {'phase_name': 'covdep_pwlin'},\n               'polynomial': {'phase_name': 'covdep_poly'},\n               'interpolative': {'phase_name': 'covdep_int'}}\n\n# create an array of CO* coverages from 0 (no CO*) to 1 (full mono-layer)\nCO_covs = np.linspace(0, 1.0, 101)\n# remember CO* species index\ni_CO = 1\n\n# get coverage-dependent enthalpy and entropy for all four models\nfor model in models_dict:\n    # dependency parameters are provided in covdepsurf.yaml\n    # import a phase from covdepsurf.yaml and set temperature and pressure\n    phase = ct.Interface('example_data/covdepsurf.yaml',\n                         models_dict[model]['phase_name'])\n    phase.TP = 300, ct.one_atm\n    # under the current model, create empty lists to store enthalpy and\n    # entropy\n    models_dict[model]['hrt'] = []\n    models_dict[model]['sr'] = []\n    # sweep through the array of CO* coverages and store enthalpy and entropy\n    for CO_cov in CO_covs:\n        # set coverages in order of [Pt_cov, CO_cov]\n        phase.coverages = [1 - CO_cov, CO_cov]\n        # get and store enthalpy and entropy values to the corresponding list\n        models_dict[model]['hrt'].append(phase.standard_enthalpies_RT[i_CO])\n        models_dict[model]['sr'].append(phase.standard_entropies_R[i_CO])"
      ]
    },
    {
      "cell_type": "markdown",
      "metadata": {},
      "source": [
        "### Plot coverage-dependent enthalpy against DFT-derived enthalpy data\n\n"
      ]
    },
    {
      "cell_type": "code",
      "execution_count": null,
      "metadata": {
        "collapsed": false
      },
      "outputs": [],
      "source": [
        "fig, ax = plt.subplots()\nax.plot(dft_covs, dft_hrts, marker='o', color='k', linewidth=0, label='DFT data')\nfor model in models_dict:\n    ax.plot(CO_covs, models_dict[model]['hrt'], label=model)\nax.set(xlabel=r'$\\theta_\\mathrm{CO*}$')\nax.set(ylabel=r'$h^{\\circ}_\\mathrm{CO*}/\\mathrm{R}T$')\nax.legend(loc='best')\nax.set_title('CO* standard state enthalpy\\nwith four dependency models at 300 K, 1 atm')\nplt.show()"
      ]
    },
    {
      "cell_type": "markdown",
      "metadata": {},
      "source": [
        "### Plot coverage-dependent entropy against DFT-derived enthalpy data\n\n"
      ]
    },
    {
      "cell_type": "code",
      "execution_count": null,
      "metadata": {
        "collapsed": false
      },
      "outputs": [],
      "source": [
        "fig, ax = plt.subplots()\nax.plot(dft_covs, dft_srs, marker='o', color='k', linewidth=0, label='DFT data')\nfor model in models_dict:\n    ax.plot(CO_covs, models_dict[model]['sr'], label=model)\nax.set(xlabel=r'$\\theta_\\mathrm{CO*}$')\nax.set(ylabel=r'$s^{\\circ}_\\mathrm{CO*}/\\mathrm{R}$')\nax.legend(loc='best')\nax.set_title('CO* standard state entropy\\nwith four dependency models at 300 K, 1 atm')\nplt.show()"
      ]
    },
    {
      "cell_type": "markdown",
      "metadata": {},
      "source": [
        "## Second demonstration: coverage dependence from self- and cross-interaction\n\n"
      ]
    },
    {
      "cell_type": "code",
      "execution_count": null,
      "metadata": {
        "collapsed": false
      },
      "outputs": [],
      "source": [
        "# import a phase with both types of lateral interactions\nphase = ct.Interface('example_data/covdepsurf.yaml', 'covdep_cross')\nphase.TP = 300, ct.one_atm\n\n# create an array of coverages\ncovs = np.linspace(0, 1.0, 101)\n# create N by N matrix to store CO* enthalpy values\nCO_hrts = np.zeros(shape=(len(covs),len(covs)))\n\n# iterate through the coverage array and fill in CO*enthalpy values\nfor i, CO_cov in enumerate(covs):\n    for j in range(len(covs)-i):\n        O_cov = covs[j]\n        # set coverages in order of [Pt_cov, CO_cov, O_cov]\n        phase.coverages = [1. - CO_cov - O_cov, CO_cov, O_cov]\n        CO_hrts[i,j] = phase.standard_enthalpies_RT[i_CO]"
      ]
    },
    {
      "cell_type": "markdown",
      "metadata": {},
      "source": [
        "### Plot the enthalpy matrix\n\n"
      ]
    },
    {
      "cell_type": "code",
      "execution_count": null,
      "metadata": {
        "collapsed": false
      },
      "outputs": [],
      "source": [
        "fig, ax = plt.subplots()\ncntr = ax.contourf(covs, covs, CO_hrts,\n                   levels=np.linspace(-120, -50, 71),\n                   cmap='inferno')\n\nax.set(xlabel=r'$\\theta_\\mathrm{CO*}$', ylabel=r'$\\theta_\\mathrm{O*}$')\ncbar = fig.colorbar(cntr)\ncbar.ax.set_ylabel(r'$h^{\\circ}_\\mathrm{CO*}/\\mathrm{R}T$')\nax.set_title('CO* standard state enthalpy\\nwith CO*$-$CO* and CO*$-$O* interactions')\nplt.show()"
      ]
    }
  ],
  "metadata": {
    "kernelspec": {
      "display_name": "Python 3",
      "language": "python",
      "name": "python3"
    },
    "language_info": {
      "codemirror_mode": {
        "name": "ipython",
        "version": 3
      },
      "file_extension": ".py",
      "mimetype": "text/x-python",
      "name": "python",
      "nbconvert_exporter": "python",
      "pygments_lexer": "ipython3",
      "version": "3.11.11"
    }
  },
  "nbformat": 4,
  "nbformat_minor": 0
}