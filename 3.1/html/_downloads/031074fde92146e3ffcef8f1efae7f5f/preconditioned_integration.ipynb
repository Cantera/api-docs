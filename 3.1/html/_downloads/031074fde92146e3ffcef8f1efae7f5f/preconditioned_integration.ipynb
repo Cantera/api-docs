{
  "cells": [
    {
      "cell_type": "markdown",
      "metadata": {},
      "source": [
        "\n# Acceleration of reactor integration using a sparse preconditioned solver\n\nIdeal gas, constant-pressure, adiabatic kinetics simulation that compares preconditioned\nand non-preconditioned integration of n-hexane.\n\nRequires: cantera >= 3.0.0, matplotlib >= 2.0\n\n.. tags:: Python, combustion, reactor network, preconditioner\n"
      ]
    },
    {
      "cell_type": "code",
      "execution_count": null,
      "metadata": {
        "collapsed": false
      },
      "outputs": [],
      "source": [
        "import cantera as ct\nimport numpy as np\nimport matplotlib.pyplot as plt\nplt.rcParams['figure.constrained_layout.use'] = True\nfrom timeit import default_timer"
      ]
    },
    {
      "cell_type": "markdown",
      "metadata": {},
      "source": [
        "## Simulation setup\n\nCreate a reactor network for simulating the constant pressure ignition of a\nstoichiometric n-hexane/air mixture, with or without the use of the preconditioned\nsolver.\n\n"
      ]
    },
    {
      "cell_type": "code",
      "execution_count": null,
      "metadata": {
        "collapsed": false
      },
      "outputs": [],
      "source": [
        "def integrate_reactor(preconditioner=True):\n    # Use a detailed n-hexane mechanism with 1268 species\n    gas = ct.Solution('example_data/n-hexane-NUIG-2015.yaml')\n    gas.TP = 1000, ct.one_atm\n    gas.set_equivalence_ratio(1, 'NC6H14', 'N2:3.76, O2:1.0')\n    reactor = ct.IdealGasConstPressureMoleReactor(gas)\n    # set volume for reactors\n    reactor.volume = 0.1\n    # Create reactor network\n    sim = ct.ReactorNet([reactor])\n    # Add preconditioner\n    if preconditioner:\n        sim.derivative_settings = {\"skip-third-bodies\":True, \"skip-falloff\":True}\n        sim.preconditioner = ct.AdaptivePreconditioner()\n    sim.initialize()\n    # Advance to steady state\n    integ_time = default_timer()\n    # solution array for state data\n    states = ct.SolutionArray(reactor.thermo, extra=['time'])\n    # advance to steady state manually\n    while (sim.time < 0.1):\n        states.append(reactor.thermo.state, time=sim.time)\n        sim.step()\n    integ_time = default_timer() - integ_time\n    # Return time to integrate\n    if preconditioner:\n        print(f\"Preconditioned Integration Time: {integ_time:f}\")\n    else:\n        print(f\"Non-preconditioned Integration Time: {integ_time:f}\")\n    # Get and output solver stats\n    for key, value in sim.solver_stats.items():\n        print(f\"{key:>24s}: {value}\")\n    print(\"\\n\")\n    # return some variables for plotting\n    return states.time, states.T, states('CO2').Y, states('NC6H14').Y"
      ]
    },
    {
      "cell_type": "markdown",
      "metadata": {},
      "source": [
        "## Integrate with sparse, preconditioned solver\n\n"
      ]
    },
    {
      "cell_type": "code",
      "execution_count": null,
      "metadata": {
        "collapsed": false
      },
      "outputs": [],
      "source": [
        "timep, Tp, CO2p, NC6H14p = integrate_reactor(preconditioner=True)"
      ]
    },
    {
      "cell_type": "markdown",
      "metadata": {},
      "source": [
        "## Integrate with direct linear solver\n\n"
      ]
    },
    {
      "cell_type": "code",
      "execution_count": null,
      "metadata": {
        "collapsed": false
      },
      "outputs": [],
      "source": [
        "timenp, Tnp, CO2np, NC6H14np  = integrate_reactor(preconditioner=False)"
      ]
    },
    {
      "cell_type": "markdown",
      "metadata": {},
      "source": [
        "## Plot selected state variables\n\n"
      ]
    },
    {
      "cell_type": "code",
      "execution_count": null,
      "metadata": {
        "collapsed": false
      },
      "outputs": [],
      "source": [
        "fig, (ax1, ax2, ax3) = plt.subplots(3, 1, figsize=(5, 8))\n# temperature plot\nax1.set_xlabel(\"Time\")\nax1.set_ylabel(\"Temperature\")\nax1.plot(timenp, Tnp, linewidth=2)\nax1.plot(timep, Tp, linewidth=2, linestyle=\":\")\nax1.legend([\"Normal\", \"Preconditioned\"])\n# CO2 plot\nax2.set_xlabel(\"Time\")\nax2.set_ylabel(\"CO2\")\nax2.plot(timenp, CO2np, linewidth=2)\nax2.plot(timep, CO2p, linewidth=2, linestyle=\":\")\nax2.legend([\"Normal\", \"Preconditioned\"])\n# C12H26 plot\nax3.set_xlabel(\"Time\")\nax3.set_ylabel(\"NC6H14\")\nax3.plot(timenp, NC6H14np, linewidth=2)\nax3.plot(timep, NC6H14p, linewidth=2, linestyle=\":\")\nax3.legend([\"Normal\", \"Preconditioned\"])\nplt.show()"
      ]
    }
  ],
  "metadata": {
    "kernelspec": {
      "display_name": "Python 3",
      "language": "python",
      "name": "python3"
    },
    "language_info": {
      "codemirror_mode": {
        "name": "ipython",
        "version": 3
      },
      "file_extension": ".py",
      "mimetype": "text/x-python",
      "name": "python",
      "nbconvert_exporter": "python",
      "pygments_lexer": "ipython3",
      "version": "3.11.11"
    }
  },
  "nbformat": 4,
  "nbformat_minor": 0
}