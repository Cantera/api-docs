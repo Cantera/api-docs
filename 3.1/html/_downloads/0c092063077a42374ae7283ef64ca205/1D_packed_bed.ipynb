{
  "cells": [
    {
      "cell_type": "markdown",
      "metadata": {},
      "source": [
        "\n# One-dimensional packed-bed, catalytic-membrane reactor\n\nThe model shown in this example simulates heterogeneous catalytic processes inside\npacked-bed, catalytic membrane reactors. The gas-phase and surface-phase species\nconservation equations are derived and the system of differential-algebraic equations\n(DAE) is solved using the ``scikits.odes.dae`` IDA solver.\n\nRequires: cantera >= 3.0.0, matplotlib >= 2.0, scikits.odes >= 2.7.0\n\n.. tags:: Python, surface chemistry, 1D flow, catalysis, packed bed reactor,\n          porous media, user-defined model\n"
      ]
    },
    {
      "cell_type": "markdown",
      "metadata": {},
      "source": [
        "## Methodology\n\nA one-dimensional, steady-state catalytic-membrane reactor model with surface\nchemistry is developed to analyze species profiles along the length of a packed-bed,\ncatalytic membrane reactor. The same model can further be simplified to simulate a\nsimple packed-bed reactor by excluding the membrane. The example here demonstrates the\none-dimensional reactor model explained by G. Kogekar [1]_.\n\n"
      ]
    },
    {
      "cell_type": "markdown",
      "metadata": {},
      "source": [
        "### Governing equations\n\nAssuming steady-state, one-dimensional flow within the packed bed, total-mass, species\nmass and energy conservation may be stated as [2]_:\n\n\\begin{align}\\frac{d(\\rho u)}{dz} &= \\sum_{k=1}^{K_\\t{g}} \\dot {s}_k W_k A_\\t{s}\n                         + \\frac{P_\\t{b}}{A_\\t{b}} j_{k_\\t{M}}, \\\\\n\n    \\rho u \\frac{dY_k}{dz} + A_\\t{s} Y_k \\sum_{k=1}^{K_\\t{g}} \\dot {s}_k W_k &=\n         A_\\t{s} \\dot {s}_k W_k + \\delta_{k, k_\\t{M}} \\frac{P_\\t{b}}{A_\\t{b}} j_{k_\\t{M}}, \\\\\n\n    \\rho u c_\\t{p} \\frac{dT}{dz}\n        + \\sum_{k=1}^{K_\\t{g}} h_k (\\phi_\\t{g} \\dot {\\omega}_k + A_\\t{s} \\dot {s}_k) W_k\n        &= \\hat h \\frac{P_\\t{b}}{A_\\t{b}}(T_\\t{w} - T)\n        + \\delta_{k, k_\\t{M}} \\frac{P_\\t{b}}{A_\\t{b}} h_{k_\\t{M}}  j_{k_\\t{M}}.\\end{align}\n\nThe fractional coverages of the $K_\\t{s}$ surface adsorbates $\\theta_k$\nmust satisfy\n\n\\begin{align}\\dot {s}_k = 0, \\qquad (k = 1,\\ldots, K_\\t{s}),\\end{align}\n\nwhich, at steady state, requires no net production/consumption of surface species by\nthe heterogeneous reactions [3]_.\n\nThe pressure within the bed is calculated as:\n\n\\begin{align}\\frac{dp}{dz} = - \\left( \\frac{\\phi_\\t{g} \\mu}{\\beta_\\t{g}} \\right) u,\\end{align}\n\nwhere $\\mu$ is the gas-phase mixture viscosity. The packed-bed permeability\n:math:\\beta_\\t{g}` is evaluated using the Kozeny-Carman relationship as\n\n\\begin{align}\\beta_\\t{g} = \\frac{\\phi_\\t{g}^3 D_\\t{p}^2}{72 \\tau_\\t{g}(1 - \\phi_\\t{g})^2},\\end{align}\n\nwhere $\\phi_\\t{g}$, $\\tau_\\t{g}$, and $D_\\t{p}$ are the bed\nporosity, tortuosity, and particle diameter, respectively.\n\nThe independent variable in these conservation equations is the position $z$\nalong the reactor length. The dependent variables include total mass flux $\\rho\nu$, pressure $p$, temperature $T$, gas-phase mass fractions $Y_k$,\nand surfaces coverages $\\theta_k$. Gas-phase fluxes through the membrane are\nrepresented as $j_{k, \\t{M}}$. Geometric parameters $A_\\t{s}$,\n$P_\\t{b}$, and $A_\\t{b}$ represent the catalyst specific surface area\n(dimensions of surface area per unit volume), reactor perimeter, and reactor\ncross-sectional flow area, respectively. Other parameters include bed porosity\n$\\phi_\\t{g}$ and gas-phase species molecular weights $W_k$. The gas\ndensity $\\rho$ is evaluated using the equation of state (such as ideal gas,\nRedlich-Kwong or Peng-Robinson).\n\nIf a perm-selective membrane is present, then $j_{k_\\t{M}}$ represents the\ngas-phase flux through the membrane and ${k_\\t{M}}$ is the gas-phase species\nthat permeates through the membrane. The Kronecker delta, $\\delta_{k, k_\\t{M}} =\n1$ for the membrane-permeable species and $\\delta_{k, k_\\t{M}} = 0$ otherwise.\nThe membrane flux is calculated using Sievert's law as\n\n\\begin{align}j_{k_\\t{M}}^{\\text{Mem}} =\n        \\frac{B_{k_\\t{M}}}{t} \\left( p_{k_\\t{M} {\\text{, mem}}}^\\alpha - p_{k_\\t{M} \\text{, sweep}}^\\alpha \\right) W_{k_\\t{M}}\\end{align}\n\nwhere $B_{k_\\t{M}}$ is the membrane permeability, $t$ is the membrane\nthickness. $p_{k_\\t{M} \\text{, mem}}$ and $p_{k_\\t{M} \\text{, sweep}}$\nrepresent perm-selective species partial pressures within the packed-bed and the\nexterior sweep channel. The present model takes the pressure exponent $\\alpha$\nto be unity. The membrane flux for all other species ($k \\neq k_\\t{M}$) is zero.\n\n### Chemistry mechanism\n\nThis example uses a detailed 12-step elementary micro-kinetic reaction mechanism that\ndescribes ammonia formation and decomposition kinetics over the Ru/Ba-YSZ catalyst.\nThe reaction mechanism is developed and validated using measured performance in a\nlaboratory-scale packed-bed reactor [4]_. This example also incorporates a Pd-based\nH\u2082 perm-selective membrane.\n\n### Solver\n\nThe above governing equations represent a complete solution for a steady-state\npacked-bed, catalytic membrane reactor model. The dependent variables are the\nmass-flux $\\rho u$, species mass-fractions $Y_k$, pressure $p$,\ntemperature $T$, and surface coverages $\\theta_k$. The equation of state\nis used to obtain the mass density, $\\rho$.\n\nThe governing equations form an initial value problem (IVP) in a\ndifferential-algebraic (DAE) form as follows:\n\n\\begin{align}f(z,{\\bf{y}}, {\\bf y'}, {\\bf c}) = {\\bf 0},\\end{align}\n\nwhere $\\bf y$ and $\\bf y'$ represent the state vector and its derivative\nvector, respectively. All other constants such as reference temperature, chemical\nconstants, etc. are incorporated in vector $\\bf c$ (Refer to [1]_ for more\ndetails). This type of DAE system in this example is solved using the\n``scikits.odes.dae`` IDA solver.\n\n"
      ]
    },
    {
      "cell_type": "markdown",
      "metadata": {},
      "source": [
        "## Import Cantera and scikits\n\n"
      ]
    },
    {
      "cell_type": "code",
      "execution_count": null,
      "metadata": {
        "collapsed": false
      },
      "outputs": [],
      "source": [
        "import numpy as np\nfrom scikits.odes import dae\nimport cantera as ct\nimport matplotlib.pyplot as plt"
      ]
    },
    {
      "cell_type": "markdown",
      "metadata": {},
      "source": [
        "## Define gas-phase and surface-phase species\n\n"
      ]
    },
    {
      "cell_type": "code",
      "execution_count": null,
      "metadata": {
        "collapsed": false
      },
      "outputs": [],
      "source": [
        "# Import the reaction mechanism for Ammonia synthesis/decomposition on Ru-Ba/YSZ catalyst\nmechfile = \"example_data/ammonia-Ru-Ba-YSZ-CSM-2019.yaml\"\n# Import the models for surface-phase and gas\nsurf = ct.Interface(mechfile, \"Ru_surface\")\ngas = surf.adjacent[\"gas\"]\n\n# Other parameters\nn_gas = gas.n_species  # number of gas species\nn_surf = surf.n_species  # number of surface species\nn_gas_reactions = gas.n_reactions  # number of gas-phase reactions\n\n# Set offsets of dependent variables in the solution vector\noffset_rhou = 0\noffset_p = 1\noffset_T = 2\noffset_Y = 3\noffset_Z = offset_Y + n_gas\nn_var = offset_Z + n_surf  # total number of variables (rhou, P, T, Yk and Zk)\n\nprint(\"Number of gas-phase species = \", n_gas)\nprint(\"Number of surface-phase species = \", n_surf)\nprint(\"Number of variables = \", n_var)"
      ]
    },
    {
      "cell_type": "markdown",
      "metadata": {},
      "source": [
        "## Define reactor geometry and operating conditions\n\n"
      ]
    },
    {
      "cell_type": "code",
      "execution_count": null,
      "metadata": {
        "collapsed": false
      },
      "outputs": [],
      "source": [
        "# Reactor geometry\nL = 5e-2  # length of the reactor (m)\nR = 5e-3  # radius of the reactor channel (m)\nphi = 0.5  # porosity of the bed (-)\ntau = 2.0  # tortuosity of the bed (-)\ndp = 3.37e-4  # particle diameter (m)\nAs = 3.5e6  # specific surface area (1/m)\n\n# Energy (adiabatic or isothermal)\nsolve_energy = True  # True: Adiabatic, False: isothermal\n\n# Membrane (True: membrane, False: no membrane)\nmembrane_present = True\nmembrane_perm = 1e-15  # membrane permeability (kmol*m3/s/Pa)\nthickness = 3e-6  # membrane thickness (m)\nmembrane_sp_name = \"H2\"  # membrane-permeable species name\np_sweep = 1e5  # partial pressure of permeable species in the sweep channel (Pa)\npermeance = membrane_perm / thickness  # permeance of the membrane (kmol*m2/s/Pa)\n\nif membrane_present:\n    print(\"Modeling packed-bed, catalytic-membrane reactor...\")\n    print(membrane_sp_name, \"permeable membrane is present.\")\n\n# Get required properties based on the geometry and mechanism\nW_g = gas.molecular_weights  # vector of molecular weight of gas species\nvol_ratio = phi / (1 - phi)\neff_factor = phi / tau  # effective factor for permeability calculation\n# permeability based on Kozeny-Carman equation\nB_g = B_g = vol_ratio**2 * dp**2 * eff_factor / 72\narea2vol = 2 / R  # area to volume ratio assuming a cylindrical reactor\nD_h = 2 * R  # hydraulic diameter\nmembrane_sp_ind = gas.species_index(membrane_sp_name)\n\n# Inlet operating conditions\nT_in = 673  # inlet temperature [K]\np_in = 5e5  # inlet pressure [Pa]\nv_in = 0.001  # inlet velocity [m/s]\nT_wall = 723  # wall temperature [K]\nh_coeff = 1e2  # heat transfer coefficient [W/m2/K]\n\n# Set gas and surface states\ngas.TPX = T_in, p_in, \"NH3:0.99, AR:0.01\"  # inlet composition\nsurf.TP = T_in, p_in\nYk_0 = gas.Y\nrhou0 = gas.density * v_in\n\n# Initial surface coverages\n# advancing coverages over a long period of time to get the steady state.\nsurf.advance_coverages(1e10)\nZk_0 = surf.coverages"
      ]
    },
    {
      "cell_type": "markdown",
      "metadata": {},
      "source": [
        "## Define residual function required for IDA solver\n\n"
      ]
    },
    {
      "cell_type": "code",
      "execution_count": null,
      "metadata": {
        "collapsed": false
      },
      "outputs": [],
      "source": [
        "def residual(z, y, yPrime, res):\n    \"\"\"Solution vector for the model\n    y = [rho*u, p, T, Yk, Zk]\n    yPrime = [d(rho*u)dz, dpdz, dTdz, dYkdz, dZkdz]\n    \"\"\"\n    # Get current thermodynamic state from solution vector and save it to local variables.\n    rhou = y[offset_rhou]  # mass flux (density * velocity)\n    Y = y[offset_Y : offset_Y + n_gas]  # vector of mass fractions\n    Z = y[offset_Z : offset_Z + n_surf] # vector of site fractions\n    p = y[offset_p]  # pressure\n    T = y[offset_T]  # temperature\n\n    # Get derivatives of dependent variables\n    drhoudz = yPrime[offset_rhou]\n    dYdz = yPrime[offset_Y : offset_Y + n_gas]\n    dZdz = yPrime[offset_Z : offset_Z + n_surf]\n    dpdz = yPrime[offset_p]\n    dTdz = yPrime[offset_T]\n\n    # Set current thermodynamic state for the gas and surface phases\n    # Note: use unnormalized mass fractions and site fractions to avoid\n    # over-constraining the system\n    gas.set_unnormalized_mass_fractions(Y)\n    gas.TP = T, p\n    surf.set_unnormalized_coverages(Z)\n    surf.TP = T, p\n\n    # Calculate required variables based on the current state\n    coverages = surf.coverages  # surface site coverages\n    # heterogeneous production rate of gas species\n    sdot_g = surf.get_net_production_rates(\"gas\")\n    # heterogeneous production rate of surface species\n    sdot_s = surf.get_net_production_rates(\"Ru_surface\")\n    wdot_g = np.zeros(n_gas)\n    # specific heat of the mixture\n    cp = gas.cp_mass\n    # partial enthalpies of gas species\n    hk_g = gas.partial_molar_enthalpies\n\n    if n_gas_reactions > 0:\n        # homogeneous production rate of gas species\n        wdot_g = gas.net_production_rates\n    mu = gas.viscosity  # viscosity of the gas-phase\n\n    # Calculate density using equation of state\n    rho = gas.density\n\n    # Calculate flux term through the membrane\n    # partial pressure of membrane-permeable species\n    memsp_pres = p * gas.X[membrane_sp_ind]\n    # negative sign indicates the flux going out\n    membrane_flux = -permeance * (memsp_pres - p_sweep) * W_g[membrane_sp_ind]\n\n    # Conservation of total-mass\n    # temporary variable\n    sum_continuity = As * np.sum(sdot_g * W_g) + phi * np.sum(wdot_g * W_g)\n    res[offset_rhou] = (drhoudz - sum_continuity\n                        - area2vol * membrane_flux * membrane_present)\n\n    # Conservation of gas-phase species\n    res[offset_Y:offset_Y+ n_gas] = (dYdz + (Y * sum_continuity\n                                             - phi * np.multiply(wdot_g,W_g)\n                                             - As * np.multiply(sdot_g,W_g)) / rhou)\n    res[offset_Y + membrane_sp_ind] -= area2vol * membrane_flux * membrane_present\n\n    # Conservation of site fractions (algebraic constraints in this example)\n    res[offset_Z : offset_Z + n_surf] = sdot_s\n\n    # For the species with largest site coverage (k_large), solve the constraint\n    # equation: sum(Zk) = 1.\n    # The residual function for 'k_large' would be 'res[k_large] = 1 - sum(Zk)'\n    # Note that here sum(Zk) will be the sum of coverages for all surface species,\n    # including the 'k_large' species.\n    ind_large = np.argmax(coverages)\n    res[offset_Z + ind_large] = 1 - np.sum(coverages)\n\n    # Conservation of momentum\n    u = rhou / rho\n    res[offset_p] = dpdz + phi * mu * u / B_g\n\n    # Conservation of energy\n    res[offset_T] = dTdz - 0  # isothermal condition\n    # Note: One can just not solve the energy equation by keeping temperature constant.\n    # But since 'T' is used as the dependent variable, the residual is res[T] = dTdz - 0\n    # One can also write res[T] = 0 directly, but that leads to a solver failure due to\n    # singular jacobian\n\n    if solve_energy:\n        conv_term = (4 / D_h) * h_coeff * (T_wall - T) * (2 * np.pi * R)\n        chem_term = np.sum(hk_g * (phi * wdot_g + As * sdot_g))\n        res[offset_T] -= (conv_term - chem_term) / (rhou * cp)"
      ]
    },
    {
      "cell_type": "markdown",
      "metadata": {},
      "source": [
        "Calculate the spatial derivatives at the inlet that will be used as the initial\nconditions for the IDA solver\n\n"
      ]
    },
    {
      "cell_type": "code",
      "execution_count": null,
      "metadata": {
        "collapsed": false
      },
      "outputs": [],
      "source": [
        "# Initialize yPrime to 0 and call residual to get initial derivatives\ny0 = np.hstack((rhou0, p_in, T_in, Yk_0, Zk_0))\nyprime0 = np.zeros(n_var)\nres = np.zeros(n_var)\nresidual(0, y0, yprime0, res)\nyprime0 = -res"
      ]
    },
    {
      "cell_type": "markdown",
      "metadata": {},
      "source": [
        "## Solve the system of DAEs using IDA solver\n\n"
      ]
    },
    {
      "cell_type": "code",
      "execution_count": null,
      "metadata": {
        "collapsed": false
      },
      "outputs": [],
      "source": [
        "solver = dae(\n    \"ida\",\n    residual,\n    first_step_size=1e-15,\n    atol=1e-14,  # absolute tolerance for solution\n    rtol=1e-06,  # relative tolerance for solution\n    algebraic_vars_idx=[np.arange(offset_Y + n_gas, offset_Z + n_surf, 1)],\n    max_steps=8000,\n    one_step_compute=True,\n    old_api=False,  # forces use of new api (namedtuple)\n)\n\ndistance = []\nsolution = []\nstate = solver.init_step(0.0, y0, yprime0)\n\n# Note that here the variable t is an internal variable used in scikits. In this\n# example, it represents the natural variable z, which corresponds to the axial distance\n# inside the reactor.\nwhile state.values.t < L:\n    distance.append(state.values.t)\n    solution.append(state.values.y)\n    state = solver.step(L)\n\ndistance = np.array(distance)\nsolution = np.array(solution)\nprint(state)"
      ]
    },
    {
      "cell_type": "markdown",
      "metadata": {},
      "source": [
        "## Plot results\n\n"
      ]
    },
    {
      "cell_type": "code",
      "execution_count": null,
      "metadata": {
        "collapsed": false
      },
      "outputs": [],
      "source": [
        "plt.rcParams['figure.constrained_layout.use'] = True"
      ]
    },
    {
      "cell_type": "markdown",
      "metadata": {},
      "source": [
        "### Pressure and temperature\n\n"
      ]
    },
    {
      "cell_type": "code",
      "execution_count": null,
      "metadata": {
        "collapsed": false
      },
      "outputs": [],
      "source": [
        "# Plot gas pressure profile along the flow direction\nf, ax = plt.subplots(figsize=(4,3))\nax.plot(distance, solution[:, offset_p], color=\"C0\")\nax.set_xlabel(\"Distance (m)\")\nax.set_ylabel(\"Pressure (Pa)\")\n\n# Plot gas temperature profile along the flow direction\nf, ax = plt.subplots(figsize=(4,3))\nax.plot(distance, solution[:, offset_T], color=\"C1\")\nax.set_xlabel(\"Distance (m)\")\nax.set_ylabel(\"Temperature (K)\")"
      ]
    },
    {
      "cell_type": "markdown",
      "metadata": {},
      "source": [
        "### Mass fractions of the gas-phase species\n\n"
      ]
    },
    {
      "cell_type": "code",
      "execution_count": null,
      "metadata": {
        "collapsed": false
      },
      "outputs": [],
      "source": [
        "# Plot major and minor gas species separately\nminor_idx = []\nmajor_idx = []\nfor j, name in enumerate(gas.species_names):\n    mean = np.mean(solution[:, offset_Y + j])\n    if mean <= 0.1:\n        minor_idx.append(j)\n    else:\n        major_idx.append(j)\n\n# Major gas-phase species\nf, ax = plt.subplots(figsize=(4,3))\nfor j in major_idx:\n    ax.plot(distance, solution[:, offset_Y + j], label=gas.species_names[j])\nax.legend(fontsize=12, loc=\"best\")\nax.set_xlabel(\"Distance (m)\")\nax.set_ylabel(\"Mass Fraction\")\n\n# Minor gas-phase species\nf, ax = plt.subplots(figsize=(4,3))\nfor j in minor_idx:\n    ax.plot(distance, solution[:, offset_Y + j], label=gas.species_names[j])\nax.legend(fontsize=12, loc=\"best\")\nax.set_xlabel(\"Distance (m)\")\nax.set_ylabel(\"Mass Fraction\")"
      ]
    },
    {
      "cell_type": "markdown",
      "metadata": {},
      "source": [
        "### Site fractions of the surface-phase species\n\n"
      ]
    },
    {
      "cell_type": "code",
      "execution_count": null,
      "metadata": {
        "collapsed": false
      },
      "outputs": [],
      "source": [
        "# Plot major and minor surface species separately\nminor_idx = []\nmajor_idx = []\nfor j, name in enumerate(surf.species_names):\n    mean = np.mean(solution[:, offset_Z + j])\n    if mean <= 0.1:\n        minor_idx.append(j)\n    else:\n        major_idx.append(j)\n\n# Major surf-phase species\nf, ax = plt.subplots(figsize=(4,3))\nfor j in major_idx:\n    ax.plot(distance, solution[:, offset_Z + j], label=surf.species_names[j])\nax.legend(fontsize=12, loc=\"best\")\nax.set_xlabel(\"Distance (m)\")\nax.set_ylabel(\"Site Fraction\")\n\n# Minor surf-phase species\nf, ax = plt.subplots(figsize=(4,3))\nfor j in minor_idx:\n    ax.plot(distance, solution[:, offset_Z + j], label=surf.species_names[j])\nax.legend(fontsize=12, loc=\"best\")\nax.set_xlabel(\"Distance (m)\")\nax.set_ylabel(\"Site Fraction\")"
      ]
    },
    {
      "cell_type": "markdown",
      "metadata": {},
      "source": [
        "## References\n\n.. [1] G. Kogekar (2021). \"Computationally efficient and robust models of non-ideal\n       thermodynamics, gas-phase kinetics and heterogeneous catalysis in chemical\n       reactors\", Doctoral dissertation.\n\n.. [2] B. Kee, C. Karakaya, H. Zhu, S. DeCaluwe, and R.J. Kee (2017). \"The Influence\n       of Hydrogen-Permeable Membranes and Pressure on Methane Dehydroaromatization in\n       Packed-Bed Catalytic Reactors\", *Industrial & Engineering Chemistry Research*\n       56, 13:3551-3559.\n\n.. [3] R.J. Kee, M.E. Coltrin, P. Glarborg, and H. Zhu (2018). *Chemically Reacting\n       Flow: Theory, Modeling and Simulation*, Wiley.\n\n.. [4] Z. Zhang, C. Karakaya, R.J. Kee, J. Douglas Way, C. Wolden (2019).\n       \"Barium-Promoted Ruthenium Catalysts on Yittria-Stabilized Zirconia Supports\n       for Ammonia Synthesis\", *ACS Sustainable Chemistry & Engineering*\n       7:18038-18047.\n\n"
      ]
    }
  ],
  "metadata": {
    "kernelspec": {
      "display_name": "Python 3",
      "language": "python",
      "name": "python3"
    },
    "language_info": {
      "codemirror_mode": {
        "name": "ipython",
        "version": 3
      },
      "file_extension": ".py",
      "mimetype": "text/x-python",
      "name": "python",
      "nbconvert_exporter": "python",
      "pygments_lexer": "ipython3",
      "version": "3.11.11"
    }
  },
  "nbformat": 4,
  "nbformat_minor": 0
}