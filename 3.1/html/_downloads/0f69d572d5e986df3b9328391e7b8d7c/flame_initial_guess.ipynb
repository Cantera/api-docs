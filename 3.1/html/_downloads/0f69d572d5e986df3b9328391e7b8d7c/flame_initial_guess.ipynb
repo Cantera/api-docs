{
  "cells": [
    {
      "cell_type": "markdown",
      "metadata": {},
      "source": [
        "\n# Saving, loading, and restarting 1D calculations\n\nA freely-propagating, premixed methane-air flame.\nExamples of saving and loading a flame and restarting\nwith different initial guesses.\n\nRequires: cantera >= 3.0\n\n.. tags:: Python, combustion, 1D flow, flame speed, premixed flame, saving output\n"
      ]
    },
    {
      "cell_type": "code",
      "execution_count": null,
      "metadata": {
        "collapsed": false
      },
      "outputs": [],
      "source": [
        "import sys\nfrom pathlib import Path\nimport cantera as ct\ntry:\n    import pandas as pd\nexcept ImportError:\n    pd = None"
      ]
    },
    {
      "cell_type": "markdown",
      "metadata": {},
      "source": [
        "## Initialization\n\n"
      ]
    },
    {
      "cell_type": "code",
      "execution_count": null,
      "metadata": {
        "collapsed": false
      },
      "outputs": [],
      "source": [
        "# Simulation parameters\np = ct.one_atm  # pressure [Pa]\nTin = 300.0  # unburned gas temperature [K]\nreactants = \"CH4:0.45, O2:1.0, N2:3.76\"\n\nwidth = 0.03  # m\n\n# Solution object used to compute mixture properties\ngas = ct.Solution(\"gri30.yaml\")\ngas.TPX = Tin, p, reactants\n\n# Flame object\nf = ct.FreeFlame(gas, width=width)\n# These refine criteria are for a relatively quick convergence for the example\n# and may not be suitable for a publication-quality flame speed calculation\nrefine_criteria = {\"ratio\": 3, \"slope\": 0.1, \"curve\": 0.2}\nf.set_refine_criteria(**refine_criteria)\nf.solve(loglevel=1, auto=True)\n\ndef describe(flame):\n    \"\"\"Print a short description of the flame, with a few properties.\"\"\"\n    print(f\"\\nFlame speed                    = {flame.velocity[0] * 100 :.2f} cm/s\")\n    print(f\"Maximum temperature            = {flame.T.max() :.0f} K\")\n    # Find the location of the peak OH mole fraction\n    oh_index = flame.gas.species_index(\"OH\")\n    grid_index = flame.X[oh_index].argmax()\n    oh_peak = flame.grid[grid_index]\n    print(f\"Peak OH mole fraction location = {oh_peak * 100 :.2f} cm\")\n    print(f\"Solved with {flame.grid.size} grid points\\n\")\n\n\ndescribe(f)"
      ]
    },
    {
      "cell_type": "markdown",
      "metadata": {},
      "source": [
        "## Save the flame in a few different formats\n\n"
      ]
    },
    {
      "cell_type": "code",
      "execution_count": null,
      "metadata": {
        "collapsed": false
      },
      "outputs": [],
      "source": [
        "output_path = Path() / \"flame_initial_guess_data\"\noutput_path.mkdir(parents=True, exist_ok=True)\n\nprint(\"Save YAML\")\nyaml_filepath = output_path / \"flame.yaml\"\nf.save(yaml_filepath, name=\"solution\", description=\"Initial methane flame\",\n       overwrite=True)\n\nprint(\"Save CSV\")\ncsv_filepath = output_path / \"flame.csv\"\nf.save(csv_filepath, basis=\"mole\", overwrite=True)\n\nif \"native\" in ct.hdf_support():\n    # HDF is not a required dependency\n    hdf_filepath = output_path / \"flame.h5\"\n    hdf_filepath.unlink(missing_ok=True)\n    f.save(hdf_filepath, name=\"freeflame\", description=\"Initial methane flame\",\n           overwrite=True)\n    print(\"Save HDF\\n\")\nelse:\n    print(f\"Skipping HDF: Cantera compiled without HDF support\\n\")\n    hdf_filepath = None"
      ]
    },
    {
      "cell_type": "markdown",
      "metadata": {},
      "source": [
        "## Restore the flame from different formats\n\nRestore solution from YAML\n\n"
      ]
    },
    {
      "cell_type": "code",
      "execution_count": null,
      "metadata": {
        "collapsed": false
      },
      "outputs": [],
      "source": [
        "gas.TPX = Tin, p, reactants\nf2 = ct.FreeFlame(gas, width=width)\nf2.restore(yaml_filepath, name=\"solution\")\ndescribe(f2)"
      ]
    },
    {
      "cell_type": "markdown",
      "metadata": {},
      "source": [
        "Restore solution from HDF\n\n"
      ]
    },
    {
      "cell_type": "code",
      "execution_count": null,
      "metadata": {
        "collapsed": false
      },
      "outputs": [],
      "source": [
        "if hdf_filepath:\n    gas.TPX = Tin, p, reactants\n    f2 = ct.FreeFlame(gas, width=width)\n    f2.restore(hdf_filepath, name=\"freeflame\")\n    describe(f2)"
      ]
    },
    {
      "cell_type": "markdown",
      "metadata": {},
      "source": [
        "## Restore the flame via initial guess\nLoad initial guess from CSV file directly\n\n"
      ]
    },
    {
      "cell_type": "code",
      "execution_count": null,
      "metadata": {
        "collapsed": false
      },
      "outputs": [],
      "source": [
        "gas.TPX = Tin, p, reactants  # set the gas T back to the inlet before making new flame\nf2 = ct.FreeFlame(gas, width=width)\nf2.set_initial_guess(data=csv_filepath)\ndescribe(f2)"
      ]
    },
    {
      "cell_type": "markdown",
      "metadata": {},
      "source": [
        "Load initial guess from HDF file directly\n\n"
      ]
    },
    {
      "cell_type": "code",
      "execution_count": null,
      "metadata": {
        "collapsed": false
      },
      "outputs": [],
      "source": [
        "if hdf_filepath:\n    gas.TPX = Tin, p, reactants  # set the gas T back to the inlet before making new flame\n    f2 = ct.FreeFlame(gas, width=width)\n    f2.set_initial_guess(data=hdf_filepath, group=\"freeflame\")\n    describe(f2)"
      ]
    },
    {
      "cell_type": "markdown",
      "metadata": {},
      "source": [
        "Load initial guess from HDF file via SolutionArray\n\n"
      ]
    },
    {
      "cell_type": "code",
      "execution_count": null,
      "metadata": {
        "collapsed": false
      },
      "outputs": [],
      "source": [
        "if hdf_filepath:\n    arr2 = ct.SolutionArray(gas)\n    # the flame domain needs to be specified as subgroup\n    arr2.restore(hdf_filepath, name=\"freeflame\", sub=\"flame\")\n    gas.TPX = Tin, p, reactants  # set the gas T back to the inlet before making new flame\n    f2 = ct.FreeFlame(gas, width=width)\n    f2.set_initial_guess(data=arr2)\n    describe(f2)"
      ]
    },
    {
      "cell_type": "code",
      "execution_count": null,
      "metadata": {
        "collapsed": false
      },
      "outputs": [],
      "source": [
        "if pd is None:\n    # skip remaining examples, as optional dependency 'pandas' is not installed\n    print(\"All done\")\n    sys.exit()"
      ]
    },
    {
      "cell_type": "markdown",
      "metadata": {},
      "source": [
        "Load initial guess from CSV file via Pandas\n\n"
      ]
    },
    {
      "cell_type": "code",
      "execution_count": null,
      "metadata": {
        "collapsed": false
      },
      "outputs": [],
      "source": [
        "df = pd.read_csv(csv_filepath)\ngas.TPX = Tin, p, reactants  # set the gas T back to the inlet before making new flame\nf2 = ct.FreeFlame(gas, width=width)\nf2.set_initial_guess(data=df)\ndescribe(f2)"
      ]
    },
    {
      "cell_type": "markdown",
      "metadata": {},
      "source": [
        "Load initial guess from CSV file via Pandas and SolutionArray\n\n"
      ]
    },
    {
      "cell_type": "code",
      "execution_count": null,
      "metadata": {
        "collapsed": false
      },
      "outputs": [],
      "source": [
        "df = pd.read_csv(csv_filepath)\narr2 = ct.SolutionArray(gas)\narr2.from_pandas(df)\ngas.TPX = Tin, p, reactants  # set the gas T back to the inlet before making new flame\nf2 = ct.FreeFlame(gas, width=width)\nf2.set_initial_guess(data=arr2)\ndescribe(f2)"
      ]
    },
    {
      "cell_type": "markdown",
      "metadata": {},
      "source": [
        "## Restart flame simulations with modified initial guesses\nLoad initial guess from CSV file via Pandas, with modifications.\n\n"
      ]
    },
    {
      "cell_type": "code",
      "execution_count": null,
      "metadata": {
        "collapsed": false
      },
      "outputs": [],
      "source": [
        "df = pd.read_csv(csv_filepath)"
      ]
    },
    {
      "cell_type": "markdown",
      "metadata": {},
      "source": [
        "Modify the Pandas dataframe, removing half the grid points\n\n"
      ]
    },
    {
      "cell_type": "code",
      "execution_count": null,
      "metadata": {
        "collapsed": false
      },
      "outputs": [],
      "source": [
        "df_pruned = df[::2]  # remove half of the grid points\ngas.TPX = Tin, p, reactants  # set the gas T back to the inlet before making new flame\nf2 = ct.FreeFlame(gas, width=width)\nf2.set_refine_criteria(**refine_criteria)\nf2.set_initial_guess(data=df_pruned)\nf2.solve()"
      ]
    },
    {
      "cell_type": "markdown",
      "metadata": {},
      "source": [
        "We wouldn't expect the flame solutions to be exactly the same\n\n"
      ]
    },
    {
      "cell_type": "code",
      "execution_count": null,
      "metadata": {
        "collapsed": false
      },
      "outputs": [],
      "source": [
        "describe(f2)"
      ]
    },
    {
      "cell_type": "markdown",
      "metadata": {},
      "source": [
        "Modify the Pandas dataframe, removing half the grid points and all but the first 20\nspecies\n\n"
      ]
    },
    {
      "cell_type": "code",
      "execution_count": null,
      "metadata": {
        "collapsed": false
      },
      "outputs": [],
      "source": [
        "df_pruned = df.iloc[::2, :24]\ngas.TPX = Tin, p, reactants  # set the gas T back to the inlet before making new flame\nf2 = ct.FreeFlame(gas, width=width)\nf2.set_refine_criteria(**refine_criteria)\nf2.set_initial_guess(data=df_pruned)\nf2.solve()"
      ]
    },
    {
      "cell_type": "markdown",
      "metadata": {},
      "source": [
        "We wouldn't expect the flame solutions to be exactly the same\n\n"
      ]
    },
    {
      "cell_type": "code",
      "execution_count": null,
      "metadata": {
        "collapsed": false
      },
      "outputs": [],
      "source": [
        "describe(f2)"
      ]
    },
    {
      "cell_type": "markdown",
      "metadata": {},
      "source": [
        "Modify the Pandas dataframe, removing half the grid points, and raise the T by 50 K\n\n"
      ]
    },
    {
      "cell_type": "code",
      "execution_count": null,
      "metadata": {
        "collapsed": false
      },
      "outputs": [],
      "source": [
        "df_pruned = df.iloc[::2]\n# set the gas T back to the (new) inlet before making new flame\ngas.TPX = (Tin + 50, p, reactants)\nf2 = ct.FreeFlame(gas, width=width)\nf2.set_refine_criteria(**refine_criteria)\nf2.set_initial_guess(data=df_pruned)\nf2.solve()"
      ]
    },
    {
      "cell_type": "markdown",
      "metadata": {},
      "source": [
        "We expect these flames to be different because we raised the temperature.\n\n"
      ]
    },
    {
      "cell_type": "code",
      "execution_count": null,
      "metadata": {
        "collapsed": false
      },
      "outputs": [],
      "source": [
        "describe(f2)"
      ]
    }
  ],
  "metadata": {
    "kernelspec": {
      "display_name": "Python 3",
      "language": "python",
      "name": "python3"
    },
    "language_info": {
      "codemirror_mode": {
        "name": "ipython",
        "version": 3
      },
      "file_extension": ".py",
      "mimetype": "text/x-python",
      "name": "python",
      "nbconvert_exporter": "python",
      "pygments_lexer": "ipython3",
      "version": "3.11.11"
    }
  },
  "nbformat": 4,
  "nbformat_minor": 0
}