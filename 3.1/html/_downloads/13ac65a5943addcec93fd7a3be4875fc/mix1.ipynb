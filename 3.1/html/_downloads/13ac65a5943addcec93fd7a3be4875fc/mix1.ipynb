{
  "cells": [
    {
      "cell_type": "markdown",
      "metadata": {},
      "source": [
        "\n# Mixing two streams\n\nSince reactors can have multiple inlets and outlets, they can be used to\nimplement mixers, splitters, etc. In this example, air and methane are mixed\nin stoichiometric proportions. Due to the low temperature, no reactions occur.\nNote that the air stream and the methane stream use *different* reaction\nmechanisms, with different numbers of species and reactions. When gas flows\nfrom one reactor or reservoir to another one with a different reaction\nmechanism, species are matched by name. If the upstream reactor contains a\nspecies that is not present in the downstream reaction mechanism, it will be\nignored. In general, reaction mechanisms for downstream reactors should\ncontain all species that might be present in any upstream reactor.\n\nCompare this approach for the transient problem to the method used for the\nsteady-state problem in :doc:`mixing.py <../thermo/mixing>`.\n\nRequires: cantera >= 3.1.0, graphviz\n\n.. tags:: Python, thermodynamics, reactor network, mixture\n"
      ]
    },
    {
      "cell_type": "code",
      "execution_count": null,
      "metadata": {
        "collapsed": false
      },
      "outputs": [],
      "source": [
        "import cantera as ct"
      ]
    },
    {
      "cell_type": "markdown",
      "metadata": {},
      "source": [
        "## Set up the reactor network\n\nUse air for stream a.\n\n"
      ]
    },
    {
      "cell_type": "code",
      "execution_count": null,
      "metadata": {
        "collapsed": false
      },
      "outputs": [],
      "source": [
        "gas_a = ct.Solution('air.yaml')\ngas_a.TPX = 300.0, ct.one_atm, 'O2:0.21, N2:0.78, AR:0.01'\nrho_a = gas_a.density"
      ]
    },
    {
      "cell_type": "markdown",
      "metadata": {},
      "source": [
        "Use GRI-Mech 3.0 for stream b (methane) and for the mixer. If it is desired\nto have a pure mixer, with no chemistry, use instead a reaction mechanism\nfor gas_b that has no reactions.\n\n"
      ]
    },
    {
      "cell_type": "code",
      "execution_count": null,
      "metadata": {
        "collapsed": false
      },
      "outputs": [],
      "source": [
        "gas_b = ct.Solution('gri30.yaml')\ngas_b.TPX = 300.0, ct.one_atm, 'CH4:1'\nrho_b = gas_b.density"
      ]
    },
    {
      "cell_type": "markdown",
      "metadata": {},
      "source": [
        "Create reservoirs for the two inlet streams and for the outlet stream.  The\nupstream reservoirs could be replaced by reactors, which might themselves be\nconnected to reactors further upstream. The outlet reservoir could be\nreplaced with a reactor with no outlet, if it is desired to integrate the\ncomposition leaving the mixer in time, or by an arbitrary network of\ndownstream reactors.\n\n"
      ]
    },
    {
      "cell_type": "code",
      "execution_count": null,
      "metadata": {
        "collapsed": false
      },
      "outputs": [],
      "source": [
        "res_a = ct.Reservoir(gas_a, name='Air Reservoir')\nres_b = ct.Reservoir(gas_b, name='Fuel Reservoir')\ndownstream = ct.Reservoir(gas_a, name='Outlet Reservoir')"
      ]
    },
    {
      "cell_type": "markdown",
      "metadata": {},
      "source": [
        "Create a reactor for the mixer. A reactor is required instead of a\nreservoir, since the state will change with time if the inlet mass flow\nrates change or if there is chemistry occurring.\n\n"
      ]
    },
    {
      "cell_type": "code",
      "execution_count": null,
      "metadata": {
        "collapsed": false
      },
      "outputs": [],
      "source": [
        "gas_b.TPX = 300.0, ct.one_atm, 'O2:0.21, N2:0.78, AR:0.01'\nmixer = ct.IdealGasReactor(gas_b, name='Mixer')"
      ]
    },
    {
      "cell_type": "markdown",
      "metadata": {},
      "source": [
        "Create two mass flow controllers connecting the upstream reservoirs to the\nmixer, and set their mass flow rates to values corresponding to\nstoichiometric combustion.\n\n"
      ]
    },
    {
      "cell_type": "code",
      "execution_count": null,
      "metadata": {
        "collapsed": false
      },
      "outputs": [],
      "source": [
        "mfc1 = ct.MassFlowController(res_a, mixer, mdot=rho_a*2.5/0.21, name=\"Air Inlet\")\nmfc2 = ct.MassFlowController(res_b, mixer, mdot=rho_b*1.0, name=\"Fuel Inlet\")"
      ]
    },
    {
      "cell_type": "markdown",
      "metadata": {},
      "source": [
        "Connect the mixer to the downstream reservoir with a valve.\n\n"
      ]
    },
    {
      "cell_type": "code",
      "execution_count": null,
      "metadata": {
        "collapsed": false
      },
      "outputs": [],
      "source": [
        "outlet = ct.Valve(mixer, downstream, K=10.0, name=\"Valve\")\n\nsim = ct.ReactorNet([mixer])"
      ]
    },
    {
      "cell_type": "markdown",
      "metadata": {},
      "source": [
        "## Get the mixed state\n\nSince the mixer is a reactor, we need to integrate in time to reach steady state.\n\n"
      ]
    },
    {
      "cell_type": "code",
      "execution_count": null,
      "metadata": {
        "collapsed": false
      },
      "outputs": [],
      "source": [
        "sim.advance_to_steady_state()\n\n# view the state of the gas in the mixer\nprint(mixer.thermo.report())"
      ]
    },
    {
      "cell_type": "markdown",
      "metadata": {},
      "source": [
        "## Show the network structure\n\n"
      ]
    },
    {
      "cell_type": "code",
      "execution_count": null,
      "metadata": {
        "collapsed": false
      },
      "outputs": [],
      "source": [
        "try:\n    diagram = sim.draw(print_state=True, species=\"X\")\nexcept ImportError as err:\n    print(f\"Unable to show network structure:\\n{err}\")"
      ]
    }
  ],
  "metadata": {
    "kernelspec": {
      "display_name": "Python 3",
      "language": "python",
      "name": "python3"
    },
    "language_info": {
      "codemirror_mode": {
        "name": "ipython",
        "version": 3
      },
      "file_extension": ".py",
      "mimetype": "text/x-python",
      "name": "python",
      "nbconvert_exporter": "python",
      "pygments_lexer": "ipython3",
      "version": "3.11.11"
    }
  },
  "nbformat": 4,
  "nbformat_minor": 0
}