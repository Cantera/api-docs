{
  "cells": [
    {
      "cell_type": "markdown",
      "metadata": {},
      "source": [
        "\n# Shock-tube species profiles as a function of time\n\nSimulate species profiles for a shock tube as a function of time, and observe the impact\nof incorporating the reduced-pressure linear mixture rule (LMR-R) in such calculations.\n\nHere we predict the H2O mole fraction time profiles for a mixture of 1163 ppm H2O2/1330\nppm H2O/665 ppm O2/20% CO2/Ar following reflected shock waves (1196 K, 2.127 atm) and\ncompare results against the experimental measurements of Shao et al. [1] Two models are\ncompared in this example:\n\n1. A 2023 model of H2 and NH3 chemistry published by Alzueta et al. [2]\n2. An adapted version of this model that has applied the reduced-pressure linear mixture\n   rule (LMR-R) and ab initio third-body efficiencies. [3]\n\nReferences:\n\n    [1] J. Shao, R. Choudhary, D. F. Davidson, R. K. Hanson, Shock tube/laser absorption\n    measurement of the rate constant of the reaction: H2O2+CO2 = 2OH+CO2, Proc. Combust.\n    Inst. 39 (2023) 735 -- 743.\n\n    [2] M. U. Alzueta, I. Salas, H. Hashemi, P. Glarborg, CO-assisted NH3 oxidation,\n    Combust. Flame 257 (2023) 112438.\n\n    [3] P. J. Singal, J. Lee, L. Lei, R. L. Speth, M. P. Burke, Implementation of New\n    Mixture Rules Has a Substantial Impact on Combustion Predictions for H2 and NH3,\n    Proc. Combust. Inst. 40 (2024) 105779.\n\nRequires: cantera >= 3.1, matplotlib\n\n.. tags:: Python, shock tube, kinetics, combustion\n"
      ]
    },
    {
      "cell_type": "code",
      "execution_count": null,
      "metadata": {
        "collapsed": false
      },
      "outputs": [],
      "source": [
        "import cantera as ct\nimport matplotlib.pyplot as plt\nimport numpy as np\n\nfile = 'example_data/ammonia-CO-H2-Alzueta-2023.yaml'\nmodels = {'Original': 'baseline', 'LMR-R': 'linear-Burke'}\ncolors = {'Original': \"xkcd:grey\", 'LMR-R': 'xkcd:purple'}\nresults = {}"
      ]
    },
    {
      "cell_type": "markdown",
      "metadata": {},
      "source": [
        "Run simulations with baseline and revised reaction mechanisms\n\n"
      ]
    },
    {
      "cell_type": "code",
      "execution_count": null,
      "metadata": {
        "collapsed": false
      },
      "outputs": [],
      "source": [
        "for k, m in enumerate(models):\n    X_H2O2 = 1163e-6\n    X_H2O = 1330e-6\n    X_O2 = 665e-6\n    X_CO2= 0.2*(1-X_H2O2-X_H2O-X_O2)\n    X_Ar = 1-X_CO2\n    gas = ct.Solution(file, name=models[m])\n    X = {'H2O2':X_H2O2, 'H2O':X_H2O, 'O2':X_O2, 'CO2':X_CO2, 'AR':X_Ar}\n    gas.TPX = 1196, 2.127*ct.one_atm, X\n    r = ct.Reactor(contents=gas,energy=\"on\")\n    reactorNetwork = ct.ReactorNet([r])\n    timeHistory = ct.SolutionArray(gas, extra=['t'])\n    estIgnitDelay = 1\n    t = 0\n    counter = 1\n    while t < estIgnitDelay:\n        t = reactorNetwork.step()\n        if counter % 10 == 0:\n            timeHistory.append(r.thermo.state, t=t)\n        counter += 1\n\n    results[m] = timeHistory"
      ]
    },
    {
      "cell_type": "markdown",
      "metadata": {},
      "source": [
        "Plot the resulting species profiles and compare with the experimental data from Shao\net al.\n\n"
      ]
    },
    {
      "cell_type": "code",
      "execution_count": null,
      "metadata": {
        "collapsed": false
      },
      "outputs": [],
      "source": [
        "expData = {\n    't': [12.3,20.3,26.4,39.6,58.5,79.2,96.1,113.8,131.6,145.7,161.2,181.6,195.3,219.9,\n          237.2,248.6,262.4,272.2,280.9],\n    'X_H2O': [1.47E-03,1.59E-03,1.66E-03,1.78E-03,1.98E-03,2.06E-03,2.15E-03,2.22E-03,\n              2.26E-03,2.30E-03,2.39E-03,2.38E-03,2.40E-03,2.42E-03,2.47E-03,2.53E-03,\n              2.51E-03,2.50E-03,2.47E-03]\n}\n\nfig, ax = plt.subplots()\n\nfor m, timeHistory in results.items():\n    ax.plot(timeHistory.t*1e6, timeHistory('H2O').X*100, color=colors[m], label=m)\n\nax.plot(expData['t'], np.array(expData['X_H2O'])*100, 'o', fillstyle='none', color='k',\n        label='Shao et al.')\nax.legend(frameon=False, loc='lower right')\nax.set_ylabel(r'$\\rm H_2O$ mole fraction [%]')\nax.set_xlabel(r'Time [$\\mathdefault{\\mu s}$]')\nax.set_xlim([0,300])\nplt.show()"
      ]
    }
  ],
  "metadata": {
    "kernelspec": {
      "display_name": "Python 3",
      "language": "python",
      "name": "python3"
    },
    "language_info": {
      "codemirror_mode": {
        "name": "ipython",
        "version": 3
      },
      "file_extension": ".py",
      "mimetype": "text/x-python",
      "name": "python",
      "nbconvert_exporter": "python",
      "pygments_lexer": "ipython3",
      "version": "3.11.11"
    }
  },
  "nbformat": 4,
  "nbformat_minor": 0
}