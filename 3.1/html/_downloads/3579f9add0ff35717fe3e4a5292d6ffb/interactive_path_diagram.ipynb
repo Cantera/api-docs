{
  "cells": [
    {
      "cell_type": "markdown",
      "metadata": {},
      "source": [
        "\n# Interactive Reaction Path Diagrams\n\nThis example uses ``ipywidgets`` to create interactive displays of reaction path\ndiagrams from Cantera simulations.\n\nRequires: cantera >= 3.0.0, matplotlib >= 2.0, ipywidgets, graphviz, scipy\n\n.. tags:: Python, combustion, reactor network, plotting, reaction path analysis\n\n.. tip::\n   To try the interactive features, download the Jupyter notebook version of this\n   example: :download:`interactive_path_diagram.ipynb`.\n"
      ]
    },
    {
      "cell_type": "code",
      "execution_count": null,
      "metadata": {
        "collapsed": false
      },
      "outputs": [],
      "source": [
        "import numpy as np\nfrom scipy import integrate\nimport graphviz\nimport os\nfrom matplotlib import pyplot as plt\nfrom collections import defaultdict\nimport cantera as ct\n\nprint(f\"Using Cantera version: {ct.__version__}\")\n\n# Determine if we're running in a Jupyter Notebook. If so, we can enable the interactive\n# diagrams. Otherwise, just draw output for a single set of inputs.\ntry:\n    from IPython import get_ipython\n    if \"IPKernelApp\" not in get_ipython().config:\n        raise ImportError(\"console\")\n    if \"VSCODE_PID\" in os.environ:\n        raise ImportError(\"vscode\")\nexcept (ImportError, AttributeError):\n    is_interactive = False\nelse:\n    is_interactive = True\n\nif is_interactive:\n    from IPython.display import display\n    from matplotlib_inline.backend_inline import set_matplotlib_formats\n    set_matplotlib_formats('pdf', 'svg')\n    from ipywidgets import widgets, interact"
      ]
    },
    {
      "cell_type": "markdown",
      "metadata": {},
      "source": [
        "When using Cantera, the first thing you usually need is an object representing some\nphase of matter. Here, we'll create a gas mixture using GRI-Mech:\n\n"
      ]
    },
    {
      "cell_type": "code",
      "execution_count": null,
      "metadata": {
        "collapsed": false
      },
      "outputs": [],
      "source": [
        "gas = ct.Solution(\"gri30.yaml\")"
      ]
    },
    {
      "cell_type": "markdown",
      "metadata": {},
      "source": [
        "Use Shock tube ignition delay measurement conditions corresponding to the experiments\nby Spadaccini and Colket [1]_.\n\n* CH\u2084-C\u2082H\u2086-O\u2082-Ar (3.29%-0.21%-7%-89.5%)\n* $\\phi$ = 1.045\n* P = 6.1 - 7.6 atm\n* T = 1356 - 1688 K\n\n"
      ]
    },
    {
      "cell_type": "code",
      "execution_count": null,
      "metadata": {
        "collapsed": false
      },
      "outputs": [],
      "source": [
        "# Set temperature, pressure, and composition\ngas.TPX = 1550.0, 6.5 * ct.one_atm, \"CH4:3.29, C2H6:0.21, O2:7 , Ar:89.5\""
      ]
    },
    {
      "cell_type": "markdown",
      "metadata": {},
      "source": [
        "Residence time is close to ignition delay reported by Spadaccini and Colket (1994).\n\n"
      ]
    },
    {
      "cell_type": "code",
      "execution_count": null,
      "metadata": {
        "collapsed": false
      },
      "outputs": [],
      "source": [
        "residence_time = 1e-3"
      ]
    },
    {
      "cell_type": "markdown",
      "metadata": {},
      "source": [
        "Create a batch reactor object and set solver tolerances\n\n"
      ]
    },
    {
      "cell_type": "code",
      "execution_count": null,
      "metadata": {
        "collapsed": false
      },
      "outputs": [],
      "source": [
        "reactor = ct.IdealGasConstPressureReactor(gas, energy=\"on\")\nreactor_network = ct.ReactorNet([reactor])\nreactor_network.atol = 1e-12\nreactor_network.rtol = 1e-12"
      ]
    },
    {
      "cell_type": "markdown",
      "metadata": {},
      "source": [
        "Store time, pressure, temperature and mole fractions\n\n"
      ]
    },
    {
      "cell_type": "code",
      "execution_count": null,
      "metadata": {
        "collapsed": false
      },
      "outputs": [],
      "source": [
        "profiles = defaultdict(list)\ntime = 0\nsteps = 0\nwhile time < residence_time:\n    profiles[\"time\"].append(time)\n    profiles[\"pressure\"].append(gas.P)\n    profiles[\"temperature\"].append(gas.T)\n    profiles[\"mole_fractions\"].append(gas.X)\n    time = reactor_network.step()\n    steps += 1"
      ]
    },
    {
      "cell_type": "markdown",
      "metadata": {},
      "source": [
        "## Interactive reaction path diagram\n\nWhen executed as a Jupyter Notebook, the plotted time step, threshold and element can\nbe changed using the slider provided by IPyWidgets.\n\n"
      ]
    },
    {
      "cell_type": "code",
      "execution_count": null,
      "metadata": {
        "collapsed": false
      },
      "outputs": [],
      "source": [
        "def plot_reaction_path_diagrams(plot_step, threshold, details, element):\n    P = profiles[\"pressure\"][plot_step]\n    T = profiles[\"temperature\"][plot_step]\n    X = profiles[\"mole_fractions\"][plot_step]\n    time = profiles[\"time\"][plot_step]\n    gas.TPX = T, P, X\n\n    diagram = ct.ReactionPathDiagram(gas, element)\n    diagram.threshold = threshold\n    diagram.title = f\"time = {time:.2g} s\"\n\n    diagram.show_details = details\n    graph = graphviz.Source(diagram.get_dot())\n    if is_interactive:\n        display(graph)\n    else:\n        return graph\n\nif is_interactive:\n    interact(\n        plot_reaction_path_diagrams,\n        plot_step=widgets.IntSlider(value=100, min=0, max=steps-1, step=10),\n        threshold=widgets.FloatSlider(value=0.1, min=0.001, max=0.4, step=0.01),\n        details=widgets.ToggleButton(),\n        element=widgets.Dropdown(\n            options=gas.element_names,\n            value=\"C\",\n            description=\"Element\",\n            disabled=False,\n        ),\n    )\nelse:\n    # For non-interactive use, just draw the diagram for a specified time step\n    diagram = plot_reaction_path_diagrams(\n        plot_step=100,\n        threshold=0.1,\n        details=False,\n        element=\"C\"\n    )"
      ]
    },
    {
      "cell_type": "markdown",
      "metadata": {},
      "source": [
        "## Interactive plot of instantaneous fluxes\n\nFind reactions containing the species of interest, C\u2082H\u2086 in this case.\n\n"
      ]
    },
    {
      "cell_type": "code",
      "execution_count": null,
      "metadata": {
        "collapsed": false
      },
      "outputs": [],
      "source": [
        "C2H6_stoichiometry = np.zeros_like(gas.reactions())\nfor i, r in enumerate(gas.reactions()):\n    C2H6_moles = r.products.get(\"C2H6\", 0) - r.reactants.get(\"C2H6\", 0)\n    C2H6_stoichiometry[i] = C2H6_moles\nC2H6_reaction_indices = C2H6_stoichiometry.nonzero()[0]"
      ]
    },
    {
      "cell_type": "markdown",
      "metadata": {},
      "source": [
        "The following cell calculates net rates of progress of reactions containing the\nspecies of interest and stores them.\n\n"
      ]
    },
    {
      "cell_type": "code",
      "execution_count": null,
      "metadata": {
        "collapsed": false
      },
      "outputs": [],
      "source": [
        "profiles[\"C2H6_production_rates\"] = []\nfor i in range(len(profiles[\"time\"])):\n    X = profiles[\"mole_fractions\"][i]\n    t = profiles[\"time\"][i]\n    T = profiles[\"temperature\"][i]\n    P = profiles[\"pressure\"][i]\n    gas.TPX = (T, P, X)\n    C2H6_production_rates = (\n        gas.net_rates_of_progress\n        * C2H6_stoichiometry  #  [kmol/m^3/s]\n        * gas.volume_mass  # Specific volume [m^3/kg].\n    )  # overall, mol/s/g  (g total in reactor, same basis as N_atoms_in_fuel)\n\n    profiles[\"C2H6_production_rates\"].append(\n        C2H6_production_rates[C2H6_reaction_indices]\n    )\n\n# Create the instantaneous flux plot. When executed as a Jupyter Notebook, the threshold\n# for annotating of reaction strings can be changed using the slider provided by\n# IPyWidgets.\n\nplt.rcParams[\"figure.constrained_layout.use\"] = True\n\ndef plot_instantaneous_fluxes(profiles, annotation_cutoff):\n    profiles = profiles\n    fig = plt.figure(figsize=(6, 6))\n    plt.plot(profiles[\"time\"], np.array(profiles[\"C2H6_production_rates\"]))\n\n    for i, C2H6_production_rate in enumerate(\n        np.array(profiles[\"C2H6_production_rates\"]).T\n    ):\n        peak_index = abs(C2H6_production_rate).argmax()\n        peak_time = profiles[\"time\"][peak_index]\n        peak_C2H6_production = C2H6_production_rate[peak_index]\n        reaction_string = gas.reaction_equations(C2H6_reaction_indices)[i]\n\n        if abs(peak_C2H6_production) > annotation_cutoff:\n            plt.annotate(\n                reaction_string.replace(\"<=>\", \"=\"),\n                xy=(peak_time, peak_C2H6_production),\n                xytext=(\n                    peak_time * 2,\n                    (\n                        peak_C2H6_production\n                        + 0.003\n                        * (peak_C2H6_production / abs(peak_C2H6_production))\n                        * (abs(peak_C2H6_production) > 0.005)\n                        * (peak_C2H6_production < 0.06)\n                    ),\n                ),\n                arrowprops=dict(\n                    arrowstyle=\"->\",\n                    color=\"black\",\n                    relpos=(0, 0.6),\n                    linewidth=2,\n                ),\n                horizontalalignment=\"left\",\n            )\n\n    plt.xlabel(\"Time (s)\")\n    plt.ylabel(\"Net rates of C2H6 production\")\n    plt.show()\n\nif is_interactive:\n    interact(\n        plot_instantaneous_fluxes,\n        annotation_cutoff=widgets.FloatSlider(value=0.1, min=1e-2, max=4, steps=10),\n        profiles=widgets.fixed(profiles)\n    )\nelse:\n    plot_instantaneous_fluxes(annotation_cutoff=0.1, profiles=profiles)"
      ]
    },
    {
      "cell_type": "markdown",
      "metadata": {},
      "source": [
        "## Interactive plot of integrated fluxes\n\nWhen executed as a Jupyter Notebook, the threshold for annotating of reaction strings\ncan be changed using the slider provided by iPyWidgets\n\n"
      ]
    },
    {
      "cell_type": "code",
      "execution_count": null,
      "metadata": {
        "collapsed": false
      },
      "outputs": [],
      "source": [
        "# Integrate fluxes over time\nintegrated_fluxes = integrate.cumulative_trapezoid(\n    np.array(profiles[\"C2H6_production_rates\"]),\n    np.array(profiles[\"time\"]),\n    axis=0,\n    initial=0,\n)\n\ndef plot_integrated_fluxes(profiles, integrated_fluxes, annotation_cutoff):\n    profiles = profiles\n    integrated_fluxes = integrated_fluxes\n    fig = plt.figure(figsize=(6, 6))\n    plt.plot(profiles[\"time\"], integrated_fluxes)\n    final_time = profiles[\"time\"][-1]\n    for i, C2H6_production in enumerate(integrated_fluxes.T):\n        total_C2H6_production = C2H6_production[-1]\n        reaction_string = gas.reaction_equations(C2H6_reaction_indices)[i]\n\n        if abs(total_C2H6_production) > annotation_cutoff:\n            plt.text(final_time * 1.06, total_C2H6_production, reaction_string,\n                     fontsize=8)\n\n    plt.xlabel(\"Time (s)\")\n    plt.ylabel(\"Integrated net rate of progress\")\n    plt.title(\"Cumulative C\u2082H\u2086 formation\")\n    plt.show()\n\nif is_interactive:\n    interact(\n        plot_integrated_fluxes,\n        annotation_cutoff=widgets.FloatLogSlider(\n            value=1e-5, min=-5, max=-4, base=10, step=0.1\n        ),\n        profiles=widgets.fixed(profiles),\n        integrated_fluxes=widgets.fixed(integrated_fluxes)\n    )\nelse:\n    plot_integrated_fluxes(\n        profiles=profiles,\n        integrated_fluxes=integrated_fluxes,\n        annotation_cutoff=1e-5\n    )"
      ]
    },
    {
      "cell_type": "markdown",
      "metadata": {},
      "source": [
        "## References\n.. [1] L. J. Spadaccini and M. B. Colket (1994). \"Ignition delay characteristics of\n       methane fuels\", *Progress in Energy and Combustion Science,* 20:5, 431-460.\n       Prog. Energy Combust. Sci. 20, 431.\n       https://doi.org/10.1016/0360-1285(94)90011-6.\n\n"
      ]
    }
  ],
  "metadata": {
    "kernelspec": {
      "display_name": "Python 3",
      "language": "python",
      "name": "python3"
    },
    "language_info": {
      "codemirror_mode": {
        "name": "ipython",
        "version": 3
      },
      "file_extension": ".py",
      "mimetype": "text/x-python",
      "name": "python",
      "nbconvert_exporter": "python",
      "pygments_lexer": "ipython3",
      "version": "3.11.11"
    }
  },
  "nbformat": 4,
  "nbformat_minor": 0
}