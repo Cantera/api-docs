{
  "cells": [
    {
      "cell_type": "markdown",
      "metadata": {},
      "source": [
        "\n# Flame speed as a function of equivalence ratio\n\nSimulate flame speeds across a range of equivalence ratios, and observe the impact of\nincorporating the reduced-pressure linear mixture rule (LMR-R) in such calculations.\n\nHere we will consider a mixture of NH3/air (1 atm, 296 K) and compare results against\nthe experimental measurements of Ronney. [1] Two models are compared in this example:\n\n1. A 2023 model of H2 and NH3 chemistry published by Alzueta et al. [2]\n2. An adapted version of this model that has applied the reduced-pressure linear mixture\n   rule (LMR-R) and ab initio third-body efficiencies. [3]\n\nReferences:\n\n    [1] P. D. Ronney, Effect of chemistry and transport properties on near-limit flames\n    at microgravity, Combust. Sci. Tech. 59 (1988) 123 -- 141.\n\n    [2] M. U. Alzueta, I. Salas, H. Hashemi, P. Glarborg, CO-assisted NH3 oxidation,\n    Combust. Flame 257 (2023) 112438.\n\n    [3] P. J. Singal, J. Lee, L. Lei, R. L. Speth, M. P. Burke, Implementation of New\n    Mixture Rules Has a Substantial Impact on Combustion Predictions for H2 and NH3,\n    Proc. Combust. Inst. 40 (2024) 105779.\n\nRequires: cantera >= 3.1\n\n.. tags:: flame speed, kinetics, combustion, premixed flame\n"
      ]
    },
    {
      "cell_type": "code",
      "execution_count": null,
      "metadata": {
        "collapsed": false
      },
      "outputs": [],
      "source": [
        "import cantera as ct\nimport matplotlib.pyplot as plt\nimport numpy as np"
      ]
    },
    {
      "cell_type": "markdown",
      "metadata": {},
      "source": [
        "## Run Simulations\n\n"
      ]
    },
    {
      "cell_type": "code",
      "execution_count": null,
      "metadata": {
        "collapsed": false
      },
      "outputs": [],
      "source": [
        "file = 'example_data/ammonia-CO-H2-Alzueta-2023.yaml'\nmodels = {'Original': 'baseline', 'LMR-R': 'linear-Burke'}\ncolors = {'Original': \"xkcd:grey\", 'LMR-R': 'xkcd:purple'}\nresults = {}\n\nTin = 296  # unburned gas temperature [K]\np=760  # pressure [torr]\nn=16 # number of points to simulate\nphi_list = np.linspace(0.6,2.0,n) # equivalence ratios to simulate across\nfor m, name in models.items():\n    vel_list = []\n    gas = ct.Solution(file, name=name)\n    for j, phi in enumerate(phi_list):\n        gas.set_equivalence_ratio(phi, 'NH3', {'O2':1, 'N2': 3.76})\n        gas.TP = Tin, (p/760)*ct.one_atm\n        f = ct.FreeFlame(gas, width=0.03)\n        f.set_refine_criteria(ratio=3, slope=0.06, curve=0.10)\n        # f.transport_model = 'multicomponent' # optionally enable\n        # f.soret_enabled = True  # optionally enable\n        f.solve(loglevel=1, auto=True)\n        vel_list.append(f.velocity[0] * 100) # cm/s\n    results[m] = vel_list"
      ]
    },
    {
      "cell_type": "markdown",
      "metadata": {},
      "source": [
        "Experimental data from Ronney (1988)\n\n"
      ]
    },
    {
      "cell_type": "code",
      "execution_count": null,
      "metadata": {
        "collapsed": false
      },
      "outputs": [],
      "source": [
        "expData = {\n   'X_NH3': [16.3,16.4,17.0,18.0,19.0,20.0,21.9,24.0,26.0,28.5,29.0,30.0,31.0,31.5],\n   'vel': [1.35,1.48,2.30,3.36,4.01,5.88,6.80,8.14,6.73,5.00,4.78,3.3,2.9,3.0]\n}\nX_NH3 = np.array(expData['X_NH3']) / 100\nX_O2 = (1 - X_NH3) * 0.21\nphi_data = (X_NH3/X_O2) / (4/3)"
      ]
    },
    {
      "cell_type": "markdown",
      "metadata": {},
      "source": [
        "## Plot Results\n\n"
      ]
    },
    {
      "cell_type": "code",
      "execution_count": null,
      "metadata": {
        "collapsed": false
      },
      "outputs": [],
      "source": [
        "fig, ax = plt.subplots()\nfor m, vel_list in results.items():\n    ax.plot(phi_list, vel_list, color=colors[m], label=m)\nax.plot(phi_data, expData['vel'], 'o', fillstyle='none', color='k', label='Ronney')\nax.legend(frameon=False, loc='upper right')\nax.set_ylabel(r'Burning velocity [cm $\\rm s^{-1}$]')\nax.set_xlabel(r'Equivalence Ratio')\nplt.show()"
      ]
    }
  ],
  "metadata": {
    "kernelspec": {
      "display_name": "Python 3",
      "language": "python",
      "name": "python3"
    },
    "language_info": {
      "codemirror_mode": {
        "name": "ipython",
        "version": 3
      },
      "file_extension": ".py",
      "mimetype": "text/x-python",
      "name": "python",
      "nbconvert_exporter": "python",
      "pygments_lexer": "ipython3",
      "version": "3.11.11"
    }
  },
  "nbformat": 4,
  "nbformat_minor": 0
}