{
  "cells": [
    {
      "cell_type": "markdown",
      "metadata": {},
      "source": [
        "\n# Detached flat flame stabilized at a stagnation point\n\nThis script simulates a lean hydrogen-oxygen flame stabilized in a strained\nflowfield at an axisymmetric stagnation point on a non-reacting surface. The\nsolution begins with a flame attached to the inlet (burner), and the mass flow\nrate is progressively increased, causing the flame to detach and move closer\nto the surface.\n\nThis example illustrates use of the new 'prune' grid refinement parameter,\nwhich allows grid points to be removed if they are no longer required to\nresolve the solution. This is important here, since the flamefront moves as\nthe mass flowrate is increased. Without using 'prune', a large number of grid\npoints would be concentrated upstream of the flame, where the flamefront had\nbeen previously. (To see this, try setting prune to zero.)\n\nRequires: cantera >= 3.0, matplotlib >= 2.0\n\n.. tags:: Python, combustion, 1D flow, premixed flame, strained flame\n"
      ]
    },
    {
      "cell_type": "code",
      "execution_count": null,
      "metadata": {
        "collapsed": false
      },
      "outputs": [],
      "source": [
        "from pathlib import Path\nimport matplotlib.pyplot as plt\nimport cantera as ct"
      ]
    },
    {
      "cell_type": "markdown",
      "metadata": {},
      "source": [
        "## Parameter Values\n\n"
      ]
    },
    {
      "cell_type": "code",
      "execution_count": null,
      "metadata": {
        "collapsed": false
      },
      "outputs": [],
      "source": [
        "p = 0.05 * ct.one_atm  # pressure\ntburner = 373.0  # burner temperature\ntsurf = 500.0\n\n# each mdot value will be solved to convergence, with grid refinement, and\n# then that solution will be used for the next mdot\nmdot = [0.06, 0.07, 0.08, 0.09, 0.1, 0.11, 0.12]  # kg/m^2/s\n\nrxnmech = 'h2o2.yaml'  # reaction mechanism file\ncomp = 'H2:1.8, O2:1, AR:7'  # premixed gas composition\n\n# The solution domain is chosen to be 20 cm\nwidth = 0.2  # m\n\nloglevel = 1  # amount of diagnostic output (0 to 5)\n\n# Grid refinement parameters\nratio = 3\nslope = 0.1\ncurve = 0.2\nprune = 0.06"
      ]
    },
    {
      "cell_type": "markdown",
      "metadata": {},
      "source": [
        "## Set Up the Problem\n\n"
      ]
    },
    {
      "cell_type": "code",
      "execution_count": null,
      "metadata": {
        "collapsed": false
      },
      "outputs": [],
      "source": [
        "gas = ct.Solution(rxnmech)\n\n# set state to that of the unburned gas at the burner\ngas.TPX = tburner, p, comp\n\n# Create the stagnation flow object with a non-reactive surface.  (To make the\n# surface reactive, supply a surface reaction mechanism. See example\n# catalytic_combustion.py for how to do this.)\nsim = ct.ImpingingJet(gas=gas, width=width)\n\n# set the mass flow rate at the inlet\nsim.inlet.mdot = mdot[0]\n\n# set the surface state\nsim.surface.T = tsurf\n\nsim.set_grid_min(1e-4)\nsim.set_refine_criteria(ratio=ratio, slope=slope, curve=curve, prune=prune)\n\nsim.set_initial_guess(products='equil')  # assume adiabatic equilibrium products\nsim.show()"
      ]
    },
    {
      "cell_type": "markdown",
      "metadata": {},
      "source": [
        "## Solve the Problem and Write Output\n\n"
      ]
    },
    {
      "cell_type": "code",
      "execution_count": null,
      "metadata": {
        "collapsed": false
      },
      "outputs": [],
      "source": [
        "sim.solve(loglevel, auto=True)\n\noutput_path = Path() / \"stagnation_flame_data\"\noutput_path.mkdir(parents=True, exist_ok=True)\n\nif \"native\" in ct.hdf_support():\n    output = output_path / \"stagnation_flame.h5\"\nelse:\n    output = output_path / \"stagnation_flame.yaml\"\noutput.unlink(missing_ok=True)\n\nresults = []\nfor m, md in enumerate(mdot):\n    sim.inlet.mdot = md\n    sim.solve(loglevel)\n    results.append(sim.to_array())\n    sim.save(output, name=f\"mdot-{m}\", description=f\"mdot = {md} kg/m2/s\")\n\n    # write the velocity, temperature, and mole fractions to a CSV file\n    sim.save(output_path / f\"stagnation_flame_{m}.csv\", basis=\"mole\", overwrite=True)\n\nsim.show_stats()"
      ]
    },
    {
      "cell_type": "markdown",
      "metadata": {},
      "source": [
        "## Temperature and Heat Release Rate\n\n"
      ]
    },
    {
      "cell_type": "code",
      "execution_count": null,
      "metadata": {
        "collapsed": false
      },
      "outputs": [],
      "source": [
        "fig, ax1 = plt.subplots()\nax2 = ax1.twinx()\nstyles = ['-', '--']\nfor n, i in enumerate([1, -1]):\n    ax1.plot(results[i].grid, results[i].heat_release_rate / 1e6,\n             linestyle=styles[n], color='C4', label=rf'$\\dot m = {mdot[i]:.2f}$ kg/s')\n    ax2.plot(results[i].grid, results[i].T,\n             linestyle=styles[n], color='C3', label=rf'$\\dot m = {mdot[i]:.2f}$ kg/s')\n\nax1.set_ylabel('heat release rate [MW/m\u00b3]', color='C4')\nax1.set(xlabel='distance from inlet [m]')\nax2.set_ylabel('temperature [K]', color='C3')\nax2.legend()\nplt.show()"
      ]
    },
    {
      "cell_type": "markdown",
      "metadata": {},
      "source": [
        "## Major Species Profiles\n\n"
      ]
    },
    {
      "cell_type": "code",
      "execution_count": null,
      "metadata": {
        "collapsed": false
      },
      "outputs": [],
      "source": [
        "fig, ax = plt.subplots()\nmajor = ('O2', 'H2', 'H2O')\nstates = sim.to_array()\nhandles = []\nfor n, i in enumerate([1, -1]):\n    for k, spec in enumerate(major):\n        h = ax.plot(results[i].grid, results[i](spec).X,\n                    linestyle=styles[n], color=f'C{k}',\n                    label=rf'{spec}, $\\dot m = {mdot[i]}$ kg/s')\n\nax.set(xlabel='distance from inlet [m]', ylabel='mole fractions')\nax.legend()\nplt.show()"
      ]
    },
    {
      "cell_type": "markdown",
      "metadata": {},
      "source": [
        "## Minor Species Profiles\n\n"
      ]
    },
    {
      "cell_type": "code",
      "execution_count": null,
      "metadata": {
        "collapsed": false
      },
      "outputs": [],
      "source": [
        "fig, ax = plt.subplots()\nminor = ('OH', 'H', 'O')\nstates = sim.to_array()\nhandles = []\nfor n, i in enumerate([1, -1]):\n    for k, spec in enumerate(minor):\n        h = ax.plot(results[i].grid, results[i](spec).X,\n                    linestyle=styles[n], color=f'C{k+5}',\n                    label=rf'{spec}, $\\dot m = {mdot[i]}$ kg/s')\n\nax.set(xlabel='distance from inlet [m]', ylabel='mole fractions')\nax.legend()\nplt.show()"
      ]
    }
  ],
  "metadata": {
    "kernelspec": {
      "display_name": "Python 3",
      "language": "python",
      "name": "python3"
    },
    "language_info": {
      "codemirror_mode": {
        "name": "ipython",
        "version": 3
      },
      "file_extension": ".py",
      "mimetype": "text/x-python",
      "name": "python",
      "nbconvert_exporter": "python",
      "pygments_lexer": "ipython3",
      "version": "3.11.11"
    }
  },
  "nbformat": 4,
  "nbformat_minor": 0
}