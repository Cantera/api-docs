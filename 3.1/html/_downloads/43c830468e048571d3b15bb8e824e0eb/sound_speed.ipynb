{
  "cells": [
    {
      "cell_type": "markdown",
      "metadata": {},
      "source": [
        "\n# Sound speeds\n\nCompute the \"equilibrium\" and \"frozen\" sound speeds for a gas\n\nRequires: cantera >= 3.0.0, matplotlib\n\n.. tags:: Python, thermodynamics, equilibrium\n"
      ]
    },
    {
      "cell_type": "code",
      "execution_count": null,
      "metadata": {
        "collapsed": false
      },
      "outputs": [],
      "source": [
        "import cantera as ct\nimport math\nimport numpy as np\nimport matplotlib.pyplot as plt\n\n\ndef equilSoundSpeeds(gas, rtol=1.0e-8, max_iter=5000):\n    \"\"\"\n    Returns a tuple containing the equilibrium and frozen sound speeds for a\n    gas with an equilibrium composition.  The gas is first set to an\n    equilibrium state at the temperature and pressure of the gas, since\n    otherwise the equilibrium sound speed is not defined.\n    \"\"\"\n\n    # set the gas to equilibrium at its current T and P\n    gas.equilibrate('TP', rtol=rtol, max_iter=max_iter)\n\n    # save properties\n    s0 = gas.s\n    p0 = gas.P\n    r0 = gas.density\n\n    # perturb the pressure\n    p1 = p0*1.0001\n\n    # set the gas to a state with the same entropy and composition but\n    # the perturbed pressure\n    gas.SP = s0, p1\n\n    # frozen sound speed\n    afrozen = math.sqrt((p1 - p0)/(gas.density - r0))\n\n    # now equilibrate the gas holding S and P constant\n    gas.equilibrate('SP', rtol=rtol, max_iter=max_iter)\n\n    # equilibrium sound speed\n    aequil = math.sqrt((p1 - p0)/(gas.density - r0))\n\n    # check against the built-in sound speed function\n    afrozen2 = gas.sound_speed\n\n    return aequil, afrozen, afrozen2"
      ]
    },
    {
      "cell_type": "markdown",
      "metadata": {},
      "source": [
        "Calculate sound speed at a range of temperatures\n\n"
      ]
    },
    {
      "cell_type": "code",
      "execution_count": null,
      "metadata": {
        "collapsed": false
      },
      "outputs": [],
      "source": [
        "gas = ct.Solution('gri30_highT.yaml')\ngas.X = 'CH4:1.00, O2:2.0, N2:7.52'\nT_range = np.arange(300, 5901, 200)\ndata = []\nprint('   T     Equilibrium  Frozen manual  Frozen built-in')\nprint('  [K]       [m/s]         [m/s]           [m/s]')\nprint('-------  -----------  -------------  ---------------')\nfor T in T_range:\n    gas.TP = T, ct.one_atm\n    aequil, afrozen, afrozen2 = equilSoundSpeeds(gas)\n    data.append((T, aequil, afrozen, afrozen2))\n    print(f'{T:6.1f}  {aequil:12.2f}  {afrozen:13.2f}  {afrozen2:15.2f}')"
      ]
    },
    {
      "cell_type": "markdown",
      "metadata": {},
      "source": [
        "Plot results\n\n"
      ]
    },
    {
      "cell_type": "code",
      "execution_count": null,
      "metadata": {
        "collapsed": false
      },
      "outputs": [],
      "source": [
        "data = np.array(data)\nfig, ax = plt.subplots()\nax.plot(data[:,0], data[:,1], label='Equilibrium')\nax.plot(data[:,0], data[:,2], label='Frozen (manual)')\nax.plot(data[:,0], data[:,3], linestyle='none', marker='.', label='Frozen (built-in)')\nax.set(xlabel='T [K]', ylabel='Sound Speed [m/s]')\nax.legend()\nplt.show()"
      ]
    }
  ],
  "metadata": {
    "kernelspec": {
      "display_name": "Python 3",
      "language": "python",
      "name": "python3"
    },
    "language_info": {
      "codemirror_mode": {
        "name": "ipython",
        "version": 3
      },
      "file_extension": ".py",
      "mimetype": "text/x-python",
      "name": "python",
      "nbconvert_exporter": "python",
      "pygments_lexer": "ipython3",
      "version": "3.11.11"
    }
  },
  "nbformat": 4,
  "nbformat_minor": 0
}