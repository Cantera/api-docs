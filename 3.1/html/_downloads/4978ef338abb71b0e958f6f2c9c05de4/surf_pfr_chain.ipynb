{
  "cells": [
    {
      "cell_type": "markdown",
      "metadata": {},
      "source": [
        "\n# Plug flow reactor modeled as a chain of well stirred reactors\n\nThis example solves a plug flow reactor problem, where the chemistry is surface\nchemistry. The specific problem simulated is the partial oxidation of methane over a\nplatinum catalyst in a packed bed reactor. To avoid needing to solve a DAE system, the\nPFR is approximated as a chain of successive WSRs. See :doc:`surf_pfr.py <surf_pfr>` for\na more advanced implementation that solves the DAE system directly.\n\nRequires: cantera >= 3.0\n\n.. tags:: Python, catalysis, reactor network, surface chemistry, plug flow reactor,\n          packed bed reactor\n"
      ]
    },
    {
      "cell_type": "code",
      "execution_count": null,
      "metadata": {
        "collapsed": false
      },
      "outputs": [],
      "source": [
        "import csv\n\nimport cantera as ct\n\n# unit conversion factors to SI\ncm = 0.01\nminute = 60.0"
      ]
    },
    {
      "cell_type": "markdown",
      "metadata": {},
      "source": [
        "## Input Parameters\n\n"
      ]
    },
    {
      "cell_type": "code",
      "execution_count": null,
      "metadata": {
        "collapsed": false
      },
      "outputs": [],
      "source": [
        "tc = 800.0  # Temperature in Celsius\nlength = 0.3 * cm  # Catalyst bed length\narea = 1.0 * cm**2  # Catalyst bed area\ncat_area_per_vol = 1000.0 / cm  # Catalyst particle surface area per unit volume\nvelocity = 40.0 * cm / minute  # gas velocity\nporosity = 0.3  # Catalyst bed porosity\n\n# input file containing the surface reaction mechanism\nyaml_file = 'methane_pox_on_pt.yaml'\n\noutput_filename = 'surf_pfr_output.csv'\n\n# The PFR will be simulated by a chain of 'NReactors' stirred reactors.\nNReactors = 201\ndt = 1.0"
      ]
    },
    {
      "cell_type": "code",
      "execution_count": null,
      "metadata": {
        "collapsed": false
      },
      "outputs": [],
      "source": [
        "t = tc + 273.15  # convert to Kelvin\n\n# import the phase models and set the initial conditions\nsurf = ct.Interface(yaml_file, 'Pt_surf')\nsurf.TP = t, ct.one_atm\ngas = surf.adjacent['gas']\ngas.TPX = t, ct.one_atm, 'CH4:1, O2:1.5, AR:0.1'\n\nrlen = length/(NReactors-1)\nrvol = area * rlen * porosity\n\n# catalyst area in one reactor\ncat_area = cat_area_per_vol * rvol\n\nmass_flow_rate = velocity * gas.density * area * porosity\n\n# The plug flow reactor is represented by a linear chain of zero-dimensional\n# reactors. The gas at the inlet to the first one has the specified inlet\n# composition, and for all others the inlet composition is fixed at the\n# composition of the reactor immediately upstream. Since in a PFR model there\n# is no diffusion, the upstream reactors are not affected by any downstream\n# reactors, and therefore the problem may be solved by simply marching from\n# the first to last reactor, integrating each one to steady state.\n\nTDY = gas.TDY\ncov = surf.coverages\n\nprint('    distance       X_CH4        X_H2        X_CO')\n\n# create a new reactor\ngas.TDY = TDY\nr = ct.IdealGasReactor(gas, energy='off')\nr.volume = rvol\n\n# create a reservoir to represent the reactor immediately upstream. Note\n# that the gas object is set already to the state of the upstream reactor\nupstream = ct.Reservoir(gas, name='upstream')\n\n# create a reservoir for the reactor to exhaust into. The composition of\n# this reservoir is irrelevant.\ndownstream = ct.Reservoir(gas, name='downstream')\n\n# Add the reacting surface to the reactor. The area is set to the desired\n# catalyst area in the reactor.\nrsurf = ct.ReactorSurface(surf, r, A=cat_area)\n\n# The mass flow rate into the reactor will be fixed by using a\n# MassFlowController object.\nm = ct.MassFlowController(upstream, r, mdot=mass_flow_rate)\n\n# We need an outlet to the downstream reservoir. This will determine the\n# pressure in the reactor. The value of K will only affect the transient\n# pressure difference.\nv = ct.PressureController(r, downstream, primary=m, K=1e-5)\n\nsim = ct.ReactorNet([r])\n\noutput_data = []\n\nfor n in range(NReactors):\n    # Set the state of the reservoir to match that of the previous reactor\n    gas.TDY = r.thermo.TDY\n    upstream.syncState()\n    sim.reinitialize()\n    sim.advance_to_steady_state()\n    dist = n * rlen * 1.0e3  # distance in mm\n\n    if n % 10 == 0:\n        print('  {0:10f}  {1:10f}  {2:10f}  {3:10f}'.format(\n            dist, *r.thermo['CH4', 'H2', 'CO'].X))\n\n    # write the gas mole fractions and surface coverages vs. distance\n    output_data.append(\n        [dist, r.T - 273.15, r.thermo.P / ct.one_atm]\n        + list(r.thermo.X)  # use r.thermo.X not gas.X\n        + list(rsurf.kinetics.coverages)  # use rsurf.kinetics.coverages not surf.coverages\n    )\n\nwith open(output_filename, 'w', newline=\"\") as outfile:\n    writer = csv.writer(outfile)\n    writer.writerow(['Distance (mm)', 'T (C)', 'P (atm)'] +\n                    gas.species_names + surf.species_names)\n    writer.writerows(output_data)\n\nprint(\"Results saved to '{0}'\".format(output_filename))"
      ]
    }
  ],
  "metadata": {
    "kernelspec": {
      "display_name": "Python 3",
      "language": "python",
      "name": "python3"
    },
    "language_info": {
      "codemirror_mode": {
        "name": "ipython",
        "version": 3
      },
      "file_extension": ".py",
      "mimetype": "text/x-python",
      "name": "python",
      "nbconvert_exporter": "python",
      "pygments_lexer": "ipython3",
      "version": "3.11.11"
    }
  },
  "nbformat": 4,
  "nbformat_minor": 0
}