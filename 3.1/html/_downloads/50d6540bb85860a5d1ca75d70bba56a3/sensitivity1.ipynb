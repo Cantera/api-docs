{
  "cells": [
    {
      "cell_type": "markdown",
      "metadata": {},
      "source": [
        "\n# Constant-pressure, adiabatic kinetics simulation with sensitivity analysis\n\nRequires: cantera >= 2.5.0, matplotlib >= 2.0\n\n.. tags:: Python, combustion, reactor network, sensitivity analysis, plotting\n"
      ]
    },
    {
      "cell_type": "code",
      "execution_count": null,
      "metadata": {
        "collapsed": false
      },
      "outputs": [],
      "source": [
        "import sys\nimport numpy as np\n\nimport cantera as ct\n\ngas = ct.Solution('gri30.yaml')\ntemp = 1500.0\npres = ct.one_atm\n\ngas.TPX = temp, pres, 'CH4:0.1, O2:2, N2:7.52'\nr = ct.IdealGasConstPressureReactor(gas, name='R1')\nsim = ct.ReactorNet([r])\n\n# enable sensitivity with respect to the rates of the first 10\n# reactions (reactions 0 through 9)\nfor i in range(10):\n    r.add_sensitivity_reaction(i)\n\n# set the tolerances for the solution and for the sensitivity coefficients\nsim.rtol = 1.0e-6\nsim.atol = 1.0e-15\nsim.rtol_sensitivity = 1.0e-6\nsim.atol_sensitivity = 1.0e-6\n\nstates = ct.SolutionArray(gas, extra=['t', 's2', 's3'])\n\nfor t in np.arange(0, 2e-3, 5e-6):\n    sim.advance(t)\n    s2 = sim.sensitivity('OH', 2)  # sensitivity of OH to reaction 2\n    s3 = sim.sensitivity('OH', 3)  # sensitivity of OH to reaction 3\n    states.append(r.thermo.state, t=1000*t, s2=s2, s3=s3)\n\n    print('{:10.3e} {:10.3f} {:10.3f} {:14.6e} {:10.3f} {:10.3f}'.format(\n        sim.time, r.T, r.thermo.P, r.thermo.u, s2, s3))\n\n# plot the results if matplotlib is installed.\n# see http://matplotlib.org/ to get it\nif '--plot' in sys.argv:\n    import matplotlib.pyplot as plt\n    plt.subplot(2, 2, 1)\n    plt.plot(states.t, states.T)\n    plt.xlabel('Time (ms)')\n    plt.ylabel('Temperature (K)')\n    plt.subplot(2, 2, 2)\n    plt.plot(states.t, states('OH').X)\n    plt.xlabel('Time (ms)')\n    plt.ylabel('OH Mole Fraction')\n    plt.subplot(2, 2, 3)\n    plt.plot(states.t, states('H').X)\n    plt.xlabel('Time (ms)')\n    plt.ylabel('H Mole Fraction')\n    plt.subplot(2, 2, 4)\n    plt.plot(states.t, states('CH4').X)\n    plt.xlabel('Time (ms)')\n    plt.ylabel('CH4 Mole Fraction')\n    plt.tight_layout()\n\n    plt.figure(2)\n    plt.plot(states.t, states.s2, '-', label=sim.sensitivity_parameter_name(2))\n    plt.plot(states.t, states.s3, '-g', label=sim.sensitivity_parameter_name(3))\n    plt.legend(loc='best')\n    plt.xlabel('Time (ms)')\n    plt.ylabel('OH Sensitivity')\n    plt.tight_layout()\n    plt.show()\nelse:\n    print(\"\"\"To view a plot of these results, run this script with the option '--plot\"\"\")"
      ]
    }
  ],
  "metadata": {
    "kernelspec": {
      "display_name": "Python 3",
      "language": "python",
      "name": "python3"
    },
    "language_info": {
      "codemirror_mode": {
        "name": "ipython",
        "version": 3
      },
      "file_extension": ".py",
      "mimetype": "text/x-python",
      "name": "python",
      "nbconvert_exporter": "python",
      "pygments_lexer": "ipython3",
      "version": "3.11.11"
    }
  },
  "nbformat": 4,
  "nbformat_minor": 0
}