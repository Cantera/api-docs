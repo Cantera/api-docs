{
  "cells": [
    {
      "cell_type": "markdown",
      "metadata": {},
      "source": [
        "\n# Laminar flame speed calculation\n\nA freely-propagating, premixed hydrogen flat flame with multicomponent\ntransport properties.\n\nRequires: cantera >= 3.0, matplotlib >= 2.0\n\n.. tags:: Python, combustion, 1D flow, premixed flame, multicomponent transport,\n          saving output\n"
      ]
    },
    {
      "cell_type": "code",
      "execution_count": null,
      "metadata": {
        "collapsed": false
      },
      "outputs": [],
      "source": [
        "from pathlib import Path\nimport numpy as np\nimport matplotlib.pyplot as plt\nimport cantera as ct\n\n\n# Simulation parameters\np = ct.one_atm  # pressure [Pa]\nTin = 300.0  # unburned gas temperature [K]\nreactants = 'H2:1.1, O2:1, AR:5'  # premixed gas composition\nwidth = 0.03  # m\nloglevel = 1  # amount of diagnostic output (0 to 8)\n\n# Solution object used to compute mixture properties, set to the state of the\n# upstream fuel-air mixture\ngas = ct.Solution('h2o2.yaml')\ngas.TPX = Tin, p, reactants\n\n# Set up flame object\nf = ct.FreeFlame(gas, width=width)\nf.set_refine_criteria(ratio=3, slope=0.06, curve=0.12)\nf.show()\n\n# Solve with mixture-averaged transport model\nf.transport_model = 'mixture-averaged'\nf.solve(loglevel=loglevel, auto=True)\n\nif \"native\" in ct.hdf_support():\n    output = Path() / \"adiabatic_flame.h5\"\nelse:\n    output = Path() / \"adiabatic_flame.yaml\"\noutput.unlink(missing_ok=True)\n\n# Solve with the energy equation enabled\nf.save(output, name=\"mix\", description=\"solution with mixture-averaged transport\")\n\nf.show()\nprint(f\"mixture-averaged flamespeed = {f.velocity[0]:7f} m/s\")\n\n# Solve with multi-component transport properties\nf.transport_model = 'multicomponent'\nf.solve(loglevel)  # don't use 'auto' on subsequent solves\nf.show()\nprint(f\"multicomponent flamespeed = {f.velocity[0]:7f} m/s\")\nf.save(output, name=\"multi\", description=\"solution with multicomponent transport\")\n\n# write the velocity, temperature, density, and mole fractions to a CSV file\nf.save('adiabatic_flame.csv', basis=\"mole\", overwrite=True)"
      ]
    },
    {
      "cell_type": "markdown",
      "metadata": {},
      "source": [
        "## Temperature and Heat Release Rate\n\n"
      ]
    },
    {
      "cell_type": "code",
      "execution_count": null,
      "metadata": {
        "collapsed": false
      },
      "outputs": [],
      "source": [
        "# Find the region that covers most of the temperature rise\nz = 1000 * f.grid  # convert to mm\ni_left = np.where(f.T > f.T[0] + 0.01 * (f.T[-1] - f.T[0]))[0][0]\ni_right = np.where(f.T > f.T[0] + 0.95 * (f.T[-1] - f.T[0]))[0][0]\nz_left = z[i_left]\nz_right = z[i_right]\ndz = z_right - z_left\nz_left -= 0.3 * dz\nz_right += 0.3 * dz\n\nfig, ax1 = plt.subplots()\nax1.plot(z, f.heat_release_rate / 1e6, color='C4')\nax1.set_ylabel('heat release rate [MW/m\u00b3]', color='C4')\nax1.set(xlabel='flame coordinate [mm]', xlim=[z_left, z_right])\n\nax2 = ax1.twinx()\nax2.plot(z, f.T, color='C3')\nax2.set_ylabel('temperature [K]', color='C3')\nplt.show()"
      ]
    },
    {
      "cell_type": "markdown",
      "metadata": {},
      "source": [
        "## Major Species Profiles\n\n"
      ]
    },
    {
      "cell_type": "code",
      "execution_count": null,
      "metadata": {
        "collapsed": false
      },
      "outputs": [],
      "source": [
        "fig, ax = plt.subplots()\nmajor = ('O2', 'H2', 'H2O')\nstates = f.to_array()\nax.plot(z, states(*major).X, label=major)\nax.set(xlabel='flame coordinate [mm]', ylabel='mole fractions')\nax.set_xlim(z_left, z_right)\nax.legend()\nplt.show()"
      ]
    },
    {
      "cell_type": "markdown",
      "metadata": {},
      "source": [
        "## Minor Species Profiles\n\n"
      ]
    },
    {
      "cell_type": "code",
      "execution_count": null,
      "metadata": {
        "collapsed": false
      },
      "outputs": [],
      "source": [
        "fig, ax = plt.subplots()\nminor = ('OH', 'H', 'O')\n\nax.plot(z, states(*minor).X, label=minor, linestyle='--')\nax.set(xlabel='flame coordinate [mm]', ylabel='mole fractions')\nax.set_xlim(z_left, z_right)\nax.legend()\nplt.show()"
      ]
    }
  ],
  "metadata": {
    "kernelspec": {
      "display_name": "Python 3",
      "language": "python",
      "name": "python3"
    },
    "language_info": {
      "codemirror_mode": {
        "name": "ipython",
        "version": 3
      },
      "file_extension": ".py",
      "mimetype": "text/x-python",
      "name": "python",
      "nbconvert_exporter": "python",
      "pygments_lexer": "ipython3",
      "version": "3.11.11"
    }
  },
  "nbformat": 4,
  "nbformat_minor": 0
}