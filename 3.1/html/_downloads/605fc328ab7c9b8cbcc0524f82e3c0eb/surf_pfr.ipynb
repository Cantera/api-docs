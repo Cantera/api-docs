{
  "cells": [
    {
      "cell_type": "markdown",
      "metadata": {},
      "source": [
        "\n# Plug flow reactor with surface chemistry\n\nThis example simulates the partial oxidation of methane over a platinum catalyst in a\npacked bed reactor. This example solves the DAE system directly, using the `FlowReactor`\nclass and the SUNDIALS IDA solver, in contrast to the approximation as a chain of\nsteady-state WSRs used in :doc:`surf_pfr_chain.py <surf_pfr_chain>`.\n\nRequires: cantera >= 3.0.0\n\n.. tags:: Python, catalysis, reactor network, surface chemistry, plug flow reactor,\n          packed bed reactor\n"
      ]
    },
    {
      "cell_type": "code",
      "execution_count": null,
      "metadata": {
        "collapsed": false
      },
      "outputs": [],
      "source": [
        "import csv\n\nimport cantera as ct\n\n# unit conversion factors to SI\ncm = 0.01\nminute = 60.0"
      ]
    },
    {
      "cell_type": "markdown",
      "metadata": {},
      "source": [
        "## Input Parameters\n\n"
      ]
    },
    {
      "cell_type": "code",
      "execution_count": null,
      "metadata": {
        "collapsed": false
      },
      "outputs": [],
      "source": [
        "tc = 800.0  # Temperature in Celsius\nlength = 0.3 * cm  # Catalyst bed length\narea = 1.0 * cm**2  # Catalyst bed area\ncat_area_per_vol = 1000.0 / cm  # Catalyst particle surface area per unit volume\nvelocity = 40.0 * cm / minute  # gas velocity\nporosity = 0.3  # Catalyst bed porosity\n\n# input file containing the surface reaction mechanism\nyaml_file = 'methane_pox_on_pt.yaml'\n\noutput_filename = 'surf_pfr2_output.csv'"
      ]
    },
    {
      "cell_type": "code",
      "execution_count": null,
      "metadata": {
        "collapsed": false
      },
      "outputs": [],
      "source": [
        "t = tc + 273.15  # convert to Kelvin\n\n# import the model and set the initial conditions\nsurf = ct.Interface(yaml_file, 'Pt_surf')\nsurf.TP = t, ct.one_atm\ngas = surf.adjacent['gas']\ngas.TPX = t, ct.one_atm, 'CH4:1, O2:1.5, AR:0.1'\n\nmass_flow_rate = velocity * gas.density * area * porosity\n\n# create a new reactor\nr = ct.FlowReactor(gas)\nr.area = area\nr.surface_area_to_volume_ratio = cat_area_per_vol * porosity\nr.mass_flow_rate = mass_flow_rate\nr.energy_enabled = False\n\n# Add the reacting surface to the reactor\nrsurf = ct.ReactorSurface(surf, r)\n\nsim = ct.ReactorNet([r])\n\noutput_data = []\nn = 0\nprint('    distance       X_CH4        X_H2        X_CO')\nprint('  {:10f}  {:10f}  {:10f}  {:10f}'.format(\n      0, *r.thermo['CH4', 'H2', 'CO'].X))\n\nwhile sim.distance < length:\n    dist = sim.distance * 1e3  # convert to mm\n    sim.step()\n\n    if n % 100 == 0 or (dist > 1 and n % 10 == 0):\n        print('  {:10f}  {:10f}  {:10f}  {:10f}'.format(\n              dist, *r.thermo['CH4', 'H2', 'CO'].X))\n    n += 1\n\n    # write the gas mole fractions and surface coverages vs. distance\n    output_data.append(\n        [dist, r.T - 273.15, r.thermo.P / ct.one_atm]\n        + list(r.thermo.X)  # use r.thermo.X not gas.X\n        + list(rsurf.kinetics.coverages)  # use rsurf.kinetics.coverages not surf.coverages\n    )\n\nwith open(output_filename, 'w', newline=\"\") as outfile:\n    writer = csv.writer(outfile)\n    writer.writerow(['Distance (mm)', 'T (C)', 'P (atm)'] +\n                    gas.species_names + surf.species_names)\n    writer.writerows(output_data)\n\nprint(\"Results saved to '{0}'\".format(output_filename))"
      ]
    }
  ],
  "metadata": {
    "kernelspec": {
      "display_name": "Python 3",
      "language": "python",
      "name": "python3"
    },
    "language_info": {
      "codemirror_mode": {
        "name": "ipython",
        "version": 3
      },
      "file_extension": ".py",
      "mimetype": "text/x-python",
      "name": "python",
      "nbconvert_exporter": "python",
      "pygments_lexer": "ipython3",
      "version": "3.11.11"
    }
  },
  "nbformat": 4,
  "nbformat_minor": 0
}