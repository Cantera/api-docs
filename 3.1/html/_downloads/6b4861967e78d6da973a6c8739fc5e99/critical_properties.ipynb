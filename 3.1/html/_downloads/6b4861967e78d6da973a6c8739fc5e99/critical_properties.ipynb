{
  "cells": [
    {
      "cell_type": "markdown",
      "metadata": {},
      "source": [
        "\n# Critical state properties\n\nPrint the critical state properties for the fluids for which Cantera has\nbuilt-in liquid/vapor equations of state.\n\n.. tags:: Python, thermodynamics, multiphase, non-ideal fluid\n"
      ]
    },
    {
      "cell_type": "code",
      "execution_count": null,
      "metadata": {
        "collapsed": false
      },
      "outputs": [],
      "source": [
        "import cantera as ct\nimport matplotlib.pyplot as plt"
      ]
    },
    {
      "cell_type": "markdown",
      "metadata": {},
      "source": [
        "Create `PureFluid` objects:\n\n"
      ]
    },
    {
      "cell_type": "code",
      "execution_count": null,
      "metadata": {
        "collapsed": false
      },
      "outputs": [],
      "source": [
        "fluids = {'water': ct.Water(),\n          'nitrogen': ct.Nitrogen(),\n          'methane': ct.Methane(),\n          'hydrogen': ct.Hydrogen(),\n          'oxygen': ct.Oxygen(),\n          'carbon dioxide': ct.CarbonDioxide(),\n          'heptane': ct.Heptane(),\n          'HFC-134a': ct.Hfc134a()\n          }"
      ]
    },
    {
      "cell_type": "markdown",
      "metadata": {},
      "source": [
        "Plot critical properties and print tabulated values:\n\n"
      ]
    },
    {
      "cell_type": "code",
      "execution_count": null,
      "metadata": {
        "collapsed": false
      },
      "outputs": [],
      "source": [
        "fig, ax = plt.subplots()\n\nprint('Critical State Properties')\nprint(f\"{'Fluid':^16s}   {'Tc [K]':^7s}   {'Pc [Pa]':^10s}   {'Zc':^7s}\")\nprint(f\"{'-'*16}   {'-'*7}   {'-'*10}   {'-'*7}\")\nfor name in fluids:\n    f = fluids[name]\n    tc = f.critical_temperature\n    pc = f.critical_pressure\n    rc = f.critical_density\n    mw = f.mean_molecular_weight\n    zc = pc * mw / (rc * ct.gas_constant * tc)\n    ax.plot(tc, pc, 'o')\n    ax.annotate(name, (tc, pc), (4, 2), textcoords='offset points', size=9)\n    print(f'{name:16s}   {tc:7.2f}   {pc:10.4g}   {zc:7.4f}')\n\nax.set(xlabel='Critical Temperature [K]', ylabel='Critical Pressure [Pa]')\nax.set(xlim=(0, 750))\nax.grid(True)\nplt.show()"
      ]
    }
  ],
  "metadata": {
    "kernelspec": {
      "display_name": "Python 3",
      "language": "python",
      "name": "python3"
    },
    "language_info": {
      "codemirror_mode": {
        "name": "ipython",
        "version": 3
      },
      "file_extension": ".py",
      "mimetype": "text/x-python",
      "name": "python",
      "nbconvert_exporter": "python",
      "pygments_lexer": "ipython3",
      "version": "3.11.11"
    }
  },
  "nbformat": 4,
  "nbformat_minor": 0
}