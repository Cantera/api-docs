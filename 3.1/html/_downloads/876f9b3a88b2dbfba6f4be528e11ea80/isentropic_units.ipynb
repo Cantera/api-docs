{
  "cells": [
    {
      "cell_type": "markdown",
      "metadata": {},
      "source": [
        "\n# Isentropic, adiabatic flow (with units)\n\nIsentropic, adiabatic flow example - calculate area ratio vs. Mach number curve.\nUses the ``pint`` library to include customized units in the calculation.\n\nRequires: Cantera >= 3.0.0, pint\n\n.. tags:: Python, thermodynamics, compressible flow, units\n"
      ]
    },
    {
      "cell_type": "code",
      "execution_count": null,
      "metadata": {
        "collapsed": false
      },
      "outputs": [],
      "source": [
        "import cantera.with_units as ctu\nimport numpy as np\n\n# This sets the default output format of the units to have 2 significant digits\n# and the units are printed with a Unicode font. See:\n# https://pint.readthedocs.io/en/stable/user/formatting.html\nif hasattr(ctu.cantera_units_registry, \"formatter\"):  # pint >= 0.24\n    ctu.cantera_units_registry.formatter.default_format = \".2F~P\"\nelse:\n    ctu.units.default_format = \".2F~P\"\n\n\n\ndef soundspeed(gas):\n    \"\"\"The speed of sound. Assumes an ideal gas.\"\"\"\n\n    gamma = gas.cp / gas.cv\n    specific_gas_constant = ctu.units.molar_gas_constant / gas.mean_molecular_weight\n    return np.sqrt(gamma * specific_gas_constant * gas.T).to(\"m/s\")\n\n\ndef isentropic(gas=None):\n    \"\"\"\n    In this example, the area ratio vs. Mach number curve is computed. If a gas\n    object is supplied, it will be used for the calculations, with the\n    stagnation state given by the input gas state. Otherwise, the calculations\n    will be done for a 10:1 hydrogen/nitrogen mixture with stagnation T0 = 1700.33\n    degrees Fahrenheit, P0 = 10 atm.\n    \"\"\"\n    if gas is None:\n        gas = ctu.Solution('gri30.yaml')\n        gas.TPX = 2160 * ctu.units.degR, 10.0 * ctu.units.atm, 'H2:1,N2:0.1'\n\n    # get the stagnation state parameters\n    s0 = gas.s\n    h0 = gas.h\n    p0 = gas.P\n\n    mdot = 1 * ctu.units.kg / ctu.units.s  # arbitrary\n    amin = 1.e14 * ctu.units.m**2\n\n    data = []\n\n    # compute values for a range of pressure ratios\n    p_range = np.logspace(-3, 0, 10) * p0\n    for p in p_range:\n\n        # set the state using (p,s0)\n        gas.SP = s0, p\n\n        v = np.sqrt(2.0*(h0 - gas.h)).to(\"m/s\")     # h + V^2/2 = h0\n        area = mdot/(gas.density*v)    # rho*v*A = constant\n        amin = min(amin, area)\n        data.append([area, v/soundspeed(gas), gas.T, p/p0])\n\n    return data, amin\n\n\nif __name__ == \"__main__\":\n    print(__doc__)\n    data, amin = isentropic()\n    label_string = \"area ratio\\tMach number\\ttemperature\\tpressure ratio\"\n    output_string = \"{0:.2E~P}\\t{1}            {2}\\t{3:.2E~P}\"\n    print(label_string)\n    for row in data:\n        print(output_string.format(row[0] / amin, row[1], row[2], row[3]))"
      ]
    }
  ],
  "metadata": {
    "kernelspec": {
      "display_name": "Python 3",
      "language": "python",
      "name": "python3"
    },
    "language_info": {
      "codemirror_mode": {
        "name": "ipython",
        "version": 3
      },
      "file_extension": ".py",
      "mimetype": "text/x-python",
      "name": "python",
      "nbconvert_exporter": "python",
      "pygments_lexer": "ipython3",
      "version": "3.11.11"
    }
  },
  "nbformat": 4,
  "nbformat_minor": 0
}