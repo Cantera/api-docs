{
  "cells": [
    {
      "cell_type": "markdown",
      "metadata": {},
      "source": [
        "\n# Constant-pressure, adiabatic kinetics simulation\n\nRequires: cantera >= 2.5.0, matplotlib >= 2.0\n\n.. tags:: Python, combustion, reactor network, plotting\n"
      ]
    },
    {
      "cell_type": "code",
      "execution_count": null,
      "metadata": {
        "collapsed": false
      },
      "outputs": [],
      "source": [
        "import sys\n\nimport cantera as ct\n\ngas = ct.Solution('h2o2.yaml')\ngas.TPX = 1001.0, ct.one_atm, 'H2:2,O2:1,N2:4'\nr = ct.IdealGasConstPressureReactor(gas)\n\nsim = ct.ReactorNet([r])\nsim.verbose = True\n\n# limit advance when temperature difference is exceeded\ndelta_T_max = 20.\nr.set_advance_limit('temperature', delta_T_max)\n\ndt_max = 1.e-5\nt_end = 100 * dt_max\nstates = ct.SolutionArray(gas, extra=['t'])\n\nprint('{:10s} {:10s} {:10s} {:14s}'.format(\n    't [s]', 'T [K]', 'P [Pa]', 'u [J/kg]'))\nwhile sim.time < t_end:\n    sim.advance(sim.time + dt_max)\n    states.append(r.thermo.state, t=sim.time*1e3)\n    print('{:10.3e} {:10.3f} {:10.3f} {:14.6f}'.format(\n            sim.time, r.T, r.thermo.P, r.thermo.u))\n\n# Plot the results if matplotlib is installed.\n# See http://matplotlib.org/ to get it.\nif '--plot' in sys.argv[1:]:\n    import matplotlib.pyplot as plt\n    plt.clf()\n    plt.subplot(2, 2, 1)\n    plt.plot(states.t, states.T)\n    plt.xlabel('Time (ms)')\n    plt.ylabel('Temperature (K)')\n    plt.subplot(2, 2, 2)\n    plt.plot(states.t, states.X[:, gas.species_index('OH')])\n    plt.xlabel('Time (ms)')\n    plt.ylabel('OH Mole Fraction')\n    plt.subplot(2, 2, 3)\n    plt.plot(states.t, states.X[:, gas.species_index('H')])\n    plt.xlabel('Time (ms)')\n    plt.ylabel('H Mole Fraction')\n    plt.subplot(2, 2, 4)\n    plt.plot(states.t, states.X[:, gas.species_index('H2')])\n    plt.xlabel('Time (ms)')\n    plt.ylabel('H2 Mole Fraction')\n    plt.tight_layout()\n    plt.show()\nelse:\n    print(\"To view a plot of these results, run this script with the option --plot\")"
      ]
    }
  ],
  "metadata": {
    "kernelspec": {
      "display_name": "Python 3",
      "language": "python",
      "name": "python3"
    },
    "language_info": {
      "codemirror_mode": {
        "name": "ipython",
        "version": 3
      },
      "file_extension": ".py",
      "mimetype": "text/x-python",
      "name": "python",
      "nbconvert_exporter": "python",
      "pygments_lexer": "ipython3",
      "version": "3.11.11"
    }
  },
  "nbformat": 4,
  "nbformat_minor": 0
}