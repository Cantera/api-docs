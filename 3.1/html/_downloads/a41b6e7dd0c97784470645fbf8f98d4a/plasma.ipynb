{
  "cells": [
    {
      "cell_type": "markdown",
      "metadata": {},
      "source": [
        "\n# Plasma Reactor\nSolve a constant pressure and constant gas/electron temperature plasma problem,\nwhich approximates the conditions found in a glow discharge.\n\nThis file uses a similar approach as custom.py, where the governing equations are\nimplemented in Python, to solve the electron concentration in a plasma.\n\nSee the input file :doc:`oxygen-plasma-itikawa.yaml <../../input/oxygen-plasma-itikawa>`.\n\nRequires: cantera >= 3.1, matplotlib >= 2.0\n\n.. tags:: Python, combustion, reactor network, plasma\n"
      ]
    },
    {
      "cell_type": "code",
      "execution_count": null,
      "metadata": {
        "collapsed": false
      },
      "outputs": [],
      "source": [
        "import cantera as ct\nimport numpy as np\nimport scipy.integrate\n\nclass ReactorOde:\n    def __init__(self, plasma):\n        # Parameters of the ODE system and auxiliary data are stored in the\n        # ReactorOde object.\n        self.gas = plasma\n        self.P = plasma.P\n        self.T = plasma.T\n\n    def __call__(self, t, y):\n        \"\"\"the ODE function, y' = f(t,y) \"\"\"\n\n        # State vector is [Y_1, Y_2, ... Y_K]\n        self.gas.set_unnormalized_mass_fractions(y)\n        self.gas.TP = self.T, self.P\n        rho = self.gas.density\n\n        wdot = self.gas.net_production_rates\n        dYdt = wdot * self.gas.molecular_weights / rho\n\n        return np.hstack(dYdt)\n\n\nplasma = ct.Solution('example_data/oxygen-plasma-itikawa.yaml',\n                     'isotropic-electron-energy-plasma',\n                      transport_model=None)\n\nP = ct.one_atm * 0.01\nT = 300.0\nplasma.TPX = T, P, 'O2:1.0, e:5e-3, O2+:5e-3'\nplasma.mean_electron_energy = 10 # [eV]\ny0 = np.hstack(plasma.Y)\n\n# Set up objects representing the ODE and the solver\node = ReactorOde(plasma)\nsolver = scipy.integrate.ode(ode)\nsolver.set_integrator('vode', method='bdf', with_jacobian=True)\nsolver.set_initial_value(y0, 0.0)\n\n# Integrate the equations, keeping T(t) and Y(k,t)\nt_end = 1e-6\nstates = ct.SolutionArray(plasma, 1, extra={'t': [0.0]})\ndt = 1e-9\nwhile solver.successful() and solver.t < t_end:\n    solver.integrate(solver.t + dt)\n    plasma.TPY = T, P, solver.y\n    states.append(plasma.state, t=solver.t)\n\n# Plot the results\nimport matplotlib.pyplot as plt\nplt.plot(states.t, states('e').X, label='e', lw=2)\nplt.ylabel('Electron Mole Fraction')\nplt.xlabel('Time [s]')\nplt.tight_layout()\nplt.savefig(\"plasma-density\")"
      ]
    }
  ],
  "metadata": {
    "kernelspec": {
      "display_name": "Python 3",
      "language": "python",
      "name": "python3"
    },
    "language_info": {
      "codemirror_mode": {
        "name": "ipython",
        "version": 3
      },
      "file_extension": ".py",
      "mimetype": "text/x-python",
      "name": "python",
      "nbconvert_exporter": "python",
      "pygments_lexer": "ipython3",
      "version": "3.11.11"
    }
  },
  "nbformat": 4,
  "nbformat_minor": 0
}