{
  "cells": [
    {
      "cell_type": "markdown",
      "metadata": {},
      "source": [
        "\n# Burner-stabilized flame including ionized species\n\nA burner-stabilized premixed methane-air flame with charged species.\n\nRequires: cantera >= 3.0, matplotlib >= 2.0\n\n.. tags:: Python, combustion, 1D flow, burner-stabilized flame, plasma, premixed flame\n"
      ]
    },
    {
      "cell_type": "code",
      "execution_count": null,
      "metadata": {
        "collapsed": false
      },
      "outputs": [],
      "source": [
        "from pathlib import Path\nimport matplotlib.pyplot as plt\nimport cantera as ct\n\np = ct.one_atm\ntburner = 600.0\nreactants = 'CH4:1.0, O2:2.0, N2:7.52'  # premixed gas composition\nwidth = 0.05  # m\nloglevel = 1  # amount of diagnostic output (0 to 5)\n\ngas = ct.Solution('gri30_ion.yaml')\ngas.TPX = tburner, p, reactants\nmdot = 0.15 * gas.density\n\nf = ct.BurnerFlame(gas, width=width)\nf.burner.mdot = mdot\nf.set_refine_criteria(ratio=3.0, slope=0.05, curve=0.1)\nf.show()\n\nf.solve(loglevel, auto=True)\nf.solve(loglevel=loglevel, stage=2)\n\nif \"native\" in ct.hdf_support():\n    output = Path() / \"ion_burner_flame.h5\"\nelse:\n    output = Path() / \"ion_burner_flame.yaml\"\noutput.unlink(missing_ok=True)\n\nf.save(output, name=\"mix\", description=\"solution with mixture-averaged transport\")\n\nf.save('ion_burner_flame.csv', basis=\"mole\", overwrite=True)"
      ]
    },
    {
      "cell_type": "markdown",
      "metadata": {},
      "source": [
        "## Temperature and Heat Release Rate\n\n"
      ]
    },
    {
      "cell_type": "code",
      "execution_count": null,
      "metadata": {
        "collapsed": false
      },
      "outputs": [],
      "source": [
        "fig, ax1 = plt.subplots()\n\nax1.plot(f.grid * 1000, f.heat_release_rate / 1e6, color='C4')\nax1.set_ylabel('heat release rate [MW/m\u00b3]', color='C4')\nax1.set_xlim(0, 3.0)\nax1.set(xlabel='distance from burner [mm]')\n\nax2 = ax1.twinx()\nax2.plot(f.grid * 1000, f.T, color='C3')\nax2.set_ylabel('temperature [K]', color='C3')\nplt.show()"
      ]
    },
    {
      "cell_type": "markdown",
      "metadata": {},
      "source": [
        "## Major Species Profiles\n\n"
      ]
    },
    {
      "cell_type": "code",
      "execution_count": null,
      "metadata": {
        "collapsed": false
      },
      "outputs": [],
      "source": [
        "fig, ax = plt.subplots()\nmajor = ('O2', 'CH4', 'H2O', 'CO2')\nstates = f.to_array()\nax.plot(states.grid * 1000, states(*major).X, label=major)\nax.set(xlabel='distance from burner [mm]', ylabel='mole fractions')\nax.set_xlim(0, 3.0)\nax.legend()\nplt.show()"
      ]
    },
    {
      "cell_type": "markdown",
      "metadata": {},
      "source": [
        "## Ionized Species Profiles\n\n"
      ]
    },
    {
      "cell_type": "code",
      "execution_count": null,
      "metadata": {
        "collapsed": false
      },
      "outputs": [],
      "source": [
        "fig, ax = plt.subplots()\nminor = ('E', 'H3O+', 'HCO+')\n\nax.semilogy(states.grid * 1000, states(*minor).X, label=minor, linestyle='--')\nax.set(xlabel='distance from burner [mm]', ylabel='mole fractions', )\nax.set_xlim(0, 3.0)\nax.legend()\nplt.show()"
      ]
    }
  ],
  "metadata": {
    "kernelspec": {
      "display_name": "Python 3",
      "language": "python",
      "name": "python3"
    },
    "language_info": {
      "codemirror_mode": {
        "name": "ipython",
        "version": 3
      },
      "file_extension": ".py",
      "mimetype": "text/x-python",
      "name": "python",
      "nbconvert_exporter": "python",
      "pygments_lexer": "ipython3",
      "version": "3.11.11"
    }
  },
  "nbformat": 4,
  "nbformat_minor": 0
}