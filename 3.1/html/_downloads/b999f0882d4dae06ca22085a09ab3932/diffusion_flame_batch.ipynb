{
  "cells": [
    {
      "cell_type": "markdown",
      "metadata": {},
      "source": [
        "\n# Scaling of diffusion flames with pressure and strain rate\n\nThis example creates two batches of counterflow diffusion flame simulations.\nThe first batch computes counterflow flames at increasing pressure, the second\nat increasing strain rates.\n\nThe tutorial makes use of the scaling rules derived by Fiala and Sattelmayer\n(doi:10.1155/2014/484372). Please refer to this publication for a detailed\nexplanation. Also, please don't forget to cite it if you make use of it.\n\nThis example can, for example, be used to iterate to a counterflow diffusion flame to an\nawkward pressure and strain rate, or to create the basis for a flamelet table.\n\nRequires: cantera >= 3.0, matplotlib >= 2.0\n\n.. tags:: Python, combustion, 1D flow, extinction, diffusion flame, strained flame,\n          saving output, plotting\n"
      ]
    },
    {
      "cell_type": "code",
      "execution_count": null,
      "metadata": {
        "collapsed": false
      },
      "outputs": [],
      "source": [
        "from pathlib import Path\nimport numpy as np\nimport matplotlib.pyplot as plt\n\nimport cantera as ct\n\n\nclass FlameExtinguished(Exception):\n    pass"
      ]
    },
    {
      "cell_type": "markdown",
      "metadata": {},
      "source": [
        "## Initialization\n\nSet up an initial hydrogen-oxygen counterflow flame at 1 bar and low strain\nrate (maximum axial velocity gradient = 2414 1/s)\n\n"
      ]
    },
    {
      "cell_type": "code",
      "execution_count": null,
      "metadata": {
        "collapsed": false
      },
      "outputs": [],
      "source": [
        "reaction_mechanism = 'h2o2.yaml'\ngas = ct.Solution(reaction_mechanism)\nwidth = 18e-3  # 18mm wide\nf = ct.CounterflowDiffusionFlame(gas, width=width)\n\n# Define the operating pressure and boundary conditions\nf.P = 1.e5  # 1 bar\nf.fuel_inlet.mdot = 0.5  # kg/m^2/s\nf.fuel_inlet.X = 'H2:1'\nf.fuel_inlet.T = 300  # K\nf.oxidizer_inlet.mdot = 3.0  # kg/m^2/s\nf.oxidizer_inlet.X = 'O2:1'\nf.oxidizer_inlet.T = 300  # K\n\n# Set refinement parameters, if used\nf.set_refine_criteria(ratio=3.0, slope=0.1, curve=0.2, prune=0.03)"
      ]
    },
    {
      "cell_type": "markdown",
      "metadata": {},
      "source": [
        "Define a limit for the maximum temperature below which the flame is\nconsidered as extinguished and the computation is aborted\nThis increases the speed of refinement, if enabled\n\n"
      ]
    },
    {
      "cell_type": "code",
      "execution_count": null,
      "metadata": {
        "collapsed": false
      },
      "outputs": [],
      "source": [
        "temperature_limit_extinction = 900  # K\n\n\ndef interrupt_extinction(t):\n    if np.max(f.T) < temperature_limit_extinction:\n        raise FlameExtinguished('Flame extinguished')\n    return 0.\n\n\nf.set_interrupt(interrupt_extinction)"
      ]
    },
    {
      "cell_type": "markdown",
      "metadata": {},
      "source": [
        "Initialize and solve\n\n"
      ]
    },
    {
      "cell_type": "code",
      "execution_count": null,
      "metadata": {
        "collapsed": false
      },
      "outputs": [],
      "source": [
        "print('Creating the initial solution')\nf.solve(loglevel=0, auto=True)\n\n# Define output locations\noutput_path = Path() / \"diffusion_flame_batch_data\"\noutput_path.mkdir(parents=True, exist_ok=True)\n\nhdf_output = \"native\" in ct.hdf_support()\nif hdf_output:\n    file_name = output_path / \"flame_data.h5\"\n    file_name.unlink(missing_ok=True)\n\ndef names(test):\n    if hdf_output:\n        # use internal container structure for HDF\n        file_name = output_path / \"flame_data.h5\"\n        return file_name, test\n    # use separate files for YAML\n    file_name = output_path / f\"{test}.yaml\".replace(\"-\", \"_\").replace(\"/\", \"_\")\n    return file_name, \"solution\"\n\n# Save to data directory\nfile_name, entry = names(\"initial-solution\")\ndesc = \"Initial hydrogen-oxygen counterflow flame at 1 bar and low strain rate\"\nf.save(file_name, name=entry, description=desc, overwrite=True)"
      ]
    },
    {
      "cell_type": "markdown",
      "metadata": {},
      "source": [
        "## Batch Pressure Loop\n\nCompute counterflow diffusion flames over a range of pressures\n\n"
      ]
    },
    {
      "cell_type": "code",
      "execution_count": null,
      "metadata": {
        "collapsed": false
      },
      "outputs": [],
      "source": [
        "# Arbitrarily define a pressure range (in bar)\np_range = np.round(np.logspace(0, 2, 50), decimals=1)"
      ]
    },
    {
      "cell_type": "markdown",
      "metadata": {},
      "source": [
        "Exponents for the initial solution variation with changes in pressure Taken\nfrom Fiala and Sattelmayer (2014). The exponents are adjusted such that the\nstrain rates increases proportional to $p^{3/2}$, which results in flames\nsimilar with respect to the extinction strain rate.\n\n"
      ]
    },
    {
      "cell_type": "code",
      "execution_count": null,
      "metadata": {
        "collapsed": false
      },
      "outputs": [],
      "source": [
        "exp_d_p = -5. / 4.\nexp_u_p = 1. / 4.\nexp_V_p = 3. / 2.\nexp_lam_p = 4.\nexp_mdot_p = 5. / 4.\n\n# The variable p_previous (in bar) is used for the pressure scaling\np_previous = f.P / 1.e5\n# Iterate over the pressure range\nfor p in p_range:\n    print('pressure = {0} bar'.format(p))\n    # set new pressure\n    f.P = p * 1.e5\n    # Create an initial guess based on the previous solution\n    rel_pressure_increase = p / p_previous\n    # Update grid\n    f.flame.grid *= rel_pressure_increase ** exp_d_p\n    normalized_grid = f.grid / (f.grid[-1] - f.grid[0])\n    # Update mass fluxes\n    f.fuel_inlet.mdot *= rel_pressure_increase ** exp_mdot_p\n    f.oxidizer_inlet.mdot *= rel_pressure_increase ** exp_mdot_p\n    # Update velocities\n    f.set_profile('velocity', normalized_grid,\n                  f.velocity * rel_pressure_increase ** exp_u_p)\n    f.set_profile('spread_rate', normalized_grid,\n                  f.spread_rate * rel_pressure_increase ** exp_V_p)\n    # Update pressure curvature\n    f.set_profile('lambda', normalized_grid,\n                  f.L * rel_pressure_increase ** exp_lam_p)\n\n    try:\n        # Try solving the flame\n        f.solve(loglevel=0)\n        file_name, entry = names(f\"pressure-loop/{p:05.1f}\")\n        f.save(file_name, name=entry, description=f\"pressure = {p} bar\",\n               overwrite=True)\n        p_previous = p\n    except ct.CanteraError as e:\n        print('Error occurred while solving:', e, 'Try next pressure level')\n        # If solution failed: Restore the last successful solution and continue\n        f.restore(file_name, name=entry)"
      ]
    },
    {
      "cell_type": "markdown",
      "metadata": {},
      "source": [
        "## Strain Rate Loop\nCompute counterflow diffusion flames at increasing strain rates at 1 bar\nThe strain rate is assumed to increase by 25% in each step until the flame is\nextinguished\n\n"
      ]
    },
    {
      "cell_type": "code",
      "execution_count": null,
      "metadata": {
        "collapsed": false
      },
      "outputs": [],
      "source": [
        "strain_factor = 1.25"
      ]
    },
    {
      "cell_type": "markdown",
      "metadata": {},
      "source": [
        "Exponents for the initial solution variation with changes in strain rate.\nTaken from Fiala and Sattelmayer (2014).\n\n"
      ]
    },
    {
      "cell_type": "code",
      "execution_count": null,
      "metadata": {
        "collapsed": false
      },
      "outputs": [],
      "source": [
        "exp_d_a = - 1. / 2.\nexp_u_a = 1. / 2.\nexp_V_a = 1.\nexp_lam_a = 2.\nexp_mdot_a = 1. / 2.\n\n# Restore initial solution\nfile_name, entry = names(\"initial-solution\")\nf.restore(file_name, name=entry)\n\n# Counter to identify the loop\nn = 0\n# Do the strain rate loop\nwhile np.max(f.T) > temperature_limit_extinction:\n    n += 1\n    print('strain rate iteration', n)\n    # Create an initial guess based on the previous solution\n    # Update grid\n    f.flame.grid *= strain_factor ** exp_d_a\n    normalized_grid = f.grid / (f.grid[-1] - f.grid[0])\n    # Update mass fluxes\n    f.fuel_inlet.mdot *= strain_factor ** exp_mdot_a\n    f.oxidizer_inlet.mdot *= strain_factor ** exp_mdot_a\n    # Update velocities\n    f.set_profile('velocity', normalized_grid,\n                  f.velocity * strain_factor ** exp_u_a)\n    f.set_profile('spread_rate', normalized_grid,\n                  f.spread_rate * strain_factor ** exp_V_a)\n    # Update pressure curvature\n    f.set_profile('lambda', normalized_grid, f.L * strain_factor ** exp_lam_a)\n    try:\n        # Try solving the flame\n        f.solve(loglevel=0)\n        file_name, entry = names(f\"strain-loop/{n:02d}\")\n        f.save(file_name, name=entry,\n               description=f\"strain rate iteration {n}\", overwrite=True)\n    except FlameExtinguished:\n        print('Flame extinguished')\n        break\n    except ct.CanteraError as e:\n        print('Error occurred while solving:', e)\n        break"
      ]
    },
    {
      "cell_type": "markdown",
      "metadata": {},
      "source": [
        "## Plotting Results\n\n"
      ]
    },
    {
      "cell_type": "code",
      "execution_count": null,
      "metadata": {
        "collapsed": false
      },
      "outputs": [],
      "source": [
        "fig1 = plt.figure()\nfig2 = plt.figure()\nax1 = fig1.add_subplot(1, 1, 1)\nax2 = fig2.add_subplot(1, 1, 1)\np_selected = p_range[::7]\n\nfor p in p_selected:\n    file_name, entry = names(f\"pressure-loop/{p:05.1f}\")\n    f.restore(file_name, name=entry)\n\n    # Plot the temperature profiles for selected pressures\n    ax1.plot(f.grid / f.grid[-1], f.T, label=f\"{p:05.1f} bar\")\n\n    # Plot the axial velocity profiles (normalized by the fuel inlet velocity)\n    # for selected pressures\n    ax2.plot(f.grid / f.grid[-1], f.velocity / f.velocity[0], label=f\"{p:05.1f} bar\")\n\nax1.legend(loc=0)\nax1.set_xlabel(r'$z/z_{max}$')\nax1.set_ylabel(r'$T$ [K]')\nfig1.savefig(output_path / \"figure_T_p.png\")\n\nax2.legend(loc=0)\nax2.set_xlabel(r'$z/z_{max}$')\nax2.set_ylabel(r'$u/u_f$')\nfig2.savefig(output_path / \"figure_u_p.png\")\nplt.show()"
      ]
    },
    {
      "cell_type": "code",
      "execution_count": null,
      "metadata": {
        "collapsed": false
      },
      "outputs": [],
      "source": [
        "fig3 = plt.figure()\nfig4 = plt.figure()\nax3 = fig3.add_subplot(1, 1, 1)\nax4 = fig4.add_subplot(1, 1, 1)\nn_selected = range(1, n, 5)\nfor n in n_selected:\n    file_name, entry = names(f\"strain-loop/{n:02d}\")\n    f.restore(file_name, name=entry)\n    a_max = f.strain_rate('max')  # the maximum axial strain rate\n\n    # Plot the temperature profiles for the strain rate loop (selected)\n    ax3.plot(f.grid / f.grid[-1], f.T, label=f\"{a_max:.2e} 1/s\")\n\n    # Plot the axial velocity profiles (normalized by the fuel inlet velocity)\n    # for the strain rate loop (selected)\n    ax4.plot(f.grid / f.grid[-1], f.velocity / f.velocity[0], label=f\"{a_max:.2e} 1/s\")\n\nax3.legend(loc=0)\nax3.set_xlabel(r'$z/z_{max}$')\nax3.set_ylabel(r'$T$ [K]')\nfig3.savefig(output_path / \"figure_T_a.png\")\n\nax4.legend(loc=0)\nax4.set_xlabel(r'$z/z_{max}$')\nax4.set_ylabel(r'$u/u_f$')\nfig4.savefig(output_path / \"figure_u_a.png\")\nplt.show()"
      ]
    }
  ],
  "metadata": {
    "kernelspec": {
      "display_name": "Python 3",
      "language": "python",
      "name": "python3"
    },
    "language_info": {
      "codemirror_mode": {
        "name": "ipython",
        "version": 3
      },
      "file_extension": ".py",
      "mimetype": "text/x-python",
      "name": "python",
      "nbconvert_exporter": "python",
      "pygments_lexer": "ipython3",
      "version": "3.11.11"
    }
  },
  "nbformat": 4,
  "nbformat_minor": 0
}