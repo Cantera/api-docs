{
  "cells": [
    {
      "cell_type": "markdown",
      "metadata": {},
      "source": [
        "\n# Blowers-Masel reaction rates\n\nA simple example to demonstrate the difference between Blowers-Masel\nreaction and elementary reaction.\n\nFirst we show that the forward rate constants of the first 2 different reactions are\ndifferent because of the different rate expression, then we print the forward rate\nconstants for reaction 2 and reaction 3 to show that even two reactions that have the\nsame Blowers-Masel parameters can have different forward rate constants.\n\nThe first plot generated shows how the rate constant changes with respect to temperature\nfor elementary and Blower-Masel reactions. The second plot shows the activation energy\nchange of a Blowers-Masel reaction with respect to the delta enthalpy of the reaction.\n\nRequires: cantera >= 2.6.0, matplotlib >= 2.0\n\n.. tags:: Python, kinetics, sensitivity analysis\n"
      ]
    },
    {
      "cell_type": "code",
      "execution_count": null,
      "metadata": {
        "collapsed": false
      },
      "outputs": [],
      "source": [
        "import cantera as ct\nimport numpy as np\nimport matplotlib.pyplot as plt"
      ]
    },
    {
      "cell_type": "markdown",
      "metadata": {},
      "source": [
        "Create an elementary reaction:\n\n"
      ]
    },
    {
      "cell_type": "code",
      "execution_count": null,
      "metadata": {
        "collapsed": false
      },
      "outputs": [],
      "source": [
        "r1 = ct.Reaction(equation=\"O + H2 <=> H + OH\",\n                 rate=ct.ArrheniusRate(3.87e1, 2.7, 6260*1000*4.184))"
      ]
    },
    {
      "cell_type": "markdown",
      "metadata": {},
      "source": [
        "Create a Blowers-Masel reaction:\n\n"
      ]
    },
    {
      "cell_type": "code",
      "execution_count": null,
      "metadata": {
        "collapsed": false
      },
      "outputs": [],
      "source": [
        "r2 = ct.Reaction(equation=\"O + H2 <=> H + OH\",\n                 rate=ct.BlowersMaselRate(3.87e1, 2.7, 6260*1000*4.184, 1e9))"
      ]
    },
    {
      "cell_type": "markdown",
      "metadata": {},
      "source": [
        "Create a Blowers-Masel reaction with same parameters as ``r2``, but for different\nreactants and products\n\n"
      ]
    },
    {
      "cell_type": "code",
      "execution_count": null,
      "metadata": {
        "collapsed": false
      },
      "outputs": [],
      "source": [
        "r3 = ct.Reaction(equation=\"H + CH4 <=> CH3 + H2\",\n                 rate=ct.BlowersMaselRate(3.87e1, 2.7, 6260*1000*4.184, 1e9))"
      ]
    },
    {
      "cell_type": "markdown",
      "metadata": {},
      "source": [
        "Evaluate these reaction rates as part of a gas mixture\n\n"
      ]
    },
    {
      "cell_type": "code",
      "execution_count": null,
      "metadata": {
        "collapsed": false
      },
      "outputs": [],
      "source": [
        "gas = ct.Solution(thermo='ideal-gas', kinetics='gas',\n                  species=ct.Solution('gri30.yaml').species(), reactions=[r1, r2, r3])\n\ngas.TP = 300, ct.one_atm\n\nr1_rc = gas.forward_rate_constants[0]\nr2_rc = gas.forward_rate_constants[1]\nr3_rc = gas.forward_rate_constants[2]"
      ]
    },
    {
      "cell_type": "markdown",
      "metadata": {},
      "source": [
        "The first two reactions have the same reaction equations with Arrhenius and\nBlowers-Masel rate parameters, respectively. The Blowers-Masel parameters are the same\nas the Arrhenius parameters with an additional value, bond energy. The forward rate\nconstants for these two reactions are different because of the difference in the rate\nexpression:\n\n"
      ]
    },
    {
      "cell_type": "code",
      "execution_count": null,
      "metadata": {
        "collapsed": false
      },
      "outputs": [],
      "source": [
        "print(f\"{r1_rc=:.3f} kmol/m\u00b3/s\")\nprint(f\"{r2_rc=:.3f} kmol/m\u00b3/s\")"
      ]
    },
    {
      "cell_type": "markdown",
      "metadata": {},
      "source": [
        "The rate parameters of second and the third reactions are same, but their reactants\nand products are different. Since the enthalpy of reaction is used in the\nBlowers-Masel rate expression, the rate constants are different:\n\n"
      ]
    },
    {
      "cell_type": "code",
      "execution_count": null,
      "metadata": {
        "collapsed": false
      },
      "outputs": [],
      "source": [
        "print(f\"{r2_rc=:.3f} kmol/m\u00b3/s\")\nprint(f\"{r3_rc=:.3f} kmol/m\u00b3/s\")"
      ]
    },
    {
      "cell_type": "markdown",
      "metadata": {},
      "source": [
        "## Effect of temperature on reaction rates\nCompare the reaction forward rate constant change of Blowers-Masel reaction and\nelementary reaction with respect to the temperature.\n\n"
      ]
    },
    {
      "cell_type": "code",
      "execution_count": null,
      "metadata": {
        "collapsed": false
      },
      "outputs": [],
      "source": [
        "r1_kf = []\nr2_kf = []\nT_range = np.arange(300, 3500, 100)\nfor temp in T_range:\n    gas.TP = temp, ct.one_atm\n    r1_kf.append(gas.forward_rate_constants[0])\n    r2_kf.append(gas.forward_rate_constants[1])\n\nfig, ax = plt.subplots()\nax.plot(T_range, r1_kf, label='Reaction 1 (Elementary)')\nax.plot(T_range, r2_kf, label='Reaction 2 (Blowers-Masel)')\nax.set(xlabel=\"Temperature(K)\", ylabel=r\"Forward Rate Constant (kmol/(m$^3\\cdot$ s))\")\nax.set_title(\"Comparison of $k_f$ vs. Temperature For Reaction 1 and 2\")\nax.legend()\nplt.savefig(\"kf_to_T.png\")\nplt.show()"
      ]
    },
    {
      "cell_type": "markdown",
      "metadata": {},
      "source": [
        "Plot the activation energy change of reaction 2 with respect to the enthalpy change\n\n"
      ]
    },
    {
      "cell_type": "code",
      "execution_count": null,
      "metadata": {
        "collapsed": false
      },
      "outputs": [],
      "source": [
        "# This is the function to change the enthalpy of a species\n# so that the enthalpy change of reactions involving this species can be changed\ndef change_species_enthalpy(gas, species_name, dH):\n    \"\"\"\n    Find the species by name and change it's enthalpy by dH (in J/kmol)\n    \"\"\"\n    index = gas.species_index(species_name)\n\n    species = gas.species(index)\n    # dx is in fact (delta H / R). Note that R in cantera is 8314.462 J/kmol/K\n    dx = dH / ct.gas_constant\n    perturbed_coeffs = species.thermo.coeffs.copy()\n    perturbed_coeffs[6] += dx\n    perturbed_coeffs[13] += dx\n\n    species.thermo = ct.NasaPoly2(species.thermo.min_temp, species.thermo.max_temp,\n                                  species.thermo.reference_pressure, perturbed_coeffs)\n\n    gas.modify_species(index, species)\n    return gas.delta_enthalpy[1]\n\nE0 = gas.reaction(1).rate.activation_energy\nupper_limit_enthalpy = 5 * E0\nlower_limit_enthalpy = -5 * E0\n\nEa_list = []\ndeltaH_list = np.linspace(lower_limit_enthalpy, upper_limit_enthalpy, 100)\nfor deltaH in deltaH_list:\n    delta_enthalpy = change_species_enthalpy(gas, \"H\", deltaH - gas.delta_enthalpy[1])\n    gas.reaction(1).rate.delta_enthalpy = delta_enthalpy\n    Ea_list.append(gas.reaction(1).rate.activation_energy)\n\nfig, ax = plt.subplots()\nax.plot(deltaH_list, Ea_list)\nax.set(xlabel=\"Enthalpy Change (J/kmol)\", ylabel=\"Activation Energy Change (J/kmol)\")\nax.set_title(r\"$E_a$ vs. $\\Delta H$ For $\\mathrm{ O+H_2 \\rightleftharpoons H+OH }$\")\nplt.savefig(\"Ea_to_H.png\")\nplt.show()"
      ]
    }
  ],
  "metadata": {
    "kernelspec": {
      "display_name": "Python 3",
      "language": "python",
      "name": "python3"
    },
    "language_info": {
      "codemirror_mode": {
        "name": "ipython",
        "version": 3
      },
      "file_extension": ".py",
      "mimetype": "text/x-python",
      "name": "python",
      "nbconvert_exporter": "python",
      "pygments_lexer": "ipython3",
      "version": "3.11.11"
    }
  },
  "nbformat": 4,
  "nbformat_minor": 0
}