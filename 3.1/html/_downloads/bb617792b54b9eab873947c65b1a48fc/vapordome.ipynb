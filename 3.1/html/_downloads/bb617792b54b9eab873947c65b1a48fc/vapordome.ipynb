{
  "cells": [
    {
      "cell_type": "markdown",
      "metadata": {},
      "source": [
        "\n# Vapor Dome\n\nThis example generates a saturated steam table and plots the vapor dome. The\nsteam table corresponds to data typically found in thermodynamic text books\nand uses the same customary units.\n\nRequires: Cantera >= 2.5.0, matplotlib >= 2.0, pandas >= 1.1.0, numpy >= 1.12\n\n.. tags:: Python, thermodynamics, non-ideal fluid, plotting\n"
      ]
    },
    {
      "cell_type": "code",
      "execution_count": null,
      "metadata": {
        "collapsed": false
      },
      "outputs": [],
      "source": [
        "import cantera as ct\nimport pandas as pd\nimport numpy as np\nfrom matplotlib import pyplot as plt\n\nw = ct.Water()\n\n# create columns\ncolumns = ['T', 'P',\n           'vf', 'vfg', 'vg',\n           'uf', 'ufg', 'ug',\n           'hf', 'hfg', 'hg',\n           'sf', 'sfg', 'sg']"
      ]
    },
    {
      "cell_type": "markdown",
      "metadata": {},
      "source": [
        "temperatures correspond to Engineering Thermodynamics, Moran et al. (9th ed),\nTable A-2; additional data points are added close to the critical point;\nw.min_temp is equal to the triple point temperature\n\n"
      ]
    },
    {
      "cell_type": "code",
      "execution_count": null,
      "metadata": {
        "collapsed": false
      },
      "outputs": [],
      "source": [
        "degc = np.hstack([np.array([w.min_temp - 273.15, 4, 5, 6, 8]),\n                  np.arange(10, 37), np.array([38]),\n                  np.arange(40, 100, 5), np.arange(100, 300, 10),\n                  np.arange(300, 380, 20), np.arange(370, 374),\n                  np.array([w.critical_temperature - 273.15])])\n\ndf = pd.DataFrame(0, index=np.arange(len(degc)), columns=columns)\ndf.T = degc\n\narr = ct.SolutionArray(w, len(degc))\n\n# saturated vapor data\narr.TQ = degc + 273.15, 1\ndf.P = arr.P_sat / 1.e5\ndf.vg = arr.v\ndf.ug = arr.int_energy_mass / 1.e3\ndf.hg = arr.enthalpy_mass / 1.e3\ndf.sg = arr.entropy_mass / 1.e3\n\n# saturated liquid data\narr.TQ = degc + 273.15, 0\ndf.vf = arr.v\ndf.uf = arr.int_energy_mass / 1.e3\ndf.hf = arr.enthalpy_mass / 1.e3\ndf.sf = arr.entropy_mass / 1.e3\n\n# delta values\ndf.vfg = df.vg - df.vf\ndf.ufg = df.ug - df.uf\ndf.hfg = df.hg - df.hf\ndf.sfg = df.sg - df.sf\n\n# reference state (triple point; liquid state)\nw.TQ = w.min_temp, 0\nuf0 = w.int_energy_mass / 1.e3\nhf0 = w.enthalpy_mass / 1.e3\nsf0 = w.entropy_mass / 1.e3\npv0 = w.P * w.v / 1.e3\n\n# change reference state\ndf.ug -= uf0\ndf.uf -= uf0\ndf.hg -= hf0 - pv0\ndf.hf -= hf0 - pv0\ndf.sg -= sf0\ndf.sf -= sf0"
      ]
    },
    {
      "cell_type": "markdown",
      "metadata": {},
      "source": [
        "print and write saturated steam table to csv file\n\n"
      ]
    },
    {
      "cell_type": "code",
      "execution_count": null,
      "metadata": {
        "collapsed": false
      },
      "outputs": [],
      "source": [
        "print(df)\ndf.to_csv('saturated_steam_T.csv', index=False)"
      ]
    },
    {
      "cell_type": "markdown",
      "metadata": {},
      "source": [
        "illustrate the vapor dome in a P-v diagram\n\n"
      ]
    },
    {
      "cell_type": "code",
      "execution_count": null,
      "metadata": {
        "collapsed": false
      },
      "outputs": [],
      "source": [
        "plt.semilogx(df.vf.values, df.P.values, label='Saturated liquid')\nplt.semilogx(df.vg.values, df.P.values, label='Saturated vapor')\nplt.semilogx(df.vg.values[-1], df.P.values[-1], 'o', label='Critical point')\nplt.xlabel(r'Specific volume - $v$ ($\\mathrm{m^3/kg}$)')\nplt.ylabel(r'Presssure - $P$ (bar)')\nplt.legend();"
      ]
    },
    {
      "cell_type": "markdown",
      "metadata": {},
      "source": [
        "illustrate the vapor dome in a T-s diagram\n\n"
      ]
    },
    {
      "cell_type": "code",
      "execution_count": null,
      "metadata": {
        "collapsed": false
      },
      "outputs": [],
      "source": [
        "plt.figure()\nplt.plot(df.sf.values, df['T'].values, label='Saturated liquid')\nplt.plot(df.sg.values, df['T'].values, label='Saturated vapor')\nplt.plot(df.sg.values[-1], df['T'].values[-1], 'o', label='Critical point')\nplt.xlabel(r'Specific entropy - $s$ ($\\mathrm{kJ/kg-K}$)')\nplt.ylabel(r'Temperature - $T$ (${}^\\circ C$)')\nplt.legend()\n\nplt.show()"
      ]
    }
  ],
  "metadata": {
    "kernelspec": {
      "display_name": "Python 3",
      "language": "python",
      "name": "python3"
    },
    "language_info": {
      "codemirror_mode": {
        "name": "ipython",
        "version": 3
      },
      "file_extension": ".py",
      "mimetype": "text/x-python",
      "name": "python",
      "nbconvert_exporter": "python",
      "pygments_lexer": "ipython3",
      "version": "3.11.11"
    }
  },
  "nbformat": 4,
  "nbformat_minor": 0
}