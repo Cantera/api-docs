{
  "cells": [
    {
      "cell_type": "markdown",
      "metadata": {},
      "source": [
        "\n# Ignition delay time using the Redlich-Kwong real gas model\n\nIn this example we illustrate how to setup and use a constant volume,\nadiabatic reactor to simulate reflected shock tube experiments. This reactor\nis then used to compute the ignition delay of a gas at a specified\ninitial temperature and pressure.\n\nThe example is written in a general way, that is, no particular equation of state (EoS)\nis presumed and ideal and real gas EoS can be used equally easily. The example here\ndemonstrates the calculations carried out by G. Kogekar et al. [1]_.\n\nRequires: cantera >= 2.5.0, matplotlib >= 2.0\n\n.. tags:: Python, combustion, reactor network, non-ideal fluid, ignition delay, plotting\n"
      ]
    },
    {
      "cell_type": "markdown",
      "metadata": {},
      "source": [
        "## Methods\n\n### Reflected Shock Reactor\n\nThe reflected shock tube reactor is modeled as a closed, constant-volume, adiabatic\nreactor. The heat transfer and the work rates are therefore both zero. With no mass\ninlets or exits, the 1st law energy balance reduces to:\n\n\\begin{align}\\frac{dU}{dt} = \\dot{Q} - \\dot{W} = 0\\end{align}\n\nBecause of the constant-mass and constant-volume assumptions, the density is also\ntherefore constant:\n\n\\begin{align}\\frac{d\\rho}{dt} = 0\\end{align}\n\nAlong with the evolving gas composition, the thermodynamic state of the gas is defined\nby the initial total internal energy $U = m u = m \\sum_k Y_k u_k$, where\n$u_k$ and $Y_k$ are the specific internal energy (J/kg) and mass fraction\nof species $k$, respectively.\n\nThe species mass fractions evolve according to the net chemical production rates due\nto homogeneous gas-phase reactions:\n\n\\begin{align}\\frac{dY_k}{dt} = \\frac{W_k}{\\rho}\\dot{\\omega}_k,\\end{align}\n\nwhere $W_k$ is the molecular weight of species $k$ (kg/kmol\u00b3),\n$\\rho$ is the (constant) gas-phase density (kg/m\u00b3), and $\\dot{\\omega}_k$\nis the net production rate of species $k$ (kmol/m\u00b3/s).\n\n### Redlich-Kwong Parameters\n\nRedlich-Kwong constants for each species are calculated according to their critical\ntemperature $T_c$ and pressure $P_c$:\n\n\\begin{align}a = 0.4275 \\frac{R^2 T_c^{2.5}}{P_c}\\end{align}\n\nand\n\n\\begin{align}b = 0.08664 \\frac{R T_c}{P_c}\\end{align}\n\nwhere $R$ is the universal gas constant.\n\nFor stable species, the critical properties are readily available. For radicals and\nother short-lived intermediates, the Joback method [3]_ is used to estimate critical\nproperties.\n\n"
      ]
    },
    {
      "cell_type": "code",
      "execution_count": null,
      "metadata": {
        "collapsed": false
      },
      "outputs": [],
      "source": [
        "# Dependencies: numpy, and matplotlib\nimport numpy as np\nimport matplotlib.pyplot as plt\n\nimport time\n\nimport cantera as ct\nprint('Running Cantera version: ' + ct.__version__)"
      ]
    },
    {
      "cell_type": "markdown",
      "metadata": {},
      "source": [
        "Define the ignition delay time (IDT). This function computes the ignition\ndelay from the occurrence of the peak concentration for the specified species.\n\n"
      ]
    },
    {
      "cell_type": "code",
      "execution_count": null,
      "metadata": {
        "collapsed": false
      },
      "outputs": [],
      "source": [
        "def ignition_delay(states, species):\n    i_ign = states(species).Y.argmax()\n    return states.t[i_ign]"
      ]
    },
    {
      "cell_type": "markdown",
      "metadata": {},
      "source": [
        "## Define initial conditions and reaction mechanism\n\nIn this example we will choose a stoichiometric mixture of n-dodecane and air as the\ngas. For a representative kinetic model, we use the one from Wang et al [2]_.\n\n"
      ]
    },
    {
      "cell_type": "code",
      "execution_count": null,
      "metadata": {
        "collapsed": false
      },
      "outputs": [],
      "source": [
        "# Define the reactor temperature and pressure:\nreactor_temperature = 1000  # Kelvin\nreactor_pressure = 40.0*101325.0  # Pascals\n\n# Load the real gas mechanism:\nreal_gas = ct.Solution('nDodecane_Reitz.yaml', 'nDodecane_RK')\n\n# Create the ideal gas object:\nideal_gas = ct.Solution('nDodecane_Reitz.yaml', 'nDodecane_IG')"
      ]
    },
    {
      "cell_type": "markdown",
      "metadata": {},
      "source": [
        "## Real gas IDT calculation\n\n"
      ]
    },
    {
      "cell_type": "code",
      "execution_count": null,
      "metadata": {
        "collapsed": false
      },
      "outputs": [],
      "source": [
        "# Set the state of the gas object:\nreal_gas.TP = reactor_temperature, reactor_pressure\n\n# Define the fuel, oxidizer and set the stoichiometry:\nreal_gas.set_equivalence_ratio(phi=1.0, fuel='c12h26',\n                               oxidizer={'o2': 1.0, 'n2': 3.76})\n\n# Create a reactor object and add it to a reactor network\n# In this example, this will be the only reactor in the network\nr = ct.Reactor(contents=real_gas)\nreactor_network = ct.ReactorNet([r])\ntime_history_RG = ct.SolutionArray(real_gas, extra=['t'])\n\n# This is a starting estimate. If you do not get an ignition within this time,\n# increase it\nestimated_ignition_delay_time = 0.005\n\nt = 0\nt0 = time.time()\ncounter = 1\nwhile t < estimated_ignition_delay_time:\n    t = reactor_network.step()\n    if counter % 20 == 0:\n        # We will save only every 20th value. Otherwise, this takes too long\n        # Note that the species concentrations are mass fractions\n        time_history_RG.append(r.thermo.state, t=t)\n    counter += 1\n\n# We will use the 'oh' species to compute the ignition delay\ntau_RG = ignition_delay(time_history_RG, 'oh')\n\nt1 = time.time()\nprint(\"Computed Real Gas Ignition Delay: {:.3e} seconds. \"\n      \"Took {:3.2f} s to compute\".format(tau_RG, t1-t0))"
      ]
    },
    {
      "cell_type": "markdown",
      "metadata": {},
      "source": [
        "## Ideal gas IDT calculation\n\n"
      ]
    },
    {
      "cell_type": "code",
      "execution_count": null,
      "metadata": {
        "collapsed": false
      },
      "outputs": [],
      "source": [
        "# Set the state of the gas object:\nideal_gas.TP = reactor_temperature, reactor_pressure\n\n# Define the fuel, oxidizer and set the stoichiometry:\nideal_gas.set_equivalence_ratio(phi=1.0, fuel='c12h26',\n                                oxidizer={'o2': 1.0, 'n2': 3.76})\n\nr = ct.Reactor(contents=ideal_gas)\nreactor_network = ct.ReactorNet([r])\ntime_history_IG = ct.SolutionArray(ideal_gas, extra=['t'])\n\nt0 = time.time()\nt = 0\ncounter = 1\nwhile t < estimated_ignition_delay_time:\n    t = reactor_network.step()\n    if counter % 20 == 0:\n        # We will save only every 20th value. Otherwise, this takes too long\n        # Note that the species concentrations are mass fractions\n        time_history_IG.append(r.thermo.state, t=t)\n    counter += 1\n\n# We will use the 'oh' species to compute the ignition delay\ntau_IG = ignition_delay(time_history_IG, 'oh')\nt1 = time.time()\n\nprint(\"Computed Ideal Gas Ignition Delay: {:.3e} seconds. \"\n      \"Took {:3.2f} s to compute\".format(tau_IG, t1-t0))\nprint('Ideal gas error: {:2.2f} %'.format(100*(tau_IG-tau_RG)/tau_RG))"
      ]
    },
    {
      "cell_type": "markdown",
      "metadata": {},
      "source": [
        "## Plot the results\n\n"
      ]
    },
    {
      "cell_type": "code",
      "execution_count": null,
      "metadata": {
        "collapsed": false
      },
      "outputs": [],
      "source": [
        "plt.rcParams['figure.constrained_layout.use'] = True\n\n# Figure illustrating the definition of ignition delay time (IDT).\nplt.figure()\nplt.plot(time_history_RG.t, time_history_RG('oh').Y)\nplt.plot(time_history_IG.t, time_history_IG('oh').Y, '-.')\nplt.xlabel('Time (s)')\nplt.ylabel(r'OH mass fraction, $\\mathdefault{Y_{OH}}$')\n\n# Figure formatting:\nplt.xlim([0, 0.00055])\nax = plt.gca()\nax.annotate(\"\", xy=(tau_RG, 0.005), xytext=(0, 0.005),\n            arrowprops=dict(arrowstyle=\"<|-|>\", color='k', linewidth=2.0))\nplt.annotate('Ignition Delay Time (IDT)', xy=(0, 0), xytext=(0.00008, 0.00525))\n\nplt.legend(['Real Gas', 'Ideal Gas'])\n\n# If you want to save the plot, uncomment this line (and edit as you see fit):\n# plt.savefig('IDT_nDodecane_1000K_40atm.pdf', dpi=350, format='pdf')"
      ]
    },
    {
      "cell_type": "markdown",
      "metadata": {},
      "source": [
        "## Demonstration of NTC behavior\n\nA common benchmark for a reaction mechanism is its ability to reproduce the negative\ntemperature coefficient (NTC) behavior. Intuitively, as the temperature of an explosive\nmixture increases, it should ignite faster. But, under certain conditions, we observe\nthe opposite. This is referred to as NTC behavior. Reproducing experimentally observed\nNTC behavior is thus an important test for any mechanism. We will do this now by\ncomputing and visualizing the ignition delay for a wide range of temperatures\n\n"
      ]
    },
    {
      "cell_type": "code",
      "execution_count": null,
      "metadata": {
        "collapsed": false
      },
      "outputs": [],
      "source": [
        "# Make a list of all the temperatures at which we would like to run simulations:\nT = np.array([1250, 1170, 1120, 1080, 1040, 1010, 990, 970, 950, 930, 910, 880, 850,\n              820, 790, 760])\n\n# If we desire, we can define different IDT starting guesses for each temperature:\nestimated_ignition_delay_times = np.ones(len(T))\n# But we won't, at least in this example :)\nestimated_ignition_delay_times[:] = 0.005\n\n# Now, we simply run the code above for each temperature.\n# Real Gas\nignition_delays_RG = np.zeros(len(T))\nfor i, temperature in enumerate(T):\n    # Setup the gas and reactor\n    reactor_temperature = temperature\n    real_gas.TP = reactor_temperature, reactor_pressure\n    real_gas.set_equivalence_ratio(phi=1.0, fuel='c12h26',\n                                   oxidizer={'o2': 1.0, 'n2': 3.76})\n    r = ct.Reactor(contents=real_gas)\n    reactor_network = ct.ReactorNet([r])\n\n    # create an array of solution states\n    time_history = ct.SolutionArray(real_gas, extra=['t'])\n\n    t0 = time.time()\n    t = 0\n    counter = 1\n    while t < estimated_ignition_delay_times[i]:\n        t = reactor_network.step()\n        if counter % 20 == 0:\n            time_history.append(r.thermo.state, t=t)\n        counter += 1\n\n    tau = ignition_delay(time_history, 'oh')\n    t1 = time.time()\n\n    print(\"Computed Real Gas Ignition Delay: {:.3e} seconds for T={:.1f} K. \"\n          \"Took {:3.2f} s to compute\".format(tau, temperature, t1-t0))\n\n    ignition_delays_RG[i] = tau\n\n\n# Repeat for Ideal Gas\nignition_delays_IG = np.zeros(len(T))\nfor i, temperature in enumerate(T):\n    # Setup the gas and reactor\n    reactor_temperature = temperature\n    ideal_gas.TP = reactor_temperature, reactor_pressure\n    ideal_gas.set_equivalence_ratio(phi=1.0, fuel='c12h26',\n                                    oxidizer={'o2': 1.0, 'n2': 3.76})\n    r = ct.Reactor(contents=ideal_gas)\n    reactor_network = ct.ReactorNet([r])\n\n    # create an array of solution states\n    time_history = ct.SolutionArray(ideal_gas, extra=['t'])\n\n    t0 = time.time()\n\n    t = 0\n    counter = 1\n    while t < estimated_ignition_delay_times[i]:\n        t = reactor_network.step()\n        if counter % 20 == 0:\n            time_history.append(r.thermo.state, t=t)\n        counter += 1\n\n    tau = ignition_delay(time_history, 'oh')\n    t1 = time.time()\n\n    print(\"Computed Ideal Gas Ignition Delay: {:.3e} seconds for T={:.1f} K. \"\n          \"Took {:3.2f} s to compute\".format(tau, temperature, t1-t0))\n\n    ignition_delays_IG[i] = tau"
      ]
    },
    {
      "cell_type": "code",
      "execution_count": null,
      "metadata": {
        "collapsed": false
      },
      "outputs": [],
      "source": [
        "# Figure: ignition delay (tau) vs. the inverse of temperature (1000/T).\nfig, ax = plt.subplots()\nax.plot(1000/T, 1e6*ignition_delays_RG, '.-', linewidth=2.0)\nax.plot(1000/T, 1e6*ignition_delays_IG, '-.', linewidth=2.0)\nax.set_ylabel(r'Ignition Delay (\u03bcs)')\nax.set_xlabel(r'1000/T (K$^{-1}$)')\n\nax.set_xlim([0.8, 1.3])\n\n# Add a second axis on top to plot the temperature for better readability\nax2 = ax.twiny()\nticks = ax.get_xticks()\nax2.set_xticks(ticks)\nax2.set_xticklabels((1000/ticks).round(1))\nax2.set_xlim(ax.get_xlim())\nax2.set_xlabel('Temperature (K)')\n\nax.legend(['Real Gas', 'Ideal Gas'], loc='upper left')\n\n# If you want to save the plot, uncomment this line (and edit as you see fit):\n# plt.savefig('NTC_nDodecane_40atm.pdf', dpi=350, format='pdf')\n\n# Show the plots.\nplt.show()"
      ]
    },
    {
      "cell_type": "markdown",
      "metadata": {},
      "source": [
        "## References\n\n.. [1] G. Kogekar, C. Karakaya, G. J. Liskovich, M. A. Oehlschlaeger, S. C. DeCaluwe,\n       R. J. Kee (2018). \"Impact of non-ideal behavior on ignition delay and chemical\n       kinetics in high-pressure shock tube reactors,\" *Combust. Flame.* 189 1-11,\n       https://doi.org/10.1016/j.combustflame.2017.10.014\n\n.. [2] H. Wang, Y. Ra,  M. Jia, R. Reitz (2014). \"Development of a reduced\n       n-dodecane-PAH mechanism and its application for n-dodecane soot predictions\",\n       *Fuel* 136, 25\u201336. https://doi.org/10.1016/j.fuel.2014.07.028.\n\n.. [3] K. G. Joback and R. C. Reid (1987). \"Estimation of pure-component properties\n       from group-contributions,\" *Chem. Eng. Comm.* 57, 233-243,\n       https://doi.org/10.1080/00986448708960487.\n\n"
      ]
    }
  ],
  "metadata": {
    "kernelspec": {
      "display_name": "Python 3",
      "language": "python",
      "name": "python3"
    },
    "language_info": {
      "codemirror_mode": {
        "name": "ipython",
        "version": 3
      },
      "file_extension": ".py",
      "mimetype": "text/x-python",
      "name": "python",
      "nbconvert_exporter": "python",
      "pygments_lexer": "ipython3",
      "version": "3.11.11"
    }
  },
  "nbformat": 4,
  "nbformat_minor": 0
}