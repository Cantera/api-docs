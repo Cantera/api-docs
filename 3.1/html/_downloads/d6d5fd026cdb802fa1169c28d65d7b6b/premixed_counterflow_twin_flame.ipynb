{
  "cells": [
    {
      "cell_type": "markdown",
      "metadata": {},
      "source": [
        "\n# Symmetric premixed twin flame\n\nSimulate two counter-flow jets of premixed reactants shooting into each other. This\nsimulation differs from the similar :doc:`premixed_counterflow_flame.py\n<premixed_counterflow_flame>` example as the latter simulates a jet of reactants\nshooting into products.\n\nRequires: cantera >= 3.0, matplotlib >= 2.0\n\n.. tags:: Python, combustion, 1D flow, premixed flame, strained flame, plotting\n\nAn illustration of this configuration is shown in the figure below:\n\n<img src=\"file://_static/images/samples/twin-premixed-flame.svg\" width=\"90%\" alt=\"Twin flame established by two opposed jets of fuel + oxidizer mixtures\" align=\"center\">\n"
      ]
    },
    {
      "cell_type": "code",
      "execution_count": null,
      "metadata": {
        "collapsed": false
      },
      "outputs": [],
      "source": [
        "import sys\nfrom pathlib import Path\nimport numpy as np\nimport cantera as ct\n\n\n# Differentiation function for data that has variable grid spacing Used here to\n# compute normal strain-rate\ndef derivative(x, y):\n    dydx = np.zeros(y.shape, y.dtype.type)\n\n    dx = np.diff(x)\n    dy = np.diff(y)\n    dydx[0:-1] = dy/dx\n\n    dydx[-1] = (y[-1] - y[-2])/(x[-1] - x[-2])\n\n    return dydx\n\n\ndef compute_strain_rates(opposed_flame):\n    # Compute the derivative of axial velocity to obtain normal strain rate\n    strain_rates = derivative(opposed_flame.grid, opposed_flame.velocity)\n\n    # Obtain the location of the max. strain rate upstream of the pre-heat zone.\n    # This is the characteristic strain rate\n    max_strain_location = abs(strain_rates).argmax()\n    min_velocity_point = opposed_flame.velocity[:max_strain_location].argmin()\n\n    # Characteristic Strain Rate = K\n    strain_rate_point = abs(strain_rates[:min_velocity_point]).argmax()\n    K = abs(strain_rates[strain_rate_point])\n\n    return strain_rates, strain_rate_point, K\n\n\ndef compute_consumption_speed(opposed_flame):\n    Tb = max(opposed_flame.T)\n    Tu = min(opposed_flame.T)\n    rho_u = max(opposed_flame.density)\n\n    integrand = opposed_flame.heat_release_rate / opposed_flame.cp\n\n    total_heat_release = np.trapz(integrand, opposed_flame.grid)\n    Sc = total_heat_release / (Tb - Tu) / rho_u\n\n    return Sc\n\n\n# This function is called to run the solver\ndef solve_opposed_flame(opposed_flame, mass_flux=0.12, loglevel=1,\n                        ratio=2, slope=0.3, curve=0.3, prune=0.05):\n    \"\"\"\n    Execute this function to run the Opposed Flow Simulation. This function\n    takes a CounterFlowTwinPremixedFlame object as the first argument\n    \"\"\"\n\n    opposed_flame.reactants.mdot = mass_flux\n    opposed_flame.set_refine_criteria(ratio=ratio, slope=slope,\n                                      curve=curve, prune=prune)\n\n    opposed_flame.show()\n    opposed_flame.solve(loglevel, auto=True)\n\n    # Compute the strain rate, just before the flame. This is not necessarily\n    # the maximum We use the max. strain rate just upstream of the pre-heat zone\n    # as this is the strain rate that computations compare against, like when\n    # plotting Su vs. K\n    strain_rates, strain_rate_point, K = compute_strain_rates(opposed_flame)\n\n    return np.max(opposed_flame.T), K, strain_rate_point"
      ]
    },
    {
      "cell_type": "markdown",
      "metadata": {},
      "source": [
        "## Define parameters\n\n"
      ]
    },
    {
      "cell_type": "code",
      "execution_count": null,
      "metadata": {
        "collapsed": false
      },
      "outputs": [],
      "source": [
        "# Select the reaction mechanism\ngas = ct.Solution('gri30.yaml')\n\n# Create a CH4/Air premixed mixture with equivalence ratio=0.75, and at room\n# temperature and pressure.\ngas.set_equivalence_ratio(0.75, 'CH4', {'O2': 1.0, 'N2': 3.76})\ngas.TP = 300, ct.one_atm\n\n# Set the velocity\naxial_velocity = 2.0  # in m/s\n\n# Domain half-width of 2.5 cm, meaning the whole domain is 5 cm wide\nwidth = 0.025"
      ]
    },
    {
      "cell_type": "markdown",
      "metadata": {},
      "source": [
        "## Set up the simulation\n\n"
      ]
    },
    {
      "cell_type": "code",
      "execution_count": null,
      "metadata": {
        "collapsed": false
      },
      "outputs": [],
      "source": [
        "# Compute the mass flux, as this is what the Flame object requires\nmass_flux = gas.density * axial_velocity  # units kg/m2/s\n\n# Create the flame object\nopposed_flame = ct.CounterflowTwinPremixedFlame(gas, width=width)\n\n# Uncomment the following line to use a Multi-component formulation. Default is\n# mixture-averaged\n# opposed_flame.transport_model = 'multicomponent'"
      ]
    },
    {
      "cell_type": "markdown",
      "metadata": {},
      "source": [
        "## Run the solver\n\nThe solver returns the peak temperature, strain rate and the point which we ascribe to\nthe characteristic strain rate.\n\n"
      ]
    },
    {
      "cell_type": "code",
      "execution_count": null,
      "metadata": {
        "collapsed": false
      },
      "outputs": [],
      "source": [
        "T, K, strain_rate_point = solve_opposed_flame(opposed_flame, mass_flux, loglevel=1)"
      ]
    },
    {
      "cell_type": "markdown",
      "metadata": {},
      "source": [
        "## Compute flame properties\n\nYou can plot/see all state space variables by calling `opposed_flame.foo`, where\n`foo` is `T`, `Y[i]`, and so forth. The spatial variable (distance in meters) is in\n`opposed_flame.grid`. Thus to plot temperature vs distance, use `opposed_flame.grid``\nand `opposed_flame.T`.\n\n"
      ]
    },
    {
      "cell_type": "code",
      "execution_count": null,
      "metadata": {
        "collapsed": false
      },
      "outputs": [],
      "source": [
        "Sc = compute_consumption_speed(opposed_flame)\n\nif \"native\" in ct.hdf_support():\n    output = Path() / \"premixed_counterflow_twin_flame.h5\"\nelse:\n    output = Path() / \"premixed_counterflow_twin_flame.yaml\"\noutput.unlink(missing_ok=True)\n\nopposed_flame.save(output, name=\"mix\")\n\nprint(f\"Peak temperature: {T:.1f} K\")\nprint(f\"Strain Rate: {K:.1f} 1/s\")\nprint(f\"Consumption Speed: {Sc * 100:.2f} cm/s\")\nopposed_flame.save(\"premixed_counterflow_twin_flame.csv\", basis=\"mole\", overwrite=True)"
      ]
    },
    {
      "cell_type": "markdown",
      "metadata": {},
      "source": [
        "## Plot results\n\nGenerate plots to see results, if desired.\n\n"
      ]
    },
    {
      "cell_type": "code",
      "execution_count": null,
      "metadata": {
        "collapsed": false
      },
      "outputs": [],
      "source": [
        "if '--plot' in sys.argv:\n\n    import matplotlib.pyplot as plt\n\n    plt.figure(figsize=(8, 6), facecolor='white')\n\n    # Axial Velocity Plot\n    plt.subplot(1, 2, 1)\n    plt.plot(opposed_flame.grid, opposed_flame.velocity, 'r', lw=2)\n    plt.xlim(opposed_flame.grid[0], opposed_flame.grid[-1])\n    plt.xlabel('Distance (m)')\n    plt.ylabel('Axial Velocity (m/s)')\n\n    # Identify the point where the strain rate is calculated\n    plt.plot(opposed_flame.grid[strain_rate_point],\n             opposed_flame.velocity[strain_rate_point], 'gs')\n    plt.annotate('Strain-Rate point',\n                 xy=(opposed_flame.grid[strain_rate_point],\n                     opposed_flame.velocity[strain_rate_point]),\n                 xytext=(0.001, 0.1),\n                 arrowprops={'arrowstyle': '->'})\n\n    # Temperature Plot\n    plt.subplot(1, 2, 2)\n    plt.plot(opposed_flame.grid, opposed_flame.T, 'b', lw=2)\n    plt.xlim(opposed_flame.grid[0], opposed_flame.grid[-1])\n    plt.xlabel('Distance (m)')\n    plt.ylabel('Temperature (K)')\n\n    plt.tight_layout()\n    plt.show()\n\nelse:\n    print('************')\n    print('Plotting option not enabled. Re-run script with --plot to see key plots.')\n    print('************')"
      ]
    }
  ],
  "metadata": {
    "kernelspec": {
      "display_name": "Python 3",
      "language": "python",
      "name": "python3"
    },
    "language_info": {
      "codemirror_mode": {
        "name": "ipython",
        "version": 3
      },
      "file_extension": ".py",
      "mimetype": "text/x-python",
      "name": "python",
      "nbconvert_exporter": "python",
      "pygments_lexer": "ipython3",
      "version": "3.11.11"
    }
  },
  "nbformat": 4,
  "nbformat_minor": 0
}