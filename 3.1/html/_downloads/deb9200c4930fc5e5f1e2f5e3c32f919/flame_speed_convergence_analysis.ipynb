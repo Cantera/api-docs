{
  "cells": [
    {
      "cell_type": "markdown",
      "metadata": {},
      "source": [
        "\n# Flame Speed with Convergence Analysis\n\nRequires: cantera >= 3.0.0, matplotlib >= 2.0, pandas\n\nIn this example we simulate a freely-propagating, adiabatic, 1-D flame and\n\n* Calculate its laminar burning velocity\n* Estimate the uncertainty in the laminar burning velocity calculation due to grid size.\n\n.. tags:: Python, combustion, 1D flow, flame speed, premixed flame, plotting\n\nThe figure below illustrates the setup, in a flame-fixed co-ordinate system. The\nreactants enter with density $\\rho_u$, temperature $T_u$ and speed\n$S_u$. The products exit the flame at speed $S_b$, density $\\rho_b$,\nand temperature $T_b$.\n\n<img src=\"file://_static/images/samples/flame-speed.svg\" width=\"50%\" alt=\"Freely Propagating Flame\" align=\"center\">\n"
      ]
    },
    {
      "cell_type": "markdown",
      "metadata": {},
      "source": [
        "## Import Modules\n\n"
      ]
    },
    {
      "cell_type": "code",
      "execution_count": null,
      "metadata": {
        "collapsed": false
      },
      "outputs": [],
      "source": [
        "import cantera as ct\nimport numpy as np\nimport pandas as pd\nfrom matplotlib import pyplot as plt\nimport matplotlib\nimport scipy\nimport scipy.optimize"
      ]
    },
    {
      "cell_type": "markdown",
      "metadata": {},
      "source": [
        "## Define plotting preference\n\n"
      ]
    },
    {
      "cell_type": "code",
      "execution_count": null,
      "metadata": {
        "collapsed": false
      },
      "outputs": [],
      "source": [
        "plt.style.use(\"ggplot\")\nplt.style.use(\"seaborn-v0_8-deep\")\nplt.rcParams[\"figure.constrained_layout.use\"] = True"
      ]
    },
    {
      "cell_type": "markdown",
      "metadata": {},
      "source": [
        "## Estimate uncertainty from grid size and speeds\n\n"
      ]
    },
    {
      "cell_type": "code",
      "execution_count": null,
      "metadata": {
        "collapsed": false
      },
      "outputs": [],
      "source": [
        "def extrapolate_uncertainty(grids, speeds, plot=True):\n    \"\"\"\n    Given a list of grid sizes and a corresponding list of flame speeds,\n    extrapolate and estimate the uncertainty in the final flame speed.\n    Also makes a plot, unless called with `plot=False`.\n    \"\"\"\n    grids = list(grids)\n    speeds = list(speeds)\n\n    def speed_from_grid_size(grid_size, true_speed, error):\n        \"\"\"\n        Given a grid size (or an array or list of grid sizes)\n        return a prediction (or array of predictions)\n        of the computed flame speed, based on\n        the parameters `true_speed` and `error`.\n\n        It seems, from experience, that error scales roughly with\n        1/grid_size, so we assume that form.\n        \"\"\"\n        return true_speed + error / np.array(grid_size)\n\n    # Fit the chosen form of speed_from_grid_size, to the last four\n    # speed and grid size values.\n    popt, pcov = scipy.optimize.curve_fit(speed_from_grid_size, grids[-4:], speeds[-4:])\n\n    # How bad the fit was gives you some error, `percent_error_in_true_speed`.\n    perr = np.sqrt(np.diag(pcov))\n    true_speed_estimate = popt[0]\n    percent_error_in_true_speed = perr[0] / popt[0]\n    print(\n        f\"Fitted true_speed is {popt[0] * 100:.4f} \u00b1 {perr[0] * 100:.4f} cm/s \"\n        f\"({percent_error_in_true_speed:.1%})\"\n    )\n\n    # How far your extrapolated infinite grid value is from your extrapolated\n    # (or interpolated) final grid value, gives you some other error, `estimated_percent_error`\n    estimated_percent_error = (\n        speed_from_grid_size(grids[-1], *popt) - true_speed_estimate\n    ) / true_speed_estimate\n    print(f\"Estimated error in final calculation {estimated_percent_error:.1%}\")\n\n    # The total estimated error is the sum of these two errors.\n    total_percent_error_estimate = abs(percent_error_in_true_speed) + abs(\n        estimated_percent_error\n    )\n    print(f\"Estimated total error {total_percent_error_estimate:.1%}\")\n\n    if plot:\n        fig, ax = plt.subplots()\n        ax.semilogx(grids, speeds, \"o-\")\n        ax.set_ylim(\n            min(speeds[-5:] + [true_speed_estimate - perr[0]]) * 0.95,\n            max(speeds[-5:] + [true_speed_estimate + perr[0]]) * 1.05,\n        )\n        ax.plot(grids[-4:], speeds[-4:], \"or\")\n        extrapolated_grids = grids + [grids[-1] * i for i in range(2, 8)]\n        ax.plot(\n            extrapolated_grids, speed_from_grid_size(extrapolated_grids, *popt), \":r\"\n        )\n        ax.set_xlim(*ax.get_xlim())  # Prevent automatic expansion of axis limits\n        ax.hlines(true_speed_estimate, *ax.get_xlim(), colors=\"r\", linestyles=\"dashed\")\n        ax.hlines(\n            true_speed_estimate + perr[0],\n            *ax.get_xlim(),\n            colors=\"r\",\n            linestyles=\"dashed\",\n            alpha=0.3,\n        )\n        ax.hlines(\n            true_speed_estimate - perr[0],\n            *ax.get_xlim(),\n            colors=\"r\",\n            linestyles=\"dashed\",\n            alpha=0.3,\n        )\n        ax.fill_between(\n            ax.get_xlim(),\n            true_speed_estimate - perr[0],\n            true_speed_estimate + perr[0],\n            facecolor=\"red\",\n            alpha=0.1,\n        )\n\n        above = popt[1] / abs(\n            popt[1]\n        )  # will be +1 if approach from above or -1 if approach from below\n\n        ax.annotate(\n            \"\",\n            xy=(grids[-1], true_speed_estimate),\n            xycoords=\"data\",\n            xytext=(grids[-1], speed_from_grid_size(grids[-1], *popt)),\n            textcoords=\"data\",\n            arrowprops=dict(\n                arrowstyle=\"|-|, widthA=0.5, widthB=0.5\",\n                linewidth=1,\n                connectionstyle=\"arc3\",\n                color=\"black\",\n                shrinkA=0,\n                shrinkB=0,\n            ),\n        )\n\n        ax.annotate(\n            f\"{abs(estimated_percent_error):.1%}\",\n            xy=(grids[-1], speed_from_grid_size(grids[-1], *popt)),\n            xycoords=\"data\",\n            xytext=(5, 15 * above),\n            va=\"center\",\n            textcoords=\"offset points\",\n            arrowprops=dict(arrowstyle=\"->\", connectionstyle=\"arc3\"),\n        )\n\n        ax.annotate(\n            \"\",\n            xy=(grids[-1] * 4, true_speed_estimate - (above * perr[0])),\n            xycoords=\"data\",\n            xytext=(grids[-1] * 4, true_speed_estimate),\n            textcoords=\"data\",\n            arrowprops=dict(\n                arrowstyle=\"|-|, widthA=0.5, widthB=0.5\",\n                linewidth=1,\n                connectionstyle=\"arc3\",\n                color=\"black\",\n                shrinkA=0,\n                shrinkB=0,\n            ),\n        )\n        ax.annotate(\n            f\"{abs(percent_error_in_true_speed):.1%}\",\n            xy=(grids[-1] * 4, true_speed_estimate - (above * perr[0])),\n            xycoords=\"data\",\n            xytext=(5, -15 * above),\n            va=\"center\",\n            textcoords=\"offset points\",\n            arrowprops=dict(arrowstyle=\"->\", connectionstyle=\"arc3\"),\n        )\n\n        ax.set(xlabel=\"Grid size\", ylabel=\"Flame speed (m/s)\")\n\n    return true_speed_estimate, total_percent_error_estimate"
      ]
    },
    {
      "cell_type": "code",
      "execution_count": null,
      "metadata": {
        "collapsed": false
      },
      "outputs": [],
      "source": [
        "def make_callback(flame):\n    \"\"\"\n    Create and return a callback function that you will attach to\n    a flame solver. The reason we define a function to make the callback function,\n    instead of just defining the callback function, is so that it can store\n    a pair of lists that persist between function calls, to store the\n    values of grid size and flame speed.\n\n    This factory returns the callback function, and the two lists:\n    (callback, speeds, grids)\n    \"\"\"\n    speeds = []\n    grids = []\n\n    def callback(_):\n        speed = flame.velocity[0]\n        grid = len(flame.grid)\n        speeds.append(speed)\n        grids.append(grid)\n        print(f\"Iteration {len(grids)}\")\n        print(f\"Current flame speed is is {speed * 100:.4f} cm/s\")\n        if len(grids) < 5:\n            return 1.0  #\n        try:\n            extrapolate_uncertainty(grids, speeds)\n        except Exception as e:\n            print(\"Couldn't estimate uncertainty. \" + str(e))\n            return 1.0  # continue anyway\n        return 1.0\n\n    return callback, speeds, grids"
      ]
    },
    {
      "cell_type": "markdown",
      "metadata": {},
      "source": [
        "### Define the reactant conditions, gas mixture and kinetic mechanism associated with the gas\n\n"
      ]
    },
    {
      "cell_type": "code",
      "execution_count": null,
      "metadata": {
        "collapsed": false
      },
      "outputs": [],
      "source": [
        "# Inlet Temperature in Kelvin and Inlet Pressure in Pascals\n# In this case we are setting the inlet T and P to room temperature conditions\nTo = 300\nPo = 101325\n\n# Define the gas mixture and kinetics\n# In this case, we are choosing a GRI3.0 gas\ngas = ct.Solution(\"gri30.yaml\")\n\n# Create a stoichiometric CH4/Air premixed mixture\ngas.set_equivalence_ratio(1.0, \"CH4\", {\"O2\": 1.0, \"N2\": 3.76})\ngas.TP = To, Po"
      ]
    },
    {
      "cell_type": "markdown",
      "metadata": {},
      "source": [
        "### Define flame simulation conditions\n\n"
      ]
    },
    {
      "cell_type": "code",
      "execution_count": null,
      "metadata": {
        "collapsed": false
      },
      "outputs": [],
      "source": [
        "# Domain width in metres\nwidth = 0.014\n\n# Create the flame object\nflame = ct.FreeFlame(gas, width=width)\n\n# Define logging level\nloglevel = 1\n\n# Define tight tolerances for the solver\nrefine_criteria = {\"ratio\": 2, \"slope\": 0.01, \"curve\": 0.01}\nflame.set_refine_criteria(**refine_criteria)\n\n# Set maximum number of grid points to be very high (otherwise default is 1000)\nflame.set_max_grid_points(flame.domains[flame.domain_index(\"flame\")], 1e4)\n\n# Set up the the callback function and lists of speeds and grids\ncallback, speeds, grids = make_callback(flame)\nflame.set_steady_callback(callback)"
      ]
    },
    {
      "cell_type": "markdown",
      "metadata": {},
      "source": [
        "### Solve\n\nAfter the first five iterations, it will start to estimate the uncertainty.\n\n"
      ]
    },
    {
      "cell_type": "code",
      "execution_count": null,
      "metadata": {
        "collapsed": false
      },
      "outputs": [],
      "source": [
        "flame.solve(loglevel=loglevel, auto=True)\n\nSu0 = flame.velocity[0]\nprint(f\"Flame Speed is: {Su0 * 100:.2f} cm/s\")"
      ]
    },
    {
      "cell_type": "markdown",
      "metadata": {},
      "source": [
        "Use the final lists of grid sizes and flame speeds to make one final extrapolation\n\"best guess\"\n\n"
      ]
    },
    {
      "cell_type": "code",
      "execution_count": null,
      "metadata": {
        "collapsed": false
      },
      "outputs": [],
      "source": [
        "best_true_speed_estimate, best_total_percent_error_estimate = extrapolate_uncertainty(\n    grids, speeds\n)\n\nbest_true_speed_estimate"
      ]
    },
    {
      "cell_type": "markdown",
      "metadata": {},
      "source": [
        "## Analyze the error predictions\n\nNow let's see how good our error estimates were, with hindsight.\n\nIf we assume that the final answer, with a very fine grid, has actually converged and\nis is the \"truth\", then we can find out how large the errors were in the previous\nvalues, and compare these with our estimated errors. This will show if our estimates\nare reasonable, or conservative, or too optimistic.\n\n"
      ]
    },
    {
      "cell_type": "code",
      "execution_count": null,
      "metadata": {
        "collapsed": false
      },
      "outputs": [],
      "source": [
        "def analyze_errors(grids, speeds, true_speed):\n    \"\"\"\n    If we assume that the final answer, with a very fine grid,\n    has actually converged and is is the \"truth\", then we can\n    find out how large the errors were in the previous values,\n    and compare these with our estimated errors.\n    This will show if our estimates are reasonable, or conservative, or too optimistic.\n    \"\"\"\n    true_speed_estimates = np.full_like(speeds, np.nan)\n    total_percent_error_estimates = np.full_like(speeds, np.nan)\n    actual_extrapolated_percent_errors = np.full_like(speeds, np.nan)\n    actual_raw_percent_errors = np.full_like(speeds, np.nan)\n    for i in range(3, len(grids)):\n        print(grids[: i + 1])\n        true_speed_estimate, total_percent_error_estimate = extrapolate_uncertainty(\n            grids[: i + 1], speeds[: i + 1], plot=False\n        )\n        actual_extrapolated_percent_error = (\n            abs(true_speed_estimate - true_speed) / true_speed\n        )\n        actual_raw_percent_error = abs(speeds[i] - true_speed) / true_speed\n        print(\n            \"Actual extrapolated error (with hindsight) \"\n            f\"{actual_extrapolated_percent_error:.1%}\"\n        )\n        print(f\"Actual raw error (with hindsight) {actual_raw_percent_error:.1%}\")\n\n        true_speed_estimates[i] = true_speed_estimate\n        total_percent_error_estimates[i] = total_percent_error_estimate\n        actual_extrapolated_percent_errors[i] = actual_extrapolated_percent_error\n        actual_raw_percent_errors[i] = actual_raw_percent_error\n        print()\n\n    fig, ax = plt.subplots()\n    ax.loglog(grids, actual_raw_percent_errors * 100, \"o-\", label=\"raw error\")\n    ax.loglog(\n        grids,\n        actual_extrapolated_percent_errors * 100,\n        \"o-\",\n        label=\"extrapolated error\",\n    )\n    ax.loglog(\n        grids, total_percent_error_estimates * 100, \"o-\", label=\"estimated error\"\n    )\n    ax.set(xlabel=\"Grid size\", ylabel=\"Error in flame speed (%)\")\n    ax.legend()\n    ax.set_title(flame.get_refine_criteria())\n    ax.get_yaxis().set_major_formatter(matplotlib.ticker.PercentFormatter())\n    flame.get_refine_criteria()\n\n    data = pd.DataFrame(\n        data={\n            \"actual error in raw value\": actual_raw_percent_errors * 100,\n            \"actual error in extrapolated value\": actual_extrapolated_percent_errors\n            * 100,\n            \"estimated error\": total_percent_error_estimates * 100,\n        },\n        index=grids,\n    )\n    return data\n\n\nanalyze_errors(grids, speeds, best_true_speed_estimate)"
      ]
    },
    {
      "cell_type": "markdown",
      "metadata": {},
      "source": [
        "## Repeat with less tight refine criteria\n\n"
      ]
    },
    {
      "cell_type": "code",
      "execution_count": null,
      "metadata": {
        "collapsed": false
      },
      "outputs": [],
      "source": [
        "refine_criteria = {\"ratio\": 3, \"slope\": 0.1, \"curve\": 0.1}\n\n# Reset the gas\ngas.set_equivalence_ratio(1.0, \"CH4\", {\"O2\": 1.0, \"N2\": 3.76})\ngas.TP = To, Po\n\n# Create a new flame object\nflame = ct.FreeFlame(gas, width=width)\n\nflame.set_refine_criteria(**refine_criteria)\nflame.set_max_grid_points(flame.domains[flame.domain_index(\"flame\")], 1e4)\n\ncallback, speeds, grids = make_callback(flame)\nflame.set_steady_callback(callback)\n\n# Define logging level\nloglevel = 1\n\nflame.solve(loglevel=loglevel, auto=True)\n\nSu0 = flame.velocity[0]\nprint(f\"Flame Speed is: {Su0 * 100:.2f} cm/s\")\n\n# Use the best true speed estimate from the fine grid tight criteria above\nanalyze_errors(grids, speeds, best_true_speed_estimate)"
      ]
    },
    {
      "cell_type": "markdown",
      "metadata": {},
      "source": [
        "## Default (loose) criteria\n\n"
      ]
    },
    {
      "cell_type": "code",
      "execution_count": null,
      "metadata": {
        "collapsed": false
      },
      "outputs": [],
      "source": [
        "flame = ct.FreeFlame(gas, width=width)\nrefine_criteria = flame.get_refine_criteria()\nrefine_criteria.update({\"prune\": 0})\nrefine_criteria\n\ngas.set_equivalence_ratio(1.0, \"CH4\", {\"O2\": 1.0, \"N2\": 3.76})\ngas.TP = To, Po\n\n# Create a new flame object\nflame = ct.FreeFlame(gas, width=width)\n\nflame.set_refine_criteria(**refine_criteria)\nflame.set_max_grid_points(flame.domains[flame.domain_index(\"flame\")], 1e4)\n\ncallback, speeds, grids = make_callback(flame)\nflame.set_steady_callback(callback)\n\n# Define logging level\nloglevel = 1\n\nflame.solve(loglevel=loglevel, auto=True)\n\nSu0 = flame.velocity[0]\nprint(f\"Flame Speed is: {Su0 * 100:.2f} cm/s\")\n\nanalyze_errors(grids, speeds, best_true_speed_estimate)"
      ]
    },
    {
      "cell_type": "markdown",
      "metadata": {},
      "source": [
        "## Middling refine criteria\n\n"
      ]
    },
    {
      "cell_type": "code",
      "execution_count": null,
      "metadata": {
        "collapsed": false
      },
      "outputs": [],
      "source": [
        "refine_criteria = {\"ratio\": 3, \"slope\": 0.1, \"curve\": 0.1}\n\n# Reset the gas\ngas.set_equivalence_ratio(1.0, \"CH4\", {\"O2\": 1.0, \"N2\": 3.76})\ngas.TP = To, Po\n\n# Create a new flame object\nflame = ct.FreeFlame(gas, width=width)\n\nflame.set_refine_criteria(**refine_criteria)\nflame.set_max_grid_points(flame.domains[flame.domain_index(\"flame\")], 1e4)\n\ncallback, speeds, grids = make_callback(flame)\nflame.set_steady_callback(callback)\n\n# Define logging level\nloglevel = 1\n\nflame.solve(loglevel=loglevel, auto=True)\n\nSu0 = flame.velocity[0]\nprint(f\"Flame Speed is: {Su0 * 100:.2f} cm/s\")"
      ]
    },
    {
      "cell_type": "code",
      "execution_count": null,
      "metadata": {
        "collapsed": false
      },
      "outputs": [],
      "source": [
        "analyze_errors(grids, speeds, best_true_speed_estimate)"
      ]
    },
    {
      "cell_type": "markdown",
      "metadata": {},
      "source": [
        "## Try a Hydrogen flame (still with GRI mech)\n\n"
      ]
    },
    {
      "cell_type": "code",
      "execution_count": null,
      "metadata": {
        "collapsed": false
      },
      "outputs": [],
      "source": [
        "# Tight criteria\nrefine_criteria = {\"ratio\": 2, \"slope\": 0.01, \"curve\": 0.01}\n\n# Reset the gas\ngas.set_equivalence_ratio(1.0, \"H2\", {\"O2\": 1.0, \"N2\": 3.76})\ngas.TP = To, Po\n\n# Create a new flame object\nflame = ct.FreeFlame(gas, width=width)\n\nflame.set_refine_criteria(**refine_criteria)\nflame.set_max_grid_points(flame.domains[flame.domain_index(\"flame\")], 1e4)\n\ncallback, speeds, grids = make_callback(flame)\nflame.set_steady_callback(callback)\n\n# Define logging level\nloglevel = 1\n\nflame.solve(loglevel=loglevel, auto=True)\n\nSu0 = flame.velocity[0]\nprint(f\"Flame Speed is: {Su0 * 100:.2f} cm/s\")"
      ]
    },
    {
      "cell_type": "markdown",
      "metadata": {},
      "source": [
        "get a new best true speed estimate\n\n"
      ]
    },
    {
      "cell_type": "code",
      "execution_count": null,
      "metadata": {
        "collapsed": false
      },
      "outputs": [],
      "source": [
        "best_true_speed_estimate, best_total_percent_error_estimate = extrapolate_uncertainty(\n    grids, speeds\n)"
      ]
    },
    {
      "cell_type": "code",
      "execution_count": null,
      "metadata": {
        "collapsed": false
      },
      "outputs": [],
      "source": [
        "analyze_errors(grids, speeds, best_true_speed_estimate)"
      ]
    },
    {
      "cell_type": "markdown",
      "metadata": {},
      "source": [
        "## Middling refine criteria, Hydrogen flame\n\n"
      ]
    },
    {
      "cell_type": "code",
      "execution_count": null,
      "metadata": {
        "collapsed": false
      },
      "outputs": [],
      "source": [
        "refine_criteria = {\"ratio\": 3, \"slope\": 0.1, \"curve\": 0.1}\n\n# Reset the gas\ngas.set_equivalence_ratio(1.0, \"H2\", {\"O2\": 1.0, \"N2\": 3.76})\ngas.TP = To, Po\n\n# Create a new flame object\nflame = ct.FreeFlame(gas, width=width)\n\nflame.set_refine_criteria(**refine_criteria)\nflame.set_max_grid_points(flame.domains[flame.domain_index(\"flame\")], 1e4)\n\ncallback, speeds, grids = make_callback(flame)\nflame.set_steady_callback(callback)\n\n# Define logging level\nloglevel = 1\n\nflame.solve(loglevel=loglevel, auto=True)\n\nSu0 = flame.velocity[0]\nprint(f\"Flame Speed is: {Su0 * 100:.2f} cm/s\")"
      ]
    },
    {
      "cell_type": "code",
      "execution_count": null,
      "metadata": {
        "collapsed": false
      },
      "outputs": [],
      "source": [
        "analyze_errors(grids, speeds, best_true_speed_estimate)"
      ]
    }
  ],
  "metadata": {
    "kernelspec": {
      "display_name": "Python 3",
      "language": "python",
      "name": "python3"
    },
    "language_info": {
      "codemirror_mode": {
        "name": "ipython",
        "version": 3
      },
      "file_extension": ".py",
      "mimetype": "text/x-python",
      "name": "python",
      "nbconvert_exporter": "python",
      "pygments_lexer": "ipython3",
      "version": "3.11.11"
    }
  },
  "nbformat": 4,
  "nbformat_minor": 0
}