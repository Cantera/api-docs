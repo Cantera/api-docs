{
  "cells": [
    {
      "cell_type": "markdown",
      "metadata": {},
      "source": [
        "\n# Solid oxide fuel cell using elementary kinetics\n\nA simple model of a solid oxide fuel cell.\n\nUnlike most SOFC models, this model does not use semi-empirical Butler-Volmer\nkinetics for the charge transfer reactions, but uses elementary, reversible\nreactions obeying mass-action kinetics for all reactions, including charge\ntransfer. As this script will demonstrate, this approach allows computing the\nOCV (it does not need to be separately specified), as well as polarization\ncurves.\n\n.. caution::\n\n    The parameters here, and in the input file ``sofc.yaml``, are not to be relied upon\n    for a real SOFC simulation! They are meant to illustrate only how to do such a\n    calculation in Cantera. While some of the parameters may be close to real values,\n    others are simply set arbitrarily to give reasonable-looking results.\n\n    It is recommended that you read input file ``sofc.yaml`` before reading or running\n    this script.\n\nRequires: cantera >= 2.6.0, scipy, pandas\n\n.. tags:: Python, kinetics, electrochemistry, surface chemistry, fuel cell\n"
      ]
    },
    {
      "cell_type": "code",
      "execution_count": null,
      "metadata": {
        "collapsed": false
      },
      "outputs": [],
      "source": [
        "import cantera as ct\nimport math\nimport numpy as np\nimport pandas as pd\nimport matplotlib.pyplot as plt\nfrom scipy.optimize import newton\n\nct.add_module_directory()\n\n# parameters\nT = 1073.15  # T in K\nP = ct.one_atm  # One atm in Pa\n\n# gas compositions. Change as desired.\nanode_gas_X = 'H2:0.97, H2O:0.03'\ncathode_gas_X = 'O2:1.0, H2O:0.001'\n\n# time to integrate coverage eqs. to steady state in\n# 'advance_coverages'. This should be more than enough time.\ntss = 50.0\n\nsigma = 2.0  # electrolyte conductivity [Siemens / m]\nethick = 5.0e-5  # electrolyte thickness [m]\nTPB_length_per_area = 1.0e7  # TPB length per unit area [1/m]\n\n\ndef show_coverages(s):\n    \"\"\"Print the coverages for surface s.\"\"\"\n    print('\\n{0}\\n'.format(s.name))\n    cov = s.coverages\n    names = s.species_names\n    for n in range(s.n_species):\n        print('{0:16s}  {1:13.4g}'.format(names[n], cov[n]))\n\n\ndef equil_OCV(gas1, gas2):\n    return (-ct.gas_constant * gas1.T *\n            math.log(gas1['O2'].X[0] / gas2['O2'].X[0]) / (4.0 * ct.faraday))"
      ]
    },
    {
      "cell_type": "markdown",
      "metadata": {},
      "source": [
        "## Anode-side phases\n\n"
      ]
    },
    {
      "cell_type": "code",
      "execution_count": null,
      "metadata": {
        "collapsed": false
      },
      "outputs": [],
      "source": [
        "# import the anode-side triple phase boundary and adjacent phases\ntpb_a = ct.Interface(\"sofc.yaml\", \"tpb\")\nanode_surf = tpb_a.adjacent[\"metal_surface\"]\noxide_surf_a = tpb_a.adjacent[\"oxide_surface\"]\nanode_bulk = tpb_a.adjacent[\"metal\"]\noxide_a = oxide_surf_a.adjacent[\"oxide_bulk\"]\ngas_a = oxide_surf_a.adjacent[\"gas\"]\n\nanode_surf.name = 'anode surface'\noxide_surf_a.name = 'anode-side oxide surface'\n\n# this function is defined to use with a Newton solver to invert the current-\n# voltage function. The Newton solver requires a function of one variable, so the\n# other objects are accessed through the global namespace.\ndef anode_curr(E):\n    \"\"\"\n    Current from the anode as a function of anode potential relative to\n    electrolyte.\n    \"\"\"\n\n    # the anode-side electrolyte potential is kept at zero. Therefore, the\n    # anode potential is just equal to E.\n    anode_bulk.electric_potential = E\n\n    # get the species net production rates due to the anode-side TPB reaction\n    # mechanism. The production rate array has the values for the neighbor\n    # species in the order listed in the .yaml file, followed by the tpb phase.\n    # The kinetics_species_index method finds the index of the species,\n    # accounting for the possibility of species being in different orders in the\n    # arrays.\n    w = tpb_a.net_production_rates\n    electron_index = tpb_a.kinetics_species_index('electron')\n\n    # the sign convention is that the current is positive when\n    # electrons are being delivered to the anode - that is, it is positive\n    # for fuel cell operation.\n    return ct.faraday * w[electron_index] * TPB_length_per_area"
      ]
    },
    {
      "cell_type": "markdown",
      "metadata": {},
      "source": [
        "## Cathode-side phases\n\nHere for simplicity we are using the same phase and interface models for the\ncathode as we used for the anode. In a more realistic simulation, separate\nmodels would be used for the cathode, with a different reaction mechanism.\n\n"
      ]
    },
    {
      "cell_type": "code",
      "execution_count": null,
      "metadata": {
        "collapsed": false
      },
      "outputs": [],
      "source": [
        "# import the cathode-side triple phase boundary and adjacent phases\ntpb_c = ct.Interface(\"sofc.yaml\", \"tpb\")\ncathode_surf = tpb_c.adjacent[\"metal_surface\"]\noxide_surf_c = tpb_c.adjacent[\"oxide_surface\"]\ncathode_bulk = tpb_c.adjacent[\"metal\"]\noxide_c = oxide_surf_c.adjacent[\"oxide_bulk\"]\ngas_c = oxide_surf_c.adjacent[\"gas\"]\n\ncathode_surf.name = 'cathode surface'\noxide_surf_c.name = 'cathode-side oxide surface'\n\n\ndef cathode_curr(E):\n    \"\"\"\n    Current to the cathode as a function of cathode\n    potential relative to electrolyte\n    \"\"\"\n\n    # due to ohmic losses, the cathode-side electrolyte potential is non-zero.\n    # Therefore, we need to add this potential to E to get the cathode\n    # potential.\n    cathode_bulk.electric_potential = E + oxide_c.electric_potential\n\n    # get the species net production rates due to the cathode-side TPB\n    # reaction mechanism. The production rate array has the values for the\n    # neighbor species in the order listed in the .yaml file, followed by the\n    # tpb phase. The kinetics_species_index method finds the index of the species,\n    # accounting for the possibility of species being in different orders in the\n    # arrays.\n    w = tpb_c.net_production_rates\n    electron_index = tpb_c.kinetics_species_index('electron')\n\n    # the sign convention is that the current is positive when electrons are\n    # being drawn from the cathode (that is, negative production rate).\n    return -ct.faraday * w[electron_index] * TPB_length_per_area"
      ]
    },
    {
      "cell_type": "markdown",
      "metadata": {},
      "source": [
        "## Initialization\nset the gas compositions, and temperatures of all phases\n\n"
      ]
    },
    {
      "cell_type": "code",
      "execution_count": null,
      "metadata": {
        "collapsed": false
      },
      "outputs": [],
      "source": [
        "gas_a.TPX = T, P, anode_gas_X\ngas_a.equilibrate('TP')  # needed to use equil_OCV\n\ngas_c.TPX = T, P, cathode_gas_X\ngas_c.equilibrate('TP')  # needed to use equil_OCV\n\nphases = [anode_bulk, anode_surf, oxide_surf_a, oxide_a, cathode_bulk,\n          cathode_surf, oxide_surf_c, oxide_c, tpb_a, tpb_c]\nfor p in phases:\n    p.TP = T, P"
      ]
    },
    {
      "cell_type": "markdown",
      "metadata": {},
      "source": [
        "now bring the surface coverages into steady state with these gas\ncompositions. Note that the coverages are held fixed at these values - we do\nNOT consider the change in coverages due to TPB reactions. For that, a more\ncomplex model is required. But as long as the thermal chemistry is fast\nrelative to charge transfer, this should be an OK approximation.\n\n"
      ]
    },
    {
      "cell_type": "code",
      "execution_count": null,
      "metadata": {
        "collapsed": false
      },
      "outputs": [],
      "source": [
        "for s in [anode_surf, oxide_surf_a, cathode_surf, oxide_surf_c]:\n    s.advance_coverages(tss)\n    show_coverages(s)"
      ]
    },
    {
      "cell_type": "markdown",
      "metadata": {},
      "source": [
        "Find open circuit potentials by solving for the E values that give zero current.\n\n"
      ]
    },
    {
      "cell_type": "code",
      "execution_count": null,
      "metadata": {
        "collapsed": false
      },
      "outputs": [],
      "source": [
        "Ea0 = newton(anode_curr, x0=-0.51)\nEc0 = newton(cathode_curr, x0=0.51)\n\nprint('\\nocv from zero current is: ', Ec0 - Ea0)\nprint('OCV from thermo equil is: ', equil_OCV(gas_a, gas_c))\n\nprint('Ea0 = ', Ea0)\nprint('Ec0 = ', Ec0)"
      ]
    },
    {
      "cell_type": "markdown",
      "metadata": {},
      "source": [
        "## Polarization curve\n\nVary the anode overpotentials from -250 mV (cathodic) to +250 mV (anodic)\n\n"
      ]
    },
    {
      "cell_type": "code",
      "execution_count": null,
      "metadata": {
        "collapsed": false
      },
      "outputs": [],
      "source": [
        "Ea_min = Ea0 - 0.25\nEa_max = Ea0 + 0.25\nEc = 1.0  # initial guess for Newton solver\n\noutput_data = []\n\nfor Ea in np.linspace(Ea_min, Ea_max, 100):\n    # set the electrode potential. Note that the anode-side electrolyte is\n    # held fixed at 0 V.\n    anode_bulk.electric_potential = Ea\n\n    # compute the anode current\n    curr = anode_curr(Ea)\n\n    # set potential of the oxide on the cathode side to reflect the ohmic drop\n    # through the electrolyte\n    delta_V = curr * ethick / sigma\n\n    # if the current is positive, negatively-charged ions are flowing from the\n    # cathode to the anode. Therefore, the cathode side must be more negative\n    # than the anode side.\n    phi_oxide_c = -delta_V\n\n    # note that both the bulk and the surface potentials must be set\n    oxide_c.electric_potential = phi_oxide_c\n    oxide_surf_c.electric_potential = phi_oxide_c\n\n    # Find the value of the cathode potential relative to the cathode-side\n    # electrolyte that yields the same current density as the anode current\n    # density\n    Ec = newton(lambda E: cathode_curr(E) - curr, x0=Ec)\n\n    cathode_bulk.electric_potential = phi_oxide_c + Ec\n\n    # write the current density, anode and cathode overpotentials, ohmic\n    # overpotential, and load potential\n    output_data.append([0.1*curr, Ea - Ea0, Ec - Ec0, delta_V,\n                        cathode_bulk.electric_potential -\n                        anode_bulk.electric_potential])"
      ]
    },
    {
      "cell_type": "markdown",
      "metadata": {},
      "source": [
        "## Collect data and save as CSV\n\n"
      ]
    },
    {
      "cell_type": "code",
      "execution_count": null,
      "metadata": {
        "collapsed": false
      },
      "outputs": [],
      "source": [
        "df = pd.DataFrame.from_records(\n    output_data,\n    index='i (mA/cm2)',\n    columns=['i (mA/cm2)', 'eta_a', 'eta_c', 'eta_ohmic', 'Eload']\n)\ndf.to_csv(\"sofc.csv\")\nprint('polarization curve data written to file sofc.csv')"
      ]
    },
    {
      "cell_type": "markdown",
      "metadata": {},
      "source": [
        "## Plot results\n\n"
      ]
    },
    {
      "cell_type": "code",
      "execution_count": null,
      "metadata": {
        "collapsed": false
      },
      "outputs": [],
      "source": [
        "fig, ax = plt.subplots()\nax.plot(df.index, df.eta_a, label=r'$\\eta_{anode}$')\nax.plot(df.index, df.eta_c, label=r'$\\eta_{cathode}$')\nax.plot(df.index, df.eta_ohmic, label=r'$\\eta_{ohmic}$')\nax.plot(df.index, df.Eload, label=r'$E_{load}$')\nax.set(xlabel='current [mA/cm\u00b2]', ylabel='Voltage [V]')\nax.legend()"
      ]
    }
  ],
  "metadata": {
    "kernelspec": {
      "display_name": "Python 3",
      "language": "python",
      "name": "python3"
    },
    "language_info": {
      "codemirror_mode": {
        "name": "ipython",
        "version": 3
      },
      "file_extension": ".py",
      "mimetype": "text/x-python",
      "name": "python",
      "nbconvert_exporter": "python",
      "pygments_lexer": "ipython3",
      "version": "3.11.11"
    }
  },
  "nbformat": 4,
  "nbformat_minor": 0
}