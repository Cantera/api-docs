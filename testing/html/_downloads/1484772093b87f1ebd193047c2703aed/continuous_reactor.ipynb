{
  "cells": [
    {
      "cell_type": "markdown",
      "metadata": {},
      "source": [
        "\n# Continuously Stirred Tank Reactor\n\nIn this example we will illustrate how Cantera can be used to simulate a\n[continuously stirred tank reactor](https://en.wikipedia.org/wiki/Continuous_stirred-tank_reactor)_\n(CSTR), also interchangeably referred to as a perfectly stirred reactor (PSR), a well\nstirred reactor (WSR), a jet stirred reactor (JSR), or a\n[Longwell reactor](https://nap.nationalacademies.org/read/13160/chapter/48)_ (and\nthere may well be more \"aliases\").\n\nRequires: cantera >= 3.0, matplotlib >= 2.0, pandas\n\n.. tags:: Python, combustion, reactor network, well-stirred reactor\n\n## Simulation of a CSTR/PSR/WSR\n\nA diagram of a CSTR is shown below:\n\n<img src=\"file://_static/images/samples/stirred-reactor-solo.svg\" width=\"50%\" alt=\"A continuously stirred tank reactor with inflow and outflow\" align=\"center\">\n\nAs the figure illustrates, this is an open system (unlike a batch reactor, which is\nisolated). *P*, *V* and *T* are the reactor's pressure, volume and temperature\nrespectively. The mass flow rate at which reactants come in is the same as that of the\nproducts which exit, and on average this mass stays in the reactor for a characteristic\ntime $\\tau$, called the *residence time*. This is a key quantity in sizing the\nreactor and is defined as follows:\n\n\\begin{align}\\tau = \\frac{m}{\\dot{m}}\\end{align}\n\nwhere $m$ is the mass of the gas.\n"
      ]
    },
    {
      "cell_type": "markdown",
      "metadata": {},
      "source": [
        "## Import modules and set plotting defaults\n\n"
      ]
    },
    {
      "cell_type": "code",
      "execution_count": null,
      "metadata": {
        "collapsed": false
      },
      "outputs": [],
      "source": [
        "import time\nfrom io import StringIO\nimport matplotlib.pyplot as plt\nimport pandas as pd\nimport cantera as ct\n\nprint(f\"Running Cantera version: {ct.__version__}\")"
      ]
    },
    {
      "cell_type": "markdown",
      "metadata": {},
      "source": [
        "## Define the gas\n\nIn this example, we will work with n-C\u2087H\u2081\u2086/O\u2082/He mixtures, for which experimental data\ncan be found in the paper by Zhang et al. [1]_ We will use the same mechanism reported\nin the paper. It consists of 1268 species and 5336 reactions.\n\n"
      ]
    },
    {
      "cell_type": "code",
      "execution_count": null,
      "metadata": {
        "collapsed": false
      },
      "outputs": [],
      "source": [
        "gas = ct.Solution(\"example_data/n-hexane-NUIG-2015.yaml\")"
      ]
    },
    {
      "cell_type": "markdown",
      "metadata": {},
      "source": [
        "## Define initial conditions\n\n### Inlet conditions for the gas and reactor parameters\n\n"
      ]
    },
    {
      "cell_type": "code",
      "execution_count": null,
      "metadata": {
        "collapsed": false
      },
      "outputs": [],
      "source": [
        "reactor_temperature = 925  # Kelvin\nreactor_pressure = 1.046138 * ct.one_atm  # in atm. This equals 1.06 bars\ninlet_concentrations = {\"NC7H16\": 0.005, \"O2\": 0.0275, \"HE\": 0.9675}\ngas.TPX = reactor_temperature, reactor_pressure, inlet_concentrations\n\nresidence_time = 2  # s\nreactor_volume = 30.5 * (1e-2) ** 3  # m3"
      ]
    },
    {
      "cell_type": "markdown",
      "metadata": {},
      "source": [
        "### Simulation parameters\n\n"
      ]
    },
    {
      "cell_type": "code",
      "execution_count": null,
      "metadata": {
        "collapsed": false
      },
      "outputs": [],
      "source": [
        "# Simulation termination criterion\nmax_simulation_time = 50  # seconds"
      ]
    },
    {
      "cell_type": "markdown",
      "metadata": {},
      "source": [
        "## Reactor arrangement\n\nWe showed a cartoon of the reactor in the first figure in this notebook, but to\nactually simulate that, we need a few peripherals. A mass-flow controller upstream of\nthe stirred reactor will allow us to flow gases in, and in-turn, a \"reservoir\" which\nsimulates a gas tank is required to supply gases to the mass flow controller.\nDownstream of the reactor, we install a pressure regulator which allows the reactor\npressure to stay within. Downstream of the regulator we will need another reservoir\nwhich acts like a \"sink\" or capture tank to capture all exhaust gases (even our\nsimulations are environmentally friendly!). This arrangement is illustrated below:\n\n<img src=\"file://_static/images/samples/stirred-reactor-network.svg\" width=\"80%\" alt=\"A complete reactor network representing a continuously stirred tank reactor\" align=\"center\">\n\n### Initialize the stirred reactor and connect all peripherals\n\n"
      ]
    },
    {
      "cell_type": "code",
      "execution_count": null,
      "metadata": {
        "collapsed": false
      },
      "outputs": [],
      "source": [
        "fuel_air_mixture_tank = ct.Reservoir(gas)\nexhaust = ct.Reservoir(gas)\n\nstirred_reactor = ct.IdealGasMoleReactor(gas, energy=\"off\", volume=reactor_volume)\n\nmass_flow_controller = ct.MassFlowController(\n    upstream=fuel_air_mixture_tank,\n    downstream=stirred_reactor,\n    mdot=stirred_reactor.mass / residence_time,\n)\n\npressure_regulator = ct.PressureController(\n    upstream=stirred_reactor,\n    downstream=exhaust,\n    primary=mass_flow_controller,\n    K=1e-3,\n)\n\nreactor_network = ct.ReactorNet([stirred_reactor])\n\n# Create a SolutionArray to store the data\ntime_history = ct.SolutionArray(gas, extra=[\"t\"])\n\n# Set the maximum simulation time\nmax_simulation_time = 50  # seconds\n\n# Start the stopwatch\ntic = time.time()\n\n# Set simulation start time to zero\nt = 0\ncounter = 1\nwhile t < max_simulation_time:\n    t = reactor_network.step()\n\n    # We will store only every 10th value. Remember, we have 1200+ species, so there\n    # will be 1200+ columns for us to work with\n    if counter % 10 == 0:\n        # Extract the state of the reactor\n        time_history.append(stirred_reactor.thermo.state, t=t)\n\n    counter += 1\n\n# Stop the stopwatch\ntoc = time.time()\n\nprint(f\"Simulation Took {toc-tic:3.2f}s to compute, with {counter} steps\")"
      ]
    },
    {
      "cell_type": "markdown",
      "metadata": {},
      "source": [
        "### Plot the results\n\nAs a test, we plot the mole fraction of CO and see if the simulation has converged. If\nnot, go back and adjust max. number of steps and/or simulation time.\n\n"
      ]
    },
    {
      "cell_type": "code",
      "execution_count": null,
      "metadata": {
        "collapsed": false
      },
      "outputs": [],
      "source": [
        "plt.figure()\nplt.semilogx(time_history.t, time_history(\"CO\").X, \"-o\")\nplt.xlabel(\"Time (s)\")\nplt.ylabel(\"Mole Fraction : $X_{CO}$\")"
      ]
    },
    {
      "cell_type": "markdown",
      "metadata": {},
      "source": [
        "## Illustration : Modeling experimental data\n\nLet us see if the reactor can reproduce actual experimental measurements.\n\nWe first load the data. This is also supplied in the paper by Zhang et al. [1]_ as an\nexcel sheet\n\n"
      ]
    },
    {
      "cell_type": "code",
      "execution_count": null,
      "metadata": {
        "collapsed": false
      },
      "outputs": [],
      "source": [
        "experimental_data_csv = \"\"\"\nT,NC7H16,O2,CO,CO2\n500,5.07E-03,2.93E-02,0.00E+00,0.00E+00\n525,4.92E-03,2.86E-02,0.00E+00,0.00E+00\n550,4.66E-03,2.85E-02,0.00E+00,0.00E+00\n575,4.16E-03,2.63E-02,2.43E-04,1.01E-04\n600,3.55E-03,2.33E-02,9.68E-04,2.51E-04\n625,3.36E-03,2.31E-02,1.42E-03,2.67E-04\n650,3.67E-03,2.45E-02,9.16E-04,1.46E-04\n675,4.38E-03,2.77E-02,2.25E-04,0.00E+00\n700,4.79E-03,2.87E-02,0.00E+00,0.00E+00\n725,4.89E-03,2.93E-02,0.00E+00,0.00E+00\n750,4.91E-03,2.84E-02,0.00E+00,0.00E+00\n775,4.93E-03,2.80E-02,0.00E+00,0.00E+00\n800,4.78E-03,2.82E-02,0.00E+00,0.00E+00\n825,4.41E-03,2.80E-02,1.49E-05,0.00E+00\n850,3.68E-03,2.80E-02,4.18E-04,1.66E-04\n875,2.13E-03,2.45E-02,1.65E-03,2.22E-04\n900,1.03E-03,2.05E-02,5.51E-03,3.69E-04\n925,5.82E-04,1.79E-02,8.59E-03,6.78E-04\n950,3.88E-04,1.47E-02,1.05E-02,1.07E-03\n975,2.35E-04,1.28E-02,1.19E-02,1.36E-03\n1000,1.14E-04,1.16E-02,1.34E-02,1.82E-03\n1025,4.83E-05,9.88E-03,1.52E-02,2.41E-03\n1050,1.64E-05,8.16E-03,1.83E-02,2.97E-03\n1075,1.22E-06,5.48E-03,1.95E-02,3.67E-03\n1100,0.00E+00,3.24E-03,2.14E-02,4.38E-03\n\"\"\"\n\nexperimental_data = pd.read_csv(StringIO(experimental_data_csv))\nexperimental_data.head()"
      ]
    },
    {
      "cell_type": "code",
      "execution_count": null,
      "metadata": {
        "collapsed": false
      },
      "outputs": [],
      "source": [
        "# Define all the temperatures at which we will run simulations. These should overlap\n# with the values reported in the paper as much as possible\nT = [650, 700, 750, 775, 825, 850, 875, 925, 950, 1075, 1100]\n\n# Create a SolutionArray to store values for the above points\ntemp_dependence = ct.SolutionArray(gas)"
      ]
    },
    {
      "cell_type": "markdown",
      "metadata": {},
      "source": [
        "Now we simply run the reactor code we used above for each temperature\n\n"
      ]
    },
    {
      "cell_type": "code",
      "execution_count": null,
      "metadata": {
        "collapsed": false
      },
      "outputs": [],
      "source": [
        "concentrations = inlet_concentrations\n\nfor reactor_temperature in T:\n    # Use concentrations from the previous iteration to speed up convergence\n    gas.TPX = reactor_temperature, reactor_pressure, concentrations\n\n    stirred_reactor = ct.IdealGasReactor(gas, energy=\"off\", volume=reactor_volume)\n    fuel_air_mixture_tank = ct.Reservoir(gas)\n    mass_flow_controller = ct.MassFlowController(\n        upstream=fuel_air_mixture_tank,\n        downstream=stirred_reactor,\n        mdot=stirred_reactor.mass / residence_time,\n    )\n    pressure_regulator = ct.PressureController(\n        upstream=stirred_reactor, downstream=exhaust, primary=mass_flow_controller,\n        K=1e-3,\n    )\n    reactor_network = ct.ReactorNet([stirred_reactor])\n\n    # Re-run the isothermal simulations\n    tic = time.time()\n    counter = 0\n    while reactor_network.time < max_simulation_time:\n        reactor_network.step()\n        counter += 1\n    toc = time.time()\n    print(f\"Simulation at T={reactor_temperature} K took {toc-tic:3.2f} s to compute \"\n          f\"with {counter} steps\")\n\n    concentrations = stirred_reactor.thermo.X\n    temp_dependence.append(stirred_reactor.thermo.state)"
      ]
    },
    {
      "cell_type": "markdown",
      "metadata": {},
      "source": [
        "### Compare the model results with experimental data\n\n"
      ]
    },
    {
      "cell_type": "code",
      "execution_count": null,
      "metadata": {
        "collapsed": false
      },
      "outputs": [],
      "source": [
        "plt.figure()\nplt.plot(\n    temp_dependence.T, temp_dependence(\"NC7H16\").X, color=\"C0\", label=\"$nC_{7}H_{16}$\"\n)\nplt.plot(temp_dependence.T, temp_dependence(\"CO\").X, color=\"C1\", label=\"CO\")\nplt.plot(temp_dependence.T, temp_dependence(\"O2\").X, color=\"C2\", label=\"O$_{2}$\")\n\nplt.plot(\n    experimental_data[\"T\"],\n    experimental_data[\"NC7H16\"],\n    color=\"C0\",\n    marker=\"o\",\n    label=\"$nC_{7}H_{16}$ (exp)\",\n)\nplt.plot(\n    experimental_data[\"T\"],\n    experimental_data[\"CO\"],\n    color=\"C1\",\n    marker=\"^\",\n    linestyle=\"none\",\n    label=\"CO (exp)\",\n)\nplt.plot(\n    experimental_data[\"T\"],\n    experimental_data[\"O2\"],\n    color=\"C2\",\n    marker=\"s\",\n    linestyle=\"none\",\n    label=\"O$_2$ (exp)\",\n)\n\nplt.xlabel(\"Temperature (K)\")\nplt.ylabel(r\"Mole Fractions\")\n\nplt.xlim([650, 1100])\nplt.legend(loc=1)"
      ]
    },
    {
      "cell_type": "markdown",
      "metadata": {},
      "source": [
        "## References\n\n.. [1] K. Zhang, C. Banyon, C. Togb\u00e9, P. Dagaut, J. Bugler, H. J. Curran (2015). \"An\n       experimental and kinetic modeling study of n-hexane oxidation,\" *Combustion and\n       Flame* 162:11, 4194-4207, https://doi.org/10.1016/j.combustflame.2015.08.001.\n\n"
      ]
    }
  ],
  "metadata": {
    "kernelspec": {
      "display_name": "Python 3",
      "language": "python",
      "name": "python3"
    },
    "language_info": {
      "codemirror_mode": {
        "name": "ipython",
        "version": 3
      },
      "file_extension": ".py",
      "mimetype": "text/x-python",
      "name": "python",
      "nbconvert_exporter": "python",
      "pygments_lexer": "ipython3",
      "version": "3.11.11"
    }
  },
  "nbformat": 4,
  "nbformat_minor": 0
}