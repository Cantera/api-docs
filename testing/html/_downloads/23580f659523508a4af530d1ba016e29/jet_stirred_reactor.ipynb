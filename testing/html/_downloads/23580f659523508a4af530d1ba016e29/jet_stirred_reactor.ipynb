{
  "cells": [
    {
      "cell_type": "markdown",
      "metadata": {},
      "source": [
        "\n# Jet-stirred reactor temperature and species profiles\n\nSimulate temperature profiles and species profiles in a jet-stirred reactor across a\nrange of initial temperatures, and observe the impact of incorporating the\nreduced-pressure linear mixture rule (LMR-R) in such calculations.\n\nHere we will consider a mixture of H2/O2/NH3/Ar (with 10% NH3) at 1.2 atm, and compare\nresults against the experimental measurements of Sabia et al. [1] Two models are\ncompared in this example:\n\n1. A 2023 model of H2 and NH3 chemistry published by Alzueta et al. [2]\n2. An adapted version of this model that has applied the reduced-pressure linear mixture\n   rule (LMR-R) and ab initio third-body efficiencies. [3]\n\nReferences:\n\n    [1] P. Sabia, M. V. Manna, R. Ragucci, M. de Joannon, Mutual inhibition effect of\n    hydrogen and ammonia in oxidation processes and the role of ammonia as \u201cstrong\u201d\n    collider in third-molecular reactions, Int. J. Hydrogen Energy 45 (2020) 32113 --\n    32127.\n\n    [2] M. U. Alzueta, I. Salas, H. Hashemi, P. Glarborg, CO-assisted NH3 oxidation,\n    Combust. Flame 257 (2023) 112438.\n\n    [3] P. J. Singal, J. Lee, L. Lei, R. L. Speth, M. P. Burke, Implementation of New\n    Mixture Rules Has a Substantial Impact on Combustion Predictions for H2 and NH3,\n    Proc. Combust. Inst. 40 (2024) 105779.\n\nRequires: cantera >= 3.1, pandas, matplotlib\n\n.. tags:: jet-stirred reactor, kinetics, combustion\n"
      ]
    },
    {
      "cell_type": "code",
      "execution_count": null,
      "metadata": {
        "collapsed": false
      },
      "outputs": [],
      "source": [
        "import numpy as np\nimport pandas as pd\nimport time as time\nimport cantera as ct\nimport matplotlib.pyplot as plt\n\nf, ax = plt.subplots(1, 3)\nplt.subplots_adjust(wspace=0.6)\ncolors = [\"xkcd:grey\",'xkcd:purple']\nfile = 'example_data/ammonia-CO-H2-Alzueta-2023.yaml'\nmodels = {'Original': 'baseline', 'LMR-R': 'linear-Burke'}\n\ninputs = {\n    'X': {'H2': 0.03, 'O2': 0.03, 'Ar': 0.846, 'NH3':0.094},\n    'T_range': np.linspace(800,1050,50), # [K]\n    'Tin': 1000, # reactor temperature [K]\n    'P': 1.2, # reactor pressure [atm]\n    'tau': 0.5, # residence time [s]\n    'V': 0.000113, # reactor volume [m3]\n    'K': 2e-5, # 'pressureValveCoefficient'\n    't_max': 50,  # [s]\n    'h': 79.5, # 'heatTransferCoefficient' [W/m2/K]\n    'data': { # experimental data from Sabia et al.\n        'T_range': [807,843,855,870,884,904,925,945,965,995,1018],\n        'deltaT': [0.051,0.051,0.051,0.051,0.101,0.606,1.414,2.626,4.091,6.768,8.586],\n        'X_O2': [3.076,3.053,3.050,3.037,3.024,3.015,2.966,2.924,2.794,2.597,2.261],\n        'X_H2': [3.030,3.038,3.038,3.038,3.030,2.993,2.948,2.829,2.693,2.434,2.126]\n    }\n}\n\ndef getStirredReactor(gas,inputs):\n    reactorRadius = (inputs['V']*3/4/np.pi)**(1/3) # [m3]\n    reactorSurfaceArea =4*np.pi*reactorRadius**2 # [m3]\n    fuelAirMixtureTank = ct.Reservoir(gas)\n    exhaust = ct.Reservoir(gas)\n    env = ct.Reservoir(gas)\n    reactor = ct.IdealGasReactor(gas, energy='on', volume=inputs['V'])\n    ct.MassFlowController(upstream=fuelAirMixtureTank,\n                          downstream=reactor,\n                          mdot=reactor.mass/inputs['tau'])\n    ct.Valve(upstream=reactor,\n             downstream=exhaust,\n             K=inputs['K'])\n    ct.Wall(reactor, env, A=reactorSurfaceArea, U=inputs['h'])\n    return reactor\n\ndef getTemperatureDependence(gas, inputs):\n    stirredReactor = getStirredReactor(gas,inputs)\n    columnNames = (\n        ['pressure'] +\n        [stirredReactor.component_name(item)\n         for item in range(stirredReactor.n_vars)]\n    )\n    tempDependence = pd.DataFrame(columns=columnNames)\n    for T in inputs['T_range']:\n        gas.TPX = T, inputs['P']*ct.one_atm, inputs['X']\n        stirredReactor = getStirredReactor(gas,inputs)\n        reactorNetwork = ct.ReactorNet([stirredReactor])\n        t = 0\n        while t < inputs['t_max']:\n            t = reactorNetwork.step()\n        state = np.hstack([stirredReactor.thermo.P,\n                        stirredReactor.mass,\n                        stirredReactor.volume,\n                        stirredReactor.T,\n                        stirredReactor.thermo.X])\n        tempDependence.loc[T] = state\n    return tempDependence\n\nfor k,m in enumerate(models):\n    gas = ct.Solution(file, name=models[m])\n    gas.TPX = inputs['Tin'], inputs['P']*ct.one_atm, inputs['X']\n    tempDependence = getTemperatureDependence(gas,inputs)\n    ax[0].plot(tempDependence.index,\n               np.subtract(tempDependence['temperature'],tempDependence.index),\n               color=colors[k],label=m)\n    ax[1].plot(tempDependence.index, tempDependence['O2']*100, color=colors[k])\n    ax[2].plot(tempDependence.index, tempDependence['H2']*100, color=colors[k])\nax[0].plot(inputs['data']['T_range'], inputs['data']['deltaT'], 'o', fillstyle='none',\n           color='k', label=\"Sabia et al.\")\nax[1].plot(inputs['data']['T_range'], inputs['data']['X_O2'], 'o', fillstyle='none',\n           color='k')\nax[2].plot(inputs['data']['T_range'], inputs['data']['X_H2'], 'o', fillstyle='none',\n           color='k')\nax[0].legend(fontsize=8,frameon=False,loc='upper left')\nax[0].set_ylabel(r'$\\Delta$ T [K]')\nax[1].set_xlabel(r'Temperature [K]')\nax[1].set_ylabel(r'O$_2$ mole fraction [%]')\nax[2].set_ylabel(r'H$_2$ mole fraction [%]')\nax[0].set_xlim([780,1070])\nax[1].set_xlim([780,1070])\nax[2].set_xlim([780,1070])\nplt.show()"
      ]
    }
  ],
  "metadata": {
    "kernelspec": {
      "display_name": "Python 3",
      "language": "python",
      "name": "python3"
    },
    "language_info": {
      "codemirror_mode": {
        "name": "ipython",
        "version": 3
      },
      "file_extension": ".py",
      "mimetype": "text/x-python",
      "name": "python",
      "nbconvert_exporter": "python",
      "pygments_lexer": "ipython3",
      "version": "3.11.11"
    }
  },
  "nbformat": 4,
  "nbformat_minor": 0
}