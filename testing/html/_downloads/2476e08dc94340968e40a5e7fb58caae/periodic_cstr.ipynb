{
  "cells": [
    {
      "cell_type": "markdown",
      "metadata": {},
      "source": [
        "\n# Continuously stirred tank reactor with periodic behavior\n\nThis example illustrates a continuously stirred tank reactor (CSTR) with steady\ninputs but periodic interior state.\n\nA stoichiometric hydrogen/oxygen mixture is introduced and reacts to produce\nwater.  But since water has a large efficiency as a third body in the chain\ntermination reaction\n\n\\begin{align}\\mathrm{ H + O_2 + M \\rightleftharpoons HO_2 + M }\\end{align}\n\nas soon as a significant amount of water is produced the reaction stops. After\nenough time has passed that the water is exhausted from the reactor, the mixture\nexplodes again and the process repeats. This explanation can be verified by\ndecreasing the rate for reaction 7 in file ``h2o2.yaml`` and re-running the\nexample.\n\n*Acknowledgments*: The idea for this example and an estimate of the conditions\nneeded to see the oscillations came from Bob Kee, Colorado School of Mines\n\nRequires: cantera >= 2.5.0, matplotlib >= 2.0\n\n.. tags:: Python, combustion, reactor network, well-stirred reactor, plotting\n"
      ]
    },
    {
      "cell_type": "code",
      "execution_count": null,
      "metadata": {
        "collapsed": false
      },
      "outputs": [],
      "source": [
        "import cantera as ct\nimport matplotlib.pyplot as plt"
      ]
    },
    {
      "cell_type": "markdown",
      "metadata": {},
      "source": [
        "Create the gas mixture and set initial conditions\n\n"
      ]
    },
    {
      "cell_type": "code",
      "execution_count": null,
      "metadata": {
        "collapsed": false
      },
      "outputs": [],
      "source": [
        "gas = ct.Solution('h2o2.yaml')\n\n# pressure = 60 Torr, T = 770 K\np = 60.0*133.3\nt = 770.0\n\ngas.TPX = t, p, 'H2:2, O2:1'"
      ]
    },
    {
      "cell_type": "markdown",
      "metadata": {},
      "source": [
        "Create an upstream reservoir that will supply the reactor. The temperature,\npressure, and composition of the upstream reservoir are set to those of the\n``gas`` object at the time the reservoir is created.\n\n"
      ]
    },
    {
      "cell_type": "code",
      "execution_count": null,
      "metadata": {
        "collapsed": false
      },
      "outputs": [],
      "source": [
        "upstream = ct.Reservoir(gas)"
      ]
    },
    {
      "cell_type": "markdown",
      "metadata": {},
      "source": [
        "Now create the reactor object with the same initial state.\n\nSet its volume to 10 cm\u00b3. In this problem, the reactor volume is fixed, so\nthe initial volume is the volume at all later times.\n\n"
      ]
    },
    {
      "cell_type": "code",
      "execution_count": null,
      "metadata": {
        "collapsed": false
      },
      "outputs": [],
      "source": [
        "cstr = ct.IdealGasReactor(gas)\ncstr.volume = 10.0*1.0e-6"
      ]
    },
    {
      "cell_type": "markdown",
      "metadata": {},
      "source": [
        "We need to have heat loss to see the oscillations. Create a reservoir to\nrepresent the environment, and initialize its temperature to the reactor\ntemperature.\n\n"
      ]
    },
    {
      "cell_type": "code",
      "execution_count": null,
      "metadata": {
        "collapsed": false
      },
      "outputs": [],
      "source": [
        "env = ct.Reservoir(gas)"
      ]
    },
    {
      "cell_type": "markdown",
      "metadata": {},
      "source": [
        "Create a heat-conducting wall between the reactor and the environment. Set its\narea, and its overall heat transfer coefficient. Larger ``U`` causes the reactor\nto be closer to isothermal. If ``U`` is too small, the gas ignites, and the\ntemperature spikes and stays high.\n\n"
      ]
    },
    {
      "cell_type": "code",
      "execution_count": null,
      "metadata": {
        "collapsed": false
      },
      "outputs": [],
      "source": [
        "w = ct.Wall(cstr, env, A=1.0, U=0.02)"
      ]
    },
    {
      "cell_type": "markdown",
      "metadata": {},
      "source": [
        "Connect the upstream reservoir to the reactor with a mass flow controller\n(constant mdot). Set the mass flow rate to 1.25 sccm.\n\n"
      ]
    },
    {
      "cell_type": "code",
      "execution_count": null,
      "metadata": {
        "collapsed": false
      },
      "outputs": [],
      "source": [
        "sccm = 1.25\nvdot = sccm * 1.0e-6 / 60.0 * ((ct.one_atm / gas.P) * (gas.T / 273.15))  # m^3/s\nmdot = gas.density * vdot  # kg/s\nmfc = ct.MassFlowController(upstream, cstr, mdot=mdot)"
      ]
    },
    {
      "cell_type": "markdown",
      "metadata": {},
      "source": [
        "Now create a downstream reservoir to exhaust into and connect the reactor to this\nreservoir with a valve. Set the coefficient sufficiently large to keep the reactor\npressure close to the downstream pressure of 60 Torr.\n\n"
      ]
    },
    {
      "cell_type": "code",
      "execution_count": null,
      "metadata": {
        "collapsed": false
      },
      "outputs": [],
      "source": [
        "downstream = ct.Reservoir(gas)\nv = ct.Valve(cstr, downstream, K=1.0e-9)"
      ]
    },
    {
      "cell_type": "markdown",
      "metadata": {},
      "source": [
        "Create the network and integrate in time:\n\n"
      ]
    },
    {
      "cell_type": "code",
      "execution_count": null,
      "metadata": {
        "collapsed": false
      },
      "outputs": [],
      "source": [
        "network = ct.ReactorNet([cstr])\nt = 0.0\ndt = 0.1\n\nstates = ct.SolutionArray(gas, extra=['t'])\nwhile t < 300.0:\n    t += dt\n    network.advance(t)\n    states.append(cstr.thermo.state, t=t)\n\naliases = {'H2': 'H$_2$', 'O2': 'O$_2$', 'H2O': 'H$_2$O'}\nfor name, alias in aliases.items():\n    gas.add_species_alias(name, alias)\n\nfig, ax = plt.subplots()\nfor spc in aliases.values():\n    ax.plot(states.t, states(spc).Y, label=spc)\nplt.legend(loc='upper right')\nplt.xlabel('time [s]')\nplt.ylabel('mass fraction')\nplt.show()"
      ]
    }
  ],
  "metadata": {
    "kernelspec": {
      "display_name": "Python 3",
      "language": "python",
      "name": "python3"
    },
    "language_info": {
      "codemirror_mode": {
        "name": "ipython",
        "version": 3
      },
      "file_extension": ".py",
      "mimetype": "text/x-python",
      "name": "python",
      "nbconvert_exporter": "python",
      "pygments_lexer": "ipython3",
      "version": "3.11.11"
    }
  },
  "nbformat": 4,
  "nbformat_minor": 0
}