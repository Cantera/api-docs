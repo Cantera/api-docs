{
  "cells": [
    {
      "cell_type": "markdown",
      "metadata": {},
      "source": [
        "\n# Plug flow reactor: silicon nitride deposition\n\nA 1-D steady state plug-flow reactor demonstrating silicon nitride (Si3N4) deposition\nfrom ammonia (NH3) and silicon tetrafluoride (SiF4).\n\nAssumes a constant temperature, frictionless, cylindrical reactor.\n\nBased off the Jupyter notebook created by Yuanjie Jiang, which corresponds to the\noriginal example from:\n\n    R.S. Larson. \"PLUG: A FORTRAN program for the analysis of PLUG flow reactors with\n    gas-phase and surface chemistry\", Sandia Report SAND-96-8211, 1996.\n    https://doi.org/10.2172/204257\n\nThe results are somewhat different from those in the Larson report in part due to the\nfact that this example does not include the frictional pressure drop.\n\nRequires: cantera >= 3.0, matplotlib >= 2.0\n\n.. tags:: Python, catalysis, plug flow reactor, reactor network, surface chemistry\n"
      ]
    },
    {
      "cell_type": "code",
      "execution_count": null,
      "metadata": {
        "collapsed": false
      },
      "outputs": [],
      "source": [
        "import numpy as np\nimport cantera as ct\nimport matplotlib.pyplot as plt\n\nmech = 'SiF4_NH3_mec.yaml'\n\n# import the model for gas-Si-N interface and adjacent bulk phases\ngas_si_n_interface = ct.Interface(mech, 'SI3N4')\ngas = gas_si_n_interface.adjacent['gas']\n\n# Set the initial conditions\nT0 = 1713  # K\np0 = 2 * ct.one_atm / 760.0  # Pa ~2Torr\ngas.TPX = T0, p0, \"SiF4:0.1427, NH3:0.8573\"\ngas_si_n_interface.TP = T0, p0\nD = 5.08e-2  # diameter of the tube [m]\nAc = np.pi * D**2 / 4  # cross section of the tube [m]\nu0 = 11.53  # m/s initial velocity of the flow\n\nreactor = ct.FlowReactor(gas)\nreactor.area = Ac\nreactor.mass_flow_rate = gas.density * u0 * Ac\nreactor.energy_enabled = False\n\nrsurf = ct.ReactorSurface(gas_si_n_interface, reactor)\nnet = ct.ReactorNet([reactor])\nsoln = ct.SolutionArray(gas, extra=['x', 'speed', 'surf_coverages', 'N_dep', 'Si_dep'])\nkN = gas_si_n_interface.kinetics_species_index('N(D)')\nkSi = gas_si_n_interface.kinetics_species_index('Si(D)')\n\n# Integrate the reactor network\nwhile net.distance < 0.6:\n    print(net.distance, rsurf.coverages)\n    net.step()\n    wdot = rsurf.kinetics.net_production_rates\n    soln.append(TDY=reactor.thermo.TDY,\n                x=net.distance,\n                speed=reactor.speed,\n                surf_coverages=rsurf.coverages,\n                N_dep=wdot[kN],\n                Si_dep=wdot[kSi])\n\n# Plot the results\nplt.rcParams['figure.constrained_layout.use'] = True\nf, ax = plt.subplots(2, 3, figsize=(9,6))\n\n# plot the temperature profile along the flow direction\nax[0, 0].plot(soln.x, soln.T[:], color='C3')\nax[0, 0].set(xlabel='Distance (m)', ylabel='Temperature (K)', title='Gas properties')\n\n# plot the pressure of the gas along the flow direction\nax_p = ax[0,0].twinx()\nax_p.plot(soln.x, soln.P, color='C2')\nax_p.set(ylabel='Pressure (Pa)')\n\n# plot gas velocity along the flow direction\nh_vel = ax[1, 0].plot(soln.x, soln.speed, color='C0', label='velocity')\nax[1, 0].set(xlabel='Distance (m)', ylabel='Velocity (m/s)')\n\n# plot gas density along the flow direction\nax_rho = ax[1,0].twinx()\nh_rho = ax_rho.plot(soln.x, soln.density * 1000, color='C1', label='density')\nax_rho.set(ylabel=r'Density ($\\mathregular{g/cm^3}$)')\nax_rho.legend(handles=h_vel+h_rho)\n\n# plot major and minor gas species separately\nminor_idx = []\nmajor_idx = []\nfor i, name in enumerate(gas.species_names):\n    mean = np.mean(soln(name).Y)\n    if mean >= 0.001:\n        major_idx.append(i)\n    elif mean >= 1e-10:\n        minor_idx.append(i)\n\n# plot major gas species along the flow direction\nfor j in major_idx:\n    ax[0, 1].plot(soln.x, soln.Y[:,j], label=gas.species_name(j))\nax[0, 1].legend(fontsize=8, loc='best')\nax[0, 1].set(xlabel='Distance (m)', ylabel='Mass Fraction',\n             title='Gas phase major species')\n\n# plot minor gas species along the flow direction\nfor k, i in enumerate(minor_idx):\n    style = '-' if k < 10 else '--'\n    ax[1, 1].plot(soln.x, soln.Y[:,i], label=gas.species_name(i), linestyle=style)\nax[1, 1].legend(fontsize=7.5, loc='best')\nax[1, 1].set(xlabel='Distance (m)', ylabel='Mass Fraction',\n             title='Gas phase minor species')\n\n# plot the site fraction of the surface species along the flow direction\nfor i, name in enumerate(gas_si_n_interface.species_names):\n    ax[0, 2].plot(soln.x, soln.surf_coverages[:, i], label=name)\nax[0, 2].legend(fontsize=8)\nax[0, 2].set(xlabel='Distance (m)', ylabel='Site Fraction', title='Surface species')\n\n# plot the surface deposition of N and Si\nax[1, 2].plot(soln.x, soln.N_dep, label='N(D)')\nax[1, 2].plot(soln.x, soln.Si_dep, label='Si(D)')\nax[1, 2].set(xlabel='Distance (m)', ylabel='Deposition Rate (kmol/m$^2$/s)',\n             title='Bulk deposition')\nax[1, 2].legend()\n\nplt.show()"
      ]
    }
  ],
  "metadata": {
    "kernelspec": {
      "display_name": "Python 3",
      "language": "python",
      "name": "python3"
    },
    "language_info": {
      "codemirror_mode": {
        "name": "ipython",
        "version": 3
      },
      "file_extension": ".py",
      "mimetype": "text/x-python",
      "name": "python",
      "nbconvert_exporter": "python",
      "pygments_lexer": "ipython3",
      "version": "3.11.11"
    }
  },
  "nbformat": 4,
  "nbformat_minor": 0
}