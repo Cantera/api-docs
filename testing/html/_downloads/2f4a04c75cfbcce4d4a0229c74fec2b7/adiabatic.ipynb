{
  "cells": [
    {
      "cell_type": "markdown",
      "metadata": {},
      "source": [
        "\n# Adiabatic flame temperature including solid carbon formation\n\nAdiabatic flame temperature and equilibrium composition for a fuel/air mixture\nas a function of equivalence ratio, including formation of solid carbon.\n\nRequires: cantera >= 2.5.0, matplotlib >= 2.0\n\n.. tags:: Python, equilibrium, combustion, multiphase\n"
      ]
    },
    {
      "cell_type": "code",
      "execution_count": null,
      "metadata": {
        "collapsed": false
      },
      "outputs": [],
      "source": [
        "import cantera as ct\nimport numpy as np\nimport sys\nimport csv"
      ]
    },
    {
      "cell_type": "markdown",
      "metadata": {},
      "source": [
        "Edit these parameters to change the initial temperature, the pressure, and\nthe phases in the mixture.\n\n"
      ]
    },
    {
      "cell_type": "code",
      "execution_count": null,
      "metadata": {
        "collapsed": false
      },
      "outputs": [],
      "source": [
        "T = 300.0\nP = 101325.0\n\n# phases\ngas = ct.Solution('gri30.yaml')\ncarbon = ct.Solution('graphite.yaml')\n\n# the phases that will be included in the calculation, and their initial moles\nmix_phases = [(gas, 1.0), (carbon, 0.0)]\n\n# gaseous fuel species\nfuel_species = 'CH4'\n\n# equivalence ratio range\nnpoints = 50\nphi = np.linspace(0.3, 3.5, npoints)"
      ]
    },
    {
      "cell_type": "code",
      "execution_count": null,
      "metadata": {
        "collapsed": false
      },
      "outputs": [],
      "source": [
        "mix = ct.Mixture(mix_phases)\n\n# create some arrays to hold the data\ntad = np.zeros(npoints)\nxeq = np.zeros((mix.n_species, npoints))\n\nfor i in range(npoints):\n    # set the gas state\n    gas.set_equivalence_ratio(phi[i], fuel_species, 'O2:1.0, N2:3.76')\n\n    # create a mixture of 1 mole of gas, and 0 moles of solid carbon.\n    mix = ct.Mixture(mix_phases)\n    mix.T = T\n    mix.P = P\n\n    # equilibrate the mixture adiabatically at constant P\n    mix.equilibrate('HP', solver='gibbs', max_steps=1000)\n\n    tad[i] = mix.T\n    print('At phi = {0:12.4g}, Tad = {1:12.4g}'.format(phi[i], tad[i]))\n    xeq[:, i] = mix.species_moles\n\n# write output CSV file for importing into Excel\ncsv_file = 'adiabatic.csv'\nwith open(csv_file, 'w', newline='') as outfile:\n    writer = csv.writer(outfile)\n    writer.writerow(['phi', 'T (K)'] + mix.species_names)\n    for i in range(npoints):\n        writer.writerow([phi[i], tad[i]] + list(xeq[:, i]))\nprint('Output written to {0}'.format(csv_file))\n\nif '--plot' in sys.argv:\n    import matplotlib.pyplot as plt\n    plt.plot(phi, tad)\n    plt.xlabel('Equivalence ratio')\n    plt.ylabel('Adiabatic flame temperature [K]')\n    plt.show()"
      ]
    }
  ],
  "metadata": {
    "kernelspec": {
      "display_name": "Python 3",
      "language": "python",
      "name": "python3"
    },
    "language_info": {
      "codemirror_mode": {
        "name": "ipython",
        "version": 3
      },
      "file_extension": ".py",
      "mimetype": "text/x-python",
      "name": "python",
      "nbconvert_exporter": "python",
      "pygments_lexer": "ipython3",
      "version": "3.11.11"
    }
  },
  "nbformat": 4,
  "nbformat_minor": 0
}