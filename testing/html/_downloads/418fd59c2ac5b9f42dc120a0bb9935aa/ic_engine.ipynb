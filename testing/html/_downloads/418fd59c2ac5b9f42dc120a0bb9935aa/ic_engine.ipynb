{
  "cells": [
    {
      "cell_type": "markdown",
      "metadata": {},
      "source": [
        "\n# Diesel-type internal combustion engine simulation with gaseous fuel\n\nThe simulation uses n-dodecane as fuel, which is injected close to top dead\ncenter. Note that this example uses numerous simplifying assumptions and\nthus serves for illustration purposes only.\n\nRequires: cantera >= 3.0, scipy >= 0.19, matplotlib >= 2.0\n\n.. tags:: Python, combustion, thermodynamics, internal combustion engine,\n          thermodynamic cycle, reactor network, plotting, pollutant formation\n"
      ]
    },
    {
      "cell_type": "code",
      "execution_count": null,
      "metadata": {
        "collapsed": false
      },
      "outputs": [],
      "source": [
        "import cantera as ct\nimport numpy as np\n\nimport matplotlib.pyplot as plt"
      ]
    },
    {
      "cell_type": "markdown",
      "metadata": {},
      "source": [
        "## Input Parameters\n\n"
      ]
    },
    {
      "cell_type": "code",
      "execution_count": null,
      "metadata": {
        "collapsed": false
      },
      "outputs": [],
      "source": [
        "# reaction mechanism, kinetics type and compositions\nreaction_mechanism = 'nDodecane_Reitz.yaml'\nphase_name = 'nDodecane_IG'\ncomp_air = 'o2:1, n2:3.76'\ncomp_fuel = 'c12h26:1'\n\nf = 3000. / 60.  # engine speed [1/s] (3000 rpm)\nV_H = .5e-3  # displaced volume [m**3]\nepsilon = 20.  # compression ratio [-]\nd_piston = 0.083  # piston diameter [m]\n\n# turbocharger temperature, pressure, and composition\nT_inlet = 300.  # K\np_inlet = 1.3e5  # Pa\ncomp_inlet = comp_air\n\n# outlet pressure\np_outlet = 1.2e5  # Pa\n\n# fuel properties (gaseous!)\nT_injector = 300.  # K\np_injector = 1600e5  # Pa\ncomp_injector = comp_fuel\n\n# ambient properties\nT_ambient = 300.  # K\np_ambient = 1e5  # Pa\ncomp_ambient = comp_air\n\n# Inlet valve friction coefficient, open and close timings\ninlet_valve_coeff = 1.e-6\ninlet_open = -18. / 180. * np.pi\ninlet_close = 198. / 180. * np.pi\n\n# Outlet valve friction coefficient, open and close timings\noutlet_valve_coeff = 1.e-6\noutlet_open = 522. / 180 * np.pi\noutlet_close = 18. / 180. * np.pi\n\n# Fuel mass, injector open and close timings\ninjector_open = 350. / 180. * np.pi\ninjector_close = 365. / 180. * np.pi\ninjector_mass = 3.2e-5  # kg\n\n# Simulation time and parameters\nsim_n_revolutions = 8\ndelta_T_max = 20.\nrtol = 1.e-12\natol = 1.e-16"
      ]
    },
    {
      "cell_type": "markdown",
      "metadata": {},
      "source": [
        "## Set up IC engine Parameters and Functions\n\n"
      ]
    },
    {
      "cell_type": "code",
      "execution_count": null,
      "metadata": {
        "collapsed": false
      },
      "outputs": [],
      "source": [
        "V_oT = V_H / (epsilon - 1.)\nA_piston = .25 * np.pi * d_piston ** 2\nstroke = V_H / A_piston\n\n\ndef crank_angle(t):\n    \"\"\"Convert time to crank angle\"\"\"\n    return np.remainder(2 * np.pi * f * t, 4 * np.pi)\n\n\ndef piston_speed(t):\n    \"\"\"Approximate piston speed with sinusoidal velocity profile\"\"\"\n    return - stroke / 2 * 2 * np.pi * f * np.sin(crank_angle(t))"
      ]
    },
    {
      "cell_type": "markdown",
      "metadata": {},
      "source": [
        "## Set up Reactor Network\n\n"
      ]
    },
    {
      "cell_type": "code",
      "execution_count": null,
      "metadata": {
        "collapsed": false
      },
      "outputs": [],
      "source": [
        "# load reaction mechanism\ngas = ct.Solution(reaction_mechanism, phase_name)\n\n# define initial state and set up reactor\ngas.TPX = T_inlet, p_inlet, comp_inlet\ncyl = ct.IdealGasReactor(gas)\ncyl.volume = V_oT\n\n# define inlet state\ngas.TPX = T_inlet, p_inlet, comp_inlet\n# Note: The previous line is technically not needed as the state of the gas object is\n# already set correctly; change if inlet state is different from the reactor state.\ninlet = ct.Reservoir(gas)\n\n# inlet valve\ninlet_valve = ct.Valve(inlet, cyl)\ninlet_delta = np.mod(inlet_close - inlet_open, 4 * np.pi)\ninlet_valve.valve_coeff = inlet_valve_coeff\ninlet_valve.time_function = (\n    lambda t: np.mod(crank_angle(t) - inlet_open, 4 * np.pi) < inlet_delta)\n\n# define injector state (gaseous!)\ngas.TPX = T_injector, p_injector, comp_injector\ninjector = ct.Reservoir(gas)\n\n# injector is modeled as a mass flow controller\ninjector_mfc = ct.MassFlowController(injector, cyl)\ninjector_delta = np.mod(injector_close - injector_open, 4 * np.pi)\ninjector_t_open = (injector_close - injector_open) / 2. / np.pi / f\ninjector_mfc.mass_flow_coeff = injector_mass / injector_t_open\ninjector_mfc.time_function = (\n    lambda t: np.mod(crank_angle(t) - injector_open, 4 * np.pi) < injector_delta)\n\n# define outlet pressure (temperature and composition don't matter)\ngas.TPX = T_ambient, p_outlet, comp_ambient\noutlet = ct.Reservoir(gas)\n\n# outlet valve\noutlet_valve = ct.Valve(cyl, outlet)\noutlet_delta = np.mod(outlet_close - outlet_open, 4 * np.pi)\noutlet_valve.valve_coeff = outlet_valve_coeff\noutlet_valve.time_function = (\n    lambda t: np.mod(crank_angle(t) - outlet_open, 4 * np.pi) < outlet_delta)\n\n# define ambient pressure (temperature and composition don't matter)\ngas.TPX = T_ambient, p_ambient, comp_ambient\nambient_air = ct.Reservoir(gas)\n\n# piston is modeled as a moving wall\npiston = ct.Wall(ambient_air, cyl)\npiston.area = A_piston\npiston.velocity = piston_speed\n\n# create a reactor network containing the cylinder and limit advance step\nsim = ct.ReactorNet([cyl])\nsim.rtol, sim.atol = rtol, atol\ncyl.set_advance_limit('temperature', delta_T_max)"
      ]
    },
    {
      "cell_type": "markdown",
      "metadata": {},
      "source": [
        "## Run Simulation\n\n"
      ]
    },
    {
      "cell_type": "code",
      "execution_count": null,
      "metadata": {
        "collapsed": false
      },
      "outputs": [],
      "source": [
        "# set up output data arrays\nstates = ct.SolutionArray(\n    cyl.thermo,\n    extra=('t', 'ca', 'V', 'm', 'mdot_in', 'mdot_out', 'dWv_dt'),\n)\n\n# simulate with a maximum resolution of 1 deg crank angle\ndt = 1. / (360 * f)\nt_stop = sim_n_revolutions / f\nwhile sim.time < t_stop:\n\n    # perform time integration\n    sim.advance(sim.time + dt)\n\n    # calculate results to be stored\n    dWv_dt = - (cyl.thermo.P - ambient_air.thermo.P) * A_piston * \\\n        piston_speed(sim.time)\n\n    # append output data\n    states.append(cyl.thermo.state,\n                  t=sim.time, ca=crank_angle(sim.time),\n                  V=cyl.volume, m=cyl.mass,\n                  mdot_in=inlet_valve.mass_flow_rate,\n                  mdot_out=outlet_valve.mass_flow_rate,\n                  dWv_dt=dWv_dt)"
      ]
    },
    {
      "cell_type": "markdown",
      "metadata": {},
      "source": [
        "## Plot Results in matplotlib\n\n"
      ]
    },
    {
      "cell_type": "code",
      "execution_count": null,
      "metadata": {
        "collapsed": false
      },
      "outputs": [],
      "source": [
        "def ca_ticks(t):\n    \"\"\"Helper function converts time to rounded crank angle.\"\"\"\n    return np.round(crank_angle(t) * 180 / np.pi, decimals=1)\n\n\nt = states.t\n\n# pressure and temperature\nxticks = np.arange(0, 0.18, 0.02)\nfig, ax = plt.subplots(nrows=2)\nax[0].plot(t, states.P / 1.e5)\nax[0].set_ylabel('$p$ [bar]')\nax[0].set_xlabel(r'$\\phi$ [deg]')\nax[0].set_xticklabels([])\nax[1].plot(t, states.T)\nax[1].set_ylabel('$T$ [K]')\nax[1].set_xlabel(r'$\\phi$ [deg]')\nax[1].set_xticks(xticks)\nax[1].set_xticklabels(ca_ticks(xticks))\nplt.show()\n\n# p-V diagram\nfig, ax = plt.subplots()\nax.plot(states.V[t > 0.04] * 1000, states.P[t > 0.04] / 1.e5)\nax.set_xlabel('$V$ [l]')\nax.set_ylabel('$p$ [bar]')\nplt.show()\n\n# T-S diagram\nfig, ax = plt.subplots()\nax.plot(states.m[t > 0.04] * states.s[t > 0.04], states.T[t > 0.04])\nax.set_xlabel('$S$ [J/K]')\nax.set_ylabel('$T$ [K]')\nplt.show()\n\n# heat of reaction and expansion work\nfig, ax = plt.subplots()\nax.plot(t, 1.e-3 * states.heat_release_rate * states.V, label=r'$\\dot{Q}$')\nax.plot(t, 1.e-3 * states.dWv_dt, label=r'$\\dot{W}_v$')\nax.set_ylim(-1e2, 1e3)\nax.legend(loc=0)\nax.set_ylabel('[kW]')\nax.set_xlabel(r'$\\phi$ [deg]')\nax.set_xticks(xticks)\nax.set_xticklabels(ca_ticks(xticks))\nplt.show()\n\n# gas composition\nfig, ax = plt.subplots()\nax.plot(t, states('o2').X, label='O2')\nax.plot(t, states('co2').X, label='CO2')\nax.plot(t, states('co').X, label='CO')\nax.plot(t, states('c12h26').X * 10, label='n-dodecane x10')\nax.legend(loc=0)\nax.set_ylabel('$X_i$ [-]')\nax.set_xlabel(r'$\\phi$ [deg]')\nax.set_xticks(xticks)\nax.set_xticklabels(ca_ticks(xticks))\nplt.show()"
      ]
    },
    {
      "cell_type": "markdown",
      "metadata": {},
      "source": [
        "## Integral Results\n\n"
      ]
    },
    {
      "cell_type": "code",
      "execution_count": null,
      "metadata": {
        "collapsed": false
      },
      "outputs": [],
      "source": [
        "# heat release\nQ = np.trapz(states.heat_release_rate * states.V, t)\noutput_str = '{:45s}{:>4.1f} {}'\nprint(output_str.format('Heat release rate per cylinder (estimate):',\n                        Q / t[-1] / 1000., 'kW'))\n\n# expansion power\nW = np.trapz(states.dWv_dt, t)\nprint(output_str.format('Expansion power per cylinder (estimate):',\n                        W / t[-1] / 1000., 'kW'))\n\n# efficiency\neta = W / Q\nprint(output_str.format('Efficiency (estimate):', eta * 100., '%'))\n\n# CO emissions\nMW = states.mean_molecular_weight\nCO_emission = np.trapz(MW * states.mdot_out * states('CO').X[:, 0], t)\nCO_emission /= np.trapz(MW * states.mdot_out, t)\nprint(output_str.format('CO emission (estimate):', CO_emission * 1.e6, 'ppm'))"
      ]
    }
  ],
  "metadata": {
    "kernelspec": {
      "display_name": "Python 3",
      "language": "python",
      "name": "python3"
    },
    "language_info": {
      "codemirror_mode": {
        "name": "ipython",
        "version": 3
      },
      "file_extension": ".py",
      "mimetype": "text/x-python",
      "name": "python",
      "nbconvert_exporter": "python",
      "pygments_lexer": "ipython3",
      "version": "3.11.11"
    }
  },
  "nbformat": 4,
  "nbformat_minor": 0
}