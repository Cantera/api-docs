{
  "cells": [
    {
      "cell_type": "markdown",
      "metadata": {},
      "source": [
        "\n# Sound speeds (with units)\n\nCompute the \"equilibrium\" and \"frozen\" sound speeds for a gas. Uses the ``pint`` library\nto include customized units in the calculation.\n\nRequires: Cantera >= 3.0.0, pint\n\n.. tags:: Python, thermodynamics, equilibrium, units\n"
      ]
    },
    {
      "cell_type": "code",
      "execution_count": null,
      "metadata": {
        "collapsed": false
      },
      "outputs": [],
      "source": [
        "import cantera.with_units as ctu\nimport numpy as np\n\n# This sets the default output format of the units to have 2 significant digits\n# and the units are printed with a Unicode font. See:\n# https://pint.readthedocs.io/en/stable/user/formatting.html#unit-format-types\nif hasattr(ctu.cantera_units_registry, \"formatter\"):  # pint >= 0.24\n    ctu.cantera_units_registry.formatter.default_format = \".2F~P\"\nelse:\n    ctu.units.default_format = \".2F~P\"\n\ndef equilibrium_sound_speeds(gas, rtol=1.0e-6, max_iter=5000):\n    \"\"\"\n    Returns a tuple containing the equilibrium and frozen sound speeds for a\n    gas with an equilibrium composition.  The gas is first set to an\n    equilibrium state at the temperature and pressure of the gas, since\n    otherwise the equilibrium sound speed is not defined.\n    \"\"\"\n\n    # set the gas to equilibrium at its current T and P\n    gas.equilibrate('TP', rtol=rtol, max_iter=max_iter)\n\n    # save properties\n    s0 = gas.s\n    p0 = gas.P\n    r0 = gas.density\n\n    # perturb the pressure\n    p1 = p0*1.0001\n\n    # set the gas to a state with the same entropy and composition but\n    # the perturbed pressure\n    gas.SP = s0, p1\n\n    # frozen sound speed\n    afrozen = np.sqrt((p1 - p0)/(gas.density - r0)).to(\"ft/s\")\n\n    # now equilibrate the gas holding S and P constant\n    gas.equilibrate('SP', rtol=rtol, max_iter=max_iter)\n\n    # equilibrium sound speed\n    aequil = np.sqrt((p1 - p0)/(gas.density - r0)).to(\"ft/s\")\n\n    # check against the built-in sound speed function\n    afrozen2 = gas.sound_speed.to(\"ft/s\")\n\n    return aequil, afrozen, afrozen2\n\n# test program\nif __name__ == \"__main__\":\n    gas = ctu.Solution('gri30.yaml')\n    gas.X = 'CH4:1.00, O2:2.0, N2:7.52'\n    T_range = np.linspace(80, 4880, 25) * ctu.units.degF\n    print(\"Temperature      Equilibrium Sound Speed     Frozen Sound Speed      Frozen Sound Speed Check\")\n    for T in T_range:\n        gas.TP = T, 1.0 * ctu.units.atm\n        print(T.to(\"degF\"), *equilibrium_sound_speeds(gas), sep = \"               \")"
      ]
    }
  ],
  "metadata": {
    "kernelspec": {
      "display_name": "Python 3",
      "language": "python",
      "name": "python3"
    },
    "language_info": {
      "codemirror_mode": {
        "name": "ipython",
        "version": 3
      },
      "file_extension": ".py",
      "mimetype": "text/x-python",
      "name": "python",
      "nbconvert_exporter": "python",
      "pygments_lexer": "ipython3",
      "version": "3.11.11"
    }
  },
  "nbformat": 4,
  "nbformat_minor": 0
}