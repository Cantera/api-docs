{
  "cells": [
    {
      "cell_type": "markdown",
      "metadata": {},
      "source": [
        "\n# Laminar flame speed sensitivity analysis\n\nIn this example we simulate a freely-propagating, adiabatic, premixed methane-air flame,\ncalculate its laminar burning velocity and perform a sensitivity analysis of its\nkinetics with respect to each reaction rate constant.\n\nRequires: cantera >= 3.0.0, pandas\n\n.. tags:: Python, combustion, 1D flow, flame speed, premixed flame,\n          sensitivity analysis, plotting\n\nThe figure below illustrates the setup, in a flame-fixed coordinate system. The\nreactants enter with density $\\rho_u$, temperature $T_u$ and speed\n$S_u$. The products exit the flame at speed $S_b$, density $\\rho_b$\nand temperature $T_b$.\n\n<img src=\"file://_static/images/samples/flame-speed.svg\" width=\"50%\" alt=\"Freely Propagating Flame\" align=\"center\">\n"
      ]
    },
    {
      "cell_type": "code",
      "execution_count": null,
      "metadata": {
        "collapsed": false
      },
      "outputs": [],
      "source": [
        "import cantera as ct\nimport numpy as np\nimport pandas as pd\nimport matplotlib.pyplot as plt\n\nplt.rcParams['figure.constrained_layout.use'] = True"
      ]
    },
    {
      "cell_type": "markdown",
      "metadata": {},
      "source": [
        "## Simulation parameters\n\n"
      ]
    },
    {
      "cell_type": "code",
      "execution_count": null,
      "metadata": {
        "collapsed": false
      },
      "outputs": [],
      "source": [
        "# Define the gas mixture and kinetics used to compute mixture properties\n# In this case, we are using the GRI 3.0 model with methane as the fuel\nmech_file = \"gri30.yaml\"\nfuel_comp = {\"CH4\": 1.0}\n\n# Inlet temperature in kelvin and inlet pressure in pascals\n# In this case we are setting the inlet T and P to room temperature conditions\nTo = 300\nPo = ct.one_atm\n\n# Domain width in metres\nwidth = 0.014"
      ]
    },
    {
      "cell_type": "markdown",
      "metadata": {},
      "source": [
        "## Simulation setup\n\n"
      ]
    },
    {
      "cell_type": "code",
      "execution_count": null,
      "metadata": {
        "collapsed": false
      },
      "outputs": [],
      "source": [
        "# Create the object representing the gas and set its state to match the inlet conditions\ngas = ct.Solution(mech_file)\ngas.TP = To, Po\ngas.set_equivalence_ratio(1.0, fuel_comp, {\"O2\": 1.0, \"N2\": 3.76})\n\nflame = ct.FreeFlame(gas, width=width)\nflame.set_refine_criteria(ratio=3, slope=0.07, curve=0.14)"
      ]
    },
    {
      "cell_type": "markdown",
      "metadata": {},
      "source": [
        "## Solve the flame\n\n"
      ]
    },
    {
      "cell_type": "code",
      "execution_count": null,
      "metadata": {
        "collapsed": false
      },
      "outputs": [],
      "source": [
        "flame.solve(loglevel=1, auto=True)"
      ]
    },
    {
      "cell_type": "code",
      "execution_count": null,
      "metadata": {
        "collapsed": false
      },
      "outputs": [],
      "source": [
        "print(f\"\\nmixture-averaged flame speed = {flame.velocity[0]:7f} m/s\\n\")"
      ]
    },
    {
      "cell_type": "markdown",
      "metadata": {},
      "source": [
        "## Plot temperature and major species profiles\n\nCheck and see if all has gone well.\n\n"
      ]
    },
    {
      "cell_type": "code",
      "execution_count": null,
      "metadata": {
        "collapsed": false
      },
      "outputs": [],
      "source": [
        "# Extract the spatial profiles as a SolutionArray to simplify plotting specific species\nprofile = flame.to_array()\n\nfig, ax = plt.subplots()\n\nax.plot(profile.grid * 100, profile.T, \".-\")\nax.set_xlabel(\"Distance [cm]\")\nax.set_ylabel(\"Temperature [K]\")"
      ]
    },
    {
      "cell_type": "code",
      "execution_count": null,
      "metadata": {
        "collapsed": false
      },
      "outputs": [],
      "source": [
        "fig, ax = plt.subplots()\n\nax.plot(profile.grid * 100, profile(\"CH4\").X, \"--\", label=\"CH$_4$\")\nax.plot(profile.grid * 100, profile(\"O2\").X, label=\"O$_2$\")\nax.plot(profile.grid * 100, profile(\"CO2\").X, \"--\", label=\"CO$_2$\")\nax.plot(profile.grid * 100, profile(\"H2O\").X, label=\"H$_2$O\")\n\nax.legend(loc=\"best\")\nax.set_xlabel(\"Distance [cm]\")\nax.set_ylabel(\"Mole fraction [-]\")"
      ]
    },
    {
      "cell_type": "markdown",
      "metadata": {},
      "source": [
        "## Sensitivity Analysis\n\nSee which reactions affect the flame speed the most. The sensitivities can be\nefficiently computed using the adjoint method. In the general case, we consider a\nsystem $f(x, p) = 0$ where $x$ is the system's state vector and $p$\nis a vector of parameters. To compute the sensitivities of a scalar function\n$g(x, p)$ to the parameters, we solve the system:\n\n\\begin{align}\\left(\\frac{\\partial f}{\\partial x}\\right)^T \\lambda =\n       \\left(\\frac{\\partial g}{\\partial x}\\right)^T\\end{align}\n\nfor the Lagrange multiplier vector $\\lambda$. The sensitivities are then\ncomputed as\n\n\\begin{align}\\left.\\frac{dg}{dp}\\right|_{f=0} =\n       \\frac{\\partial g}{\\partial p} - \\lambda^T \\frac{\\partial f}{\\partial p}\\end{align}\n\nIn the case of flame speed sensitivity to the reaction rate coefficients,\n$g = S_u$ and $\\partial g/\\partial p = 0$. Since\n$\\partial f/\\partial x$ is already computed as part of the normal solution\nprocess, computing the sensitivities for $N$ reactions only requires $N$\nadditional evaluations of the residual function to obtain\n$\\partial f/\\partial p$, plus the solution of the linear system for\n$\\lambda$.\n\nCalculation of flame speed sensitivities with respect to rate coefficients is\nimplemented by the method `FreeFlame.get_flame_speed_reaction_sensitivities`. For\nother sensitivities, the method `Sim1D.solve_adjoint` can be used.\n\n"
      ]
    },
    {
      "cell_type": "code",
      "execution_count": null,
      "metadata": {
        "collapsed": false
      },
      "outputs": [],
      "source": [
        "# Create a DataFrame to store sensitivity-analysis data\nsens = pd.DataFrame(index=gas.reaction_equations(), columns=[\"sensitivity\"])\n\n# Use the adjoint method to calculate sensitivities\nsens.sensitivity = flame.get_flame_speed_reaction_sensitivities()\n\n# Show the first 10 sensitivities\nsens.head(10)"
      ]
    },
    {
      "cell_type": "code",
      "execution_count": null,
      "metadata": {
        "collapsed": false
      },
      "outputs": [],
      "source": [
        "# Sort the sensitivities in order of descending magnitude\nsens = sens.iloc[(-sens['sensitivity'].abs()).argsort()]\n\nfig, ax = plt.subplots()\n\n# Reaction mechanisms can contains thousands of elementary steps. Limit the plot\n# to the top 15\nsens.head(15).plot.barh(ax=ax, legend=None)\n\nax.invert_yaxis()  # put the largest sensitivity on top\nax.set_title(\"Sensitivities for GRI 3.0\")\nax.set_xlabel(r\"Sensitivity: $\\frac{\\partial\\:\\ln S_u}{\\partial\\:\\ln k}$\")\nax.grid(axis='x')"
      ]
    }
  ],
  "metadata": {
    "kernelspec": {
      "display_name": "Python 3",
      "language": "python",
      "name": "python3"
    },
    "language_info": {
      "codemirror_mode": {
        "name": "ipython",
        "version": 3
      },
      "file_extension": ".py",
      "mimetype": "text/x-python",
      "name": "python",
      "nbconvert_exporter": "python",
      "pygments_lexer": "ipython3",
      "version": "3.11.11"
    }
  },
  "nbformat": 4,
  "nbformat_minor": 0
}