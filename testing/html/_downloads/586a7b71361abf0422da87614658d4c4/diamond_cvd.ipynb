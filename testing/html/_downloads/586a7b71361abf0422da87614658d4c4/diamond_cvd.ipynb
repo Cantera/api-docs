{
  "cells": [
    {
      "cell_type": "markdown",
      "metadata": {},
      "source": [
        "\n# Growth of diamond film using CVD\n\nThis example computes the growth rate of a diamond film according to a simplified\nversion of a particular published growth mechanism (see\n:doc:`diamond.yaml <../../input/diamond>` for details). Only the surface coverage\nequations are solved here; the gas composition is fixed. (For an example of coupled\ngas-phase and surface, see\n:doc:`catalytic_combustion.py <../onedim/catalytic_combustion>`.) Atomic hydrogen plays\nan important role in diamond CVD, and this example computes the growth rate and surface\ncoverages as a function of [H] at the surface for fixed temperature and [CH3].\n\nRequires: cantera >= 2.6.0, pandas >= 0.25.0, matplotlib >= 2.0\n\n.. tags:: Python, surface chemistry, kinetics\n"
      ]
    },
    {
      "cell_type": "code",
      "execution_count": null,
      "metadata": {
        "collapsed": false
      },
      "outputs": [],
      "source": [
        "import csv\nimport matplotlib.pyplot as plt\nimport pandas as pd\nimport cantera as ct"
      ]
    },
    {
      "cell_type": "markdown",
      "metadata": {},
      "source": [
        "Import the model for the diamond (100) surface and the adjacent bulk phases\n\n"
      ]
    },
    {
      "cell_type": "code",
      "execution_count": null,
      "metadata": {
        "collapsed": false
      },
      "outputs": [],
      "source": [
        "d = ct.Interface(\"diamond.yaml\", \"diamond_100\")\ng = d.adjacent[\"gas\"]\ndbulk = d.adjacent[\"diamond\"]\n\nmw = dbulk.molecular_weights[0]\n\nt = 1200.0\nx = g.X\np = 20.0 * ct.one_atm / 760.0  # 20 Torr\ng.TP = t, p\n\nih = g.species_index('H')\n\nxh0 = x[ih]"
      ]
    },
    {
      "cell_type": "markdown",
      "metadata": {},
      "source": [
        "Calculate growth rate as a function of H mole fraction in the gas\n\n"
      ]
    },
    {
      "cell_type": "code",
      "execution_count": null,
      "metadata": {
        "collapsed": false
      },
      "outputs": [],
      "source": [
        "with open('diamond.csv', 'w', newline='') as f:\n    writer = csv.writer(f)\n    writer.writerow(['H mole Fraction', 'Growth Rate (microns/hour)'] +\n                    d.species_names)\n\n    iC = d.kinetics_species_index('C(d)')\n\n    for n in range(20):\n        x[ih] /= 1.4\n        g.TPX = t, p, x\n        d.advance_coverages(10.0)  # integrate the coverages to steady state\n        carbon_dot = d.net_production_rates[iC]\n        mdot = mw * carbon_dot\n        rate = mdot / dbulk.density\n        writer.writerow([x[ih], rate * 1.0e6 * 3600.0] + list(d.coverages))\n\n    print('H concentration, growth rate, and surface coverages '\n          'written to file diamond.csv')"
      ]
    },
    {
      "cell_type": "markdown",
      "metadata": {},
      "source": [
        "Plot the results\n\n"
      ]
    },
    {
      "cell_type": "code",
      "execution_count": null,
      "metadata": {
        "collapsed": false
      },
      "outputs": [],
      "source": [
        "data = pd.read_csv('diamond.csv')\n\ndata.plot(x=\"H mole Fraction\", y=\"Growth Rate (microns/hour)\", legend=False)\nplt.xlabel('H Mole Fraction')\nplt.ylabel('Growth Rate (microns/hr)')\nplt.show()"
      ]
    },
    {
      "cell_type": "code",
      "execution_count": null,
      "metadata": {
        "collapsed": false
      },
      "outputs": [],
      "source": [
        "names = [name for name in data.columns if not name.startswith(('H mole', 'Growth'))]\ndata.plot(x='H mole Fraction', y=names, legend=True)\nplt.xlabel('H Mole Fraction')\nplt.ylabel('Coverage')\nplt.show()"
      ]
    }
  ],
  "metadata": {
    "kernelspec": {
      "display_name": "Python 3",
      "language": "python",
      "name": "python3"
    },
    "language_info": {
      "codemirror_mode": {
        "name": "ipython",
        "version": 3
      },
      "file_extension": ".py",
      "mimetype": "text/x-python",
      "name": "python",
      "nbconvert_exporter": "python",
      "pygments_lexer": "ipython3",
      "version": "3.11.11"
    }
  },
  "nbformat": 4,
  "nbformat_minor": 0
}