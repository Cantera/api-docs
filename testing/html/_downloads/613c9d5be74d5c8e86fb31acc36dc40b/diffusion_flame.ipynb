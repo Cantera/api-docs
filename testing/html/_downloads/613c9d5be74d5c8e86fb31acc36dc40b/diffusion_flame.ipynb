{
  "cells": [
    {
      "cell_type": "markdown",
      "metadata": {},
      "source": [
        "\n# Counterflow diffusion flame\n\nAn opposed-flow ethane/air diffusion flame\n\nRequires: cantera >= 3.0, matplotlib >= 2.0\n\n.. tags:: Python, combustion, 1D flow, diffusion flame, strained flame, plotting,\n          saving output\n"
      ]
    },
    {
      "cell_type": "code",
      "execution_count": null,
      "metadata": {
        "collapsed": false
      },
      "outputs": [],
      "source": [
        "from pathlib import Path\nimport cantera as ct\nimport matplotlib.pyplot as plt"
      ]
    },
    {
      "cell_type": "markdown",
      "metadata": {},
      "source": [
        "Input parameters\n\n"
      ]
    },
    {
      "cell_type": "code",
      "execution_count": null,
      "metadata": {
        "collapsed": false
      },
      "outputs": [],
      "source": [
        "p = ct.one_atm  # pressure\ntin_f = 300.0  # fuel inlet temperature\ntin_o = 300.0  # oxidizer inlet temperature\nmdot_o = 0.72  # kg/m^2/s\nmdot_f = 0.24  # kg/m^2/s\n\ncomp_o = 'O2:0.21, N2:0.78, AR:0.01'  # air composition\ncomp_f = 'C2H6:1'  # fuel composition\n\nwidth = 0.02  # Distance between inlets is 2 cm\n\nloglevel = 1  # amount of diagnostic output (0 to 5)"
      ]
    },
    {
      "cell_type": "markdown",
      "metadata": {},
      "source": [
        "Set up the simulation:\n\n"
      ]
    },
    {
      "cell_type": "code",
      "execution_count": null,
      "metadata": {
        "collapsed": false
      },
      "outputs": [],
      "source": [
        "# Create the gas object used to evaluate all thermodynamic, kinetic, and\n# transport properties.\ngas = ct.Solution('gri30.yaml')\ngas.TP = gas.T, p\n\n# Create an object representing the counterflow flame configuration,\n# which consists of a fuel inlet on the left, the flow in the middle,\n# and the oxidizer inlet on the right.\nf = ct.CounterflowDiffusionFlame(gas, width=width)\n\n# Set the state of the two inlets\nf.fuel_inlet.mdot = mdot_f\nf.fuel_inlet.X = comp_f\nf.fuel_inlet.T = tin_f\n\nf.oxidizer_inlet.mdot = mdot_o\nf.oxidizer_inlet.X = comp_o\nf.oxidizer_inlet.T = tin_o\n\n# Set the boundary emissivities\nf.boundary_emissivities = 0.0, 0.0\n# Turn radiation off\nf.radiation_enabled = False\n\nf.set_refine_criteria(ratio=4, slope=0.2, curve=0.3, prune=0.04)"
      ]
    },
    {
      "cell_type": "markdown",
      "metadata": {},
      "source": [
        "Solve the problem\n\n"
      ]
    },
    {
      "cell_type": "code",
      "execution_count": null,
      "metadata": {
        "collapsed": false
      },
      "outputs": [],
      "source": [
        "f.solve(loglevel, auto=True)"
      ]
    },
    {
      "cell_type": "code",
      "execution_count": null,
      "metadata": {
        "collapsed": false
      },
      "outputs": [],
      "source": [
        "f.show()\n\nif \"native\" in ct.hdf_support():\n    output = Path() / \"diffusion_flame.h5\"\nelse:\n    output = Path() / \"diffusion_flame.yaml\"\noutput.unlink(missing_ok=True)\n\nf.save(output)"
      ]
    },
    {
      "cell_type": "markdown",
      "metadata": {},
      "source": [
        "write the velocity, temperature, and mole fractions to a CSV file\n\n"
      ]
    },
    {
      "cell_type": "code",
      "execution_count": null,
      "metadata": {
        "collapsed": false
      },
      "outputs": [],
      "source": [
        "f.save('diffusion_flame.csv', basis=\"mole\", overwrite=True)\nf.show_stats(0)\nno_rad = f.to_array()"
      ]
    },
    {
      "cell_type": "markdown",
      "metadata": {},
      "source": [
        "Turn on radiation and solve again\n\n"
      ]
    },
    {
      "cell_type": "code",
      "execution_count": null,
      "metadata": {
        "collapsed": false
      },
      "outputs": [],
      "source": [
        "f.radiation_enabled = True\nf.solve(loglevel=1, refine_grid=False)"
      ]
    },
    {
      "cell_type": "code",
      "execution_count": null,
      "metadata": {
        "collapsed": false
      },
      "outputs": [],
      "source": [
        "f.show()"
      ]
    },
    {
      "cell_type": "markdown",
      "metadata": {},
      "source": [
        "Plot temperature with and without radiation\n\n"
      ]
    },
    {
      "cell_type": "code",
      "execution_count": null,
      "metadata": {
        "collapsed": false
      },
      "outputs": [],
      "source": [
        "fig, ax = plt.subplots()\nax.plot(no_rad.grid, no_rad.T, label='Temperature without radiation')\nplt.plot(f.grid, f.T, label='Temperature with radiation')\nax.set_title('Temperature of the flame')\nax.set(ylim=(0,2500), xlim=(0.000, 0.020))\nax.legend()\nfig.savefig('./diffusion_flame.pdf')\nplt.show()"
      ]
    }
  ],
  "metadata": {
    "kernelspec": {
      "display_name": "Python 3",
      "language": "python",
      "name": "python3"
    },
    "language_info": {
      "codemirror_mode": {
        "name": "ipython",
        "version": 3
      },
      "file_extension": ".py",
      "mimetype": "text/x-python",
      "name": "python",
      "nbconvert_exporter": "python",
      "pygments_lexer": "ipython3",
      "version": "3.11.11"
    }
  },
  "nbformat": 4,
  "nbformat_minor": 0
}