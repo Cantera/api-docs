{
  "cells": [
    {
      "cell_type": "markdown",
      "metadata": {},
      "source": [
        "\n# Reactors separated by a moving piston\n\nTwo reactors separated by a piston that moves with a speed proportional to the pressure\ndifference between the reactors.\n\n- Gas 1: a stoichiometric H2/O2/Ar mixture\n- Gas 2: a wet CO/O2 mixture\n\n.. code:: none\n\n    -------------------------------------\n    |          ||                       |\n    |          ||                       |\n    |  gas 1   ||        gas 2          |\n    |          ||                       |\n    |          ||                       |\n    -------------------------------------\n\n\nThe two volumes are connected by an adiabatic free piston. The piston speed is\nproportional to the pressure difference between the two chambers.\n\nNote that each side uses a *different* reaction mechanism\n\nRequires: cantera >= 2.5.0, matplotlib >= 2.0\n\n.. tags:: Python, combustion, reactor network, plotting\n"
      ]
    },
    {
      "cell_type": "code",
      "execution_count": null,
      "metadata": {
        "collapsed": false
      },
      "outputs": [],
      "source": [
        "import sys\nimport cantera as ct\nimport matplotlib.pyplot as plt\nplt.rcParams['figure.constrained_layout.use'] = True"
      ]
    },
    {
      "cell_type": "markdown",
      "metadata": {},
      "source": [
        "Create objects representing the gases and reactors\n\n"
      ]
    },
    {
      "cell_type": "code",
      "execution_count": null,
      "metadata": {
        "collapsed": false
      },
      "outputs": [],
      "source": [
        "gas1 = ct.Solution('h2o2.yaml')\ngas1.TPX = 900.0, ct.one_atm, 'H2:2, O2:1, AR:20'\n\ngas2 = ct.Solution('gri30.yaml')\ngas2.TPX = 900.0, ct.one_atm, 'CO:2, H2O:0.01, O2:5'\n\nr1 = ct.IdealGasReactor(gas1)\nr1.volume = 0.5\nr2 = ct.IdealGasReactor(gas2)\nr2.volume = 0.1"
      ]
    },
    {
      "cell_type": "markdown",
      "metadata": {},
      "source": [
        "The wall is held fixed until t = 0.1 s, then released to allow the pressure to\nequilibrate.\n\n"
      ]
    },
    {
      "cell_type": "code",
      "execution_count": null,
      "metadata": {
        "collapsed": false
      },
      "outputs": [],
      "source": [
        "def v(t):\n    if t < 0.1:\n        return 0.0\n    else:\n        return (r1.thermo.P - r2.thermo.P) * 1e-4\n\nw = ct.Wall(r1, r2, velocity=v)\n\nnet = ct.ReactorNet([r1, r2])"
      ]
    },
    {
      "cell_type": "markdown",
      "metadata": {},
      "source": [
        "Run the simulation and collect the states of each reactor\n\n"
      ]
    },
    {
      "cell_type": "code",
      "execution_count": null,
      "metadata": {
        "collapsed": false
      },
      "outputs": [],
      "source": [
        "states1 = ct.SolutionArray(r1.thermo, extra=['t', 'volume'])\nstates2 = ct.SolutionArray(r2.thermo, extra=['t', 'volume'])\n\nfmt = '{:10.3f}  {:10.1f}  {:10.4f}  {:10.4g}  {:10.4g}  {:10.4g}  {:10.4g}'\nprint('{:>10}  {:>10}  {:>10}  {:>10}  {:>10}  {:>10}  {:>10}'.format(\n    'time [s]', 'T1 [K]', 'T2 [K]', 'V1 [m^3]', 'V2 [m^3]', 'Vtot [m^3]', 'X(CO)'))\nfor n in range(200):\n    time = (n+1)*0.001\n    net.advance(time)\n    if n % 4 == 3:\n        print(fmt.format(time, r1.T, r2.T, r1.volume, r2.volume,\n                         r1.volume + r2.volume, r2.thermo['CO'].X[0]))\n\n    states1.append(r1.thermo.state, t=1000*time, volume=r1.volume)\n    states2.append(r2.thermo.state, t=1000*time, volume=r2.volume)"
      ]
    },
    {
      "cell_type": "markdown",
      "metadata": {},
      "source": [
        "Plot the results\n\n"
      ]
    },
    {
      "cell_type": "code",
      "execution_count": null,
      "metadata": {
        "collapsed": false
      },
      "outputs": [],
      "source": [
        "fig, ax = plt.subplots(2, 2)\nax[0,0].plot(states1.t, states1.T, '-', states2.t, states2.T, 'r-')\nax[0,0].set(xlabel='Time (ms)', ylabel='Temperature (K)')\n\nax[0,1].plot(states1.t, states1.volume, '-', states2.t, states2.volume, 'r-',\n             states1.t, states1.volume + states2.volume, 'g-')\nax[0,1].set(xlabel='Time (ms)', ylabel='Volume (m3)')\n\nax[1,0].plot(states2.t, states2('CO').X)\nax[1,0].set(xlabel='Time (ms)', ylabel='CO Mole Fraction (right)')\n\nax[1,1].plot(states1.t, states1('H2').X)\nax[1,1].set(xlabel='Time (ms)', ylabel='H2 Mole Fraction (left)')\nplt.show()"
      ]
    }
  ],
  "metadata": {
    "kernelspec": {
      "display_name": "Python 3",
      "language": "python",
      "name": "python3"
    },
    "language_info": {
      "codemirror_mode": {
        "name": "ipython",
        "version": 3
      },
      "file_extension": ".py",
      "mimetype": "text/x-python",
      "name": "python",
      "nbconvert_exporter": "python",
      "pygments_lexer": "ipython3",
      "version": "3.11.11"
    }
  },
  "nbformat": 4,
  "nbformat_minor": 0
}