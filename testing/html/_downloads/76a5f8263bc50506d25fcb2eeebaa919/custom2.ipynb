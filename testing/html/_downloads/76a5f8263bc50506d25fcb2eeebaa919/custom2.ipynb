{
  "cells": [
    {
      "cell_type": "markdown",
      "metadata": {},
      "source": [
        "\n# Using `ExtensibleReactor` to implement wall inertia\n\nSolve an ignition problem where the normal reactor governing equations are\nextended with additional equations implemented in Python.\n\nThis demonstrates an approach for solving problems where Cantera's built-in reactor\nmodels are not sufficient for describing the system in question. Unlike the\n:doc:`custom.py <custom>` example, in this example Cantera's existing `Reactor` and\n`ReactorNet` code is still used, with only the modifications to the standard equations\nimplemented in Python by extending the `ExtensibleReactor` class.\n\nWall objects in Cantera are normally massless, with the velocity either imposed\nor proportional to the pressure difference. Here, we simulate a wall where the\nacceleration is proportional to the pressure difference, and the velocity is\ndetermined by integrating the equation of motion. This requires adding a new\nvariable to the reactor's state vector which represents the wall velocity.\n\nRequires: cantera >= 3.0, matplotlib >= 2.0\n\n.. tags:: Python, combustion, reactor network, user-defined model, plotting\n"
      ]
    },
    {
      "cell_type": "code",
      "execution_count": null,
      "metadata": {
        "collapsed": false
      },
      "outputs": [],
      "source": [
        "import cantera as ct\nimport numpy as np\n\nclass InertialWallReactor(ct.ExtensibleIdealGasReactor):\n    def __init__(self, *args, neighbor, **kwargs):\n        super().__init__(*args, **kwargs)\n        self.v_wall = 0  # initial wall velocity\n        self.k_wall = 1e-2  # proportionality constant, a_wall = k_wall * delta P\n        self.neighbor = neighbor\n\n    def after_initialize(self, t0):\n        # The initialize function for the base Reactor class will have set\n        # n_vars to already include the volume, internal energy, mass, and mass\n        # fractions of all the species. Increase this by one to account for\n        # the added variable of the wall velocity.\n        self.n_vars += 1\n\n        # The index for the new variable / equation, which is at the end of the\n        # state vector\n        self.i_wall = self.n_vars - 1\n\n    def after_get_state(self, y):\n        # This method is used to set the initial condition used by the ODE solver\n        y[self.i_wall] = self.v_wall\n\n    def after_update_state(self, y):\n        # This method is used to set the state of the Reactor and Wall objects\n        # based on the new values for the state vector provided by the ODE solver\n        self.v_wall = y[self.i_wall]\n        self.walls[0].velocity = self.v_wall\n\n    def after_eval(self, t, LHS, RHS):\n        # Calculate the time derivative for the additional equation\n        a = self.k_wall * (self.thermo.P - self.neighbor.thermo.P)\n        RHS[self.i_wall] = a\n\n    def before_component_index(self, name):\n        # Other components are handled by the method from the base Reactor class\n        if name == 'v_wall':\n            return self.i_wall\n\n    def before_component_name(self, i):\n        # Other components are handled by the method from the base Reactor class\n        if i == self.i_wall:\n            return 'v_wall'\n\n\ngas = ct.Solution('h2o2.yaml')\n\n# Initial condition\nP = ct.one_atm\ngas.TPY = 920, P, 'H2:1.0, O2:1.0, N2:3.76'\n\n# Set up the reactor network\nres = ct.Reservoir(gas)\nr = InertialWallReactor(gas, neighbor=res)\nw = ct.Wall(r, res)\nnet = ct.ReactorNet([r])\n\n# Integrate the equations, keeping T(t) and Y(k,t)\nstates = ct.SolutionArray(gas, 1, extra={'t': [0.0], 'V': [r.volume]})\nwhile net.time < 0.5:\n    net.advance(net.time + 0.005)\n    states.append(TPY=r.thermo.TPY, V=r.volume, t=net.time)\n\n# Plot the results\ntry:\n    import matplotlib.pyplot as plt\n    L1 = plt.plot(states.t, states.T, color='r', label='T', lw=2)\n    plt.xlabel('time (s)')\n    plt.ylabel('Temperature (K)')\n    plt.twinx()\n    L2 = plt.plot(states.t, states.V, label='volume', lw=2)\n    plt.ylabel('Volume (m$^3$)')\n    plt.legend(L1+L2, [line.get_label() for line in L1+L2], loc='lower right')\n    plt.show()\nexcept ImportError:\n    print('Matplotlib not found. Unable to plot results.')"
      ]
    }
  ],
  "metadata": {
    "kernelspec": {
      "display_name": "Python 3",
      "language": "python",
      "name": "python3"
    },
    "language_info": {
      "codemirror_mode": {
        "name": "ipython",
        "version": 3
      },
      "file_extension": ".py",
      "mimetype": "text/x-python",
      "name": "python",
      "nbconvert_exporter": "python",
      "pygments_lexer": "ipython3",
      "version": "3.11.11"
    }
  },
  "nbformat": 4,
  "nbformat_minor": 0
}