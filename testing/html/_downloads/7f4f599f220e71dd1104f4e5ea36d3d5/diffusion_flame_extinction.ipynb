{
  "cells": [
    {
      "cell_type": "markdown",
      "metadata": {},
      "source": [
        "\n# Diffusion flame extinction strain rate\n\nThis example computes the extinction point of a counterflow diffusion flame.\nA hydrogen-oxygen diffusion flame at 1 bar is studied.\n\nThe tutorial makes use of the scaling rules derived by Fiala and Sattelmayer\n(doi:10.1155/2014/484372). Please refer to this publication for a detailed\nexplanation. Also, please don't forget to cite it if you make use of it.\n\nRequires: cantera >= 3.0, matplotlib >= 2.0\n\n.. tags:: Python, combustion, 1D flow, diffusion flame, strained flame, extinction,\n          saving output, plotting\n"
      ]
    },
    {
      "cell_type": "code",
      "execution_count": null,
      "metadata": {
        "collapsed": false
      },
      "outputs": [],
      "source": [
        "from pathlib import Path\nimport numpy as np\nimport matplotlib.pyplot as plt\n\nimport cantera as ct"
      ]
    },
    {
      "cell_type": "markdown",
      "metadata": {},
      "source": [
        "## Initialization\nSet up an initial hydrogen-oxygen counterflow flame at 1 bar and low strain\nrate (maximum axial velocity gradient = 2414 1/s)\n\n"
      ]
    },
    {
      "cell_type": "code",
      "execution_count": null,
      "metadata": {
        "collapsed": false
      },
      "outputs": [],
      "source": [
        "reaction_mechanism = 'h2o2.yaml'\ngas = ct.Solution(reaction_mechanism)\nwidth = 18.e-3  # 18mm wide\nf = ct.CounterflowDiffusionFlame(gas, width=width)\n\n# Define the operating pressure and boundary conditions\nf.P = 1.e5  # 1 bar\nf.fuel_inlet.mdot = 0.5  # kg/m^2/s\nf.fuel_inlet.X = 'H2:1'\nf.fuel_inlet.T = 300  # K\nf.oxidizer_inlet.mdot = 3.0  # kg/m^2/s\nf.oxidizer_inlet.X = 'O2:1'\nf.oxidizer_inlet.T = 500  # K\n\n# Set refinement parameters\nf.set_refine_criteria(ratio=3.0, slope=0.1, curve=0.2, prune=0.03)\n\n# Define a limit for the maximum temperature below which the flame is\n# considered as extinguished and the computation is aborted\ntemperature_limit_extinction = max(f.oxidizer_inlet.T, f.fuel_inlet.T)\n\n# Initialize and solve\nprint('Creating the initial solution')\nf.solve(loglevel=0, auto=True)\n\n# Define output locations\noutput_path = Path() / \"diffusion_flame_extinction_data\"\noutput_path.mkdir(parents=True, exist_ok=True)\n\nhdf_output = \"native\" in ct.hdf_support()\nif hdf_output:\n    file_name = output_path / \"flame_data.h5\"\n    file_name.unlink(missing_ok=True)\n\ndef names(test):\n    if hdf_output:\n        # use internal container structure for HDF\n        file_name = output_path / \"flame_data.h5\"\n        return file_name, test\n    # use separate files for YAML\n    file_name = output_path / f\"{test}.yaml\".replace(\"-\", \"_\").replace(\"/\", \"_\")\n    return file_name, \"solution\"\n\nfile_name, entry = names(\"initial-solution\")\nf.save(file_name, name=entry, description=\"Initial solution\", overwrite=True)"
      ]
    },
    {
      "cell_type": "markdown",
      "metadata": {},
      "source": [
        "## Compute Extinction Strain Rate\nExponents for the initial solution variation with changes in strain rate\nTaken from Fiala and Sattelmayer (2014)\n\n"
      ]
    },
    {
      "cell_type": "code",
      "execution_count": null,
      "metadata": {
        "collapsed": false
      },
      "outputs": [],
      "source": [
        "exp_d_a = - 1. / 2.\nexp_u_a = 1. / 2.\nexp_V_a = 1.\nexp_lam_a = 2.\nexp_mdot_a = 1. / 2.\n\n# Set normalized initial strain rate\nalpha = [1.]\n# Initial relative strain rate increase\ndelta_alpha = 1.\n# Factor of refinement of the strain rate increase\ndelta_alpha_factor = 50.\n# Limit of the refinement: Minimum normalized strain rate increase\ndelta_alpha_min = .001\n# Limit of the Temperature decrease\ndelta_T_min = 1  # K\n\n# Iteration indicator\nn = 0\n# Indicator of the latest flame still burning\nn_last_burning = 0\n# List of peak temperatures\nT_max = [np.max(f.T)]\n# List of maximum axial velocity gradients\na_max = [np.max(np.abs(np.gradient(f.velocity) / np.gradient(f.grid)))]"
      ]
    },
    {
      "cell_type": "markdown",
      "metadata": {},
      "source": [
        "Simulate counterflow flames at increasing strain rates until the flame is\nextinguished. To achieve a fast simulation, an initial coarse strain rate\nincrease is set. This increase is reduced after an extinction event and\nthe simulation is again started based on the last burning solution.\nThe extinction point is considered to be reached if the abortion criteria\non strain rate increase and peak temperature decrease are fulfilled.\n\n"
      ]
    },
    {
      "cell_type": "code",
      "execution_count": null,
      "metadata": {
        "collapsed": false
      },
      "outputs": [],
      "source": [
        "while True:\n    n += 1\n    # Update relative strain rates\n    alpha.append(alpha[n_last_burning] + delta_alpha)\n    strain_factor = alpha[-1] / alpha[n_last_burning]\n    # Create an initial guess based on the previous solution\n    # Update grid\n    # Note that grid scaling changes the diffusion flame width\n    f.flame.grid *= strain_factor ** exp_d_a\n    normalized_grid = f.grid / (f.grid[-1] - f.grid[0])\n    # Update mass fluxes\n    f.fuel_inlet.mdot *= strain_factor ** exp_mdot_a\n    f.oxidizer_inlet.mdot *= strain_factor ** exp_mdot_a\n    # Update velocities\n    f.set_profile('velocity', normalized_grid,\n                  f.velocity * strain_factor ** exp_u_a)\n    f.set_profile('spread_rate', normalized_grid,\n                  f.spread_rate * strain_factor ** exp_V_a)\n    # Update pressure curvature\n    f.set_profile('lambda', normalized_grid, f.L * strain_factor ** exp_lam_a)\n    try:\n        f.solve(loglevel=0)\n    except ct.CanteraError as e:\n        print('Error: Did not converge at n =', n, e)\n\n    T_max.append(np.max(f.T))\n    a_max.append(np.max(np.abs(np.gradient(f.velocity) / np.gradient(f.grid))))\n    if not np.isclose(np.max(f.T), temperature_limit_extinction):\n        # Flame is still burning, so proceed to next strain rate\n        n_last_burning = n\n        file_name, entry = names(f\"extinction/{n:04d}\")\n        f.save(file_name, name=entry, description=f\"Solution at alpha = {alpha[-1]}\",\n               overwrite=True)\n\n        print('Flame burning at alpha = {:8.4F}. Proceeding to the next iteration, '\n              'with delta_alpha = {}'.format(alpha[-1], delta_alpha))\n    elif ((T_max[-2] - T_max[-1] < delta_T_min) and (delta_alpha < delta_alpha_min)):\n        # If the temperature difference is too small and the minimum relative\n        # strain rate increase is reached, save the last, non-burning, solution\n        # to the output file and break the loop\n        file_name, entry = names(f\"extinction/{n:04d}\")\n        f.save(file_name, name=entry, overwrite=True,\n               description=f\"Flame extinguished at alpha={alpha[-1]}\")\n\n        print('Flame extinguished at alpha = {0:8.4F}.'.format(alpha[-1]),\n              'Abortion criterion satisfied.')\n        break\n    else:\n        # Procedure if flame extinguished but abortion criterion is not satisfied\n        # Reduce relative strain rate increase\n        delta_alpha = delta_alpha / delta_alpha_factor\n\n        print('Flame extinguished at alpha = {0:8.4F}. Restoring alpha = {1:8.4F} and '\n              'trying delta_alpha = {2}'.format(\n                  alpha[-1], alpha[n_last_burning], delta_alpha))\n\n        # Restore last burning solution\n        file_name, entry = names(f\"extinction/{n_last_burning:04d}\")\n        f.restore(file_name, entry)"
      ]
    },
    {
      "cell_type": "markdown",
      "metadata": {},
      "source": [
        "## Results\nPrint some parameters at the extinction point, after restoring the last burning\nsolution\n\n"
      ]
    },
    {
      "cell_type": "code",
      "execution_count": null,
      "metadata": {
        "collapsed": false
      },
      "outputs": [],
      "source": [
        "file_name, entry = names(f\"extinction/{n_last_burning:04d}\")\nf.restore(file_name, entry)\n\nprint('----------------------------------------------------------------------')\nprint('Parameters at the extinction point:')\nprint('Pressure p={0} bar'.format(f.P / 1e5))\nprint('Peak temperature T={0:4.0f} K'.format(np.max(f.T)))\nprint('Mean axial strain rate a_mean={0:.2e} 1/s'.format(f.strain_rate('mean')))\nprint('Maximum axial strain rate a_max={0:.2e} 1/s'.format(f.strain_rate('max')))\nprint('Fuel inlet potential flow axial strain rate a_fuel={0:.2e} 1/s'.format(\n      f.strain_rate('potential_flow_fuel')))\nprint('Oxidizer inlet potential flow axial strain rate a_ox={0:.2e} 1/s'.format(\n      f.strain_rate('potential_flow_oxidizer')))\nprint('Axial strain rate at stoichiometric surface a_stoich={0:.2e} 1/s'.format(\n      f.strain_rate('stoichiometric', fuel='H2')))"
      ]
    },
    {
      "cell_type": "markdown",
      "metadata": {},
      "source": [
        "Plot the maximum temperature over the maximum axial velocity gradient\n\n"
      ]
    },
    {
      "cell_type": "code",
      "execution_count": null,
      "metadata": {
        "collapsed": false
      },
      "outputs": [],
      "source": [
        "plt.figure()\nplt.semilogx(a_max, T_max)\nplt.xlabel(r'$a_{max}$ [1/s]')\nplt.ylabel(r'$T_{max}$ [K]')\nplt.savefig(output_path / \"figure_T_max_a_max.png\")\nplt.show()"
      ]
    }
  ],
  "metadata": {
    "kernelspec": {
      "display_name": "Python 3",
      "language": "python",
      "name": "python3"
    },
    "language_info": {
      "codemirror_mode": {
        "name": "ipython",
        "version": 3
      },
      "file_extension": ".py",
      "mimetype": "text/x-python",
      "name": "python",
      "nbconvert_exporter": "python",
      "pygments_lexer": "ipython3",
      "version": "3.11.11"
    }
  },
  "nbformat": 4,
  "nbformat_minor": 0
}