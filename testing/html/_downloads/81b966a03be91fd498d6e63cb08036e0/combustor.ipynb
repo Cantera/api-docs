{
  "cells": [
    {
      "cell_type": "markdown",
      "metadata": {},
      "source": [
        "\n# Combustor residence time\n\nCalculate steady-state solutions for a combustor, modeled as a single well-stirred\nreactor, for different residence times.\n\nWe are interested in the steady-state burning solution. This example explores\nthe effect of changing the residence time on completeness of reaction (through\nthe burned gas temperature) and on the total heat release rate.\n\nDemonstrates the use of a `MassFlowController` where the mass flow rate function\ndepends on variables other than time by capturing these variables from the\nenclosing scope. Also shows the use of a `PressureController` to create a constant\npressure reactor with a fixed volume.\n\nRequires: cantera >= 3.0, matplotlib >= 2.0\n\n.. tags:: Python, combustion, reactor network, well-stirred reactor, plotting\n"
      ]
    },
    {
      "cell_type": "code",
      "execution_count": null,
      "metadata": {
        "collapsed": false
      },
      "outputs": [],
      "source": [
        "import numpy as np\nimport matplotlib.pyplot as plt\nimport cantera as ct"
      ]
    },
    {
      "cell_type": "markdown",
      "metadata": {},
      "source": [
        "Use reaction mechanism GRI-Mech 3.0. For 0-D simulations,\nno transport model is necessary.\n\n"
      ]
    },
    {
      "cell_type": "code",
      "execution_count": null,
      "metadata": {
        "collapsed": false
      },
      "outputs": [],
      "source": [
        "gas = ct.Solution('gri30.yaml', transport_model=None)"
      ]
    },
    {
      "cell_type": "markdown",
      "metadata": {},
      "source": [
        "Create a `Reservoir` for the inlet, set to a methane/air mixture at a specified\nequivalence ratio\n\n"
      ]
    },
    {
      "cell_type": "code",
      "execution_count": null,
      "metadata": {
        "collapsed": false
      },
      "outputs": [],
      "source": [
        "equiv_ratio = 0.5  # lean combustion\ngas.TP = 300.0, ct.one_atm\ngas.set_equivalence_ratio(equiv_ratio, 'CH4:1.0', 'O2:1.0, N2:3.76')\ninlet = ct.Reservoir(gas)"
      ]
    },
    {
      "cell_type": "markdown",
      "metadata": {},
      "source": [
        "Create the combustor, and fill it initially with a mixture consisting of the\nequilibrium products of the inlet mixture. This state corresponds to the state\nthe reactor would reach with infinite residence time, and thus provides a good\ninitial condition from which to reach a steady-state solution on the reacting\nbranch.\n\n"
      ]
    },
    {
      "cell_type": "code",
      "execution_count": null,
      "metadata": {
        "collapsed": false
      },
      "outputs": [],
      "source": [
        "gas.equilibrate('HP')\ncombustor = ct.IdealGasReactor(gas)\ncombustor.volume = 1.0"
      ]
    },
    {
      "cell_type": "markdown",
      "metadata": {},
      "source": [
        "Create a reservoir for the exhaust:\n\n"
      ]
    },
    {
      "cell_type": "code",
      "execution_count": null,
      "metadata": {
        "collapsed": false
      },
      "outputs": [],
      "source": [
        "exhaust = ct.Reservoir(gas)"
      ]
    },
    {
      "cell_type": "markdown",
      "metadata": {},
      "source": [
        "Use a variable mass flow rate to keep the residence time in the reactor\nconstant (residence_time = mass / mass_flow_rate). The mass flow rate function\ncan access variables defined in the calling scope, including state variables\nof the `Reactor` object (combustor) itself.\n\n"
      ]
    },
    {
      "cell_type": "code",
      "execution_count": null,
      "metadata": {
        "collapsed": false
      },
      "outputs": [],
      "source": [
        "def mdot(t):\n    return combustor.mass / residence_time\n\ninlet_mfc = ct.MassFlowController(inlet, combustor, mdot=mdot)"
      ]
    },
    {
      "cell_type": "markdown",
      "metadata": {},
      "source": [
        "A `PressureController` has a baseline mass flow rate matching the ``primary``\n`MassFlowController`, with an additional pressure-dependent term. By explicitly\nincluding the upstream mass flow rate, the pressure is kept constant without\nneeding to use a large value for ``K``, which can introduce undesired stiffness.\n\n"
      ]
    },
    {
      "cell_type": "code",
      "execution_count": null,
      "metadata": {
        "collapsed": false
      },
      "outputs": [],
      "source": [
        "outlet_mfc = ct.PressureController(combustor, exhaust, primary=inlet_mfc, K=0.01)"
      ]
    },
    {
      "cell_type": "markdown",
      "metadata": {},
      "source": [
        "Run a loop over decreasing residence times, until the reactor is extinguished,\nsaving the state after each iteration.\n\n"
      ]
    },
    {
      "cell_type": "code",
      "execution_count": null,
      "metadata": {
        "collapsed": false
      },
      "outputs": [],
      "source": [
        "# the simulation only contains one reactor\nsim = ct.ReactorNet([combustor])\n\nstates = ct.SolutionArray(gas, extra=['tres'])\n\nresidence_time = 0.1  # starting residence time\nwhile combustor.T > 500:\n    sim.initial_time = 0.0  # reset the integrator\n    sim.advance_to_steady_state()\n    print('tres = {:.2e}; T = {:.1f}'.format(residence_time, combustor.T))\n    states.append(combustor.thermo.state, tres=residence_time)\n    residence_time *= 0.9  # decrease the residence time for the next iteration"
      ]
    },
    {
      "cell_type": "markdown",
      "metadata": {},
      "source": [
        "Plot results:\n\n"
      ]
    },
    {
      "cell_type": "code",
      "execution_count": null,
      "metadata": {
        "collapsed": false
      },
      "outputs": [],
      "source": [
        "f, ax1 = plt.subplots(1, 1)\nax1.plot(states.tres, states.heat_release_rate, '.-', color='C0')\nax2 = ax1.twinx()\nax2.plot(states.tres[:-1], states.T[:-1], '.-', color='C1')\nax1.set_xlabel('residence time [s]')\nax1.set_ylabel('heat release rate [W/m$^3$]', color='C0')\nax2.set_ylabel('temperature [K]', color='C1')\nf.tight_layout()\nplt.show()"
      ]
    }
  ],
  "metadata": {
    "kernelspec": {
      "display_name": "Python 3",
      "language": "python",
      "name": "python3"
    },
    "language_info": {
      "codemirror_mode": {
        "name": "ipython",
        "version": 3
      },
      "file_extension": ".py",
      "mimetype": "text/x-python",
      "name": "python",
      "nbconvert_exporter": "python",
      "pygments_lexer": "ipython3",
      "version": "3.11.11"
    }
  },
  "nbformat": 4,
  "nbformat_minor": 0
}