{
  "cells": [
    {
      "cell_type": "markdown",
      "metadata": {},
      "source": [
        "\n# Lithium Ion Battery Discharge Curve\n\nIn this example, we illustrate how to calculate the open circuit voltage (voltage when\nthe external applied current is zero) for a lithium ion battery as a function of anode\nand cathode lithium content. The open circuit voltage here is calculated via two means:\nkinetically and thermodynamically.\n\nThe thermodynamics are based on a graphite anode and a LiCoO\u2082 cathode (the typical\nactive materials for commercial batteries, as of 2019), and are modeled using the\n:ct:`BinarySolutionTabulatedThermo` class.\n\nThe system here can be thought of as consisting of two particles\u2014anode and\ncathode\u2014connected by a liquid electrolyte:\n\n<img src=\"file://_static/images/samples/single-particle-battery.svg\" alt=\"Cartoon of a Single Particle Battery Model\" width=\"75%\" align=\"center\">\n\nFor the sake of simplicity, we're going to assume that the anode and cathode capacities\nare perfectly balanced. That is, if the cathode lithium content is X percent of its max\npossible (its capacity), then we will assume that the anode is at 1-X percent. Without\nloss of generality, we will define the anode composition.\n\nThe routine below returns the steady-state cell voltage of a lithium-ion cell for a\ngiven cell current, active material lithium stoichiometries, and electrolyte ionic\nresistance. This functionality is presented in greater detail in the reference (which\nalso describes the derivation of the :ct:`BinarySolutionTabulatedThermo` class):\n\n   M. Mayur, S. C. DeCaluwe, B. L. Kee, W. G. Bessler, \u201cModeling and simulation of the\n   thermodynamics of lithium-ion battery intercalation materials in the open-source\n   software Cantera,\u201d *Electrochim. Acta* 323, 134797 (2019),\n   https://doi.org/10.1016/j.electacta.2019.134797\n\nIn the future, this example may be developed further to demonstrate simulating\ncharge-discharge of the lithium ion battery.\n\nRequires: cantera >= 2.6.0, matplotlib >= 2.0, scipy >= 1.10.0\n\n.. tags:: Python, surface chemistry, kinetics, electrochemistry, battery, plotting\n\n## Kinetic equilibrium calculations\n\nIn the kinetic equilibrium problem, steady state is achieved when the faradaic current\nat each electrode (anode and cathode) surface and the ionic current through the\nelectrolyte are all zero. There are, essentially, four relevant electric potentials\nwhich must be determined:\n\n-  $\\phi_{\\rm anode}$: electric potential of graphite anode.\n-  $\\phi_{\\rm elyte,\\, anode}$: electric potential of electrolyte\n   at anode interface.\n-  $\\phi_{\\rm elyte,\\, cathode}$: electric potential of\n   electrolyte at cathode interface.\n-  $\\phi_{\\rm cathode}$: electric potential of LCO cathode.\n\nSetting one of these four to the reference potential of zero (because it is the\ndifference in electric potential which drives currents, the actual potential values are\nirrelevant. Let's assume the anode electric potential is zero), there is only one\ndistribution of electric potentials across the cell such that the current is invariant\nacross the cell. I.e. we want the potentials such that:\n\n\\begin{align}i_{\\rm Far,\\, anode} = i_{\\rm ionic} = i_{\\rm Far,\\,cathode}= i_{\\rm app}\\end{align}\n\nwhere $i_{\\rm app}$ is the user input for the applied current. For this example,\nwe assume an applied current of 0, to calculate the equilibrium voltage.\n\n### Faradaic current\n\nThe faradaic current for this model is calculated using Butler-Volmer\nkinetics. For a Li-ion battery, this is:\n\n\\begin{align}i = S_{\\rm elde}i_\\circ\\left[\\exp\\left(\\frac{F\\beta\\eta}{RT}\\right)\n     - \\exp\\left(-\\frac{F(1-\\beta)\\eta}{RT}\\right) \\right]\\end{align}\n\nwhere $S_{\\rm elde}$ is the specific surface area of the electrode in question,\n$F$ is Faraday's constant, $\\beta$ is the charge-transfer symmetry\nparameter, $R$ the universal gas constant, $T$ the temperature, and\n$\\eta$ the overpotential, which is the electric potential difference between the\nelectrode and electrolyte, $\\Delta \\phi = \\phi_{\\rm elde} - \\phi_{\\rm elyte}$,\nrelative to that at equilibrium, $\\Delta \\phi_{\\rm eq}$:\n\n\\begin{align}\\eta = \\Delta \\phi - \\Delta \\phi_{\\rm eq}\\end{align}\n\n$i_\\circ$ is known as the \u201cexchange current density,\u201d which is equal to the rate\nof the forward and reverse current at equilibrium (which are equal). $i_\\circ$ and\n$\\beta$ are provided as user inputs in the YAML file. At any particular state,\n(user-specified electric potentials, pressure, temperature, and chemical compositions),\nCantera calculates $\\eta$ as part of the routine to evaluate reaction rates of\nprogress $\\left(\\dot{q} = i_{\\rm Far}/F \\right)$. The user simply sets the state\nvalues mentioned above.\n\n### Ionic current\n\nThe electrolyte is modeled as a resistor with user-defined ionic resistance\n$R_{\\rm io}$, and hence the ionic current is calculated as:\n\n\\begin{align}i_{\\rm ionic} = \\frac{\\phi_{\\rm elyte,\\,ca} - \\phi_{\\rm elyte,\\,an}}{R_{\\rm io}}\\end{align}\n\nwhere positive current is defined as delivering Li\\ $^+$ to the anode interface.\nGiven $i_{\\rm app}$, this equation can be inverted, to calculate the electric\npotential of the electrolyte at the cathode interface, relative to that at the anode\ninterface:\n\n\\begin{align}\\phi_{\\rm elyte,\\,ca} = \\phi_{\\rm elyte,\\,an} + R_{\\rm io}i_{\\rm app}\\end{align}\n\nAgain: in this example, $i_{\\rm app} = 0$ and hence the two electric potential\nvalues in the electrolyte are equal.\n\n### Numerical routine\n\nFor the kinetic routine, there are three processes to determine the cell voltage\n$\\phi_{\\rm cathode} - \\phi_{\\rm anode}$ which corresponds to the user-provided\n$i_{\\rm app}$:\n\n1. Determine the $\\phi_{\\rm elyte,\\,anode}$ value which corresponds to\n   $i_{\\rm app}$, given $X_{\\rm Li, anode}$, the percentage of Li in the\n   anode active material.\n\n2. Determine $\\phi_{\\rm elyte,\\,cathode}$, given $\\phi_{\\rm elyte,\\,anode}$\n   and $i_{\\rm app}$.\n\n3. Determine the $\\phi_{\\rm cathode}$ which corresponds to $i_{\\rm app}$,\n   given $\\phi_{\\rm elyte,\\,cathode}$ and $X_{\\rm Li, anode}$, the\n   percentage of Li in the anode active material.\n\nThe routines below are written generally such that an interested user may set\n$i_{\\rm app}$ to any value of interest.\n\n### Import necessary packages\n"
      ]
    },
    {
      "cell_type": "code",
      "execution_count": null,
      "metadata": {
        "collapsed": false
      },
      "outputs": [],
      "source": [
        "import numpy as np\nfrom scipy.optimize import fsolve\nimport time  # Used for timing our calculations\nimport matplotlib.pyplot as plt\nimport cantera as ct\nprint(f\"Runnning Cantera version: {ct.__version__}\")"
      ]
    },
    {
      "cell_type": "markdown",
      "metadata": {},
      "source": [
        "## Define the phases\n\nThe phase thermodynamics are defined according to experimentally-measured open circuit\nvoltage values, as described in the reference provided above. These values are stored\nin the input file :doc:`lithium_ion_battery.yaml <../../input/lithium_ion_battery>`.\n\n"
      ]
    },
    {
      "cell_type": "code",
      "execution_count": null,
      "metadata": {
        "collapsed": false
      },
      "outputs": [],
      "source": [
        "input_file = \"../data/lithium_ion_battery.yaml\"\nanode = ct.Solution(input_file, \"anode\")\ncathode = ct.Solution(input_file, \"cathode\")\n# The 'elde' electrode phase is needed as a source/sink for electron\nelde = ct.Solution(input_file, \"electron\")\nelyte = ct.Solution(input_file, \"electrolyte\")\nanode_interface = ct.Interface(\n    input_file, \"edge_anode_electrolyte\", [anode, elde, elyte]\n)\ncathode_interface = ct.Interface(\n    input_file, \"edge_cathode_electrolyte\", [cathode, elde, elyte]\n)"
      ]
    },
    {
      "cell_type": "markdown",
      "metadata": {},
      "source": [
        "## Define battery conditions: temperature, pressure, stoichiometry, electrolyte resistance\n\nInputs are:\n\n- Stoichiometries ``X_Li_ca`` and ``X_Li_an`` [-] (can be vectors)\n- Temperature ``T`` [K]\n- Pressure ``P`` [Pa]\n- Externally-applied current ``i_app`` [A]\n- Electrolyte resistance ``R_elyte`` [Ohm]\n- Anode total surface area ``S_an`` [m^2]\n- Cathode total surface area ``S_ca`` [m^2]\n\n"
      ]
    },
    {
      "cell_type": "code",
      "execution_count": null,
      "metadata": {
        "collapsed": false
      },
      "outputs": [],
      "source": [
        "# Array of lithium mole fractions in the anode\nX_Li_an = np.arange(0.005, 0.995, 0.02)\n# Assume that the cathode and anode capacities are balanced\nX_Li_ca = 1.0 - X_Li_an\n\n# I_app = 0: Open circuit\nI_app = 0.0\n\n# At zero current, electrolyte resistance is irrelevant\nR_elyte = 0.0\n\n# Temperature and pressure\nT = 300  # K\nP = ct.one_atm\n\nF = ct.faraday\n\n# [m^2] Cathode total active material surface area\nS_ca = 1.1167\n\nS_an = 0.7824  # [m^2] Anode total active material surface area"
      ]
    },
    {
      "cell_type": "markdown",
      "metadata": {},
      "source": [
        "## Set phase temperatures and pressures\n\n"
      ]
    },
    {
      "cell_type": "code",
      "execution_count": null,
      "metadata": {
        "collapsed": false
      },
      "outputs": [],
      "source": [
        "phases = [anode, elde, elyte, cathode, anode_interface, cathode_interface]\nfor ph in phases:\n    ph.TP = T, P"
      ]
    },
    {
      "cell_type": "markdown",
      "metadata": {},
      "source": [
        "## Helper Functions\n\n"
      ]
    },
    {
      "cell_type": "code",
      "execution_count": null,
      "metadata": {
        "collapsed": false
      },
      "outputs": [],
      "source": [
        "def anode_curr(phi_l, I_app, phi_s, X_Li_an):\n    # Set the active material mole fraction\n    anode.X = {\"Li[anode]\": X_Li_an, \"V[anode]\": 1 - X_Li_an}\n\n    # Set the electrode and electrolyte potential\n    elde.electric_potential = phi_s\n    elyte.electric_potential = phi_l[0]\n\n    # Get the net product rate of electrons in the anode (per m2^ interface)\n    r_elec = anode_interface.get_net_production_rates(elde)\n\n    anode_current = r_elec * ct.faraday * S_an\n    diff = I_app + anode_current\n\n    return diff\n\n\ndef cathode_curr(phi_s, I_app, phi_l, X_Li_ca):\n    # Set the active material mole fractions\n    cathode.X = {\"Li[cathode]\": X_Li_ca, \"V[cathode]\": 1 - X_Li_ca}\n\n    # Set the electrode and electrolyte potential\n    elde.electric_potential = phi_s[0]\n    elyte.electric_potential = phi_l\n\n    # Get the net product rate of electrons in the cathode (per m2^ interface)\n    r_elec = cathode_interface.get_net_production_rates(elde)\n\n    cathode_current = r_elec * ct.faraday * S_an\n    diff = I_app - cathode_current\n\n    return diff"
      ]
    },
    {
      "cell_type": "markdown",
      "metadata": {},
      "source": [
        "## Run the calculations for all stoichiometries\n\n"
      ]
    },
    {
      "cell_type": "code",
      "execution_count": null,
      "metadata": {
        "collapsed": false
      },
      "outputs": [],
      "source": [
        "# Tic\nt0 = time.time()\n\n# Initialize array of OCVs\nE_cell_kin = np.zeros_like(X_Li_ca)\n\nfor i, X_an in enumerate(X_Li_an):\n    # Set anode electrode potential to 0\n    phi_s_an = 0\n    E_init = 3.0\n\n    phi_l_an = fsolve(anode_curr, E_init, args=(I_app, phi_s_an, X_an))\n\n    # Calculate electrolyte potential at cathode interface\n    phi_l_ca = phi_l_an[0] + I_app * R_elyte\n\n    # Calculate cathode electrode potential\n    phi_s_ca = fsolve(cathode_curr, E_init, args=(I_app, phi_l_ca, X_Li_ca[i]))\n\n    # Calculate cell voltage\n    E_cell_kin[i] = phi_s_ca[0] - phi_s_an\n\n# Toc\nt1 = time.time()\nprint(f\"{i:d} cell voltages calculated in {t1 - t0:3.2e} seconds.\")"
      ]
    },
    {
      "cell_type": "markdown",
      "metadata": {},
      "source": [
        "## Plot cell voltage, as a function of the cathode stoichiometry\n\n"
      ]
    },
    {
      "cell_type": "code",
      "execution_count": null,
      "metadata": {
        "collapsed": false
      },
      "outputs": [],
      "source": [
        "fig, ax = plt.subplots()\nax.plot(100 * X_Li_ca, E_cell_kin)\n_ = ax.set(ylim=[2.5, 4.3], xlabel=\"Li Fraction in Cathode (%)\",\n           ylabel=\"Open Circuit Potential (V)\")"
      ]
    },
    {
      "cell_type": "markdown",
      "metadata": {},
      "source": [
        "## Thermodynamic Equilibrium Calculation\n\nFor the $i_{app} = 0$ case, we can also calculate the voltage using\nthermodynamics. At equilibrium, the net electrochemical potential change of the\nreaction must be zero:\n\n\\begin{align}\\sum_k\\nu_k\\tilde{\\mu}_k = 0\\end{align}\n\nwhere $\\tilde{\\mu}_k = \\mu_k + z_kF\\Phi_k$, where, in turn\n$\\mu_k = \\frac{\\partial g_k}{\\partial n_k}$ is the chemical potential,\n$\\nu_k$ the net stoichiometric coefficient, $z_k$ the net elementary\ncharge, and $\\Phi_k$ the phase electric potential for species $k$.\n\nFrom this, we can calculate the equilibrium electric potential difference\n$\\Delta \\Phi_{\\rm eq} = \\left(\\Phi_{\\rm elde} - \\Phi_{\\rm elyte}\\right)_{\\rm eq}$\nas:\n\n\\begin{align}\\Delta \\Phi_{\\rm eq} = -\\frac{\\Delta g_{\\rm rxn}}{n_{\\rm charge}F}\\end{align}\n\nwhere $\\Delta g_{\\rm rxn} = \\sum_k \\nu_k\\mu_k$ is the chemical potential of the\nreaction and and $n_{\\rm charge} = \\sum_{k,\\,{\\rm elde}} \\nu_k z_k$ is the net\nelementary charge transferred from the electrolyte to the electrode.\n\n"
      ]
    },
    {
      "cell_type": "code",
      "execution_count": null,
      "metadata": {
        "collapsed": false
      },
      "outputs": [],
      "source": [
        "# Tic\nt0 = time.time()\n\n# Initialize array of OCVs\nE_cell_therm = np.zeros_like(X_Li_ca)\n\nfor i, X_an in enumerate(X_Li_an):\n    # Set anode electrode potential to 0\n    anode.X = \"Li[anode]:\" + str(X_an) + \", V[anode]:\" + str(1 - X_an)\n    dG_an = anode_interface.delta_gibbs[0]\n    n_charge = 1.0\n    E_eq_an = -dG_an / n_charge / ct.faraday\n\n    cathode.X = \"Li[cathode]:\" + str(1.0 - X_an) + \", V[cathode]:\" + str(X_an)\n    dG_ca = cathode_interface.delta_gibbs[0]\n    n_charge = 1.0\n    E_eq_ca = -dG_ca / n_charge / ct.faraday\n\n    E_cell_therm[i] = E_eq_ca - E_eq_an\n\n# Toc\nt1 = time.time()\nprint(f\"{i:d} cell voltages calculated in {t1 - t0:3.2e} seconds.\")"
      ]
    },
    {
      "cell_type": "markdown",
      "metadata": {},
      "source": [
        "## Plot thermodynamic OCV, and compare to results from kinetic method\n\n"
      ]
    },
    {
      "cell_type": "code",
      "execution_count": null,
      "metadata": {
        "collapsed": false
      },
      "outputs": [],
      "source": [
        "fig, ax = plt.subplots()\nax.plot(100 * X_Li_ca, E_cell_kin, label=\"Kinetic\")\nax.plot(100 * X_Li_ca, E_cell_therm,\n        linewidth=0.0, marker=\"o\", markerfacecolor=\"none\", label=\"Thermodynamic\")\nax.set(ylim=[2.5, 4.3], xlabel=\"Li Fraction in Cathode (%)\",\n       ylabel=\"Open Circuit Potential (V)\")\nax.legend()"
      ]
    },
    {
      "cell_type": "markdown",
      "metadata": {},
      "source": [
        "As one would expect, the two approaches give identical results. While both methods are\nincredibly fast, the thermodynamic method is roughly 30 times faster.\n\nA large part of this is that the thermodynamic approach is an analytical approach\n(i.e. the answer is known from theory), while the kinetic approach relies on the\nroot-finding fzero method to fit the correct voltage. Note also that the kinetic\nmethod, because of the use of Butler-Volmer kinetics, calculates the thermodynamic\nvoltage, in order to calculate the overpotential $\\eta = \\Delta \\Phi - \\Delta\n\\Phi_{\\rm eq}$.\n\nHowever, it is at last important to note that, while slower, the kinetic method is of\ncourse more robust, and can be used to find results away from equilibrium. The\nthermodynamic method is only applicable at equilibrium (zero current).\n\n"
      ]
    }
  ],
  "metadata": {
    "kernelspec": {
      "display_name": "Python 3",
      "language": "python",
      "name": "python3"
    },
    "language_info": {
      "codemirror_mode": {
        "name": "ipython",
        "version": 3
      },
      "file_extension": ".py",
      "mimetype": "text/x-python",
      "name": "python",
      "nbconvert_exporter": "python",
      "pygments_lexer": "ipython3",
      "version": "3.11.11"
    }
  },
  "nbformat": 4,
  "nbformat_minor": 0
}