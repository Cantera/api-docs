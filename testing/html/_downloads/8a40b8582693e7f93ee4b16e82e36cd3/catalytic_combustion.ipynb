{
  "cells": [
    {
      "cell_type": "markdown",
      "metadata": {},
      "source": [
        "\n# Catalytic combustion of methane on platinum\n\nThis script solves a catalytic combustion problem. A stagnation flow is set\nup, with a gas inlet 10 cm from a platinum surface at 900 K. The lean,\npremixed methane/air mixture enters at ~6 cm/s (0.06 kg/m2/s), and burns\ncatalytically on the platinum surface. Gas-phase chemistry is included too,\nand has some effect very near the surface.\n\nThe catalytic combustion mechanism is from Deutschmann et al., 26th\nSymp. (Intl.) on Combustion,1996 pp. 1747-1754\n\nRequires: cantera >= 3.0, matplotlib >= 2.0\n\n.. tags:: Python, catalysis, combustion, 1D flow, surface chemistry\n"
      ]
    },
    {
      "cell_type": "code",
      "execution_count": null,
      "metadata": {
        "collapsed": false
      },
      "outputs": [],
      "source": [
        "import numpy as np\nimport matplotlib.pyplot as plt\nimport cantera as ct"
      ]
    },
    {
      "cell_type": "markdown",
      "metadata": {},
      "source": [
        "## Problem Definition\n\nParameter values are collected here to make it easier to modify them\n\n"
      ]
    },
    {
      "cell_type": "code",
      "execution_count": null,
      "metadata": {
        "collapsed": false
      },
      "outputs": [],
      "source": [
        "p = ct.one_atm  # pressure\ntinlet = 300.0  # inlet temperature\ntsurf = 900.0  # surface temperature\nmdot = 0.06  # kg/m^2/s\ntransport = 'mixture-averaged'  # transport model"
      ]
    },
    {
      "cell_type": "markdown",
      "metadata": {},
      "source": [
        "We will solve first for a hydrogen/air case to use as the initial estimate\nfor the methane/air case\n\n"
      ]
    },
    {
      "cell_type": "code",
      "execution_count": null,
      "metadata": {
        "collapsed": false
      },
      "outputs": [],
      "source": [
        "# composition of the inlet premixed gas for the hydrogen/air case\ncomp1 = 'H2:0.05, O2:0.21, N2:0.78, AR:0.01'\n\n# composition of the inlet premixed gas for the methane/air case\ncomp2 = 'CH4:0.095, O2:0.21, N2:0.78, AR:0.01'\n\n# The inlet/surface separation is 10 cm.\nwidth = 0.1  # m\n\nloglevel = 1  # amount of diagnostic output (0 to 5)"
      ]
    },
    {
      "cell_type": "markdown",
      "metadata": {},
      "source": [
        "## Create the phase objects\n\nThe ``surf_phase`` object will be used to evaluate all surface chemical production\nrates. It will be created from the interface definition ``Pt_surf`` in input file\n``ptcombust.yaml``, which implements the reaction mechanism of Deutschmann et\nal., 1995 for catalytic combustion on platinum.\n\nThis phase definition also references the phase ``gas`` in the same input file,\nwhich will be created and used to evaluate all thermodynamic, kinetic, and\ntransport properties. It is a stripped-down version of GRI-Mech 3.0.\n\n"
      ]
    },
    {
      "cell_type": "code",
      "execution_count": null,
      "metadata": {
        "collapsed": false
      },
      "outputs": [],
      "source": [
        "surf_phase = ct.Interface(\"ptcombust.yaml\", \"Pt_surf\")\nsurf_phase.TP = tsurf, p\ngas = surf_phase.adjacent[\"gas\"]\ngas.TPX = tinlet, p, comp1\n\n# integrate the coverage equations in time for 1 s, holding the gas\n# composition fixed to generate a good starting estimate for the coverages.\nsurf_phase.advance_coverages(1.0)\n\n# create the object that simulates the stagnation flow, and specify an initial\n# grid\nsim = ct.ImpingingJet(gas=gas, width=width, surface=surf_phase)\n\n# Objects of class ImpingingJet have members that represent the gas inlet\n# ('inlet') and the surface ('surface'). Set some parameters of these objects.\nsim.inlet.mdot = mdot\nsim.inlet.T = tinlet\nsim.inlet.X = comp1\nsim.surface.T = tsurf"
      ]
    },
    {
      "cell_type": "markdown",
      "metadata": {},
      "source": [
        "Show the initial solution estimate\n\n"
      ]
    },
    {
      "cell_type": "code",
      "execution_count": null,
      "metadata": {
        "collapsed": false
      },
      "outputs": [],
      "source": [
        "sim.show()"
      ]
    },
    {
      "cell_type": "markdown",
      "metadata": {},
      "source": [
        "Solving problems with stiff chemistry coupled to flow can require a\nsequential approach where solutions are first obtained for simpler problems\nand used as the initial guess for more difficult problems.\n\n"
      ]
    },
    {
      "cell_type": "code",
      "execution_count": null,
      "metadata": {
        "collapsed": false
      },
      "outputs": [],
      "source": [
        "# disable the surface coverage equations, and turn off all gas and surface\n# chemistry.\nsim.surface.coverage_enabled = False\nsurf_phase.set_multiplier(0.0)\ngas.set_multiplier(0.0)"
      ]
    },
    {
      "cell_type": "markdown",
      "metadata": {},
      "source": [
        "solve the problem, refining the grid if needed, to determine the non-\nreacting velocity and temperature distributions\n\n"
      ]
    },
    {
      "cell_type": "code",
      "execution_count": null,
      "metadata": {
        "collapsed": false
      },
      "outputs": [],
      "source": [
        "sim.solve(loglevel, auto=True)"
      ]
    },
    {
      "cell_type": "markdown",
      "metadata": {},
      "source": [
        "now turn on the surface coverage equations, and turn the chemistry on slowly\n\n"
      ]
    },
    {
      "cell_type": "code",
      "execution_count": null,
      "metadata": {
        "collapsed": false
      },
      "outputs": [],
      "source": [
        "sim.surface.coverage_enabled = True\nfor mult in np.logspace(-5, 0, 6):\n    surf_phase.set_multiplier(mult)\n    gas.set_multiplier(mult)\n    print('Multiplier =', mult)\n    sim.solve(loglevel)"
      ]
    },
    {
      "cell_type": "markdown",
      "metadata": {},
      "source": [
        "At this point, we should have the solution for the hydrogen/air problem.\n\n"
      ]
    },
    {
      "cell_type": "code",
      "execution_count": null,
      "metadata": {
        "collapsed": false
      },
      "outputs": [],
      "source": [
        "sim.show()"
      ]
    },
    {
      "cell_type": "markdown",
      "metadata": {},
      "source": [
        "Now switch the inlet to the methane/air composition.\n\n"
      ]
    },
    {
      "cell_type": "code",
      "execution_count": null,
      "metadata": {
        "collapsed": false
      },
      "outputs": [],
      "source": [
        "sim.inlet.X = comp2\n\n# set more stringent grid refinement criteria\nsim.set_refine_criteria(100.0, 0.15, 0.2, 0.0)\n\n# solve the problem for the final time\nsim.solve(loglevel)"
      ]
    },
    {
      "cell_type": "markdown",
      "metadata": {},
      "source": [
        "show the solution\n\n"
      ]
    },
    {
      "cell_type": "code",
      "execution_count": null,
      "metadata": {
        "collapsed": false
      },
      "outputs": [],
      "source": [
        "sim.show()"
      ]
    },
    {
      "cell_type": "markdown",
      "metadata": {},
      "source": [
        "Save the full solution to HDF or YAML container files. The ``restore`` method can be\nused to restore or restart a simulation from a solution stored in this form.\n\n"
      ]
    },
    {
      "cell_type": "code",
      "execution_count": null,
      "metadata": {
        "collapsed": false
      },
      "outputs": [],
      "source": [
        "if \"native\" in ct.hdf_support():\n    filename = \"catalytic_combustion.h5\"\nelse:\n    filename = \"catalytic_combustion.yaml\"\nsim.save(filename, \"soln1\", description=\"catalytic combustion example\",\n         overwrite=True)\n\n# save selected solution components in a CSV file for plotting in Excel or MATLAB.\nsim.save('catalytic_combustion.csv', basis=\"mole\", overwrite=True)\n\nsim.show_stats(0)"
      ]
    },
    {
      "cell_type": "markdown",
      "metadata": {},
      "source": [
        "## Temperature Profile\n\n"
      ]
    },
    {
      "cell_type": "code",
      "execution_count": null,
      "metadata": {
        "collapsed": false
      },
      "outputs": [],
      "source": [
        "fig, ax = plt.subplots()\nax.plot(sim.grid, sim.T, color='C3')\nax.set_ylabel('heat release rate [MW/m\u00b3]')\nax.set(xlabel='distance from inlet [m]')\nplt.show()"
      ]
    },
    {
      "cell_type": "markdown",
      "metadata": {},
      "source": [
        "## Major Species Profiles\n\n"
      ]
    },
    {
      "cell_type": "code",
      "execution_count": null,
      "metadata": {
        "collapsed": false
      },
      "outputs": [],
      "source": [
        "fig, ax = plt.subplots()\nmajor = ('O2', 'CH4', 'H2O', 'CO2')\nstates = sim.to_array()\nax.plot(states.grid, states(*major).X, label=major)\nax.set(xlabel='distance from inlet [m]', ylabel='mole fractions')\nax.legend()\nplt.show()"
      ]
    }
  ],
  "metadata": {
    "kernelspec": {
      "display_name": "Python 3",
      "language": "python",
      "name": "python3"
    },
    "language_info": {
      "codemirror_mode": {
        "name": "ipython",
        "version": 3
      },
      "file_extension": ".py",
      "mimetype": "text/x-python",
      "name": "python",
      "nbconvert_exporter": "python",
      "pygments_lexer": "ipython3",
      "version": "3.11.11"
    }
  },
  "nbformat": 4,
  "nbformat_minor": 0
}