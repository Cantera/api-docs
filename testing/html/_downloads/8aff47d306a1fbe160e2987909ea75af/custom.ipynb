{
  "cells": [
    {
      "cell_type": "markdown",
      "metadata": {},
      "source": [
        "\n# Integrating constant pressure ignition using SciPy\n\nSolve a constant pressure ignition problem where the governing equations are\nimplemented in Python.\n\nThis demonstrates an approach for solving problems where Cantera's reactor\nnetwork model cannot be configured to describe the system in question. Here,\nCantera is used for evaluating thermodynamic properties and kinetic rates while\nan external ODE solver is used to integrate the resulting equations. In this\ncase, the SciPy wrapper for VODE is used, which uses the same variable-order BDF\nmethods as the Sundials CVODES solver used by Cantera.\n\nRequires: cantera >= 2.5.0, scipy >= 0.19, matplotlib >= 2.0\n\n.. tags:: Python, combustion, reactor network, ignition delay, user-defined model, plotting\n"
      ]
    },
    {
      "cell_type": "code",
      "execution_count": null,
      "metadata": {
        "collapsed": false
      },
      "outputs": [],
      "source": [
        "import cantera as ct\nimport numpy as np\nimport scipy.integrate\n\n\nclass ReactorOde:\n    def __init__(self, gas):\n        # Parameters of the ODE system and auxiliary data are stored in the\n        # ReactorOde object.\n        self.gas = gas\n        self.P = gas.P\n\n    def __call__(self, t, y):\n        \"\"\"the ODE function, y' = f(t,y) \"\"\"\n\n        # State vector is [T, Y_1, Y_2, ... Y_K]\n        self.gas.set_unnormalized_mass_fractions(y[1:])\n        self.gas.TP = y[0], self.P\n        rho = self.gas.density\n\n        wdot = self.gas.net_production_rates\n        dTdt = - (np.dot(self.gas.partial_molar_enthalpies, wdot) /\n                  (rho * self.gas.cp))\n        dYdt = wdot * self.gas.molecular_weights / rho\n\n        return np.hstack((dTdt, dYdt))\n\n\ngas = ct.Solution('h2o2.yaml')\n\n# Initial condition\nP = ct.one_atm\ngas.TPX = 1001, P, 'H2:2,O2:1,N2:4'\ny0 = np.hstack((gas.T, gas.Y))\n\n# Set up objects representing the ODE and the solver\node = ReactorOde(gas)\nsolver = scipy.integrate.ode(ode)\nsolver.set_integrator('vode', method='bdf', with_jacobian=True)\nsolver.set_initial_value(y0, 0.0)\n\n# Integrate the equations, keeping T(t) and Y(k,t)\nt_end = 1e-3\nstates = ct.SolutionArray(gas, 1, extra={'t': [0.0]})\ndt = 1e-5\nwhile solver.successful() and solver.t < t_end:\n    solver.integrate(solver.t + dt)\n    gas.TPY = solver.y[0], P, solver.y[1:]\n    states.append(gas.state, t=solver.t)\n\n# Plot the results\ntry:\n    import matplotlib.pyplot as plt\n    L1 = plt.plot(states.t, states.T, color='r', label='T', lw=2)\n    plt.xlabel('time (s)')\n    plt.ylabel('Temperature (K)')\n    plt.twinx()\n    L2 = plt.plot(states.t, states('OH').Y, label='OH', lw=2)\n    plt.ylabel('Mass Fraction')\n    plt.legend(L1+L2, [line.get_label() for line in L1+L2], loc='lower right')\n    plt.show()\nexcept ImportError:\n    print('Matplotlib not found. Unable to plot results.')"
      ]
    }
  ],
  "metadata": {
    "kernelspec": {
      "display_name": "Python 3",
      "language": "python",
      "name": "python3"
    },
    "language_info": {
      "codemirror_mode": {
        "name": "ipython",
        "version": 3
      },
      "file_extension": ".py",
      "mimetype": "text/x-python",
      "name": "python",
      "nbconvert_exporter": "python",
      "pygments_lexer": "ipython3",
      "version": "3.11.11"
    }
  },
  "nbformat": 4,
  "nbformat_minor": 0
}