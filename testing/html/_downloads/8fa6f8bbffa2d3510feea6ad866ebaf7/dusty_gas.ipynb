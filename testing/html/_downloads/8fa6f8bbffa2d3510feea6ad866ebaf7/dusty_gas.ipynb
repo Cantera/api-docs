{
  "cells": [
    {
      "cell_type": "markdown",
      "metadata": {},
      "source": [
        "\n# Porous media transport using the dusty gas model\n\nThe dusty gas model is a multicomponent transport model for gas transport through the\npores of a stationary porous medium. This example shows how to create a\n:ct:`DustyGasTransport` transport manager and use it to compute the multicomponent\ndiffusion coefficients and thermal conductivity.\n\nRequires:  cantera >= 2.6.0\n\n.. tags:: Python, transport, multicomponent transport\n"
      ]
    },
    {
      "cell_type": "code",
      "execution_count": null,
      "metadata": {
        "collapsed": false
      },
      "outputs": [],
      "source": [
        "import cantera as ct\n\n# create a gas-phase object to represent the gas in the pores, with a\n# dusty gas transport manager\ng = ct.DustyGas('h2o2.yaml')\n\n# set the gas state\ncomposition = {\"OH\": 1, \"H\": 2, \"O2\": 3, \"O\": 1.0E-8, \"H2\": 1.0E-8, \"H2O\": 1.0E-8,\n               \"H2O2\": 1.0E-8, \"HO2\": 1.0E-8, \"AR\": 1.0E-8}\ng.TPX = 500.0, ct.one_atm, composition\n\n# set its parameters\ng.porosity = 0.2\ng.tortuosity = 4.0\ng.mean_pore_radius = 1.5e-7\ng.mean_particle_diameter = 1.5e-6  # lengths in meters\n\n# print the multicomponent diffusion coefficients\nprint(g.multi_diff_coeffs)\n\n# print the thermal conductivity of the gas phase\nprint(g.thermal_conductivity)\n\n# compute molar species fluxes\nT1, rho1, Y1 = g.TDY\n\ng.TP = g.T, 1.2 * ct.one_atm\nT2, rho2, Y2 = g.TDY\ndelta = 0.001\n\nprint(g.molar_fluxes(T1, T1, rho1, rho1, Y1, Y1, delta))\nprint(g.molar_fluxes(T1, T2, rho1, rho2, Y1, Y2, delta))"
      ]
    }
  ],
  "metadata": {
    "kernelspec": {
      "display_name": "Python 3",
      "language": "python",
      "name": "python3"
    },
    "language_info": {
      "codemirror_mode": {
        "name": "ipython",
        "version": 3
      },
      "file_extension": ".py",
      "mimetype": "text/x-python",
      "name": "python",
      "nbconvert_exporter": "python",
      "pygments_lexer": "ipython3",
      "version": "3.11.11"
    }
  },
  "nbformat": 4,
  "nbformat_minor": 0
}