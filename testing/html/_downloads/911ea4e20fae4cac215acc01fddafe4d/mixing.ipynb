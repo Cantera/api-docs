{
  "cells": [
    {
      "cell_type": "markdown",
      "metadata": {},
      "source": [
        "\n# Mixing using `Quantity` objects\n\nIn this example, air and methane are mixed in stoichiometric proportions. This is a\nsimpler, steady-state version of the example :doc:`mix1.py <../reactors/mix1>`.\n\nSince the goal is to simulate a continuous flow system, the mixing takes place\nat constant enthalpy and pressure.\n\nRequires: cantera >= 2.5.0\n\n.. tags:: Python, thermodynamics, mixture\n"
      ]
    },
    {
      "cell_type": "markdown",
      "metadata": {},
      "source": [
        "## Set up streams\n\n"
      ]
    },
    {
      "cell_type": "code",
      "execution_count": null,
      "metadata": {
        "collapsed": false
      },
      "outputs": [],
      "source": [
        "import cantera as ct\n\ngas = ct.Solution('gri30.yaml')\n\n# Stream A (air)\nA = ct.Quantity(gas, constant='HP')\nA.TPX = 300.0, ct.one_atm, 'O2:0.21, N2:0.78, AR:0.01'\n\n# Stream B (methane)\nB = ct.Quantity(gas, constant='HP')\nB.TPX = 300.0, ct.one_atm, 'CH4:1'\n\n# Set the molar flow rates corresponding to stoichiometric reaction,\n# CH4 + 2 O2 -> CO2 + 2 H2O\nA.moles = 1\nnO2 = A.X[A.species_index('O2')]\nB.moles = nO2 * 0.5"
      ]
    },
    {
      "cell_type": "markdown",
      "metadata": {},
      "source": [
        "## Compute the mixed state\n\n"
      ]
    },
    {
      "cell_type": "code",
      "execution_count": null,
      "metadata": {
        "collapsed": false
      },
      "outputs": [],
      "source": [
        "M = A + B\nprint(M.report())"
      ]
    },
    {
      "cell_type": "markdown",
      "metadata": {},
      "source": [
        "## Show that this state corresponds to stoichiometric combustion\n\n"
      ]
    },
    {
      "cell_type": "code",
      "execution_count": null,
      "metadata": {
        "collapsed": false
      },
      "outputs": [],
      "source": [
        "M.equilibrate('TP')\nprint(M.report())"
      ]
    }
  ],
  "metadata": {
    "kernelspec": {
      "display_name": "Python 3",
      "language": "python",
      "name": "python3"
    },
    "language_info": {
      "codemirror_mode": {
        "name": "ipython",
        "version": 3
      },
      "file_extension": ".py",
      "mimetype": "text/x-python",
      "name": "python",
      "nbconvert_exporter": "python",
      "pygments_lexer": "ipython3",
      "version": "3.11.11"
    }
  },
  "nbformat": 4,
  "nbformat_minor": 0
}