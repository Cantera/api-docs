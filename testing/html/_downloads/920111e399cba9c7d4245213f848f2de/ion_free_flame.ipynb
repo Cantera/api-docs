{
  "cells": [
    {
      "cell_type": "markdown",
      "metadata": {},
      "source": [
        "\n# Freely-propagating flame with charged species\n\nA freely-propagating, premixed methane-air flat flame with charged species.\n\nRequires: cantera >= 3.0, matplotlib >= 2.0\n\n.. tags:: Python, combustion, 1D flow, burner-stabilized flame, plasma, premixed flame\n"
      ]
    },
    {
      "cell_type": "code",
      "execution_count": null,
      "metadata": {
        "collapsed": false
      },
      "outputs": [],
      "source": [
        "from pathlib import Path\nimport numpy as np\nimport matplotlib.pyplot as plt\nimport cantera as ct\n\n\n# Simulation parameters\np = ct.one_atm  # pressure [Pa]\nTin = 300.0  # unburned gas temperature [K]\nreactants = 'CH4:1, O2:2, N2:7.52'  # premixed gas composition\nwidth = 0.05  # m\nloglevel = 1  # amount of diagnostic output (0 to 8)\n\n# Solution object used to compute mixture properties, set to the state of the\n# upstream fuel-air mixture\ngas = ct.Solution('gri30_ion.yaml')\ngas.TPX = Tin, p, reactants\n\n# Set up flame object\nf = ct.FreeFlame(gas, width=width)\nf.set_refine_criteria(ratio=3, slope=0.05, curve=0.1)\nf.show()\n\n# stage one\nf.solve(loglevel=loglevel, auto=True)\n\n# stage two\nf.solve(loglevel=loglevel, stage=2)\n\nif \"native\" in ct.hdf_support():\n    output = Path() / \"ion_free_flame.h5\"\nelse:\n    output = Path() / \"ion_free_flame.yaml\"\noutput.unlink(missing_ok=True)\n\nf.save(output, name=\"ion\", description=\"solution with ionized gas transport\")\n\nf.show()\nprint(f\"mixture-averaged flamespeed = {f.velocity[0]:7f} m/s\")\n\n# write the velocity, temperature, density, and mole fractions to a CSV file\nf.save('ion_free_flame.csv', basis=\"mole\", overwrite=True)"
      ]
    },
    {
      "cell_type": "markdown",
      "metadata": {},
      "source": [
        "## Temperature and Heat Release Rate\n\n"
      ]
    },
    {
      "cell_type": "code",
      "execution_count": null,
      "metadata": {
        "collapsed": false
      },
      "outputs": [],
      "source": [
        "# Find the region that covers most of the temperature rise\nz = 1000 * f.grid  # convert to mm\ni_left = np.where(f.T > f.T[0] + 0.01 * (f.T[-1] - f.T[0]))[0][0]\ni_right = np.where(f.T > f.T[0] + 0.95 * (f.T[-1] - f.T[0]))[0][0]\nz_left = z[i_left]\nz_right = z[i_right]\ndz = z_right - z_left\nz_left -= 0.3 * dz\nz_right += 0.3 * dz\n\nfig, ax1 = plt.subplots()\nax1.plot(z, f.heat_release_rate / 1e6, color='C4')\nax1.set_ylabel('heat release rate [MW/m\u00b3]', color='C4')\nax1.set(xlabel='flame coordinate [mm]', xlim=[z_left, z_right])\n\nax2 = ax1.twinx()\nax2.plot(z, f.T, color='C3')\nax2.set_ylabel('temperature [K]', color='C3')\nplt.show()"
      ]
    },
    {
      "cell_type": "markdown",
      "metadata": {},
      "source": [
        "## Major Species Profiles\n\n"
      ]
    },
    {
      "cell_type": "code",
      "execution_count": null,
      "metadata": {
        "collapsed": false
      },
      "outputs": [],
      "source": [
        "fig, ax = plt.subplots()\nmajor = ('O2', 'CH4', 'H2O', 'CO2')\nstates = f.to_array()\nax.plot(z, states(*major).X, label=major)\nax.set(xlabel='flame coordinate [mm]', ylabel='mole fractions')\nax.set_xlim(z_left, z_right)\nax.legend()\nplt.show()"
      ]
    },
    {
      "cell_type": "markdown",
      "metadata": {},
      "source": [
        "## Minor / Ionized Species Profiles\n\n"
      ]
    },
    {
      "cell_type": "code",
      "execution_count": null,
      "metadata": {
        "collapsed": false
      },
      "outputs": [],
      "source": [
        "fig, ax = plt.subplots()\nminor = ('OH', 'H', 'O', 'E', 'HCO+', 'H3O+')\n\nax.semilogy(z, states(*minor).X, label=minor, linestyle='--')\nax.set(xlabel='flame coordinate [mm]', ylabel='mole fractions')\nax.set_xlim(z_left, z_right)\nax.legend()\nplt.show()"
      ]
    }
  ],
  "metadata": {
    "kernelspec": {
      "display_name": "Python 3",
      "language": "python",
      "name": "python3"
    },
    "language_info": {
      "codemirror_mode": {
        "name": "ipython",
        "version": 3
      },
      "file_extension": ".py",
      "mimetype": "text/x-python",
      "name": "python",
      "nbconvert_exporter": "python",
      "pygments_lexer": "ipython3",
      "version": "3.11.11"
    }
  },
  "nbformat": 4,
  "nbformat_minor": 0
}