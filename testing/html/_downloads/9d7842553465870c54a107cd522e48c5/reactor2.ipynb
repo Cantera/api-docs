{
  "cells": [
    {
      "cell_type": "markdown",
      "metadata": {},
      "source": [
        "\n# Reactors with walls and heat transfer\n\nTwo reactors connected with a piston, with heat loss to the environment\n\nThis script simulates the following situation. A closed cylinder with volume 2\nm\u00b3 is divided into two equal parts by a massless piston that moves with speed\nproportional to the pressure difference between the two sides. It is\ninitially held in place in the middle. One side is filled with 1000 K argon at\n20 atm, and the other with a combustible 500 K methane/air mixture at 0.2 atm\n($\\phi = 1.1$). At $t = 0$, the piston is released and begins to move due\nto the large pressure difference, compressing and heating the methane/air mixture,\nwhich eventually explodes. At the same time, the argon cools as it expands.\nThe piston allows heat transfer between the reactors and some heat is lost\nthrough the outer cylinder walls to the environment.\n\nNote that this simulation, being zero-dimensional, takes no account of shock\nwave propagation. It is somewhat artificial, but nevertheless instructive.\n\nRequires: cantera >= 2.5.0, matplotlib >= 2.0, pandas\n\n.. tags:: combustion, reactor network, plotting\n"
      ]
    },
    {
      "cell_type": "code",
      "execution_count": null,
      "metadata": {
        "collapsed": false
      },
      "outputs": [],
      "source": [
        "import pandas as pd\nimport matplotlib.pyplot as plt\nplt.rcParams['figure.constrained_layout.use'] = True\n\nimport cantera as ct"
      ]
    },
    {
      "cell_type": "markdown",
      "metadata": {},
      "source": [
        "## Set up the simulation\n\nFirst create each gas needed, and a reactor or reservoir for each one.\n\n"
      ]
    },
    {
      "cell_type": "code",
      "execution_count": null,
      "metadata": {
        "collapsed": false
      },
      "outputs": [],
      "source": [
        "# create an argon gas object and set its state\nar = ct.Solution('air.yaml')\nar.TPX = 1000.0, 20.0 * ct.one_atm, \"AR:1\"\n\n# create a reactor to represent the side of the cylinder filled with argon\nr1 = ct.IdealGasReactor(ar, name=\"Argon partition\")\n\n# create a reservoir for the environment, and fill it with air.\nenv = ct.Reservoir(ct.Solution('air.yaml'), name=\"Environment\")\n\n# use GRI-Mech 3.0 for the methane/air mixture, and set its initial state\ngas = ct.Solution('gri30.yaml')\ngas.TP = 500.0, 0.2 * ct.one_atm\ngas.set_equivalence_ratio(1.1, 'CH4:1.0', 'O2:1, N2:3.76')\n\n# create a reactor for the methane/air side\nr2 = ct.IdealGasReactor(gas, name=\"Reacting partition\")\n\n# Now couple the reactors by defining common walls that may move (a piston) or\n# conduct heat\n\n# add a flexible wall (a piston) between r2 and r1\nw = ct.Wall(r2, r1, A=1.0, K=0.5e-4, U=100.0, name=\"Piston\")\n\n# heat loss to the environment. Heat loss always occur through walls, so we\n# create a wall separating r2 from the environment, give it a non-zero area,\n# and specify the overall heat transfer coefficient through the wall.\nw2 = ct.Wall(r2, env, A=1.0, U=500.0, name=\"External Wall\")\n\nsim = ct.ReactorNet([r1, r2])"
      ]
    },
    {
      "cell_type": "markdown",
      "metadata": {},
      "source": [
        "## Show the initial state\n\n"
      ]
    },
    {
      "cell_type": "code",
      "execution_count": null,
      "metadata": {
        "collapsed": false
      },
      "outputs": [],
      "source": [
        "sim.draw(print_state=True, species=\"X\")"
      ]
    },
    {
      "cell_type": "markdown",
      "metadata": {},
      "source": [
        "Now the problem is set up, and we're ready to solve it.\n\n"
      ]
    },
    {
      "cell_type": "code",
      "execution_count": null,
      "metadata": {
        "collapsed": false
      },
      "outputs": [],
      "source": [
        "time = 0.0\nn_steps = 300\nstates1 = ct.SolutionArray(ar, extra=['t', 'V'])\nstates2 = ct.SolutionArray(gas, extra=['t', 'V'])\n\nfor n in range(n_steps):\n    time += 4.e-4\n    sim.advance(time)\n    states1.append(r1.thermo.state, t=time, V=r1.volume)\n    states2.append(r2.thermo.state, t=time, V=r2.volume)"
      ]
    },
    {
      "cell_type": "markdown",
      "metadata": {},
      "source": [
        "Combine the results and save for later processing or plotting\n\n"
      ]
    },
    {
      "cell_type": "code",
      "execution_count": null,
      "metadata": {
        "collapsed": false
      },
      "outputs": [],
      "source": [
        "df = pd.DataFrame.from_dict({\n    'time (s)': states1.t,\n    'T1 (K)': states1.T,\n    'P1 (bar)': states1.P / 1e5,\n    'V1 (m3)': states1.V,\n    'T2 (K)': states2.T,\n    'P2 (bar)': states2.P / 1e5,\n    'V2 (m3)': states2.V,\n})\ndf.to_csv(\"piston.csv\")\ndf"
      ]
    },
    {
      "cell_type": "markdown",
      "metadata": {},
      "source": [
        "## Plot results\n\n"
      ]
    },
    {
      "cell_type": "code",
      "execution_count": null,
      "metadata": {
        "collapsed": false
      },
      "outputs": [],
      "source": [
        "fig, ax = plt.subplots(3, 1, figsize=(5,8))\n\nax[0].plot(states1.t, states1.T, 'g-', label='Argon partition')\nax[0].plot(states2.t, states2.T, 'b-', label='Reacting partition')\nax[0].set(xlabel='Time (s)', ylabel='Temperature (K)')\nax[0].legend()\n\nax[1].plot(states1.t, states1.P / 1e5, 'g-', states2.t, states2.P / 1e5, 'b-')\nax[1].set(xlabel='Time (s)', ylabel='Pressure (Bar)')\n\nax[2].plot(states1.t, states1.V, 'g-', states2.t, states2.V, 'b-')\n_ = ax[2].set(xlabel='Time (s)', ylabel='Volume (m$^3$)')"
      ]
    },
    {
      "cell_type": "markdown",
      "metadata": {},
      "source": [
        "## Show the final state\n\n"
      ]
    },
    {
      "cell_type": "code",
      "execution_count": null,
      "metadata": {
        "collapsed": false
      },
      "outputs": [],
      "source": [
        "try:\n    diagram = sim.draw(print_state=True, species=\"X\")\nexcept ImportError as err:\n    print(f\"Unable to show network structure:\\n{err}\")"
      ]
    }
  ],
  "metadata": {
    "kernelspec": {
      "display_name": "Python 3",
      "language": "python",
      "name": "python3"
    },
    "language_info": {
      "codemirror_mode": {
        "name": "ipython",
        "version": 3
      },
      "file_extension": ".py",
      "mimetype": "text/x-python",
      "name": "python",
      "nbconvert_exporter": "python",
      "pygments_lexer": "ipython3",
      "version": "3.11.11"
    }
  },
  "nbformat": 4,
  "nbformat_minor": 0
}