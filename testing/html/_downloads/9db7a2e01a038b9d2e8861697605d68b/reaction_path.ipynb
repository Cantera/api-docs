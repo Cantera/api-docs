{
  "cells": [
    {
      "cell_type": "markdown",
      "metadata": {},
      "source": [
        "\n# Viewing a reaction path diagram\n\nThis script uses Graphviz to generate an image. You must have Graphviz installed\nand the program 'dot' must be on your path for this example to work.\nGraphviz can be obtained from https://www.graphviz.org/ or (possibly) installed\nusing your operating system's package manager.\n\nRequires: cantera >= 2.5.0, graphviz\n\n.. tags:: Python, kinetics, reaction path analysis, pollutant formation\n"
      ]
    },
    {
      "cell_type": "code",
      "execution_count": null,
      "metadata": {
        "collapsed": false
      },
      "outputs": [],
      "source": [
        "from subprocess import run\nfrom pathlib import Path\nimport graphviz\n\nimport cantera as ct"
      ]
    },
    {
      "cell_type": "markdown",
      "metadata": {},
      "source": [
        "## Generate a Solution with a state where reactions are occurring\n\nthese lines can be replaced by any commands that generate\nan object of a class derived from class Kinetics in some state.\n\n"
      ]
    },
    {
      "cell_type": "code",
      "execution_count": null,
      "metadata": {
        "collapsed": false
      },
      "outputs": [],
      "source": [
        "gas = ct.Solution('gri30.yaml')\ngas.TPX = 1300.0, ct.one_atm, 'CH4:0.4, O2:1, N2:3.76'\nr = ct.IdealGasReactor(gas)\nnet = ct.ReactorNet([r])\nT = r.T\nwhile T < 1900:\n    net.step()\n    T = r.T"
      ]
    },
    {
      "cell_type": "markdown",
      "metadata": {},
      "source": [
        "## Create a reaction path diagram following nitrogen\n\n"
      ]
    },
    {
      "cell_type": "code",
      "execution_count": null,
      "metadata": {
        "collapsed": false
      },
      "outputs": [],
      "source": [
        "element = 'N'\n\ndiagram = ct.ReactionPathDiagram(gas, element)\ndiagram.title = 'Reaction path diagram following {0}'.format(element)\ndiagram.label_threshold = 0.01"
      ]
    },
    {
      "cell_type": "markdown",
      "metadata": {},
      "source": [
        "## Save the reaction path diagram\n\n"
      ]
    },
    {
      "cell_type": "code",
      "execution_count": null,
      "metadata": {
        "collapsed": false
      },
      "outputs": [],
      "source": [
        "dot_file = 'rxnpath.dot'\nimg_file = 'rxnpath.png'\nimg_path = Path.cwd().joinpath(img_file)\n\ndiagram.write_dot(dot_file)\nprint(diagram.get_data())\n\nprint(f\"Wrote graphviz input file to '{Path.cwd().joinpath(dot_file)}'.\")\n\nrun(f\"dot {dot_file} -Tpng -o{img_file} -Gdpi=200\".split())\nprint(f\"Wrote graphviz output file to '{img_path}'.\")"
      ]
    },
    {
      "cell_type": "markdown",
      "metadata": {},
      "source": [
        "## View the reaction path diagram\n\n"
      ]
    },
    {
      "cell_type": "code",
      "execution_count": null,
      "metadata": {
        "collapsed": false
      },
      "outputs": [],
      "source": [
        "graphviz.Source(diagram.get_dot())"
      ]
    }
  ],
  "metadata": {
    "kernelspec": {
      "display_name": "Python 3",
      "language": "python",
      "name": "python3"
    },
    "language_info": {
      "codemirror_mode": {
        "name": "ipython",
        "version": 3
      },
      "file_extension": ".py",
      "mimetype": "text/x-python",
      "name": "python",
      "nbconvert_exporter": "python",
      "pygments_lexer": "ipython3",
      "version": "3.11.11"
    }
  },
  "nbformat": 4,
  "nbformat_minor": 0
}