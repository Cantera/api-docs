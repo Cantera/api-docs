{
  "cells": [
    {
      "cell_type": "markdown",
      "metadata": {},
      "source": [
        "\n# Plug flow reactor modeling approaches\n\nThis example solves a plug-flow reactor problem of hydrogen-oxygen combustion.\nThe PFR is computed by two approaches: The simulation of a Lagrangian fluid\nparticle, and the simulation of a chain of reactors.\n\nRequires: cantera >= 3.0, matplotlib >= 2.0\n\n.. tags:: Python, combustion, reactor network, plug flow reactor\n"
      ]
    },
    {
      "cell_type": "code",
      "execution_count": null,
      "metadata": {
        "collapsed": false
      },
      "outputs": [],
      "source": [
        "import cantera as ct\nimport numpy as np\nimport matplotlib.pyplot as plt"
      ]
    },
    {
      "cell_type": "markdown",
      "metadata": {},
      "source": [
        "## Input Parameters\n\n"
      ]
    },
    {
      "cell_type": "code",
      "execution_count": null,
      "metadata": {
        "collapsed": false
      },
      "outputs": [],
      "source": [
        "T_0 = 1500.0  # inlet temperature [K]\npressure = ct.one_atm  # constant pressure [Pa]\ncomposition_0 = 'H2:2, O2:1, AR:0.1'\nlength = 1.5e-7  # *approximate* PFR length [m]\nu_0 = .006  # inflow velocity [m/s]\narea = 1.e-4  # cross-sectional area [m**2]\n\n# input file containing the reaction mechanism\nreaction_mechanism = 'h2o2.yaml'\n\n# Resolution: The PFR will be simulated by 'n_steps' time steps or by a chain\n# of 'n_steps' stirred reactors.\nn_steps = 2000"
      ]
    },
    {
      "cell_type": "markdown",
      "metadata": {},
      "source": [
        "## Method 1: Lagrangian Particle Simulation\n A Lagrangian particle is considered which travels through the PFR. Its\n state change is computed by upwind time stepping. The PFR result is produced\n by transforming the temporal resolution into spatial locations.\n The spatial discretization is therefore not provided a priori but is instead\n a result of the transformation.\n\n"
      ]
    },
    {
      "cell_type": "code",
      "execution_count": null,
      "metadata": {
        "collapsed": false
      },
      "outputs": [],
      "source": [
        "# import the gas model and set the initial conditions\ngas1 = ct.Solution(reaction_mechanism)\ngas1.TPX = T_0, pressure, composition_0\nmass_flow_rate1 = u_0 * gas1.density * area\n\n# create a new reactor\nr1 = ct.IdealGasConstPressureReactor(gas1)\n# create a reactor network for performing time integration\nsim1 = ct.ReactorNet([r1])\n\n# approximate a time step to achieve a similar resolution as in the next method\nt_total = length / u_0\ndt = t_total / n_steps\n# define time, space, and other information vectors\nt1 = (np.arange(n_steps) + 1) * dt\nz1 = np.zeros_like(t1)\nu1 = np.zeros_like(t1)\nstates1 = ct.SolutionArray(r1.thermo)\nfor n1, t_i in enumerate(t1):\n    # perform time integration\n    sim1.advance(t_i)\n    # compute velocity and transform into space\n    u1[n1] = mass_flow_rate1 / area / r1.thermo.density\n    z1[n1] = z1[n1 - 1] + u1[n1] * dt\n    states1.append(r1.thermo.state)"
      ]
    },
    {
      "cell_type": "markdown",
      "metadata": {},
      "source": [
        "## Method 2: Chain of Reactors\n The plug flow reactor is represented by a linear chain of zero-dimensional\n reactors. The gas at the inlet to the first one has the specified inlet\n composition, and for all others the inlet composition is fixed at the\n composition of the reactor immediately upstream. Since in a PFR model there\n is no diffusion, the upstream reactors are not affected by any downstream\n reactors, and therefore the problem may be solved by simply marching from\n the first to last reactor, integrating each one to steady state.\n (This approach is analogous to the one presented in 'surf_pfr.py', which\n additionally includes surface chemistry)\n\n"
      ]
    },
    {
      "cell_type": "code",
      "execution_count": null,
      "metadata": {
        "collapsed": false
      },
      "outputs": [],
      "source": [
        "# import the gas model and set the initial conditions\ngas2 = ct.Solution(reaction_mechanism)\ngas2.TPX = T_0, pressure, composition_0\nmass_flow_rate2 = u_0 * gas2.density * area\ndz = length / n_steps\nr_vol = area * dz\n\n# create a new reactor\nr2 = ct.IdealGasReactor(gas2)\nr2.volume = r_vol\n\n# create a reservoir to represent the reactor immediately upstream. Note\n# that the gas object is set already to the state of the upstream reactor\nupstream = ct.Reservoir(gas2, name='upstream')\n\n# create a reservoir for the reactor to exhaust into. The composition of\n# this reservoir is irrelevant.\ndownstream = ct.Reservoir(gas2, name='downstream')\n\n# The mass flow rate into the reactor will be fixed by using a\n# MassFlowController object.\nm = ct.MassFlowController(upstream, r2, mdot=mass_flow_rate2)\n\n# We need an outlet to the downstream reservoir. This will determine the\n# pressure in the reactor. The value of K will only affect the transient\n# pressure difference.\nv = ct.PressureController(r2, downstream, primary=m, K=1e-5)\n\nsim2 = ct.ReactorNet([r2])\n\n# define time, space, and other information vectors\nz2 = (np.arange(n_steps) + 1) * dz\nt_r2 = np.zeros_like(z2)  # residence time in each reactor\nu2 = np.zeros_like(z2)\nt2 = np.zeros_like(z2)\nstates2 = ct.SolutionArray(r2.thermo)\n# iterate through the PFR cells\nfor n in range(n_steps):\n    # Set the state of the reservoir to match that of the previous reactor\n    gas2.TDY = r2.thermo.TDY\n    upstream.syncState()\n    # integrate the reactor forward in time until steady state is reached\n    sim2.reinitialize()\n    sim2.advance_to_steady_state()\n    # compute velocity and transform into time\n    u2[n] = mass_flow_rate2 / area / r2.thermo.density\n    t_r2[n] = r2.mass / mass_flow_rate2  # residence time in this reactor\n    t2[n] = np.sum(t_r2)\n    # write output data\n    states2.append(r2.thermo.state)"
      ]
    },
    {
      "cell_type": "markdown",
      "metadata": {},
      "source": [
        "## Compare Results in matplotlib\n\n"
      ]
    },
    {
      "cell_type": "code",
      "execution_count": null,
      "metadata": {
        "collapsed": false
      },
      "outputs": [],
      "source": [
        "plt.figure()\nplt.plot(z1, states1.T, label='Lagrangian Particle')\nplt.plot(z2, states2.T, label='Reactor Chain')\nplt.xlabel('$z$ [m]')\nplt.ylabel('$T$ [K]')\nplt.legend(loc=0)\nplt.show()\nplt.savefig('pfr_T_z.png')\n\nplt.figure()\nplt.plot(t1, states1.X[:, gas1.species_index('H2')], label='Lagrangian Particle')\nplt.plot(t2, states2.X[:, gas2.species_index('H2')], label='Reactor Chain')\nplt.xlabel('$t$ [s]')\nplt.ylabel('$X_{H_2}$ [-]')\nplt.legend(loc=0)\nplt.show()\nplt.savefig('pfr_XH2_t.png')"
      ]
    }
  ],
  "metadata": {
    "kernelspec": {
      "display_name": "Python 3",
      "language": "python",
      "name": "python3"
    },
    "language_info": {
      "codemirror_mode": {
        "name": "ipython",
        "version": 3
      },
      "file_extension": ".py",
      "mimetype": "text/x-python",
      "name": "python",
      "nbconvert_exporter": "python",
      "pygments_lexer": "ipython3",
      "version": "3.11.11"
    }
  },
  "nbformat": 4,
  "nbformat_minor": 0
}