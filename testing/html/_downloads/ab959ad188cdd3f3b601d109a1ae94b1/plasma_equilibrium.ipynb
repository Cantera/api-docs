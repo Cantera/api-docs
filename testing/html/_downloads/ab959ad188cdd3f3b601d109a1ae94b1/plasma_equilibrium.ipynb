{
  "cells": [
    {
      "cell_type": "markdown",
      "metadata": {},
      "source": [
        "\n# Equilibrium with charged species and multiple condensed phases\n\nAn equilibrium example with charged species in the gas phase\nand multiple condensed phases.\n\nRequires: cantera >= 2.5.0, matplotlib >= 2.0\n\n<div class=\"alert alert-danger\"><h4>Warning</h4><p>The results of this example are incorrect due to known issues with the multiphase\n   equilibrium solver. See GitHub Issue\n   [#270](https://github.com/Cantera/cantera/issues/270).</p></div>\n\n.. tags:: Python, equilibrium, multiphase, plasma, saving output\n"
      ]
    },
    {
      "cell_type": "code",
      "execution_count": null,
      "metadata": {
        "collapsed": false
      },
      "outputs": [],
      "source": [
        "import cantera as ct\nimport csv\n\n# create objects representing the gas phase and the condensed phases. The gas\n# is a mixture of multiple species, and the condensed phases are all modeled\n# as incompressible stoichiometric substances. See file KOH.yaml for more\n# information.\nphases = ct.import_phases('KOH.yaml', ['K_solid', 'K_liquid', 'KOH_a', 'KOH_b',\n                                       'KOH_liquid', 'K2O2_solid', 'K2O_solid',\n                                       'KO2_solid', 'ice', 'liquid_water',\n                                       'KOH_plasma'])\n\n# create the Mixture object from the list of phases\nmix = ct.Mixture(phases)\nequil_data = []\n\n# loop over temperature\nfor n in range(100):\n    t = 350.0 + 50.0*n\n    print('T = {0}'.format(t))\n    mix.T = t\n    mix.P = ct.one_atm\n    mix.species_moles = \"K:1.03, H2:2.12, O2:0.9\"\n\n    # set the mixture to a state of chemical equilibrium holding\n    # temperature and pressure fixed\n    # mix.equilibrate(\"TP\",maxsteps=10000,loglevel=1)\n    mix.equilibrate(\"TP\", max_steps=10000, log_level=0)\n\n    # store the moles of each species\n    equil_data.append([t] + list(mix.species_moles))\n\nwith open(\"equil_koh.csv\", \"w\", newline=\"\") as csvfile:\n    writer = csv.writer(csvfile)\n    writer.writerow(['T'] + mix.species_names)\n\n    writer.writerows(equil_data)"
      ]
    }
  ],
  "metadata": {
    "kernelspec": {
      "display_name": "Python 3",
      "language": "python",
      "name": "python3"
    },
    "language_info": {
      "codemirror_mode": {
        "name": "ipython",
        "version": 3
      },
      "file_extension": ".py",
      "mimetype": "text/x-python",
      "name": "python",
      "nbconvert_exporter": "python",
      "pygments_lexer": "ipython3",
      "version": "3.11.11"
    }
  },
  "nbformat": 4,
  "nbformat_minor": 0
}