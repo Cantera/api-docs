{
  "cells": [
    {
      "cell_type": "markdown",
      "metadata": {},
      "source": [
        "\n# Rankine cycle (with units)\n\nCalculate the efficiency of a Rankine vapor power cycle using a pure fluid model\nfor water. Includes the units of quantities in the calculations.\n\nRequires: Cantera >= 3.0.0, pint\n\n.. tags:: Python, thermodynamics, thermodynamic cycle, non-ideal fluid, units\n"
      ]
    },
    {
      "cell_type": "code",
      "execution_count": null,
      "metadata": {
        "collapsed": false
      },
      "outputs": [],
      "source": [
        "import cantera.with_units as ctu"
      ]
    },
    {
      "cell_type": "markdown",
      "metadata": {},
      "source": [
        "## Parameters\n\n"
      ]
    },
    {
      "cell_type": "code",
      "execution_count": null,
      "metadata": {
        "collapsed": false
      },
      "outputs": [],
      "source": [
        "eta_pump = 0.6 * ctu.units.dimensionless  # pump isentropic efficiency\neta_turbine = 0.8 * ctu.units.dimensionless  # turbine isentropic efficiency\np_max = 116.03 * ctu.units.psi  # maximum pressure"
      ]
    },
    {
      "cell_type": "markdown",
      "metadata": {},
      "source": [
        "## Helper Functions\n\n"
      ]
    },
    {
      "cell_type": "code",
      "execution_count": null,
      "metadata": {
        "collapsed": false
      },
      "outputs": [],
      "source": [
        "def pump(fluid, p_final, eta):\n    \"\"\"Adiabatically pump a fluid to pressure p_final, using\n    a pump with isentropic efficiency eta.\"\"\"\n    h0 = fluid.h\n    s0 = fluid.s\n    fluid.SP = s0, p_final\n    h1s = fluid.h\n    isentropic_work = h1s - h0\n    actual_work = isentropic_work / eta\n    h1 = h0 + actual_work\n    fluid.HP = h1, p_final\n    return actual_work\n\n\ndef expand(fluid, p_final, eta):\n    \"\"\"Adiabatically expand a fluid to pressure p_final, using\n    a turbine with isentropic efficiency eta.\"\"\"\n    h0 = fluid.h\n    s0 = fluid.s\n    fluid.SP =s0, p_final\n    h1s = fluid.h\n    isentropic_work = h0 - h1s\n    actual_work = isentropic_work * eta\n    h1 = h0 - actual_work\n    fluid.HP = h1, p_final\n    return actual_work\n\n\ndef print_state(n, fluid):\n    print('\\n***************** State {0} ******************'.format(n))\n    print(fluid.report())"
      ]
    },
    {
      "cell_type": "markdown",
      "metadata": {},
      "source": [
        "## Evaluate Rankine Cycle\n\n"
      ]
    },
    {
      "cell_type": "code",
      "execution_count": null,
      "metadata": {
        "collapsed": false
      },
      "outputs": [],
      "source": [
        "# Create an object representing water:\nw = ctu.Water()"
      ]
    },
    {
      "cell_type": "markdown",
      "metadata": {},
      "source": [
        "Start with saturated liquid water at 80.33 degrees Fahrenheit:\n\n"
      ]
    },
    {
      "cell_type": "code",
      "execution_count": null,
      "metadata": {
        "collapsed": false
      },
      "outputs": [],
      "source": [
        "w.TQ = ctu.Q_(80.33, \"degF\"), 0.0 * ctu.units.dimensionless\nh1 = w.h\np1 = w.P\nprint_state(1, w)"
      ]
    },
    {
      "cell_type": "markdown",
      "metadata": {},
      "source": [
        "Pump it adiabatically to ``p_max``:\n\n"
      ]
    },
    {
      "cell_type": "code",
      "execution_count": null,
      "metadata": {
        "collapsed": false
      },
      "outputs": [],
      "source": [
        "pump_work = pump(w, p_max, eta_pump)\nh2 = w.h\nprint_state(2, w)"
      ]
    },
    {
      "cell_type": "markdown",
      "metadata": {},
      "source": [
        "Heat it at constant pressure until it reaches the saturated vapor state\nat this pressure:\n\n"
      ]
    },
    {
      "cell_type": "code",
      "execution_count": null,
      "metadata": {
        "collapsed": false
      },
      "outputs": [],
      "source": [
        "w.PQ = p_max, 1.0 * ctu.units.dimensionless\nh3 = w.h\nheat_added = h3 - h2\nprint_state(3, w)"
      ]
    },
    {
      "cell_type": "markdown",
      "metadata": {},
      "source": [
        "expand back to ``p1``:\n\n"
      ]
    },
    {
      "cell_type": "code",
      "execution_count": null,
      "metadata": {
        "collapsed": false
      },
      "outputs": [],
      "source": [
        "turbine_work = expand(w, p1, eta_turbine)\nprint_state(4, w)"
      ]
    },
    {
      "cell_type": "markdown",
      "metadata": {},
      "source": [
        "Calculate the efficiency:\n\n"
      ]
    },
    {
      "cell_type": "code",
      "execution_count": null,
      "metadata": {
        "collapsed": false
      },
      "outputs": [],
      "source": [
        "eff = (turbine_work - pump_work)/heat_added\nprint('efficiency = ', eff)"
      ]
    }
  ],
  "metadata": {
    "kernelspec": {
      "display_name": "Python 3",
      "language": "python",
      "name": "python3"
    },
    "language_info": {
      "codemirror_mode": {
        "name": "ipython",
        "version": 3
      },
      "file_extension": ".py",
      "mimetype": "text/x-python",
      "name": "python",
      "nbconvert_exporter": "python",
      "pygments_lexer": "ipython3",
      "version": "3.11.11"
    }
  },
  "nbformat": 4,
  "nbformat_minor": 0
}