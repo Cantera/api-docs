{
  "cells": [
    {
      "cell_type": "markdown",
      "metadata": {},
      "source": [
        "\n# Custom reaction rates\n\nAn example demonstrating how to use custom reaction objects.\n\nFor benchmark purposes, an ignition test is run to compare simulation times.\n\nRequires: cantera >= 3.1.0\n\n.. tags:: Python, kinetics, benchmarking, user-defined model\n"
      ]
    },
    {
      "cell_type": "code",
      "execution_count": null,
      "metadata": {
        "collapsed": false
      },
      "outputs": [],
      "source": [
        "from timeit import default_timer\nimport numpy as np\nfrom math import exp\nimport warnings\n\nimport cantera as ct\n\nmech = 'gri30.yaml'\nfuel = 'CH4'\ngas0 = ct.Solution(mech)\n\nspecies = gas0.species()\nreactions = gas0.reactions()"
      ]
    },
    {
      "cell_type": "markdown",
      "metadata": {},
      "source": [
        "## Define custom reaction rates\n\n"
      ]
    },
    {
      "cell_type": "markdown",
      "metadata": {},
      "source": [
        "Construct reactions based on `CustomRate`: replace two reactions with equivalent\ncustom versions (uses `Func1` functors defined by Python lambda functions)\n\n"
      ]
    },
    {
      "cell_type": "code",
      "execution_count": null,
      "metadata": {
        "collapsed": false
      },
      "outputs": [],
      "source": [
        "reactions[2] = ct.Reaction(\n    equation='H2 + O <=> H + OH',\n    rate=lambda T: 38.7 * T**2.7 * exp(-3150.1542797022735/T))\nreactions[4] = ct.Reaction(\n    equation='H2O2 + O <=> HO2 + OH',\n    rate=lambda T: 9630.0 * T**2.0 * exp(-2012.8781339950629/T))\n\ngas1a = ct.Solution(thermo='ideal-gas', kinetics='gas',\n                    species=species, reactions=reactions)"
      ]
    },
    {
      "cell_type": "markdown",
      "metadata": {},
      "source": [
        "construct reactions based on `CustomRate`: replace two reactions with equivalent\ncustom versions (uses `Func1` functors defined by C++ class :ct:`Arrhenius1`)\n\n"
      ]
    },
    {
      "cell_type": "code",
      "execution_count": null,
      "metadata": {
        "collapsed": false
      },
      "outputs": [],
      "source": [
        "reactions[2] = ct.Reaction(\n    equation='H2 + O <=> H + OH',\n    rate=ct.Func1(\"Arrhenius\", [38.7, 2.7, 3150.1542797022735]))\nreactions[4] = ct.Reaction(\n    equation='H2O2 + O <=> HO2 + OH',\n    rate=ct.Func1(\"Arrhenius\", [9630.0, 2.0, 2012.8781339950629]))\n\ngas1b = ct.Solution(thermo='ideal-gas', kinetics='gas',\n                    species=species, reactions=reactions)"
      ]
    },
    {
      "cell_type": "markdown",
      "metadata": {},
      "source": [
        "Construct reactions based on `ExtensibleRate`: replace two reactions with equivalent\nextensible versions\n\n"
      ]
    },
    {
      "cell_type": "code",
      "execution_count": null,
      "metadata": {
        "collapsed": false
      },
      "outputs": [],
      "source": [
        "class ExtensibleArrheniusData(ct.ExtensibleRateData):\n    __slots__ = (\"T\",)\n    def __init__(self):\n        self.T = None\n\n    def update(self, gas):\n        T = gas.T\n        if self.T != T:\n            self.T = T\n            return True\n        else:\n            return False\n\n@ct.extension(name=\"extensible-Arrhenius\", data=ExtensibleArrheniusData)\nclass ExtensibleArrhenius(ct.ExtensibleRate):\n    __slots__ = (\"A\", \"b\", \"Ea_R\")\n    def set_parameters(self, params, units):\n        self.A = params.convert_rate_coeff(\"A\", units)\n        self.b = params[\"b\"]\n        self.Ea_R = params.convert_activation_energy(\"Ea\", \"K\")\n\n    def get_parameters(self, params):\n        params.set_quantity(\"A\", self.A, self.conversion_units)\n        params[\"b\"] = self.b\n        params.set_activation_energy(\"Ea\", self.Ea_R, \"K\")\n\n    def validate(self, equation, soln):\n        if self.A < 0:\n            raise ValueError(f\"Found negative 'A' for reaction {equation}\")\n\n    def eval(self, data):\n        return self.A * data.T**self.b * exp(-self.Ea_R/data.T)\n\nextensible_yaml2 = \"\"\"\n    equation: H2 + O <=> H + OH\n    type: extensible-Arrhenius\n    units: {length: cm, quantity: mol, activation-energy: cal/mol}\n    A: 3.87e+04\n    b: 2.7\n    Ea: 6260.0\n    \"\"\"\n\nextensible_yaml4 = \"\"\"\n    equation: H2O2 + O <=> HO2 + OH\n    type: extensible-Arrhenius\n    units: {length: cm, quantity: mol, activation-energy: cal/mol}\n    A: 9.63e+06\n    b: 2\n    Ea: 4000\n    \"\"\"\n\nreactions[2] = ct.Reaction.from_yaml(extensible_yaml2, gas0)\nreactions[4] = ct.Reaction.from_yaml(extensible_yaml4, gas0)\ngas2 = ct.Solution(thermo=\"ideal-gas\", kinetics=\"gas\",\n                   species=species, reactions=reactions)"
      ]
    },
    {
      "cell_type": "markdown",
      "metadata": {},
      "source": [
        "construct test case - simulate ignition\n\n"
      ]
    },
    {
      "cell_type": "code",
      "execution_count": null,
      "metadata": {
        "collapsed": false
      },
      "outputs": [],
      "source": [
        "def ignition(gas, dT=0):\n    # set up reactor\n    gas.TP = 1000 + dT, 5 * ct.one_atm\n    gas.set_equivalence_ratio(0.8, fuel, 'O2:1.0, N2:3.773')\n    r = ct.IdealGasReactor(gas)\n    net = ct.ReactorNet([r])\n    net.rtol_sensitivity = 2.e-5\n\n    # time reactor integration\n    t1 = default_timer()\n    net.advance(.5)\n    t2 = default_timer()\n\n    return t2 - t1, net.solver_stats['steps']"
      ]
    },
    {
      "cell_type": "markdown",
      "metadata": {},
      "source": [
        "## Run simulations and output results\n\n"
      ]
    },
    {
      "cell_type": "code",
      "execution_count": null,
      "metadata": {
        "collapsed": false
      },
      "outputs": [],
      "source": [
        "repeat = 100\nprint(f\"Average time of {repeat} simulation runs for '{mech}' ({fuel})\")\n\nsim0 = 0\nsim0_steps = 0\nfor i in range(repeat):\n    elapsed, steps = ignition(gas0, dT=i)\n    sim0 += elapsed\n    sim0_steps += steps\nsim0 *= 1e6 / sim0_steps\nprint(f'- Built-in rate parameterizations: {sim0:.2f} \u03bcs/step (T_final={gas0.T:.2f})')\n\nsim1a = 0\nsim1a_steps = 0\nfor i in range(repeat):\n    elapsed, steps = ignition(gas1a, dT=i)\n    sim1a += elapsed\n    sim1a_steps += steps\nsim1a *= 1e6 / sim1a_steps\nprint('- Two Custom reactions (Python): '\n      f'{sim1a:.2f} \u03bcs/step (T_final={gas1a.T:.2f}) ... '\n      f'{100 * sim1a / sim0 - 100:+.2f}%')\n\nsim1b = 0\nsim1b_steps = 0\nfor i in range(repeat):\n    elapsed, steps = ignition(gas1b, dT=i)\n    sim1b += elapsed\n    sim1b_steps += steps\nsim1b *= 1e6 / sim1b_steps\nprint('- Two Custom reactions (C++): '\n      f'{sim1b:.2f} \u03bcs/step (T_final={gas1b.T:.2f}) ... '\n      f'{100 * sim1b / sim0 - 100:+.2f}%')\n\nsim2 = 0\nsim2_steps = 0\nfor i in range(repeat):\n    elapsed, steps = ignition(gas2, dT=i)\n    sim2 += elapsed\n    sim2_steps += steps\nsim2 *= 1e6 / sim2_steps\nprint('- Two Extensible reactions: '\n      f'{sim2:.2f} \u03bcs/step (T_final={gas2.T:.2f}) ... '\n      f'{100 * sim2 / sim0 - 100:+.2f}%')"
      ]
    }
  ],
  "metadata": {
    "kernelspec": {
      "display_name": "Python 3",
      "language": "python",
      "name": "python3"
    },
    "language_info": {
      "codemirror_mode": {
        "name": "ipython",
        "version": 3
      },
      "file_extension": ".py",
      "mimetype": "text/x-python",
      "name": "python",
      "nbconvert_exporter": "python",
      "pygments_lexer": "ipython3",
      "version": "3.11.11"
    }
  },
  "nbformat": 4,
  "nbformat_minor": 0
}