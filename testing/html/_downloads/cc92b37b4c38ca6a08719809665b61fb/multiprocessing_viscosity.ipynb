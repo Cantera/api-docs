{
  "cells": [
    {
      "cell_type": "markdown",
      "metadata": {},
      "source": [
        "\n# Parallelizing transport property calculations\n\nThis example demonstrates how Cantera can be used with the `multiprocessing`\nmodule.\n\nBecause Cantera Python objects are built on top of C++ objects which cannot be\npassed between Python processes, it is necessary to set up the computation so\nthat each process has its own copy of the relevant Cantera objects. One way to\ndo this is by storing the objects in (module) global variables, which are\ninitialized once per worker process.\n\nRequires: cantera >= 2.5.0\n\n.. tags:: Python, transport, benchmarking, parallel computing\n"
      ]
    },
    {
      "cell_type": "code",
      "execution_count": null,
      "metadata": {
        "collapsed": false
      },
      "outputs": [],
      "source": [
        "import multiprocessing\nimport numpy as np\nimport cantera as ct\nimport itertools\nfrom time import time\n\n# Global storage for Cantera Solution objects\ngases = {}\n\n\ndef init_process(mech):\n    \"\"\"\n    This function is called once for each process in the Pool. We use it to\n    initialize any Cantera objects we need to use.\n    \"\"\"\n    gases[mech] = ct.Solution(mech)\n    gases[mech].transport_model = 'multicomponent'\n\n\ndef get_thermal_conductivity(args):\n    # Pool.imap only permits a single argument, so we pack all of the needed\n    # arguments into the tuple 'args'\n    mech, T, P, X = args\n    gas = gases[mech]\n    gas.TPX = T, P, X\n    return gas.thermal_conductivity\n\n\ndef get_viscosity(args):\n    # Pool.imap only permits a single argument, so we pack all of the needed\n    # arguments into the tuple 'args'\n    mech, T, P, X = args\n    gas = gases[mech]\n    gas.TPX = T, P, X\n    return gas.viscosity\n\n\ndef parallel(mech, predicate, nProcs, nTemps):\n    \"\"\"\n    Call the function ``predicate`` on ``nProcs`` processors for ``nTemps``\n    different temperatures.\n    \"\"\"\n    P = ct.one_atm\n    X = 'CH4:1.0, O2:1.0, N2:3.76'\n    with multiprocessing.Pool(\n        processes=nProcs, initializer=init_process, initargs=(mech,)\n    ) as pool:\n        y = pool.map(predicate,\n                     zip(itertools.repeat(mech),\n                         np.linspace(300, 900, nTemps),\n                         itertools.repeat(P),\n                         itertools.repeat(X)))\n    return y\n\n\ndef serial(mech, predicate, nTemps):\n    P = ct.one_atm\n    X = 'CH4:1.0, O2:1.0, N2:3.76'\n    init_process(mech)\n    y = list(map(predicate,\n                 zip(itertools.repeat(mech),\n                     np.linspace(300, 900, nTemps),\n                     itertools.repeat(P),\n                     itertools.repeat(X))))\n    return y\n\n\nif __name__ == '__main__':\n    nPoints = 5000\n    nProcs = 4\n\n    # For functions where the work done in each subprocess is substantial,\n    # significant speedup can be obtained using the multiprocessing module.\n    print('Thermal conductivity')\n    t1 = time()\n    parallel('gri30.yaml', get_thermal_conductivity, nProcs, nPoints)\n    t2 = time()\n    print('Parallel: {0:.3f} seconds'.format(t2-t1))\n\n    t1 = time()\n    serial('gri30.yaml', get_thermal_conductivity, nPoints)\n    t2 = time()\n    print('Serial: {0:.3f} seconds'.format(t2-t1))\n\n    # On the other hand, if the work done per call to the predicate function is\n    # small, there may be no advantage to using multiprocessing.\n    print('\\nViscosity')\n    t1 = time()\n    parallel('gri30.yaml', get_viscosity, nProcs, nPoints)\n    t2 = time()\n    print('Parallel: {0:.3f} seconds'.format(t2-t1))\n\n    t1 = time()\n    serial('gri30.yaml', get_viscosity, nPoints)\n    t2 = time()\n    print('Serial: {0:.3f} seconds'.format(t2-t1))"
      ]
    }
  ],
  "metadata": {
    "kernelspec": {
      "display_name": "Python 3",
      "language": "python",
      "name": "python3"
    },
    "language_info": {
      "codemirror_mode": {
        "name": "ipython",
        "version": 3
      },
      "file_extension": ".py",
      "mimetype": "text/x-python",
      "name": "python",
      "nbconvert_exporter": "python",
      "pygments_lexer": "ipython3",
      "version": "3.11.11"
    }
  },
  "nbformat": 4,
  "nbformat_minor": 0
}