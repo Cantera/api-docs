{
  "cells": [
    {
      "cell_type": "markdown",
      "metadata": {},
      "source": [
        "\n# Extracting a sub-mechanism\n\nAn example demonstrating how to use Species and Reaction objects to\nprogrammatically extract a reaction submechanism. In this example, the CO/H2\noxidation reactions are extracted from the GRI 3.0 mechanism.\n\nTo test the submechanism, a premixed CO/H2 flame is simulated using the original\nmechanism and the submechanism, which demonstrates that the submechanism\ncontains all of the important species and reactions.\n\nRequires: cantera >= 2.6.0, matplotlib >= 2.0\n\n.. tags:: Python, kinetics, combustion, 1D flow, editing mechanisms, plotting\n"
      ]
    },
    {
      "cell_type": "code",
      "execution_count": null,
      "metadata": {
        "collapsed": false
      },
      "outputs": [],
      "source": [
        "from timeit import default_timer\nimport cantera as ct\nimport matplotlib.pyplot as plt\n\ninput_file = 'gri30.yaml'\nall_species = ct.Species.list_from_file(input_file)\nspecies = []"
      ]
    },
    {
      "cell_type": "markdown",
      "metadata": {},
      "source": [
        "Filter species.\n\n"
      ]
    },
    {
      "cell_type": "code",
      "execution_count": null,
      "metadata": {
        "collapsed": false
      },
      "outputs": [],
      "source": [
        "for S in all_species:\n    comp = S.composition\n    if 'C' in comp and 'H' in comp:\n        # Exclude all hydrocarbon species\n        continue\n    if 'N' in comp and comp != {'N': 2}:\n        # Exclude all nitrogen compounds except for N2\n        continue\n    if 'Ar' in comp:\n        # Exclude Argon\n        continue\n\n    species.append(S)\n\nspecies_names = {S.name for S in species}\nprint('Species: {0}'.format(', '.join(S.name for S in species)))"
      ]
    },
    {
      "cell_type": "markdown",
      "metadata": {},
      "source": [
        "Filter reactions, keeping only those that only involve the selected species.\n\n"
      ]
    },
    {
      "cell_type": "code",
      "execution_count": null,
      "metadata": {
        "collapsed": false
      },
      "outputs": [],
      "source": [
        "ref_phase = ct.Solution(thermo='ideal-gas', kinetics='gas', species=all_species)\nall_reactions = ct.Reaction.list_from_file(input_file, ref_phase)\nreactions = []\n\nprint('\\nReactions:')\nfor R in all_reactions:\n    if not all(reactant in species_names for reactant in R.reactants):\n        continue\n\n    if not all(product in species_names for product in R.products):\n        continue\n\n    reactions.append(R)\n    print(R.equation)\nprint('\\n')\n\ngas1 = ct.Solution(input_file)\ngas2 = ct.Solution(name=\"gri30-CO-H2-submech\",\n                   thermo=\"ideal-gas\", kinetics=\"gas\",\n                   transport_model=\"mixture-averaged\",\n                   species=species, reactions=reactions)"
      ]
    },
    {
      "cell_type": "markdown",
      "metadata": {},
      "source": [
        "Save the resulting mechanism for later use.\n\n"
      ]
    },
    {
      "cell_type": "code",
      "execution_count": null,
      "metadata": {
        "collapsed": false
      },
      "outputs": [],
      "source": [
        "gas2.update_user_header({\"description\": \"CO-H2 submechanism extracted from GRI-Mech 3.0\"})\ngas2.write_yaml(\"gri30-CO-H2-submech.yaml\", header=True)"
      ]
    },
    {
      "cell_type": "markdown",
      "metadata": {},
      "source": [
        "Simulate a flame with each mechanism.\n\n"
      ]
    },
    {
      "cell_type": "code",
      "execution_count": null,
      "metadata": {
        "collapsed": false
      },
      "outputs": [],
      "source": [
        "def solve_flame(gas):\n    gas.TPX = 373, 0.05*ct.one_atm, 'H2:0.4, CO:0.6, O2:1, N2:3.76'\n\n    # Create the flame simulation object\n    sim = ct.CounterflowPremixedFlame(gas=gas, width=0.2)\n\n    sim.reactants.mdot = 0.12  # kg/m^2/s\n    sim.products.mdot = 0.06  # kg/m^2/s\n\n    sim.set_refine_criteria(ratio=3, slope=0.1, curve=0.2)\n    sim.solve(0, auto=True)\n    return sim\n\nt1 = default_timer()\nsim1 = solve_flame(gas1)\nt2 = default_timer()\nprint('Solved with GRI 3.0 in {0:.2f} seconds'.format(t2-t1))\nsim2 = solve_flame(gas2)\nt3 = default_timer()\nprint('Solved with CO/H2 submechanism in {0:.2f} seconds'.format(t3-t2))"
      ]
    },
    {
      "cell_type": "markdown",
      "metadata": {},
      "source": [
        "Plot the results to show that the submechanism gives the same results as the original.\n\n"
      ]
    },
    {
      "cell_type": "code",
      "execution_count": null,
      "metadata": {
        "collapsed": false
      },
      "outputs": [],
      "source": [
        "plt.plot(sim1.grid, sim1.heat_release_rate,\n         lw=2, label='GRI 3.0')\n\nplt.plot(sim2.grid, sim2.heat_release_rate,\n         'r--', lw=2, label='CO/H2 submechanism')\n\nplt.ylabel('Heat release rate ($W/m^3$)')\nplt.xlabel('position (m)')\nplt.legend(loc='upper right')\nplt.tight_layout()\nplt.show()"
      ]
    }
  ],
  "metadata": {
    "kernelspec": {
      "display_name": "Python 3",
      "language": "python",
      "name": "python3"
    },
    "language_info": {
      "codemirror_mode": {
        "name": "ipython",
        "version": 3
      },
      "file_extension": ".py",
      "mimetype": "text/x-python",
      "name": "python",
      "nbconvert_exporter": "python",
      "pygments_lexer": "ipython3",
      "version": "3.11.11"
    }
  },
  "nbformat": 4,
  "nbformat_minor": 0
}