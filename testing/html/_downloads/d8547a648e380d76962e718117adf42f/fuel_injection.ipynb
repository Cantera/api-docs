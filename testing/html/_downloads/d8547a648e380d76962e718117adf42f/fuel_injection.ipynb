{
  "cells": [
    {
      "cell_type": "markdown",
      "metadata": {},
      "source": [
        "\n# Soot precursor formation with time-varying mass flow rate\n\nSimulation of fuel injection into a vitiated air mixture to show formation of\nsoot precursors.\n\nDemonstrates the use of a user-supplied function for the mass flow rate through\na `MassFlowController`, and the use of the `SolutionArray` class to store results\nduring reactor network integration and use these results to generate plots.\n\nRequires: cantera >= 2.5.0, matplotlib >= 2.0\n\n.. tags:: Python, combustion, reactor network, kinetics, pollutant formation, plotting\n"
      ]
    },
    {
      "cell_type": "code",
      "execution_count": null,
      "metadata": {
        "collapsed": false
      },
      "outputs": [],
      "source": [
        "import numpy as np\nimport matplotlib.pyplot as plt\nimport cantera as ct\n\n# Use a reduced n-dodecane mechanism with PAH formation pathways\ngas = ct.Solution('nDodecane_Reitz.yaml', 'nDodecane_IG')\ngas.case_sensitive_species_names = True\n\n# Create a Reservoir for the fuel inlet, set to pure dodecane\ngas.TPX = 300, 20*ct.one_atm, 'c12h26:1.0'\ninlet = ct.Reservoir(gas)\n\n# Create Reactor and set initial contents to be products of lean combustion\ngas.TP = 1000, 20*ct.one_atm\ngas.set_equivalence_ratio(0.30, 'c12h26', 'n2:3.76, o2:1.0')\ngas.equilibrate('TP')\nr = ct.IdealGasReactor(gas)\nr.volume = 0.001  # 1 liter\n\n\ndef fuel_mdot(t):\n    \"\"\"Create an inlet for the fuel, supplied as a Gaussian pulse\"\"\"\n    total = 3.0e-3  # mass of fuel [kg]\n    width = 0.5  # width of the pulse [s]\n    t0 = 2.0  # time of fuel pulse peak [s]\n    amplitude = total / (width * np.sqrt(2*np.pi))\n    return amplitude * np.exp(-(t-t0)**2 / (2*width**2))\n\n\nmfc = ct.MassFlowController(inlet, r, mdot=fuel_mdot)\n\n# Create the reactor network\nsim = ct.ReactorNet([r])\n\n# Integrate for 10 seconds, storing the results for later plotting\ntfinal = 10.0\ntnow = 0.0\ni = 0\ntprev = tnow\nstates = ct.SolutionArray(gas, extra=['t'])\n\nwhile tnow < tfinal:\n    tnow = sim.step()\n    i += 1\n    # Storing results after every step can be excessive. Instead, store results\n    # every 10 steps, or more frequently if large steps are being taken.\n    if tnow-tprev > 1e-2 or i == 10:\n        i = 0\n        tprev = tnow\n        states.append(r.thermo.state, t=tnow)\n\n# nice names for species, including PAH species that can be considered\n# as precursors to soot formation\nspecies_aliases = {\n    'o2': 'O$_2$',\n    'h2o': 'H$_2$O',\n    'co': 'CO',\n    'co2': 'CO$_2$',\n    'h2': 'H$_2$',\n    'ch4': 'CH$_4$'\n}\nfor name, alias in species_aliases.items():\n    gas.add_species_alias(name, alias)\n\npah_aliases = {\n    'A1c2h': 'phenylacetylene',\n    'A1c2h3': 'styrene',\n    'A1': 'benzene',\n    'A2': 'naphthalene',\n    'A2r5': 'acenaphthylene',\n    'A3': 'phenanthrene',\n    'A4': 'pyrene'\n}\nfor name, alias in pah_aliases.items():\n    gas.add_species_alias(name, alias)\n\n# Plot the concentrations of species of interest\nf, ax = plt.subplots(1, 2)\n\nfor s in species_aliases.values():\n    ax[0].plot(states.t, states(s).X, label=s)\n\nfor s in pah_aliases.values():\n    ax[1].plot(states.t, states(s).X, label=s)\n\nfor a in ax:\n    a.legend(loc='best')\n    a.set_xlabel('time [s]')\n    a.set_ylabel('mole fraction')\n    a.set_xlim([0, tfinal])\n\nf.tight_layout()\nplt.show()"
      ]
    }
  ],
  "metadata": {
    "kernelspec": {
      "display_name": "Python 3",
      "language": "python",
      "name": "python3"
    },
    "language_info": {
      "codemirror_mode": {
        "name": "ipython",
        "version": 3
      },
      "file_extension": ".py",
      "mimetype": "text/x-python",
      "name": "python",
      "nbconvert_exporter": "python",
      "pygments_lexer": "ipython3",
      "version": "3.11.11"
    }
  },
  "nbformat": 4,
  "nbformat_minor": 0
}