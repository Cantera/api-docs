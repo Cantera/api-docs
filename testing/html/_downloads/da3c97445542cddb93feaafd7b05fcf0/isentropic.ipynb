{
  "cells": [
    {
      "cell_type": "markdown",
      "metadata": {},
      "source": [
        "\n# Converging-Diverging Nozzle\n\nCalculate the area ratio vs. Mach number curve for a mixture accelerating to supersonic\nspeed through a converging--diverging nozzle, assuming isentropic, adiabatic flow.\n\nThe calculations are done for a 10:1 hydrogen/nitrogen mixture with stagnation\ntemperature of 1200 K and a stagnation pressure of 10 atm.\n\nRequires: cantera >= 2.5.0, matplotlib >= 2.0\n\n.. tags:: Python, thermodynamics, compressible flow, plotting\n"
      ]
    },
    {
      "cell_type": "code",
      "execution_count": null,
      "metadata": {
        "collapsed": false
      },
      "outputs": [],
      "source": [
        "import cantera as ct\nimport math\nimport numpy as np\nimport matplotlib.pyplot as plt"
      ]
    },
    {
      "cell_type": "markdown",
      "metadata": {},
      "source": [
        "Set initial conditions and get stagnation state parameters:\n\n"
      ]
    },
    {
      "cell_type": "code",
      "execution_count": null,
      "metadata": {
        "collapsed": false
      },
      "outputs": [],
      "source": [
        "gas = ct.Solution('h2o2.yaml')\ngas.TPX = 1200.0, 10.0*ct.one_atm, 'H2:1, N2:0.1'\n\ns0 = gas.s\nh0 = gas.h\np0 = gas.P\nT0 = gas.T"
      ]
    },
    {
      "cell_type": "markdown",
      "metadata": {},
      "source": [
        "To calculate the state at different points, we can take pressure as the independent\nvariable and set the state of the gas based on that pressure and the entropy, which is\nconstant ($s = s_0$) by the isentropic assumption. Assuming an adiabatic flow,\nthe total enthalpy is constant, which gives us an equation that can be solved for the\nvelocity:\n\n\\begin{align}h_0 = h + \\frac{v^2}{2}\\end{align}\n\nFinally, conservation of mass requires:\n\n\\begin{align}\\rho v A = \\dot{m} = \\textrm{constant}\\end{align}\n\nwhich gives us an equation that can be solved for the area.\n\n"
      ]
    },
    {
      "cell_type": "code",
      "execution_count": null,
      "metadata": {
        "collapsed": false
      },
      "outputs": [],
      "source": [
        "mdot = 1  # arbitrary\nn_points = 200\ndata = np.zeros((n_points, 4))\n\nfor i, p in enumerate(np.linspace(0.01 * p0, 0.99*p0, n_points)):\n    # set the state using (s0, p)\n    gas.SP = s0, p\n\n    v = np.sqrt(2.0*(h0 - gas.h))  # h + V^2/2 = h0\n    area = mdot / (gas.density * v)  # rho*v*A = constant\n    Ma = v/gas.sound_speed\n    data[i, :] = [area, Ma, gas.T/T0, p/p0]\n\n# Normalize by the minimum area (nozzle throat)\ndata[:, 0] /= min(data[:, 0])"
      ]
    },
    {
      "cell_type": "markdown",
      "metadata": {},
      "source": [
        "Plot the results:\n\n"
      ]
    },
    {
      "cell_type": "code",
      "execution_count": null,
      "metadata": {
        "collapsed": false
      },
      "outputs": [],
      "source": [
        "fig, ax = plt.subplots()\nh1 = ax.plot(data[:, 1], data[:, 3], 'C1', label='$P/P_0$')\nh2 = ax.plot(data[:, 1], data[:, 2], 'C2', label='$T/T_0$')\nax.set(xlabel='Mach Number', ylabel='Temperature / Pressure Ratio',\n       ylim=(0, 1.05))\nax2 = ax.twinx()\nh3 = ax2.plot(data[:, 1], data[:, 0], label='$A/A^*$')\nax2.set(ylabel='Area Ratio', ylim=(0,None))\nax.legend(handles=[h1[0], h2[0], h3[0]], loc='upper center')\nplt.show()"
      ]
    }
  ],
  "metadata": {
    "kernelspec": {
      "display_name": "Python 3",
      "language": "python",
      "name": "python3"
    },
    "language_info": {
      "codemirror_mode": {
        "name": "ipython",
        "version": 3
      },
      "file_extension": ".py",
      "mimetype": "text/x-python",
      "name": "python",
      "nbconvert_exporter": "python",
      "pygments_lexer": "ipython3",
      "version": "3.11.11"
    }
  },
  "nbformat": 4,
  "nbformat_minor": 0
}