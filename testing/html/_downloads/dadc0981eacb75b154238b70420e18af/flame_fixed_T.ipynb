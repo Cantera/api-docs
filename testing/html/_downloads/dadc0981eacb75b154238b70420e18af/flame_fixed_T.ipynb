{
  "cells": [
    {
      "cell_type": "markdown",
      "metadata": {},
      "source": [
        "\n# Burner-stabilized flame with imposed temperature profile\n\nA burner-stabilized, premixed methane/air flat flame with multicomponent\ntransport properties and a specified temperature profile.\n\nRequires: cantera >= 3.0, matplotlib >= 2.0\n\n.. tags:: Python, combustion, 1D flow, burner-stabilized flame, premixed flame, plotting,\n          saving output\n"
      ]
    },
    {
      "cell_type": "code",
      "execution_count": null,
      "metadata": {
        "collapsed": false
      },
      "outputs": [],
      "source": [
        "from pathlib import Path\nimport numpy as np\nimport matplotlib.pyplot as plt\nimport cantera as ct"
      ]
    },
    {
      "cell_type": "markdown",
      "metadata": {},
      "source": [
        "parameter values\n\n"
      ]
    },
    {
      "cell_type": "code",
      "execution_count": null,
      "metadata": {
        "collapsed": false
      },
      "outputs": [],
      "source": [
        "p = ct.one_atm  # pressure\ntburner = 373.7  # burner temperature\nmdot = 0.04  # kg/m^2/s\ncomp = 'CH4:0.65, O2:1, N2:3.76'  # premixed gas composition\n\n# The solution domain is chosen to be 1 cm\nwidth = 0.01  # m\n\nloglevel = 1  # amount of diagnostic output (0 to 5)\nrefine_grid = True  # 'True' to enable refinement"
      ]
    },
    {
      "cell_type": "markdown",
      "metadata": {},
      "source": [
        "Create the gas object. This object will be used to evaluate all thermodynamic,\nkinetic, and transport properties\n\n"
      ]
    },
    {
      "cell_type": "code",
      "execution_count": null,
      "metadata": {
        "collapsed": false
      },
      "outputs": [],
      "source": [
        "gas = ct.Solution('gri30.yaml')\n\n# set its state to that of the unburned gas at the burner\ngas.TPX = tburner, p, comp\n\n# create the BurnerFlame object.\nf = ct.BurnerFlame(gas=gas, width=width)\n\n# set the mass flow rate at the burner\nf.burner.mdot = mdot"
      ]
    },
    {
      "cell_type": "markdown",
      "metadata": {},
      "source": [
        "Specify temperature vs. position data. For the purposes of this example, the data\nis embedded directly. For more general use, the temperature profile should be stored\nas a separate data file and read in, for example using `np.genfromtxt`.\n\n"
      ]
    },
    {
      "cell_type": "code",
      "execution_count": null,
      "metadata": {
        "collapsed": false
      },
      "outputs": [],
      "source": [
        "zloc = np.array([\n    0.        , 0.00015625, 0.00023437, 0.00039063, 0.00046875, 0.00050781,\n    0.00054688, 0.000625  , 0.00066406, 0.00070312, 0.00074219, 0.00078125,\n    0.00082031, 0.00085938, 0.00089844, 0.0009375 , 0.00101563, 0.00105469,\n    0.00109375, 0.00113281, 0.00117187, 0.00121094, 0.00125   , 0.00128906,\n    0.00132813, 0.00136719, 0.00140625, 0.00144531, 0.00148438, 0.00152344,\n    0.0015625 , 0.00160156, 0.00164062, 0.00171875, 0.00175781, 0.00179688,\n    0.00183594, 0.001875  , 0.00191406, 0.00195312, 0.00199219, 0.00203125,\n    0.00207031, 0.00210938, 0.00214844, 0.0021875 , 0.00222656, 0.00226562,\n    0.00230469, 0.00234375, 0.00238281, 0.00242187, 0.00246094, 0.0025    ,\n    0.00257813, 0.00265625, 0.00273437, 0.0028125 , 0.00289062, 0.00296875,\n    0.00304688, 0.003125  , 0.00328125, 0.0034375 , 0.00359375, 0.00375   ,\n    0.00390625, 0.0087    , 0.01\n])\n\ntvalues = np.array([\n     373.7      ,  465.4070428,  510.4311676,  599.5552837,  643.8342938,\n     665.9335545,  688.0122338,  732.1284327,  754.1744755,  776.2170662,\n     798.2588757,  820.3020011,  842.348001 ,  864.3979228,  886.4523159,\n     908.5112198,  952.6396629,  974.7018199,  996.7515831, 1018.777651 ,\n    1040.765863 , 1062.69948  , 1084.558639 , 1106.320078 , 1127.956918 ,\n    1149.438472 , 1170.730129 , 1191.793309 , 1212.585506 , 1233.060477 ,\n    1253.168589 , 1272.857384 , 1292.072391 , 1328.859767 , 1346.323998 ,\n    1363.101361 , 1379.147594 , 1394.425274 , 1408.905834 , 1422.569115 ,\n    1435.40408  , 1447.410648 , 1458.597668 , 1468.982722 , 1478.590978 ,\n    1487.453914 , 1495.607879 , 1503.092709 , 1509.950449 , 1516.224147 ,\n    1521.956853 , 1527.19079  , 1531.966722 , 1536.32348  , 1543.891739 ,\n    1550.203579 , 1555.480771 , 1559.908135 , 1563.637879 , 1566.794144 ,\n    1569.477867 , 1571.77099  , 1575.385829 , 1578.108169 , 1580.194856 ,\n    1581.820666 , 1583.106578 , 1589.51315  , 1589.578955\n])\n\nzloc /= max(zloc)\n\n# set the temperature profile to the values read in\nf.flame.set_fixed_temp_profile(zloc, tvalues)"
      ]
    },
    {
      "cell_type": "markdown",
      "metadata": {},
      "source": [
        "show the initial estimate for the solution\n\n"
      ]
    },
    {
      "cell_type": "code",
      "execution_count": null,
      "metadata": {
        "collapsed": false
      },
      "outputs": [],
      "source": [
        "f.show()\n\n# don't solve the energy equation\nf.energy_enabled = False\n\n# first solve the flame with mixture-averaged transport properties\nf.transport_model = 'mixture-averaged'\nf.set_refine_criteria(ratio=3.0, slope=0.3, curve=1)\n\nf.solve(loglevel, refine_grid)\n\nif \"native\" in ct.hdf_support():\n    output = Path() / \"flame_fixed_T.h5\"\nelse:\n    output = Path() / \"flame_fixed_T.yaml\"\noutput.unlink(missing_ok=True)\n\nf.save(output, name=\"mix\", description=\"solution with mixture-averaged transport\")\n\nprint('\\n\\n switching to multicomponent transport...\\n\\n')\nf.transport_model = 'multicomponent'\n\nf.set_refine_criteria(ratio=3.0, slope=0.1, curve=0.2)\nf.solve(loglevel, refine_grid)\nf.save(output, name=\"multi\", description=\"solution with multicomponent transport\")\n\n# write the velocity, temperature, density, and mole fractions to a CSV file\nf.save('flame_fixed_T.csv', basis=\"mole\", overwrite=True)\nf.show_stats()"
      ]
    },
    {
      "cell_type": "markdown",
      "metadata": {},
      "source": [
        "## Temperature and Heat Release Rate\n\n"
      ]
    },
    {
      "cell_type": "code",
      "execution_count": null,
      "metadata": {
        "collapsed": false
      },
      "outputs": [],
      "source": [
        "fig, ax1 = plt.subplots()\n\nax1.plot(f.grid, f.heat_release_rate / 1e6, color='C4')\nax1.set_ylabel('heat release rate [MW/m\u00b3]', color='C4')\nax1.set_xlim(0, 0.01)\nax1.set(xlabel='distance from burner [m]')\n\nax2 = ax1.twinx()\nax2.plot(f.grid, f.T, color='C3')\nax2.set_ylabel('temperature [K]', color='C3')\nplt.show()"
      ]
    },
    {
      "cell_type": "markdown",
      "metadata": {},
      "source": [
        "## Major Species Profiles\n\n"
      ]
    },
    {
      "cell_type": "code",
      "execution_count": null,
      "metadata": {
        "collapsed": false
      },
      "outputs": [],
      "source": [
        "fig, ax = plt.subplots()\nmajor = ('O2', 'H2', 'H2O')\nstates = f.to_array()\nax.plot(states.grid, states(*major).X, label=major)\nax.set(xlabel='distance from burner [m]', ylabel='mole fractions')\nax.set_xlim(0, 0.01)\nax.legend()\nplt.show()"
      ]
    },
    {
      "cell_type": "markdown",
      "metadata": {},
      "source": [
        "## Minor Species Profiles\n\n"
      ]
    },
    {
      "cell_type": "code",
      "execution_count": null,
      "metadata": {
        "collapsed": false
      },
      "outputs": [],
      "source": [
        "fig, ax = plt.subplots()\nminor = ('OH', 'H', 'O')\n\nax.plot(states.grid, states(*minor).X, label=minor, linestyle='--')\nax.set(xlabel='distance from burner [m]', ylabel='mole fractions', )\nax.set_xlim(0, 0.01)\nax.legend()\nplt.show()"
      ]
    }
  ],
  "metadata": {
    "kernelspec": {
      "display_name": "Python 3",
      "language": "python",
      "name": "python3"
    },
    "language_info": {
      "codemirror_mode": {
        "name": "ipython",
        "version": 3
      },
      "file_extension": ".py",
      "mimetype": "text/x-python",
      "name": "python",
      "nbconvert_exporter": "python",
      "pygments_lexer": "ipython3",
      "version": "3.11.11"
    }
  },
  "nbformat": 4,
  "nbformat_minor": 0
}