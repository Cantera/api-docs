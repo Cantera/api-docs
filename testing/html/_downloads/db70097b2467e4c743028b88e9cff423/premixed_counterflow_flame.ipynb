{
  "cells": [
    {
      "cell_type": "markdown",
      "metadata": {},
      "source": [
        "\n# Opposed-flow premixed strained flame\n\nThis script simulates a lean hydrogen-oxygen flame stabilized in a strained\nflowfield, with an opposed flow consisting of equilibrium products.\n\nRequires: cantera >= 3.0, matplotlib >= 2.0\n\n.. tags:: Python, combustion, 1D flow, premixed flame, strained flame\n"
      ]
    },
    {
      "cell_type": "code",
      "execution_count": null,
      "metadata": {
        "collapsed": false
      },
      "outputs": [],
      "source": [
        "from pathlib import Path\nimport matplotlib.pyplot as plt\nimport cantera as ct\n\n# parameter values\np = 0.05 * ct.one_atm  # pressure\nT_in = 373.0  # inlet temperature\nmdot_reactants = 0.12  # kg/m^2/s\nmdot_products = 0.06  # kg/m^2/s\nrxnmech = 'h2o2.yaml'  # reaction mechanism file\ncomp = 'H2:1.6, O2:1, AR:7'  # premixed gas composition\n\nwidth = 0.2  # m\nloglevel = 1  # amount of diagnostic output (0 to 5)\n\n# Set up the problem\ngas = ct.Solution(rxnmech)\n\n# set state to that of the unburned gas at the burner\ngas.TPX = T_in, p, comp\n\n# Create the flame simulation object\nsim = ct.CounterflowPremixedFlame(gas=gas, width=width)\n\n# Set grid refinement parameters\nsim.set_refine_criteria(ratio=3, slope=0.1, curve=0.2, prune=0.02)\n\n# set the boundary flow rates\nsim.reactants.mdot = mdot_reactants\nsim.products.mdot = mdot_products\n\nsim.set_initial_guess()  # assume adiabatic equilibrium products\nsim.show()\n\nsim.solve(loglevel, auto=True)\n\nif \"native\" in ct.hdf_support():\n    output = Path() / \"premixed_counterflow_flame.h5\"\nelse:\n    output = Path() / \"premixed_counterflow_flame.yaml\"\noutput.unlink(missing_ok=True)\n\nsim.save(output, name=\"mix\", description=\"solution with mixture-averaged transport\")\n\n# write the velocity, temperature, and mole fractions to a CSV file\nsim.save(\"premixed_counterflow_flame.csv\", basis=\"mole\", overwrite=True)\nsim.show_stats()\nsim.show()"
      ]
    },
    {
      "cell_type": "markdown",
      "metadata": {},
      "source": [
        "## Temperature and Heat Release Rate\n\n"
      ]
    },
    {
      "cell_type": "code",
      "execution_count": null,
      "metadata": {
        "collapsed": false
      },
      "outputs": [],
      "source": [
        "fig, ax1 = plt.subplots()\n\nax1.plot(sim.grid, sim.heat_release_rate / 1e6, color='C4')\nax1.set_ylabel('heat release rate [MW/m\u00b3]', color='C4')\nax1.set(xlabel='flame coordinate [m]')\n\nax2 = ax1.twinx()\nax2.plot(sim.grid, sim.T, color='C3')\nax2.set_ylabel('temperature [K]', color='C3')\nplt.show()"
      ]
    },
    {
      "cell_type": "markdown",
      "metadata": {},
      "source": [
        "## Major Species Profiles\n\n"
      ]
    },
    {
      "cell_type": "code",
      "execution_count": null,
      "metadata": {
        "collapsed": false
      },
      "outputs": [],
      "source": [
        "fig, ax = plt.subplots()\nmajor = ('O2', 'H2', 'H2O')\nstates = sim.to_array()\nax.plot(states.grid, states(*major).X, label=major)\nax.set(xlabel='flame coordinate [m]', ylabel='mole fractions')\nax.legend()\nplt.show()"
      ]
    },
    {
      "cell_type": "markdown",
      "metadata": {},
      "source": [
        "## Minor Species Profiles\n\n"
      ]
    },
    {
      "cell_type": "code",
      "execution_count": null,
      "metadata": {
        "collapsed": false
      },
      "outputs": [],
      "source": [
        "fig, ax = plt.subplots()\nminor = ('OH', 'H', 'O')\nax.plot(states.grid, states(*minor).X, label=minor, linestyle='--')\nax.set(xlabel='flame coordinate [m]', ylabel='mole fractions', )\nax.legend()\nplt.show()"
      ]
    }
  ],
  "metadata": {
    "kernelspec": {
      "display_name": "Python 3",
      "language": "python",
      "name": "python3"
    },
    "language_info": {
      "codemirror_mode": {
        "name": "ipython",
        "version": 3
      },
      "file_extension": ".py",
      "mimetype": "text/x-python",
      "name": "python",
      "nbconvert_exporter": "python",
      "pygments_lexer": "ipython3",
      "version": "3.11.11"
    }
  },
  "nbformat": 4,
  "nbformat_minor": 0
}