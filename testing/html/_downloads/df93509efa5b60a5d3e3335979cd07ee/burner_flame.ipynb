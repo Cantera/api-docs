{
  "cells": [
    {
      "cell_type": "markdown",
      "metadata": {},
      "source": [
        "\n# Burner-stabilized flame\n\nA burner-stabilized lean premixed hydrogen-oxygen flame at low pressure.\n\nRequires: cantera >= 3.0, matplotlib >= 2.0\n\n.. tags:: Python, combustion, 1D flow, premixed flame, saving output,\n          multicomponent transport\n"
      ]
    },
    {
      "cell_type": "code",
      "execution_count": null,
      "metadata": {
        "collapsed": false
      },
      "outputs": [],
      "source": [
        "from pathlib import Path\nimport matplotlib.pyplot as plt\nimport cantera as ct\n\np = 0.05 * ct.one_atm\ntburner = 373.0\nmdot = 0.06\nreactants = 'H2:1.5, O2:1, AR:7'  # premixed gas composition\nwidth = 0.5  # m\nloglevel = 1  # amount of diagnostic output (0 to 5)\n\ngas = ct.Solution('h2o2.yaml')\ngas.TPX = tburner, p, reactants\n\nf = ct.BurnerFlame(gas, width=width)\nf.burner.mdot = mdot\nf.set_refine_criteria(ratio=3.0, slope=0.05, curve=0.1)\nf.show()\n\nf.transport_model = 'mixture-averaged'\nf.solve(loglevel, auto=True)\n\nif \"native\" in ct.hdf_support():\n    output = Path() / \"burner_flame.h5\"\nelse:\n    output = Path() / \"burner_flame.yaml\"\noutput.unlink(missing_ok=True)\n\nf.save(output, name=\"mix\", description=\"solution with mixture-averaged transport\")\n\nf.transport_model = 'multicomponent'\nf.solve(loglevel)  # don't use 'auto' on subsequent solves\nf.show()\nf.save(output, name=\"multi\", description=\"solution with multicomponent transport\")\n\nf.save('burner_flame.csv', basis=\"mole\", overwrite=True)"
      ]
    },
    {
      "cell_type": "markdown",
      "metadata": {},
      "source": [
        "## Temperature and Heat Release Rate\n\n"
      ]
    },
    {
      "cell_type": "code",
      "execution_count": null,
      "metadata": {
        "collapsed": false
      },
      "outputs": [],
      "source": [
        "fig, ax1 = plt.subplots()\n\nax1.plot(f.grid, f.heat_release_rate / 1e6, color='C4')\nax1.set_ylabel('heat release rate [MW/m\u00b3]', color='C4')\nax1.set_xlim(0, 0.2)\nax1.set(xlabel='distance from burner [m]')\n\nax2 = ax1.twinx()\nax2.plot(f.grid, f.T, color='C3')\nax2.set_ylabel('temperature [K]', color='C3')\nplt.show()"
      ]
    },
    {
      "cell_type": "markdown",
      "metadata": {},
      "source": [
        "## Major Species Profiles\n\n"
      ]
    },
    {
      "cell_type": "code",
      "execution_count": null,
      "metadata": {
        "collapsed": false
      },
      "outputs": [],
      "source": [
        "fig, ax = plt.subplots()\nmajor = ('O2', 'H2', 'H2O')\nstates = f.to_array()\nax.plot(states.grid, states(*major).X, label=major)\nax.set(xlabel='distance from burner [m]', ylabel='mole fractions')\nax.set_xlim(0, 0.2)\nax.legend()\nplt.show()"
      ]
    },
    {
      "cell_type": "markdown",
      "metadata": {},
      "source": [
        "## Minor Species Profiles\n\n"
      ]
    },
    {
      "cell_type": "code",
      "execution_count": null,
      "metadata": {
        "collapsed": false
      },
      "outputs": [],
      "source": [
        "fig, ax = plt.subplots()\nminor = ('OH', 'H', 'O')\n\nax.plot(states.grid, states(*minor).X, label=minor, linestyle='--')\nax.set(xlabel='distance from burner [m]', ylabel='mole fractions', )\nax.set_xlim(0, 0.2)\nax.legend()\nplt.show()"
      ]
    }
  ],
  "metadata": {
    "kernelspec": {
      "display_name": "Python 3",
      "language": "python",
      "name": "python3"
    },
    "language_info": {
      "codemirror_mode": {
        "name": "ipython",
        "version": 3
      },
      "file_extension": ".py",
      "mimetype": "text/x-python",
      "name": "python",
      "nbconvert_exporter": "python",
      "pygments_lexer": "ipython3",
      "version": "3.11.11"
    }
  },
  "nbformat": 4,
  "nbformat_minor": 0
}