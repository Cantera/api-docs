{
  "cells": [
    {
      "cell_type": "markdown",
      "metadata": {},
      "source": [
        "\n# Mechanism reduction\n\nA simplistic approach to mechanism reduction which demonstrates Cantera's\nfeatures for dynamically manipulating chemical mechanisms.\n\nHere, we use the detailed NUI Galway mechanism to simulate adiabatic, constant pressure\nignition of a lean n-hexane/air mixture. We track the maximum reaction rates for\neach reaction to determine which reactions are the most important, according to\na simple metric based on the relative net reaction rate.\n\nWe then create a sequence of reduced mechanisms including only the top reactions\nand the associated species, and run the simulations again with these mechanisms\nto see whether the reduced mechanisms with a certain number of species are able\nto adequately simulate the ignition delay problem.\n\nRequires: cantera >= 3.1.0, matplotlib >= 2.0\n\n.. tags:: Python, kinetics, combustion, reactor network, editing mechanisms,\n          ignition delay, plotting\n"
      ]
    },
    {
      "cell_type": "code",
      "execution_count": null,
      "metadata": {
        "collapsed": false
      },
      "outputs": [],
      "source": [
        "import cantera as ct\nimport numpy as np\nimport matplotlib.pyplot as plt\nimport dataclasses\n\n@dataclasses.dataclass\nclass Result:\n    species: int\n    reactions: int\n    time: list\n    temperature: list\n\n\nct.suppress_thermo_warnings()\nT0 = 975\nP0 = 5 * ct.one_atm\ngas = ct.Solution('example_data/n-hexane-NUIG-2015.yaml')\ngas.set_equivalence_ratio(0.8, 'NC6H14:1.0', 'O2:1.0, N2:3.76')\nX0 = gas.mole_fraction_dict()\ngas.TP = T0, P0"
      ]
    },
    {
      "cell_type": "markdown",
      "metadata": {},
      "source": [
        "Run a simulation with the full mechanism\n\n"
      ]
    },
    {
      "cell_type": "code",
      "execution_count": null,
      "metadata": {
        "collapsed": false
      },
      "outputs": [],
      "source": [
        "r = ct.IdealGasConstPressureMoleReactor(gas)\nsim = ct.ReactorNet([r])\nsim.preconditioner = ct.AdaptivePreconditioner()\n\ntt = []\nTT = []\n# Rmax is the maximum relative reaction rate at any timestep.\nRmax = np.zeros(gas.n_reactions)\nwhile sim.time < 0.04:\n    sim.step()\n    tt.append(1000 * sim.time)\n    TT.append(r.T)\n    rnet = abs(gas.net_rates_of_progress)\n    rnet /= max(rnet)\n    Rmax = np.maximum(Rmax, rnet)\n\nbaseline = Result(gas.n_species, gas.n_reactions, tt, TT)"
      ]
    },
    {
      "cell_type": "markdown",
      "metadata": {},
      "source": [
        "Get the reaction objects, and sort them so the most active reactions are first.\n\n"
      ]
    },
    {
      "cell_type": "code",
      "execution_count": null,
      "metadata": {
        "collapsed": false
      },
      "outputs": [],
      "source": [
        "R = sorted(zip(Rmax, gas.reactions()), key=lambda x: -x[0])"
      ]
    },
    {
      "cell_type": "markdown",
      "metadata": {},
      "source": [
        "Test reduced mechanisms with different numbers of reactions and collect results for\nplotting.\n\n"
      ]
    },
    {
      "cell_type": "code",
      "execution_count": null,
      "metadata": {
        "collapsed": false
      },
      "outputs": [],
      "source": [
        "results = []\nfor i, N in enumerate([100, 200, 300, 400, 600, 800]):\n    # Get the N most active reactions\n    reactions = [r[1] for r in R[:N]]\n\n    # find the species involved in these reactions. At a minimum, include all\n    # species in the reactant mixture\n    species_names = {'N2', 'NC6H14', 'O2'}\n    for reaction in reactions:\n        species_names.update(reaction.reactants)\n        species_names.update(reaction.products)\n\n    # Get the species objects\n    species = [gas.species(name) for name in species_names]\n\n    # create the new reduced mechanism\n    gas2 = ct.Solution(thermo='ideal-gas', kinetics='gas',\n                       species=species, reactions=reactions)\n\n    # save the reduced mechanism for later use\n    gas2.write_yaml(f\"hexane-reduced-{N}-reaction.yaml\")\n\n    # Re-run the ignition problem with the reduced mechanism\n    gas2.TPX = T0, P0, X0\n    r = ct.IdealGasConstPressureMoleReactor(gas2)\n    sim = ct.ReactorNet([r])\n    sim.preconditioner = ct.AdaptivePreconditioner()\n\n    tt = []\n    TT = []\n    while sim.time < 0.04:\n        sim.step()\n        tt.append(1000 * sim.time)\n        TT.append(r.T)\n\n    results.append(Result(gas2.n_species, gas2.n_reactions, tt, TT))"
      ]
    },
    {
      "cell_type": "markdown",
      "metadata": {},
      "source": [
        "Plot the results.\n\n"
      ]
    },
    {
      "cell_type": "code",
      "execution_count": null,
      "metadata": {
        "collapsed": false
      },
      "outputs": [],
      "source": [
        "C = plt.cm.winter(np.linspace(0, 1, 6))\n\nfig, ax = plt.subplots()\nax.plot(baseline.time, baseline.temperature, color='k', lw=3, zorder=100,\n        label=f'K={baseline.species}, R={baseline.reactions}')\n\nfor i, result in enumerate(results):\n    ax.plot(result.time, result.temperature, lw=2, color=C[i],\n            label=f'K={result.species}, R={result.reactions}')\nax.set(xlabel='Time (ms)', ylabel='Temperature (K)')\nax.legend(loc='upper left')\nax.set_title('Reduced mechanism ignition delay times\\n'\n             'K: number of species; R: number of reactions')\nax.set_xlim(0, 40)\nplt.show()"
      ]
    }
  ],
  "metadata": {
    "kernelspec": {
      "display_name": "Python 3",
      "language": "python",
      "name": "python3"
    },
    "language_info": {
      "codemirror_mode": {
        "name": "ipython",
        "version": 3
      },
      "file_extension": ".py",
      "mimetype": "text/x-python",
      "name": "python",
      "nbconvert_exporter": "python",
      "pygments_lexer": "ipython3",
      "version": "3.11.11"
    }
  },
  "nbformat": 4,
  "nbformat_minor": 0
}