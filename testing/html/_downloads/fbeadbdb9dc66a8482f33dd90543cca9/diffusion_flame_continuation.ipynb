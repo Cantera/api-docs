{
  "cells": [
    {
      "cell_type": "markdown",
      "metadata": {},
      "source": [
        "\n# Diffusion flame unstable branch\n\nThis example uses the two-point flame control feature to march solutions\ndown the stable and unstable burning branch for a counterflow diffusion flame.\nA hydrogen-oxygen diffusion flame at 1 bar is studied.\n\nRequires: cantera >= 3.1, matplotlib >= 2.0\n\n.. tags:: Python, combustion, 1D flow, diffusion flame, strained flame, extinction,\n          saving output, plotting\n"
      ]
    },
    {
      "cell_type": "code",
      "execution_count": null,
      "metadata": {
        "collapsed": false
      },
      "outputs": [],
      "source": [
        "import logging\nimport sys\nfrom pathlib import Path\n\nimport matplotlib.pyplot as plt\nimport numpy as np\nimport pandas as pd\n\nimport cantera as ct\n\nlogger = logging.getLogger(__name__)\nlogger.setLevel(logging.INFO)\nlogging.basicConfig(stream=sys.stdout)"
      ]
    },
    {
      "cell_type": "markdown",
      "metadata": {},
      "source": [
        "## Flame Initialization\n\n"
      ]
    },
    {
      "cell_type": "code",
      "execution_count": null,
      "metadata": {
        "collapsed": false
      },
      "outputs": [],
      "source": [
        "# Set up an initial hydrogen-oxygen counterflow flame at 1 bar and low strain\n# rate (maximum axial velocity gradient = 2414 1/s)\n\nreaction_mechanism = 'h2o2.yaml'\ngas = ct.Solution(reaction_mechanism)\nwidth = 18.e-3  # 18mm wide\nf = ct.CounterflowDiffusionFlame(gas, width=width)\n\n# Define the operating pressure and boundary conditions\nf.P = 1.0e5  # 1 bar\nf.fuel_inlet.mdot = 0.5  # kg/m^2/s\nf.fuel_inlet.X = 'H2:1'\nf.fuel_inlet.T = 300  # K\nf.oxidizer_inlet.mdot = 3.0  # kg/m^2/s\nf.oxidizer_inlet.X = 'O2:1'\nf.oxidizer_inlet.T = 500  # K\n\n# Set refinement parameters\nf.set_refine_criteria(ratio=4.0, slope=0.1, curve=0.2, prune=0.05)\n\n# Initialize and solve\nlogger.info('Creating the initial solution')\nf.solve(loglevel=0, auto=True)\n\n# Define output locations\noutput_path = Path() / \"diffusion_flame_continuation_data\"\noutput_path.mkdir(parents=True, exist_ok=True)"
      ]
    },
    {
      "cell_type": "markdown",
      "metadata": {},
      "source": [
        "## Flame Continuation\n\n"
      ]
    },
    {
      "cell_type": "code",
      "execution_count": null,
      "metadata": {
        "collapsed": false
      },
      "outputs": [],
      "source": [
        "# Maximum number of steps to take\nn_max = 1000\n\n# Relative temperature defining control point locations, with 1 being the peak\n# temperature and 0 being the inlet temperature. Lower values tend to avoid solver\n# failures early on, while using higher values on the unstable branch tend to help\n# with finding solutions where the peak temperature is very low.\ninitial_spacing = 0.6\nunstable_spacing = 0.95\n\n# Amount to adjust temperature at the control point each step [K]\ntemperature_increment = 20.0\nmax_increment = 100\n\n# Try to keep T_max from changing more than this much each step [K]\ntarget_delta_T_max = 20\n\n# Stop after this many successive errors\nmax_error_count = 3\nerror_count = 0\n\n# Stop after any failure if the strain rate has dropped to this fraction of the maximum\nstrain_rate_tol = 0.10\n\nf.two_point_control_enabled = True\n\n# Prevent two point control from finding solutions with negative inlet velocities\nf.flame.set_bounds(spread_rate=(-1e-5, 1e20))\n\nf.max_time_step_count = 100\nT_max = max(f.T)\na_max = strain_rate = f.strain_rate('max')\ndata = []  # integral output quantities for each step\nlogger.info('Starting two-point control')\n\nfor i in range(n_max):\n    if strain_rate > 0.98 * a_max:\n        spacing = initial_spacing\n    else:\n        spacing = unstable_spacing\n    control_temperature = np.min(f.T) + spacing*(np.max(f.T) - np.min(f.T))\n\n    # Store the flame state in case the iteration fails and we need to roll back\n    backup_state = f.to_array()\n\n    logger.debug(f'Iteration {i}: Control temperature = {control_temperature:.2f} K')\n    f.set_left_control_point(control_temperature)\n    f.set_right_control_point(control_temperature)\n\n    # This decrement is what drives the two-point control. If failure\n    # occurs, try decreasing the decrement.\n    f.left_control_point_temperature -= temperature_increment\n    f.right_control_point_temperature -= temperature_increment\n    f.clear_stats()\n\n    if (f.left_control_point_temperature < f.fuel_inlet.T + 100\n        or f.right_control_point_temperature < f.oxidizer_inlet.T + 100\n    ):\n        logger.info(\"SUCCESS! Stopping because control point temperature is \"\n                    \"sufficiently close to inlet temperature.\")\n        break\n\n    try:\n        f.solve(loglevel=0)\n        if abs(max(f.T) - T_max) < 0.8 * target_delta_T_max:\n            # Max temperature is changing slowly. Try a larger increment next step\n            temperature_increment = min(temperature_increment + 3, max_increment)\n        elif abs(max(f.T) - T_max) > target_delta_T_max:\n            # Max temperature is changing quickly. Scale down increment for next step\n            temperature_increment *= 0.9 * target_delta_T_max / (abs(max(f.T) - T_max))\n        error_count = 0\n    except ct.CanteraError as err:\n        logger.debug(err)\n        if strain_rate / a_max < strain_rate_tol:\n            logger.info('SUCCESS! Traversed unstable branch down to '\n                        f'{100 * strain_rate / a_max:.2f}% of the maximum strain rate.')\n            break\n\n        # Restore the previous solution and try a smaller temperature increment for the\n        # next iteration\n        f.from_array(backup_state)\n        temperature_increment = 0.7 * temperature_increment\n        error_count += 1\n        logger.warning(f\"Solver did not converge on iteration {i}. Trying again with \"\n                       f\"dT = {temperature_increment:.2f}\")\n\n    if ct.hdf_support():\n        f.save(output_path / 'flame_profiles.h5', name=f'iteration{i}', overwrite=True)\n\n    # Collect output stats\n    T_max = max(f.T)\n    T_mid = 0.5 * (min(f.T) + max(f.T))\n    s = np.where(f.T > T_mid)[0][[0,-1]]\n    width = f.grid[s[1]] - f.grid[s[0]]\n    strain_rate = f.strain_rate('max')\n    a_max = max(strain_rate, a_max)\n\n    data.append({\n        'T_max': max(f.T),\n        'strain_rate': strain_rate,\n        'heat_release_rate': np.trapz(f.heat_release_rate, f.grid),\n        'n_points': len(f.grid),\n        'flame_width': width,\n        'Tc_increment': temperature_increment,\n        'time_steps': sum(f.time_step_stats),\n        'eval_count': sum(f.eval_count_stats),\n        'cpu_time': sum(f.jacobian_time_stats + f.eval_time_stats),\n        'errors': error_count\n    })\n\n    if error_count >= max_error_count:\n        logger.warning(f'FAILURE! Stopping after {error_count} successive solver '\n                       'errors.')\n        break\n\nlogger.info(f'Stopped after {i} iterations')"
      ]
    },
    {
      "cell_type": "markdown",
      "metadata": {},
      "source": [
        "## Combine data\n\n"
      ]
    },
    {
      "cell_type": "code",
      "execution_count": null,
      "metadata": {
        "collapsed": false
      },
      "outputs": [],
      "source": [
        "df = pd.DataFrame.from_records(data)\ndf.to_csv(output_path / f'integral_data.csv')\ndf"
      ]
    },
    {
      "cell_type": "markdown",
      "metadata": {},
      "source": [
        "## Plot the maximum temperature versus the maximum axial velocity gradient\n\n"
      ]
    },
    {
      "cell_type": "code",
      "execution_count": null,
      "metadata": {
        "collapsed": false
      },
      "outputs": [],
      "source": [
        "plt.figure()\nplt.plot(df.strain_rate, df.T_max)\nplt.xlabel('Maximum Axial Velocity Gradient [1/s]')\nplt.ylabel('Maximum Temperature [K]')\nplt.savefig(output_path / \"figure_max_temperature_vs_max_velocity_gradient.png\")"
      ]
    },
    {
      "cell_type": "markdown",
      "metadata": {},
      "source": [
        "## Plot maximum_temperature against number of iterations\n\n"
      ]
    },
    {
      "cell_type": "code",
      "execution_count": null,
      "metadata": {
        "collapsed": false
      },
      "outputs": [],
      "source": [
        "plt.figure()\nplt.plot(df.T_max)\nplt.xlabel('Number of Continuation Steps')\nplt.ylabel('Maximum Temperature [K]')\nplt.savefig(output_path / \"figure_max_temperature_iterations.png\")\nplt.show()"
      ]
    }
  ],
  "metadata": {
    "kernelspec": {
      "display_name": "Python 3",
      "language": "python",
      "name": "python3"
    },
    "language_info": {
      "codemirror_mode": {
        "name": "ipython",
        "version": 3
      },
      "file_extension": ".py",
      "mimetype": "text/x-python",
      "name": "python",
      "nbconvert_exporter": "python",
      "pygments_lexer": "ipython3",
      "version": "3.11.11"
    }
  },
  "nbformat": 4,
  "nbformat_minor": 0
}